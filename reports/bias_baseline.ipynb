{
 "cells": [
  {
   "cell_type": "markdown",
   "metadata": {},
   "source": [
    "# Bias base line"
   ]
  },
  {
   "cell_type": "code",
   "execution_count": 560,
   "metadata": {},
   "outputs": [],
   "source": [
    "library(sdazar)\n",
    "library(readxl)\n",
    "library(lubridate)\n",
    "library(ggplot2)\n",
    "library(patchwork)\n",
    "library(ggrepel)\n",
    "library(ggridges)\n",
    "source('utils/functions.R')"
   ]
  },
  {
   "cell_type": "markdown",
   "metadata": {},
   "source": [
    "## Read administrative data (non-respondents)"
   ]
  },
  {
   "cell_type": "code",
   "execution_count": 561,
   "metadata": {},
   "outputs": [],
   "source": [
    "nores = data.table(read_excel('data/Datos de mujeres - Estudio Sociologia UC.xlsx', sheet=2))"
   ]
  },
  {
   "cell_type": "code",
   "execution_count": 562,
   "metadata": {},
   "outputs": [],
   "source": [
    "setnames(nores, names(nores), tolower(names(nores)))"
   ]
  },
  {
   "cell_type": "code",
   "execution_count": 563,
   "metadata": {},
   "outputs": [
    {
     "data": {},
     "metadata": {},
     "output_type": "display_data"
    }
   ],
   "source": [
    "nores[, id := .I]"
   ]
  },
  {
   "cell_type": "code",
   "execution_count": 564,
   "metadata": {},
   "outputs": [],
   "source": [
    "vars = c('id', 'fecha ingreso', 'fecha egreso', 'delito', 'extensión de condena', \n",
    "         'patio', 'unidad', 'n de condenas anteriores', 'año de nacimiento', 'edad al ingreso', \n",
    "         'comuna', 'estado civil', 'hijos (cantidad)')"
   ]
  },
  {
   "cell_type": "code",
   "execution_count": 565,
   "metadata": {},
   "outputs": [],
   "source": [
    "nores = nores[, vars, with=FALSE]"
   ]
  },
  {
   "cell_type": "code",
   "execution_count": 566,
   "metadata": {},
   "outputs": [],
   "source": [
    "nvars = c('id', 'ingreso', 'fegreso', 'delito', 'condena', \n",
    "         'patio', 'unidad', 'ncondenas', 'nacimiento', 'edad_ingreso', \n",
    "         'comuna', 'estado_civil', 'nhijos')"
   ]
  },
  {
   "cell_type": "code",
   "execution_count": 567,
   "metadata": {},
   "outputs": [],
   "source": [
    "setnames(nores, vars, nvars)"
   ]
  },
  {
   "cell_type": "markdown",
   "metadata": {},
   "source": [
    "So the variables I would use are: \n",
    "\n",
    "- crime \n",
    "- unit\n",
    "- number of sentences\n",
    "- year born\n",
    "- number of kids\n",
    "- married"
   ]
  },
  {
   "cell_type": "code",
   "execution_count": 568,
   "metadata": {},
   "outputs": [],
   "source": [
    "# head(nores)"
   ]
  },
  {
   "cell_type": "markdown",
   "metadata": {},
   "source": [
    "### Read Baseline"
   ]
  },
  {
   "cell_type": "code",
   "execution_count": 569,
   "metadata": {},
   "outputs": [],
   "source": [
    "# read base line data\n",
    "b = fread('data/170630 Base Reinserción Línea Base.csv')\n",
    "setnames(b, names(b), tolower(names(b)))\n",
    "\n",
    "vars = c('muestra', 'folio_2', 'p3_anio', 'p1', 'p5', 'p131', 'p13', 'p137')\n",
    "nvars = c('muestra', 'id', 'nacimiento', 'edad', 'unidad', 'condena_anterior', 'nhijos', 'delito')\n",
    "setnames(b, vars, nvars)"
   ]
  },
  {
   "cell_type": "code",
   "execution_count": 570,
   "metadata": {},
   "outputs": [],
   "source": [
    "b = b[muestra==1]"
   ]
  },
  {
   "cell_type": "markdown",
   "metadata": {},
   "source": [
    "### married"
   ]
  },
  {
   "cell_type": "code",
   "execution_count": 571,
   "metadata": {},
   "outputs": [
    {
     "data": {},
     "metadata": {},
     "output_type": "display_data"
    },
    {
     "data": {
      "text/plain": [
       "\n",
       "   0    1 \n",
       "0.92 0.08 "
      ]
     },
     "metadata": {},
     "output_type": "display_data"
    }
   ],
   "source": [
    "b = assmis(b, list(c('p79', 'p60')), list(9))\n",
    "b[, casada := pmax(p60, p79, na.rm=TRUE)][is.na(casada) & p49==0, casada:=0][is.na(casada), casada := 0]\n",
    "prop.table(table(b$casada, useNA='ifany')) # lower proportion"
   ]
  },
  {
   "cell_type": "code",
   "execution_count": 572,
   "metadata": {},
   "outputs": [
    {
     "data": {},
     "metadata": {},
     "output_type": "display_data"
    },
    {
     "data": {
      "text/plain": [
       "\n",
       "        0         1 \n",
       "0.8867925 0.1132075 "
      ]
     },
     "metadata": {},
     "output_type": "display_data"
    }
   ],
   "source": [
    "nores[, casada := ifelse(estado_civil=='Casada', 1, 0)]\n",
    "prop.table(table(nores$casada, useNA='ifany'))"
   ]
  },
  {
   "cell_type": "markdown",
   "metadata": {},
   "source": [
    "### kids"
   ]
  },
  {
   "cell_type": "code",
   "execution_count": 573,
   "metadata": {},
   "outputs": [
    {
     "data": {
      "text/plain": [
       "\n",
       " 0  1  2  3  4  5  6  7  8  9 11 \n",
       "24 51 47 45 27 10 13  5  1  1  1 "
      ]
     },
     "metadata": {},
     "output_type": "display_data"
    }
   ],
   "source": [
    "table(b$nhijos, useNA='ifany')"
   ]
  },
  {
   "cell_type": "code",
   "execution_count": 574,
   "metadata": {},
   "outputs": [
    {
     "data": {
      "text/plain": [
       "\n",
       " 0  1  2  3  4  5  6  7  8 10 11 \n",
       " 4 14  8  9  7  4  2  2  1  1  1 "
      ]
     },
     "metadata": {},
     "output_type": "display_data"
    }
   ],
   "source": [
    "table(nores$nhijos, useNA='ifany')"
   ]
  },
  {
   "cell_type": "markdown",
   "metadata": {},
   "source": [
    "### sentence before"
   ]
  },
  {
   "cell_type": "code",
   "execution_count": 575,
   "metadata": {},
   "outputs": [
    {
     "data": {},
     "metadata": {},
     "output_type": "display_data"
    },
    {
     "data": {
      "text/plain": [
       "\n",
       "        0         1 \n",
       "0.2830189 0.7169811 "
      ]
     },
     "metadata": {},
     "output_type": "display_data"
    }
   ],
   "source": [
    "nores[, condena_anterior := as.numeric(ncondenas>0)]\n",
    "prop.table(table(nores$condena_anterior))"
   ]
  },
  {
   "cell_type": "code",
   "execution_count": 576,
   "metadata": {},
   "outputs": [
    {
     "data": {
      "text/plain": [
       "\n",
       "        0         1 \n",
       "0.2366071 0.7633929 "
      ]
     },
     "metadata": {},
     "output_type": "display_data"
    }
   ],
   "source": [
    "b = assmis(b, list('condena_anterior'), list(9))\n",
    "prop.table(table(b$condena_anterior))"
   ]
  },
  {
   "cell_type": "markdown",
   "metadata": {},
   "source": [
    "### year born"
   ]
  },
  {
   "cell_type": "code",
   "execution_count": 577,
   "metadata": {},
   "outputs": [
    {
     "name": "stderr",
     "output_type": "stream",
     "text": [
      "Warning message in eval(jsub, SDenv, parent.frame()):\n",
      "“NAs introduced by coercion”"
     ]
    },
    {
     "data": {},
     "metadata": {},
     "output_type": "display_data"
    }
   ],
   "source": [
    "nores[, nac := as.numeric(nacimiento)]"
   ]
  },
  {
   "cell_type": "code",
   "execution_count": 578,
   "metadata": {},
   "outputs": [
    {
     "data": {},
     "metadata": {},
     "output_type": "display_data"
    }
   ],
   "source": [
    "nores[is.na(nac), nac := year(ingreso)- as.numeric(edad_ingreso)]"
   ]
  },
  {
   "cell_type": "code",
   "execution_count": 579,
   "metadata": {},
   "outputs": [
    {
     "data": {
      "text/plain": [
       "   Min. 1st Qu.  Median    Mean 3rd Qu.    Max. \n",
       "   1938    1973    1981    1979    1991    1996 "
      ]
     },
     "metadata": {},
     "output_type": "display_data"
    }
   ],
   "source": [
    "summary(nores$nac, useNA = 'ifany')"
   ]
  },
  {
   "cell_type": "code",
   "execution_count": 580,
   "metadata": {},
   "outputs": [],
   "source": [
    "b = assmis(b, list('nacimiento'), list(9999))"
   ]
  },
  {
   "cell_type": "code",
   "execution_count": 581,
   "metadata": {},
   "outputs": [
    {
     "data": {},
     "metadata": {},
     "output_type": "display_data"
    }
   ],
   "source": [
    "b[, nac := as.numeric(nacimiento)]"
   ]
  },
  {
   "cell_type": "code",
   "execution_count": 582,
   "metadata": {},
   "outputs": [
    {
     "data": {},
     "metadata": {},
     "output_type": "display_data"
    }
   ],
   "source": [
    "b[, ent_fecha := as.Date(fecha, \"%m/%d/%Y\")]"
   ]
  },
  {
   "cell_type": "code",
   "execution_count": 583,
   "metadata": {},
   "outputs": [
    {
     "data": {},
     "metadata": {},
     "output_type": "display_data"
    }
   ],
   "source": [
    "b[is.na(nac), nac := year(ent_fecha) - as.numeric(edad)]"
   ]
  },
  {
   "cell_type": "code",
   "execution_count": 584,
   "metadata": {},
   "outputs": [
    {
     "data": {
      "text/plain": [
       "   Min. 1st Qu.  Median    Mean 3rd Qu.    Max. \n",
       "   1948    1974    1982    1980    1989    1997 "
      ]
     },
     "metadata": {},
     "output_type": "display_data"
    }
   ],
   "source": [
    "summary(b$nac)"
   ]
  },
  {
   "cell_type": "markdown",
   "metadata": {},
   "source": [
    "### unit"
   ]
  },
  {
   "cell_type": "code",
   "execution_count": 585,
   "metadata": {},
   "outputs": [
    {
     "data": {
      "text/plain": [
       "\n",
       "       CPF TALITA KUM \n",
       "        50          3 "
      ]
     },
     "metadata": {},
     "output_type": "display_data"
    }
   ],
   "source": [
    "table(nores$unidad)"
   ]
  },
  {
   "cell_type": "code",
   "execution_count": 586,
   "metadata": {},
   "outputs": [
    {
     "data": {},
     "metadata": {},
     "output_type": "display_data"
    }
   ],
   "source": [
    "nores[, cpf := ifelse(unidad=='CPF', 1, 0)]"
   ]
  },
  {
   "cell_type": "code",
   "execution_count": 587,
   "metadata": {},
   "outputs": [
    {
     "data": {
      "text/plain": [
       "   Min. 1st Qu.  Median    Mean 3rd Qu.    Max. \n",
       " 0.0000  1.0000  1.0000  0.9434  1.0000  1.0000 "
      ]
     },
     "metadata": {},
     "output_type": "display_data"
    }
   ],
   "source": [
    "summary(nores$cpf)"
   ]
  },
  {
   "cell_type": "code",
   "execution_count": 588,
   "metadata": {},
   "outputs": [],
   "source": [
    "b = assmis(b, list('unidad'), list(9))"
   ]
  },
  {
   "cell_type": "code",
   "execution_count": 589,
   "metadata": {},
   "outputs": [
    {
     "data": {},
     "metadata": {},
     "output_type": "display_data"
    }
   ],
   "source": [
    "b[, cpf := ifelse(unidad==1, 1, 0)]"
   ]
  },
  {
   "cell_type": "code",
   "execution_count": 590,
   "metadata": {},
   "outputs": [
    {
     "data": {
      "text/plain": [
       "   Min. 1st Qu.  Median    Mean 3rd Qu.    Max.    NA's \n",
       " 0.0000  1.0000  1.0000  0.9685  1.0000  1.0000       3 "
      ]
     },
     "metadata": {},
     "output_type": "display_data"
    }
   ],
   "source": [
    "summary(b$cpf)"
   ]
  },
  {
   "cell_type": "markdown",
   "metadata": {},
   "source": [
    "### crime"
   ]
  },
  {
   "cell_type": "code",
   "execution_count": 591,
   "metadata": {},
   "outputs": [
    {
     "data": {
      "text/plain": [
       "\n",
       "        Asociación ilícita                    Estafas \n",
       "                         1                          1 \n",
       "                 Homicidio                      Hurto \n",
       "                         1                          3 \n",
       "              Hurto simple      Infracción Ley 17.336 \n",
       "                        21                          1 \n",
       "Lesiones graves gravísimas                 Ley 20.000 \n",
       "                         1                         15 \n",
       "              Microtráfico                Receptación \n",
       "                         1                          1 \n",
       "        Robo con violencia  Robo en lugar no habitado \n",
       "                         1                          1 \n",
       "         Robo por sorpresa      Sustracciones menores \n",
       "                         1                          1 \n",
       "                   Tráfico \n",
       "                         3 "
      ]
     },
     "metadata": {},
     "output_type": "display_data"
    }
   ],
   "source": [
    "table(nores$delito)"
   ]
  },
  {
   "cell_type": "code",
   "execution_count": 592,
   "metadata": {},
   "outputs": [],
   "source": [
    "labels = sort(unique(nores$delito))"
   ]
  },
  {
   "cell_type": "markdown",
   "metadata": {},
   "source": [
    "##### groups\n",
    "1. Hurto\n",
    "2. Otros delitos contra la propiedad\n",
    "3. Delitos de drogas\n",
    "4. Delitos contra las personas\n",
    "5. Otro"
   ]
  },
  {
   "cell_type": "code",
   "execution_count": 593,
   "metadata": {},
   "outputs": [],
   "source": [
    "codes = c(5,2,4,1,1,2,4,3,3,2,2,2,2,4,3)"
   ]
  },
  {
   "cell_type": "code",
   "execution_count": 594,
   "metadata": {},
   "outputs": [
    {
     "data": {},
     "metadata": {},
     "output_type": "display_data"
    }
   ],
   "source": [
    "nores[.(delito=labels, to=codes), on='delito', rdelito := i.to]"
   ]
  },
  {
   "cell_type": "code",
   "execution_count": 595,
   "metadata": {},
   "outputs": [
    {
     "data": {
      "text/plain": [
       "                            \n",
       "                              1  2  3  4  5\n",
       "  Asociación ilícita          0  0  0  0  1\n",
       "  Estafas                     0  1  0  0  0\n",
       "  Homicidio                   0  0  0  1  0\n",
       "  Hurto                       3  0  0  0  0\n",
       "  Hurto simple               21  0  0  0  0\n",
       "  Infracción Ley 17.336       0  1  0  0  0\n",
       "  Lesiones graves gravísimas  0  0  0  1  0\n",
       "  Ley 20.000                  0  0 15  0  0\n",
       "  Microtráfico                0  0  1  0  0\n",
       "  Receptación                 0  1  0  0  0\n",
       "  Robo con violencia          0  1  0  0  0\n",
       "  Robo en lugar no habitado   0  1  0  0  0\n",
       "  Robo por sorpresa           0  1  0  0  0\n",
       "  Sustracciones menores       0  0  0  1  0\n",
       "  Tráfico                     0  0  3  0  0"
      ]
     },
     "metadata": {},
     "output_type": "display_data"
    }
   ],
   "source": [
    "table( nores$delito,nores$rdelito, useNA = 'ifany')"
   ]
  },
  {
   "cell_type": "code",
   "execution_count": 596,
   "metadata": {},
   "outputs": [
    {
     "data": {
      "text/plain": [
       "\n",
       " 1  2  3  5  7  8  9 10 11 12 13 15 16 17 18 19 22 24 99 \n",
       " 3  4  5  1 85  1  9 11 11  1  4 37 44  1  3  1  1  2  1 "
      ]
     },
     "metadata": {},
     "output_type": "display_data"
    }
   ],
   "source": [
    "table(b$delito, useNA = 'ifany')"
   ]
  },
  {
   "cell_type": "code",
   "execution_count": 553,
   "metadata": {},
   "outputs": [
    {
     "data": {
      "text/html": [
       "'p137_otro'"
      ],
      "text/latex": [
       "'p137\\_otro'"
      ],
      "text/markdown": [
       "'p137_otro'"
      ],
      "text/plain": [
       "[1] \"p137_otro\""
      ]
     },
     "metadata": {},
     "output_type": "display_data"
    }
   ],
   "source": [
    "lookvar(b, 'p137')"
   ]
  },
  {
   "cell_type": "code",
   "execution_count": 597,
   "metadata": {},
   "outputs": [
    {
     "data": {},
     "metadata": {},
     "output_type": "display_data"
    },
    {
     "data": {},
     "metadata": {},
     "output_type": "display_data"
    }
   ],
   "source": [
    "b[p137_otro %in% c('LEY EMILIA'), delito :=13]\n",
    "b[p137_otro %in% c('PARRICIDIO'), delito :=24]"
   ]
  },
  {
   "cell_type": "code",
   "execution_count": 599,
   "metadata": {},
   "outputs": [],
   "source": [
    "codes = c(2,2,2,2,1,2,2,2,2,4,4,3,3,2,2,4,2,5,99)\n",
    "dcodes = sort(unique(b$delito))"
   ]
  },
  {
   "cell_type": "code",
   "execution_count": 600,
   "metadata": {},
   "outputs": [
    {
     "data": {
      "text/html": [
       "TRUE"
      ],
      "text/latex": [
       "TRUE"
      ],
      "text/markdown": [
       "TRUE"
      ],
      "text/plain": [
       "[1] TRUE"
      ]
     },
     "metadata": {},
     "output_type": "display_data"
    }
   ],
   "source": [
    "length(codes) == length(dcodes)"
   ]
  },
  {
   "cell_type": "code",
   "execution_count": 602,
   "metadata": {},
   "outputs": [
    {
     "data": {},
     "metadata": {},
     "output_type": "display_data"
    }
   ],
   "source": [
    "b[.(delito=dcodes, to=codes), on='delito', rdelito:=i.to]"
   ]
  },
  {
   "cell_type": "code",
   "execution_count": 603,
   "metadata": {},
   "outputs": [
    {
     "data": {
      "text/plain": [
       "    \n",
       "      1  2  3  4  5 99\n",
       "  1   0  3  0  0  0  0\n",
       "  2   0  4  0  0  0  0\n",
       "  3   0  5  0  0  0  0\n",
       "  5   0  1  0  0  0  0\n",
       "  7  85  0  0  0  0  0\n",
       "  8   0  1  0  0  0  0\n",
       "  9   0  9  0  0  0  0\n",
       "  10  0 11  0  0  0  0\n",
       "  11  0 11  0  0  0  0\n",
       "  12  0  0  0  1  0  0\n",
       "  13  0  0  0  5  0  0\n",
       "  15  0  0 37  0  0  0\n",
       "  16  0  0 44  0  0  0\n",
       "  17  0  1  0  0  0  0\n",
       "  18  0  3  0  0  0  0\n",
       "  19  0  0  0  1  0  0\n",
       "  22  0  1  0  0  0  0\n",
       "  24  0  0  0  0  1  0\n",
       "  99  0  0  0  0  0  1"
      ]
     },
     "metadata": {},
     "output_type": "display_data"
    }
   ],
   "source": [
    "table(b$delito, b$rdelito)"
   ]
  },
  {
   "cell_type": "code",
   "execution_count": 604,
   "metadata": {},
   "outputs": [
    {
     "data": {
      "text/plain": [
       "\n",
       "          1           2           3           4           5 \n",
       "0.379464286 0.223214286 0.361607143 0.031250000 0.004464286 "
      ]
     },
     "metadata": {},
     "output_type": "display_data"
    }
   ],
   "source": [
    "b = assmis(b, list('rdelito'), list(99))\n",
    "prop.table(table(b$rdelito))"
   ]
  },
  {
   "cell_type": "code",
   "execution_count": 43,
   "metadata": {},
   "outputs": [
    {
     "data": {
      "text/plain": [
       "\n",
       "         1          2          3          4          5 \n",
       "0.45283019 0.11320755 0.35849057 0.05660377 0.01886792 "
      ]
     },
     "metadata": {},
     "output_type": "display_data"
    }
   ],
   "source": [
    "prop.table(table(nores$rdelito))"
   ]
  },
  {
   "cell_type": "markdown",
   "metadata": {},
   "source": [
    "# Differences between groups"
   ]
  },
  {
   "cell_type": "code",
   "execution_count": 605,
   "metadata": {},
   "outputs": [],
   "source": [
    "# merge dataset\n",
    "\n",
    "vars = c('id', 'cpf', 'nac', 'rdelito', 'casada', 'nhijos', 'condena_anterior')\n",
    "b1 = b[, vars, with=FALSE][, sample := 1]\n",
    "n1 = nores[, vars, with=FALSE][, sample := 0]"
   ]
  },
  {
   "cell_type": "code",
   "execution_count": 606,
   "metadata": {},
   "outputs": [],
   "source": [
    "dat = rbind(b1, n1)"
   ]
  },
  {
   "cell_type": "code",
   "execution_count": 607,
   "metadata": {},
   "outputs": [
    {
     "data": {
      "text/plain": [
       "\n",
       "  0   1 \n",
       " 53 225 "
      ]
     },
     "metadata": {},
     "output_type": "display_data"
    }
   ],
   "source": [
    "table(dat$sample)"
   ]
  },
  {
   "cell_type": "code",
   "execution_count": 608,
   "metadata": {},
   "outputs": [
    {
     "data": {
      "text/html": [
       "<table>\n",
       "<thead><tr><th scope=col>id</th><th scope=col>cpf</th><th scope=col>nac</th><th scope=col>rdelito</th><th scope=col>casada</th><th scope=col>nhijos</th><th scope=col>condena_anterior</th><th scope=col>sample</th></tr></thead>\n",
       "<tbody>\n",
       "\t<tr><td>20224</td><td> 1   </td><td>1997 </td><td>1    </td><td>0    </td><td>0    </td><td>1    </td><td>1    </td></tr>\n",
       "\t<tr><td>30155</td><td> 1   </td><td>1968 </td><td>3    </td><td>0    </td><td>0    </td><td>1    </td><td>1    </td></tr>\n",
       "\t<tr><td>10007</td><td> 1   </td><td>1994 </td><td>3    </td><td>0    </td><td>0    </td><td>0    </td><td>1    </td></tr>\n",
       "\t<tr><td>40107</td><td> 1   </td><td>1990 </td><td>2    </td><td>0    </td><td>0    </td><td>1    </td><td>1    </td></tr>\n",
       "\t<tr><td>20262</td><td> 1   </td><td>1975 </td><td>1    </td><td>0    </td><td>0    </td><td>1    </td><td>1    </td></tr>\n",
       "\t<tr><td>20028</td><td>NA   </td><td>1985 </td><td>1    </td><td>0    </td><td>0    </td><td>1    </td><td>1    </td></tr>\n",
       "</tbody>\n",
       "</table>\n"
      ],
      "text/latex": [
       "\\begin{tabular}{r|llllllll}\n",
       " id & cpf & nac & rdelito & casada & nhijos & condena\\_anterior & sample\\\\\n",
       "\\hline\n",
       "\t 20224 &  1    & 1997  & 1     & 0     & 0     & 1     & 1    \\\\\n",
       "\t 30155 &  1    & 1968  & 3     & 0     & 0     & 1     & 1    \\\\\n",
       "\t 10007 &  1    & 1994  & 3     & 0     & 0     & 0     & 1    \\\\\n",
       "\t 40107 &  1    & 1990  & 2     & 0     & 0     & 1     & 1    \\\\\n",
       "\t 20262 &  1    & 1975  & 1     & 0     & 0     & 1     & 1    \\\\\n",
       "\t 20028 & NA    & 1985  & 1     & 0     & 0     & 1     & 1    \\\\\n",
       "\\end{tabular}\n"
      ],
      "text/markdown": [
       "\n",
       "id | cpf | nac | rdelito | casada | nhijos | condena_anterior | sample | \n",
       "|---|---|---|---|---|---|\n",
       "| 20224 |  1    | 1997  | 1     | 0     | 0     | 1     | 1     | \n",
       "| 30155 |  1    | 1968  | 3     | 0     | 0     | 1     | 1     | \n",
       "| 10007 |  1    | 1994  | 3     | 0     | 0     | 0     | 1     | \n",
       "| 40107 |  1    | 1990  | 2     | 0     | 0     | 1     | 1     | \n",
       "| 20262 |  1    | 1975  | 1     | 0     | 0     | 1     | 1     | \n",
       "| 20028 | NA    | 1985  | 1     | 0     | 0     | 1     | 1     | \n",
       "\n",
       "\n"
      ],
      "text/plain": [
       "  id    cpf nac  rdelito casada nhijos condena_anterior sample\n",
       "1 20224  1  1997 1       0      0      1                1     \n",
       "2 30155  1  1968 3       0      0      1                1     \n",
       "3 10007  1  1994 3       0      0      0                1     \n",
       "4 40107  1  1990 2       0      0      1                1     \n",
       "5 20262  1  1975 1       0      0      1                1     \n",
       "6 20028 NA  1985 1       0      0      1                1     "
      ]
     },
     "metadata": {},
     "output_type": "display_data"
    }
   ],
   "source": [
    "head(dat)"
   ]
  },
  {
   "cell_type": "code",
   "execution_count": 609,
   "metadata": {},
   "outputs": [
    {
     "name": "stdout",
     "output_type": "stream",
     "text": [
      "[[1]]\n",
      "[1] \"rdelito_1\" \"rdelito_3\" \"rdelito_2\" \"rdelito_4\" \"rdelito_5\"\n",
      "\n"
     ]
    },
    {
     "data": {},
     "metadata": {},
     "output_type": "display_data"
    }
   ],
   "source": [
    "getdummies(dat, 'rdelito')"
   ]
  },
  {
   "cell_type": "code",
   "execution_count": 610,
   "metadata": {},
   "outputs": [],
   "source": [
    "vars = paste0('rdelito_', 1:5)\n",
    "nvars = c('del_hurto', 'del_propiedad', 'del_drogas', 'del_personas', 'del_otro')\n",
    "setnames(dat, vars, nvars)"
   ]
  },
  {
   "cell_type": "code",
   "execution_count": 611,
   "metadata": {},
   "outputs": [],
   "source": [
    "covars = c('cpf', 'nac', 'nhijos', 'condena_anterior', 'casada', nvars)\n",
    "df = as.data.frame(dat[, covars, with=FALSE])\n",
    "d = as.data.frame(rbm(df, as.factor(dat$sample)))"
   ]
  },
  {
   "cell_type": "markdown",
   "metadata": {},
   "source": [
    "## Balance"
   ]
  },
  {
   "cell_type": "code",
   "execution_count": 612,
   "metadata": {},
   "outputs": [],
   "source": [
    "d$labels = c('CPF', 'Año nacimiento', 'Num hijos', 'Condena anterior', \n",
    "             'Casada', 'Hurto', 'Delito propiedad', 'Delito drogas', \n",
    "            'Delito personas', 'Delito otro')\n",
    "\n",
    "d$ind = as.numeric(abs(d$B) > .1)"
   ]
  },
  {
   "cell_type": "code",
   "execution_count": 613,
   "metadata": {},
   "outputs": [],
   "source": [
    "plt = ggplot(d, aes(x=B, y=R, color=factor(ind))) + geom_point() +\n",
    "    xlim(range(c(d$B[is.finite(d$B)], -1, 1))) +\n",
    "    ylim(range(c(d$R[is.finite(d$R)], 0.1, 2))) + \n",
    " geom_vline(xintercept = c(-0.1, 0.1), size=0.5, color='gray', linetype=3) + \n",
    " geom_hline(yintercept = c(4/5, 5/4), size=0.5, color='gray', linetype=3) + \n",
    " geom_text_repel(aes(B, R, label = labels), size=3) + \n",
    " scale_color_manual(values=c('black', '#f03b20')) +\n",
    " labs(x='\\nStandardized difference in means', y='Variance ratio\\n') +  \n",
    " theme_classic() + theme(legend.position='none')"
   ]
  },
  {
   "cell_type": "code",
   "execution_count": 614,
   "metadata": {},
   "outputs": [
    {
     "data": {
      "text/html": [
       "<strong>pdf:</strong> 2"
      ],
      "text/latex": [
       "\\textbf{pdf:} 2"
      ],
      "text/markdown": [
       "**pdf:** 2"
      ],
      "text/plain": [
       "pdf \n",
       "  2 "
      ]
     },
     "metadata": {},
     "output_type": "display_data"
    }
   ],
   "source": [
    "savepdf('plots/balance')\n",
    "print(plt)\n",
    "dev.off()"
   ]
  },
  {
   "cell_type": "code",
   "execution_count": 615,
   "metadata": {},
   "outputs": [
    {
     "data": {},
     "metadata": {},
     "output_type": "display_data"
    },
    {
     "data": {
      "image/png": "[encoded data removed]",
      "text/plain": [
       "plot without title"
      ]
     },
     "metadata": {},
     "output_type": "display_data",
     "source": "R display func"
    }
   ],
   "source": [
    "options(repr.plot.width = 4, repr.plot.height = 3)\n",
    "plt"
   ]
  },
  {
   "cell_type": "code",
   "execution_count": 617,
   "metadata": {},
   "outputs": [
    {
     "name": "stdout",
     "output_type": "stream",
     "text": [
      "                      B     R           labels ind\n",
      "cpf               0.122 0.572              CPF   1\n",
      "nac               0.049 0.675   Año nacimiento   0\n",
      "nhijos           -0.205 0.617        Num hijos   1\n",
      "condena_anterior  0.106 0.890 Condena anterior   1\n",
      "casada           -0.113 0.733           Casada   1\n",
      "del_hurto        -0.149 0.950            Hurto   1\n",
      "del_propiedad     0.297 1.727 Delito propiedad   1\n",
      "del_drogas        0.006 1.004    Delito drogas   0\n",
      "del_personas     -0.124 0.567  Delito personas   1\n",
      "del_otro         -0.134 0.240      Delito otro   1\n"
     ]
    }
   ],
   "source": [
    "print(d)"
   ]
  },
  {
   "cell_type": "markdown",
   "metadata": {},
   "source": [
    "# Standardized and relative bias"
   ]
  },
  {
   "cell_type": "code",
   "execution_count": 618,
   "metadata": {},
   "outputs": [
    {
     "data": {
      "text/plain": [
       "\n",
       "  0   1 \n",
       " 53 225 "
      ]
     },
     "metadata": {},
     "output_type": "display_data"
    }
   ],
   "source": [
    "table(dat$sample)"
   ]
  },
  {
   "cell_type": "code",
   "execution_count": 619,
   "metadata": {},
   "outputs": [],
   "source": [
    "# observed\n",
    "\n",
    "ind = dat$sample"
   ]
  },
  {
   "cell_type": "code",
   "execution_count": 620,
   "metadata": {},
   "outputs": [],
   "source": [
    "rs = dat[sample==1, covars, with=FALSE][, apply(.SD, 2, Mean)]\n",
    "rp = dat[, covars, with=FALSE][, apply(.SD, 2, Mean)]"
   ]
  },
  {
   "cell_type": "code",
   "execution_count": 621,
   "metadata": {},
   "outputs": [],
   "source": [
    "obs_r = (rs-rp)/rp"
   ]
  },
  {
   "cell_type": "code",
   "execution_count": 622,
   "metadata": {},
   "outputs": [
    {
     "name": "stdout",
     "output_type": "stream",
     "text": [
      "             cpf              nac           nhijos condena_anterior \n",
      "    5.014448e-03     5.844351e-05    -3.195309e-02     1.176948e-02 \n",
      "          casada        del_hurto    del_propiedad       del_drogas \n",
      "   -7.333333e-02    -3.567333e-02     1.041135e-01     1.651786e-03 \n",
      "    del_personas         del_otro \n",
      "   -1.343750e-01    -3.816964e-01 \n"
     ]
    }
   ],
   "source": [
    "print(obs_r)"
   ]
  },
  {
   "cell_type": "code",
   "execution_count": 623,
   "metadata": {},
   "outputs": [],
   "source": [
    "srd = dat[, covars, with=FALSE][, lapply(.SD, scale)]\n",
    "ind = dat$sample == 1\n",
    "srs = srd[ind,apply(.SD, 2, Mean)]\n",
    "srp = srd[,apply(.SD, 2, Mean)]"
   ]
  },
  {
   "cell_type": "code",
   "execution_count": 624,
   "metadata": {},
   "outputs": [],
   "source": [
    "obs_s = (srs - srp)"
   ]
  },
  {
   "cell_type": "code",
   "execution_count": 625,
   "metadata": {},
   "outputs": [
    {
     "name": "stdout",
     "output_type": "stream",
     "text": [
      "             cpf              nac           nhijos condena_anterior \n",
      "     0.025766477      0.009975778     -0.041970414      0.020596368 \n",
      "          casada        del_hurto    del_propiedad       del_drogas \n",
      "    -0.022501303     -0.028682493      0.052314209      0.001239315 \n",
      "    del_personas         del_otro \n",
      "    -0.025958375     -0.032492371 \n"
     ]
    }
   ],
   "source": [
    "print(obs_s)"
   ]
  },
  {
   "cell_type": "code",
   "execution_count": 626,
   "metadata": {},
   "outputs": [
    {
     "data": {
      "text/html": [
       "278"
      ],
      "text/latex": [
       "278"
      ],
      "text/markdown": [
       "278"
      ],
      "text/plain": [
       "[1] 278"
      ]
     },
     "metadata": {},
     "output_type": "display_data"
    }
   ],
   "source": [
    "nrow(dat)"
   ]
  },
  {
   "cell_type": "code",
   "execution_count": 627,
   "metadata": {},
   "outputs": [],
   "source": [
    "relbias = NULL\n",
    "stdbias = NULL\n",
    "for (i in 1:1000) { \n",
    "    ind = sample(nrow(dat), 225)\n",
    "    \n",
    "    rs = dat[ind, covars, with=FALSE][, apply(.SD, 2, Mean)]\n",
    "    rp = dat[, covars, with=FALSE][, apply(.SD, 2, Mean)]\n",
    "    \n",
    "    srd = dat[, covars, with=FALSE][, lapply(.SD, scale)]\n",
    "    srs = srd[ind,apply(.SD, 2, Mean)]\n",
    "    srp = srd[,apply(.SD, 2, Mean)]\n",
    "    \n",
    "    s = (srs - srp)\n",
    "    r = (rs-rp)/rp\n",
    "    \n",
    "    stdbias = rbind(stdbias, s)\n",
    "    relbias = rbind(relbias, r)\n",
    "    }\n",
    "\n",
    "stdbias = as.data.table(stdbias)\n",
    "relbias = as.data.table(relbias)"
   ]
  },
  {
   "cell_type": "markdown",
   "metadata": {},
   "source": [
    "## Relative bias"
   ]
  },
  {
   "cell_type": "code",
   "execution_count": 628,
   "metadata": {},
   "outputs": [],
   "source": [
    "covars = names(obs_r)"
   ]
  },
  {
   "cell_type": "code",
   "execution_count": 629,
   "metadata": {},
   "outputs": [
    {
     "name": "stdout",
     "output_type": "stream",
     "text": [
      "             cpf              nac           nhijos condena_anterior \n",
      "    5.014448e-03     5.844351e-05    -3.195309e-02     1.176948e-02 \n",
      "          casada        del_hurto    del_propiedad       del_drogas \n",
      "   -7.333333e-02    -3.567333e-02     1.041135e-01     1.651786e-03 \n",
      "    del_personas         del_otro \n",
      "   -1.343750e-01    -3.816964e-01 \n"
     ]
    }
   ],
   "source": [
    "print(obs_r)"
   ]
  },
  {
   "cell_type": "code",
   "execution_count": 630,
   "metadata": {},
   "outputs": [],
   "source": [
    "labels =  c('CPF', 'Año nacimiento', 'Número hijos', 'Condena anterior', \n",
    "             'Casada', 'Hurto', 'Delito propiedad', 'Delito drogas', \n",
    "            'Delito personas', 'Delito otro')"
   ]
  },
  {
   "cell_type": "code",
   "execution_count": 631,
   "metadata": {},
   "outputs": [],
   "source": [
    "for (i in seq_along(covars)) {     \n",
    "    assign(paste0('plot_', i), ggplot(relbias, aes_string(x=covars[i])) +\n",
    "          geom_density(color='white', alpha='0.3', fill='blue') +\n",
    "          labs(y='', x= labels[i]) +\n",
    "          geom_vline(xintercept = as.numeric(obs_r[covars[i]]), color='red', size=0.5, linetype=2) + \n",
    "          theme_classic())\n",
    "}"
   ]
  },
  {
   "cell_type": "code",
   "execution_count": 632,
   "metadata": {},
   "outputs": [
    {
     "data": {},
     "metadata": {},
     "output_type": "display_data"
    },
    {
     "data": {
      "text/html": [
       "<strong>pdf:</strong> 2"
      ],
      "text/latex": [
       "\\textbf{pdf:} 2"
      ],
      "text/markdown": [
       "**pdf:** 2"
      ],
      "text/plain": [
       "pdf \n",
       "  2 "
      ]
     },
     "metadata": {},
     "output_type": "display_data"
    }
   ],
   "source": [
    "options(repr.plot.width = 6, repr.plot.height = 8)\n",
    "savepdf('plots/relative_bias', 16, 20)\n",
    "eval(parse(text=paste0(paste0('plot_', seq_along(covars), collapse='+'), \n",
    "                       '+ plot_layout(ncol = 2)')))\n",
    "dev.off()"
   ]
  },
  {
   "cell_type": "markdown",
   "metadata": {},
   "source": [
    "# standardized bias"
   ]
  },
  {
   "cell_type": "code",
   "execution_count": 633,
   "metadata": {},
   "outputs": [],
   "source": [
    "for (i in seq_along(covars)) {     \n",
    "    assign(paste0('plot_', i), ggplot(stdbias, aes_string(x=covars[i])) +\n",
    "          geom_density(color='white', alpha='0.3', fill='blue') +\n",
    "         labs(y='', x= labels[i]) +\n",
    "          geom_vline(xintercept = as.numeric(obs_s[covars[i]]), color='red', size=0.5, linetype=2) + \n",
    "          theme_classic())\n",
    "}"
   ]
  },
  {
   "cell_type": "code",
   "execution_count": 634,
   "metadata": {},
   "outputs": [
    {
     "data": {},
     "metadata": {},
     "output_type": "display_data"
    },
    {
     "data": {
      "text/html": [
       "<strong>pdf:</strong> 2"
      ],
      "text/latex": [
       "\\textbf{pdf:} 2"
      ],
      "text/markdown": [
       "**pdf:** 2"
      ],
      "text/plain": [
       "pdf \n",
       "  2 "
      ]
     },
     "metadata": {},
     "output_type": "display_data"
    }
   ],
   "source": [
    "options(repr.plot.width = 6, repr.plot.height = 8)\n",
    "savepdf('plots/standardized_bias', 16, 20)\n",
    "eval(parse(text=paste0(paste0('plot_', seq_along(covars), collapse='+'), \n",
    "                       '+ plot_layout(ncol = 2)')))\n",
    "dev.off()"
   ]
  },
  {
   "cell_type": "code",
   "execution_count": null,
   "metadata": {},
   "outputs": [],
   "source": []
  }
 ],
 "metadata": {
  "kernelspec": {
   "display_name": "R",
   "language": "R",
   "name": "ir"
  },
  "language_info": {
   "codemirror_mode": "r",
   "file_extension": ".r",
   "mimetype": "text/x-r-source",
   "name": "R",
   "pygments_lexer": "r",
   "version": "3.4.1"
  }
 },
 "nbformat": 4,
 "nbformat_minor": 2
}
