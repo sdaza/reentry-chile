{
 "cells": [
  {
   "cell_type": "markdown",
   "metadata": {},
   "source": [
    "# Bias base line"
   ]
  },
  {
   "cell_type": "code",
   "execution_count": 516,
   "metadata": {},
   "outputs": [],
   "source": [
    "library(sdazar)\n",
    "library(readxl)\n",
    "library(lubridate)\n",
    "library(stringr)\n",
    "library(ggplot2)\n",
    "library(patchwork)\n",
    "library(ggrepel)\n",
    "library(ggridges)\n",
    "library(cobalt)\n",
    "library(texreg)\n",
    "source('utils/functions.R')"
   ]
  },
  {
   "cell_type": "markdown",
   "metadata": {},
   "source": [
    "## Read administrative data "
   ]
  },
  {
   "cell_type": "code",
   "execution_count": 517,
   "metadata": {},
   "outputs": [],
   "source": [
    "# registro personas encuestadas\n",
    "renc = data.table(read_excel('data/LISTA MUESTRA REGISTRO.xlsx', sheet=1))\n",
    "setnames(renc, names(renc), tolower(names(renc)))"
   ]
  },
  {
   "cell_type": "code",
   "execution_count": 518,
   "metadata": {},
   "outputs": [],
   "source": [
    "setnames(renc, c('folio', 'unidad', 'delito', 'mes egreso', 'tipo egreso'), \n",
    "        c('id', 'unidad', 'rdelito', 'mes_egreso', 'tegreso'))"
   ]
  },
  {
   "cell_type": "code",
   "execution_count": 519,
   "metadata": {},
   "outputs": [
    {
     "data": {},
     "metadata": {},
     "output_type": "display_data"
    },
    {
     "data": {},
     "metadata": {},
     "output_type": "display_data"
    }
   ],
   "source": [
    "renc[, condicional:=ifelse(tegreso %like% 'CONDICIONAL', 1, 0)]\n",
    "renc[, cpf := ifelse(unidad %like% 'CPF', 1, 0)]"
   ]
  },
  {
   "cell_type": "code",
   "execution_count": 521,
   "metadata": {},
   "outputs": [
    {
     "data": {},
     "metadata": {},
     "output_type": "display_data"
    }
   ],
   "source": [
    "# registro no encuestadas\n",
    "nores = data.table(read_excel('data/Datos de mujeres - Estudio Sociologia UC.xlsx', sheet=2))\n",
    "setnames(nores, names(nores), tolower(names(nores)))\n",
    "nores[, id := .I]"
   ]
  },
  {
   "cell_type": "code",
   "execution_count": 522,
   "metadata": {},
   "outputs": [],
   "source": [
    "vars = c('id', 'fecha ingreso', 'fecha egreso', 'delito', 'extensión de condena', \n",
    "         'patio', 'unidad', 'n de condenas anteriores', 'año de nacimiento', 'edad al ingreso', \n",
    "         'comuna', 'estado civil', 'hijos (cantidad)', 'tipo egreso', 'razon de ausencia')"
   ]
  },
  {
   "cell_type": "code",
   "execution_count": 523,
   "metadata": {},
   "outputs": [],
   "source": [
    "nores = nores[, vars, with=FALSE]"
   ]
  },
  {
   "cell_type": "code",
   "execution_count": 524,
   "metadata": {},
   "outputs": [],
   "source": [
    "nvars = c('id', 'ingreso', 'fegreso', 'delito', 'condena', \n",
    "         'patio', 'unidad', 'ncondenas', 'nacimiento', 'edad_ingreso', \n",
    "         'comuna', 'estado_civil', 'nhijos', 'tegreso', 'razon')"
   ]
  },
  {
   "cell_type": "code",
   "execution_count": 525,
   "metadata": {},
   "outputs": [],
   "source": [
    "setnames(nores, vars, nvars)"
   ]
  },
  {
   "cell_type": "markdown",
   "metadata": {},
   "source": [
    "So the variables I would use are: \n",
    "\n",
    "- crime \n",
    "- unit\n",
    "- number of sentences\n",
    "- year born\n",
    "- number of kids\n",
    "- married\n",
    "- kind of release"
   ]
  },
  {
   "cell_type": "code",
   "execution_count": 527,
   "metadata": {},
   "outputs": [],
   "source": [
    "nores[, condicional:=ifelse(tegreso %like% 'CONDICIONAL', 1, 0)]\n",
    "nores[, rechazo := ifelse(razon %like% 'RECHAZA', 1, 0)]"
   ]
  },
  {
   "cell_type": "markdown",
   "metadata": {},
   "source": [
    "### Read Baseline"
   ]
  },
  {
   "cell_type": "code",
   "execution_count": 529,
   "metadata": {},
   "outputs": [],
   "source": [
    "# read base line data\n",
    "b = fread('data/170630 Base Reinserción Línea Base.csv')\n",
    "setnames(b, names(b), tolower(names(b)))"
   ]
  },
  {
   "cell_type": "code",
   "execution_count": 530,
   "metadata": {},
   "outputs": [],
   "source": [
    "#print(names(b))"
   ]
  },
  {
   "cell_type": "code",
   "execution_count": 531,
   "metadata": {},
   "outputs": [],
   "source": [
    "vars = c('muestra', 'folio_2', 'p3_anio', 'p1', 'p5', 'p131', 'p13', 'p137')\n",
    "nvars = c('muestra', 'id', 'nacimiento', 'edad', 'unidad', 'condena_anterior', 'nhijos', 'delito')\n",
    "setnames(b, vars, nvars)"
   ]
  },
  {
   "cell_type": "code",
   "execution_count": 532,
   "metadata": {},
   "outputs": [],
   "source": [
    "b = b[muestra==1]"
   ]
  },
  {
   "cell_type": "code",
   "execution_count": 533,
   "metadata": {},
   "outputs": [
    {
     "data": {
      "text/html": [
       "TRUE"
      ],
      "text/latex": [
       "TRUE"
      ],
      "text/markdown": [
       "TRUE"
      ],
      "text/plain": [
       "[1] TRUE"
      ]
     },
     "metadata": {},
     "output_type": "display_data"
    }
   ],
   "source": [
    "length(b$id) == length(renc$id) # matched!"
   ]
  },
  {
   "cell_type": "markdown",
   "metadata": {},
   "source": [
    "## Variable adjustments \n",
    "\n",
    "### married"
   ]
  },
  {
   "cell_type": "code",
   "execution_count": 534,
   "metadata": {},
   "outputs": [
    {
     "data": {},
     "metadata": {},
     "output_type": "display_data"
    },
    {
     "data": {
      "text/plain": [
       "\n",
       "   0    1 \n",
       "0.92 0.08 "
      ]
     },
     "metadata": {},
     "output_type": "display_data"
    }
   ],
   "source": [
    "b = assmis(b, list(c('p79', 'p60')), list(9))\n",
    "b[, casada := pmax(p60, p79, na.rm=TRUE)][is.na(casada) & p49==0, casada:=0][is.na(casada), casada := 0]\n",
    "prop.table(table(b$casada, useNA='ifany')) # lower proportion"
   ]
  },
  {
   "cell_type": "code",
   "execution_count": 535,
   "metadata": {},
   "outputs": [
    {
     "data": {},
     "metadata": {},
     "output_type": "display_data"
    },
    {
     "data": {
      "text/plain": [
       "\n",
       "        0         1 \n",
       "0.8846154 0.1153846 "
      ]
     },
     "metadata": {},
     "output_type": "display_data"
    }
   ],
   "source": [
    "nores[, casada := ifelse(estado_civil=='Casada', 1, 0)]\n",
    "prop.table(table(nores$casada, useNA='ifany'))"
   ]
  },
  {
   "cell_type": "markdown",
   "metadata": {},
   "source": [
    "### kids"
   ]
  },
  {
   "cell_type": "code",
   "execution_count": 536,
   "metadata": {},
   "outputs": [
    {
     "data": {
      "text/plain": [
       "\n",
       " 0  1  2  3  4  5  6  7  8  9 11 \n",
       "24 51 47 45 27 10 13  5  1  1  1 "
      ]
     },
     "metadata": {},
     "output_type": "display_data"
    }
   ],
   "source": [
    "table(b$nhijos, useNA='ifany')"
   ]
  },
  {
   "cell_type": "code",
   "execution_count": 537,
   "metadata": {},
   "outputs": [
    {
     "data": {
      "text/plain": [
       "\n",
       " 0  1  2  3  4  5  6  7  8 10 11 \n",
       " 3 14  8  9  7  4  2  2  1  1  1 "
      ]
     },
     "metadata": {},
     "output_type": "display_data"
    }
   ],
   "source": [
    "table(nores$nhijos, useNA='ifany')"
   ]
  },
  {
   "cell_type": "markdown",
   "metadata": {},
   "source": [
    "### sentence before"
   ]
  },
  {
   "cell_type": "code",
   "execution_count": 538,
   "metadata": {},
   "outputs": [
    {
     "data": {},
     "metadata": {},
     "output_type": "display_data"
    },
    {
     "data": {
      "text/plain": [
       "\n",
       "        0         1 \n",
       "0.2884615 0.7115385 "
      ]
     },
     "metadata": {},
     "output_type": "display_data"
    }
   ],
   "source": [
    "nores[, condena_anterior := as.numeric(ncondenas>0)]\n",
    "prop.table(table(nores$condena_anterior))"
   ]
  },
  {
   "cell_type": "code",
   "execution_count": 539,
   "metadata": {},
   "outputs": [
    {
     "data": {
      "text/plain": [
       "\n",
       "        0         1 \n",
       "0.2366071 0.7633929 "
      ]
     },
     "metadata": {},
     "output_type": "display_data"
    }
   ],
   "source": [
    "b = assmis(b, list('condena_anterior'), list(9))\n",
    "prop.table(table(b$condena_anterior))"
   ]
  },
  {
   "cell_type": "markdown",
   "metadata": {},
   "source": [
    "### year born"
   ]
  },
  {
   "cell_type": "code",
   "execution_count": 540,
   "metadata": {},
   "outputs": [
    {
     "name": "stderr",
     "output_type": "stream",
     "text": [
      "Warning message in eval(jsub, SDenv, parent.frame()):\n",
      "“NAs introduced by coercion”"
     ]
    },
    {
     "data": {},
     "metadata": {},
     "output_type": "display_data"
    }
   ],
   "source": [
    "nores[, nac := as.numeric(nacimiento)]"
   ]
  },
  {
   "cell_type": "code",
   "execution_count": 541,
   "metadata": {},
   "outputs": [
    {
     "data": {},
     "metadata": {},
     "output_type": "display_data"
    }
   ],
   "source": [
    "nores[is.na(nac), nac := year(ingreso)- as.numeric(edad_ingreso)]"
   ]
  },
  {
   "cell_type": "code",
   "execution_count": 542,
   "metadata": {},
   "outputs": [
    {
     "data": {
      "text/plain": [
       "   Min. 1st Qu.  Median    Mean 3rd Qu.    Max. \n",
       "   1938    1973    1982    1980    1991    1996 "
      ]
     },
     "metadata": {},
     "output_type": "display_data"
    }
   ],
   "source": [
    "summary(nores$nac, useNA = 'ifany')"
   ]
  },
  {
   "cell_type": "code",
   "execution_count": 546,
   "metadata": {},
   "outputs": [],
   "source": [
    "b = assmis(b, list('nacimiento'), list(9999))\n",
    "b[, nac := as.numeric(nacimiento)]\n",
    "b[, ent_fecha := as.Date(fecha, \"%m/%d/%Y\")]\n",
    "b[is.na(nac), nac := year(ent_fecha) - as.numeric(edad)]"
   ]
  },
  {
   "cell_type": "code",
   "execution_count": 547,
   "metadata": {},
   "outputs": [
    {
     "data": {
      "text/plain": [
       "   Min. 1st Qu.  Median    Mean 3rd Qu.    Max. \n",
       "   1948    1974    1982    1980    1989    1997 "
      ]
     },
     "metadata": {},
     "output_type": "display_data"
    }
   ],
   "source": [
    "summary(b$nac)"
   ]
  },
  {
   "cell_type": "markdown",
   "metadata": {},
   "source": [
    "### unit"
   ]
  },
  {
   "cell_type": "code",
   "execution_count": 548,
   "metadata": {},
   "outputs": [
    {
     "data": {
      "text/plain": [
       "\n",
       "       CPF TALITA KUM \n",
       "        49          3 "
      ]
     },
     "metadata": {},
     "output_type": "display_data"
    }
   ],
   "source": [
    "table(nores$unidad)"
   ]
  },
  {
   "cell_type": "code",
   "execution_count": 549,
   "metadata": {},
   "outputs": [
    {
     "data": {},
     "metadata": {},
     "output_type": "display_data"
    }
   ],
   "source": [
    "nores[, cpf := ifelse(unidad=='CPF', 1, 0)]"
   ]
  },
  {
   "cell_type": "code",
   "execution_count": 550,
   "metadata": {},
   "outputs": [
    {
     "data": {
      "text/plain": [
       "   Min. 1st Qu.  Median    Mean 3rd Qu.    Max. \n",
       " 0.0000  1.0000  1.0000  0.9423  1.0000  1.0000 "
      ]
     },
     "metadata": {},
     "output_type": "display_data"
    }
   ],
   "source": [
    "summary(nores$cpf)"
   ]
  },
  {
   "cell_type": "code",
   "execution_count": 551,
   "metadata": {},
   "outputs": [],
   "source": [
    "#b = assmis(b, list('unidad'), list(9))\n",
    "#b[, cpf := ifelse(unidad==1, 1, 0)]\n",
    "# summary(b$cpf)"
   ]
  },
  {
   "cell_type": "code",
   "execution_count": 552,
   "metadata": {},
   "outputs": [],
   "source": [
    "setkey(renc, id)\n",
    "setkey(b, id)"
   ]
  },
  {
   "cell_type": "code",
   "execution_count": 553,
   "metadata": {},
   "outputs": [
    {
     "data": {},
     "metadata": {},
     "output_type": "display_data"
    }
   ],
   "source": [
    "b[renc, cpf := i.cpf] # cool!"
   ]
  },
  {
   "cell_type": "markdown",
   "metadata": {},
   "source": [
    "# type of release"
   ]
  },
  {
   "cell_type": "code",
   "execution_count": 554,
   "metadata": {},
   "outputs": [
    {
     "data": {
      "text/plain": [
       "\n",
       " 0  1 \n",
       "41 11 "
      ]
     },
     "metadata": {},
     "output_type": "display_data"
    }
   ],
   "source": [
    "table(nores$condicional, useNA='ifany')"
   ]
  },
  {
   "cell_type": "code",
   "execution_count": 555,
   "metadata": {},
   "outputs": [],
   "source": [
    "b[renc, condicional := condicional]"
   ]
  },
  {
   "cell_type": "code",
   "execution_count": 556,
   "metadata": {},
   "outputs": [
    {
     "data": {
      "text/plain": [
       "\n",
       "  0   1 \n",
       "156  69 "
      ]
     },
     "metadata": {},
     "output_type": "display_data"
    }
   ],
   "source": [
    "table(b$condicional)"
   ]
  },
  {
   "cell_type": "markdown",
   "metadata": {},
   "source": [
    "### crime"
   ]
  },
  {
   "cell_type": "code",
   "execution_count": 557,
   "metadata": {},
   "outputs": [
    {
     "data": {
      "text/plain": [
       "\n",
       "        Asociación ilícita                    Estafas \n",
       "                         1                          1 \n",
       "                 Homicidio                      Hurto \n",
       "                         1                          3 \n",
       "              Hurto simple      Infracción Ley 17.336 \n",
       "                        20                          1 \n",
       "Lesiones graves gravísimas                 Ley 20.000 \n",
       "                         1                         15 \n",
       "              Microtráfico                Receptación \n",
       "                         1                          1 \n",
       "        Robo con violencia  Robo en lugar no habitado \n",
       "                         1                          1 \n",
       "         Robo por sorpresa      Sustracciones menores \n",
       "                         1                          1 \n",
       "                   Tráfico \n",
       "                         3 "
      ]
     },
     "metadata": {},
     "output_type": "display_data"
    }
   ],
   "source": [
    "table(nores$delito)"
   ]
  },
  {
   "cell_type": "code",
   "execution_count": 558,
   "metadata": {},
   "outputs": [],
   "source": [
    "labels = sort(unique(nores$delito))"
   ]
  },
  {
   "cell_type": "markdown",
   "metadata": {},
   "source": [
    "##### groups\n",
    "1. Hurto\n",
    "2. Otros delitos contra la propiedad\n",
    "3. Delitos de drogas\n",
    "4. Delitos contra las personas\n",
    "5. Otro"
   ]
  },
  {
   "cell_type": "code",
   "execution_count": 559,
   "metadata": {},
   "outputs": [],
   "source": [
    "codes = c(5,2,4,1,1,2,4,3,3,2,2,2,2,4,3)"
   ]
  },
  {
   "cell_type": "code",
   "execution_count": 560,
   "metadata": {},
   "outputs": [
    {
     "data": {},
     "metadata": {},
     "output_type": "display_data"
    }
   ],
   "source": [
    "nores[.(delito=labels, to=codes), on='delito', rdelito_g := i.to]"
   ]
  },
  {
   "cell_type": "code",
   "execution_count": 561,
   "metadata": {},
   "outputs": [
    {
     "data": {
      "text/plain": [
       "                            \n",
       "                              1  2  3  4  5\n",
       "  Asociación ilícita          0  0  0  0  1\n",
       "  Estafas                     0  1  0  0  0\n",
       "  Homicidio                   0  0  0  1  0\n",
       "  Hurto                       3  0  0  0  0\n",
       "  Hurto simple               20  0  0  0  0\n",
       "  Infracción Ley 17.336       0  1  0  0  0\n",
       "  Lesiones graves gravísimas  0  0  0  1  0\n",
       "  Ley 20.000                  0  0 15  0  0\n",
       "  Microtráfico                0  0  1  0  0\n",
       "  Receptación                 0  1  0  0  0\n",
       "  Robo con violencia          0  1  0  0  0\n",
       "  Robo en lugar no habitado   0  1  0  0  0\n",
       "  Robo por sorpresa           0  1  0  0  0\n",
       "  Sustracciones menores       0  0  0  1  0\n",
       "  Tráfico                     0  0  3  0  0"
      ]
     },
     "metadata": {},
     "output_type": "display_data"
    }
   ],
   "source": [
    "# classification\n",
    "table(nores$delito,nores$rdelito_g, useNA = 'ifany')"
   ]
  },
  {
   "cell_type": "code",
   "execution_count": 562,
   "metadata": {},
   "outputs": [],
   "source": [
    "# registro de encuestadas\n",
    "labels = sort(unique(renc$rdelito))"
   ]
  },
  {
   "cell_type": "code",
   "execution_count": 563,
   "metadata": {},
   "outputs": [],
   "source": [
    "schema = data.table(delitos = labels)"
   ]
  },
  {
   "cell_type": "code",
   "execution_count": 564,
   "metadata": {},
   "outputs": [
    {
     "data": {},
     "metadata": {},
     "output_type": "display_data"
    },
    {
     "data": {},
     "metadata": {},
     "output_type": "display_data"
    },
    {
     "data": {},
     "metadata": {},
     "output_type": "display_data"
    },
    {
     "data": {},
     "metadata": {},
     "output_type": "display_data"
    },
    {
     "data": {},
     "metadata": {},
     "output_type": "display_data"
    }
   ],
   "source": [
    "schema[delitos %like% 'HURTO|Hurto', codes := 1]\n",
    "schema[delitos %like% 'HOMICIDIO|Homicidio|LESIONES LEVES|MALTRATO|AMENAZAS', codes := 4]\n",
    "schema[delitos %like% 'ESTAFA|Estafa|ROBO|PROPIEDAD INTELECTUAL|RECEPTACION', codes := 2]\n",
    "schema[delitos %like% 'MICROTRAFICO|TRAFICO', codes := 3]\n",
    "schema[delitos %like% 'Ley Emilia|PORTE ILEGAL', codes := 5]"
   ]
  },
  {
   "cell_type": "code",
   "execution_count": 565,
   "metadata": {},
   "outputs": [
    {
     "data": {},
     "metadata": {},
     "output_type": "display_data"
    }
   ],
   "source": [
    "renc[.(rdelito=schema$delitos, to=schema$codes), on='rdelito', rdelito_g := i.to]"
   ]
  },
  {
   "cell_type": "code",
   "execution_count": 566,
   "metadata": {},
   "outputs": [
    {
     "data": {
      "text/plain": [
       "\n",
       " 1  2  3  5  7  8  9 10 11 12 13 15 16 17 18 19 22 24 99 \n",
       " 3  4  5  1 85  1  9 11 11  1  4 37 44  1  3  1  1  2  1 "
      ]
     },
     "metadata": {},
     "output_type": "display_data"
    }
   ],
   "source": [
    "# datos encuesta\n",
    "table(b$delito, useNA = 'ifany')"
   ]
  },
  {
   "cell_type": "code",
   "execution_count": 567,
   "metadata": {},
   "outputs": [
    {
     "data": {
      "text/html": [
       "'p137_otro'"
      ],
      "text/latex": [
       "'p137\\_otro'"
      ],
      "text/markdown": [
       "'p137_otro'"
      ],
      "text/plain": [
       "[1] \"p137_otro\""
      ]
     },
     "metadata": {},
     "output_type": "display_data"
    }
   ],
   "source": [
    "lookvar(b, 'p137')"
   ]
  },
  {
   "cell_type": "code",
   "execution_count": 568,
   "metadata": {},
   "outputs": [
    {
     "data": {},
     "metadata": {},
     "output_type": "display_data"
    },
    {
     "data": {},
     "metadata": {},
     "output_type": "display_data"
    }
   ],
   "source": [
    "b[p137_otro %in% c('LEY EMILIA'), delito :=13]\n",
    "b[p137_otro %in% c('PARRICIDIO'), delito :=24]"
   ]
  },
  {
   "cell_type": "code",
   "execution_count": 569,
   "metadata": {},
   "outputs": [],
   "source": [
    "codes = c(2,2,2,2,1,2,2,2,2,4,4,3,3,2,2,4,2,5,99)\n",
    "dcodes = sort(unique(b$delito))"
   ]
  },
  {
   "cell_type": "code",
   "execution_count": 570,
   "metadata": {},
   "outputs": [
    {
     "data": {
      "text/html": [
       "TRUE"
      ],
      "text/latex": [
       "TRUE"
      ],
      "text/markdown": [
       "TRUE"
      ],
      "text/plain": [
       "[1] TRUE"
      ]
     },
     "metadata": {},
     "output_type": "display_data"
    }
   ],
   "source": [
    "length(codes) == length(dcodes)"
   ]
  },
  {
   "cell_type": "code",
   "execution_count": 571,
   "metadata": {},
   "outputs": [
    {
     "data": {},
     "metadata": {},
     "output_type": "display_data"
    }
   ],
   "source": [
    "b[.(delito=dcodes, to=codes), on='delito', rdelito:=i.to]"
   ]
  },
  {
   "cell_type": "code",
   "execution_count": 572,
   "metadata": {},
   "outputs": [
    {
     "data": {
      "text/plain": [
       "    \n",
       "      1  2  3  4  5 99\n",
       "  1   0  3  0  0  0  0\n",
       "  2   0  4  0  0  0  0\n",
       "  3   0  5  0  0  0  0\n",
       "  5   0  1  0  0  0  0\n",
       "  7  85  0  0  0  0  0\n",
       "  8   0  1  0  0  0  0\n",
       "  9   0  9  0  0  0  0\n",
       "  10  0 11  0  0  0  0\n",
       "  11  0 11  0  0  0  0\n",
       "  12  0  0  0  1  0  0\n",
       "  13  0  0  0  5  0  0\n",
       "  15  0  0 37  0  0  0\n",
       "  16  0  0 44  0  0  0\n",
       "  17  0  1  0  0  0  0\n",
       "  18  0  3  0  0  0  0\n",
       "  19  0  0  0  1  0  0\n",
       "  22  0  1  0  0  0  0\n",
       "  24  0  0  0  0  1  0\n",
       "  99  0  0  0  0  0  1"
      ]
     },
     "metadata": {},
     "output_type": "display_data"
    }
   ],
   "source": [
    "table(b$delito, b$rdelito)"
   ]
  },
  {
   "cell_type": "code",
   "execution_count": 573,
   "metadata": {},
   "outputs": [
    {
     "data": {},
     "metadata": {},
     "output_type": "display_data"
    },
    {
     "data": {},
     "metadata": {},
     "output_type": "display_data"
    }
   ],
   "source": [
    "setkey(b, id)\n",
    "b[renc, rdelito_g := rdelito_g]\n",
    "b[is.na(rdelito_g) & rdelito !=99, rdelito_g := rdelito]"
   ]
  },
  {
   "cell_type": "code",
   "execution_count": 574,
   "metadata": {},
   "outputs": [
    {
     "data": {
      "text/plain": [
       "\n",
       "   1    2    3    4    5 <NA> \n",
       "  80   52   80    9    3    1 "
      ]
     },
     "metadata": {},
     "output_type": "display_data"
    }
   ],
   "source": [
    "table(b$rdelito_g, useNA = 'ifany')"
   ]
  },
  {
   "cell_type": "code",
   "execution_count": 650,
   "metadata": {},
   "outputs": [
    {
     "data": {
      "text/plain": [
       "\n",
       "         1          2          3          4          5 \n",
       "0.35714286 0.23214286 0.35714286 0.04017857 0.01339286 "
      ]
     },
     "metadata": {},
     "output_type": "display_data"
    }
   ],
   "source": [
    "# b = assmis(b, list('rdelito'), list(99))\n",
    "prop.table(table(b$rdelito_g))"
   ]
  },
  {
   "cell_type": "code",
   "execution_count": 651,
   "metadata": {},
   "outputs": [
    {
     "data": {
      "text/plain": [
       "\n",
       "         1          2          3          4          5 \n",
       "0.44230769 0.11538462 0.36538462 0.05769231 0.01923077 "
      ]
     },
     "metadata": {},
     "output_type": "display_data"
    }
   ],
   "source": [
    "prop.table(table(nores$rdelito))"
   ]
  },
  {
   "cell_type": "markdown",
   "metadata": {},
   "source": [
    "# Model rejection"
   ]
  },
  {
   "cell_type": "code",
   "execution_count": 577,
   "metadata": {},
   "outputs": [],
   "source": [
    "m1 = glm(rechazo ~  nac + casada + nhijos + cpf + condena_anterior, \n",
    "         family='binomial', data = nores)"
   ]
  },
  {
   "cell_type": "code",
   "execution_count": 578,
   "metadata": {},
   "outputs": [],
   "source": [
    "m2 = glm(rechazo ~  nac + as.factor(rdelito_g), \n",
    "         family='binomial', data = nores)"
   ]
  },
  {
   "cell_type": "code",
   "execution_count": 579,
   "metadata": {},
   "outputs": [
    {
     "name": "stdout",
     "output_type": "stream",
     "text": [
      "\n",
      "==========================================\n",
      "                       Model 1   Model 2  \n",
      "------------------------------------------\n",
      "(Intercept)             15.15      -51.76 \n",
      "                       (58.16)     (49.50)\n",
      "nac                     -0.01        0.03 \n",
      "                        (0.03)      (0.02)\n",
      "casada                   0.75             \n",
      "                        (1.07)            \n",
      "nhijos                  -0.14             \n",
      "                        (0.17)            \n",
      "cpf                      1.39             \n",
      "                        (1.40)            \n",
      "condena_anterior        -1.58 *           \n",
      "                        (0.70)            \n",
      "as.factor(rdelito_g)2                0.71 \n",
      "                                    (0.94)\n",
      "as.factor(rdelito_g)3                1.08 \n",
      "                                    (0.73)\n",
      "as.factor(rdelito_g)4                0.21 \n",
      "                                    (1.34)\n",
      "as.factor(rdelito_g)5              -14.82 \n",
      "                                 (1455.40)\n",
      "------------------------------------------\n",
      "AIC                     76.07       79.02 \n",
      "BIC                     87.78       90.73 \n",
      "Log Likelihood         -32.04      -33.51 \n",
      "Deviance                64.07       67.02 \n",
      "Num. obs.               52          52    \n",
      "==========================================\n",
      "*** p < 0.001, ** p < 0.01, * p < 0.05\n"
     ]
    }
   ],
   "source": [
    "print(screenreg(list(m1, m2)))"
   ]
  },
  {
   "cell_type": "markdown",
   "metadata": {},
   "source": [
    "# Differences between groups"
   ]
  },
  {
   "cell_type": "code",
   "execution_count": 581,
   "metadata": {},
   "outputs": [],
   "source": [
    "# merge dataset\n",
    "\n",
    "vars = c('id', 'cpf', 'nac', 'rdelito_g', 'condicional', \n",
    "         'casada', 'nhijos', 'condena_anterior')\n",
    "b1 = b[, vars, with=FALSE][, sample := 1]\n",
    "n1 = nores[, vars, with=FALSE][, sample := 0]\n",
    "\n",
    "dat = rbind(b1, n1)"
   ]
  },
  {
   "cell_type": "code",
   "execution_count": 582,
   "metadata": {},
   "outputs": [
    {
     "data": {
      "text/html": [
       "277"
      ],
      "text/latex": [
       "277"
      ],
      "text/markdown": [
       "277"
      ],
      "text/plain": [
       "[1] 277"
      ]
     },
     "metadata": {},
     "output_type": "display_data"
    }
   ],
   "source": [
    "nrow(dat)"
   ]
  },
  {
   "cell_type": "code",
   "execution_count": 583,
   "metadata": {},
   "outputs": [
    {
     "data": {
      "text/plain": [
       "\n",
       "  0   1 \n",
       " 52 225 "
      ]
     },
     "metadata": {},
     "output_type": "display_data"
    }
   ],
   "source": [
    "table(dat$sample)"
   ]
  },
  {
   "cell_type": "code",
   "execution_count": 585,
   "metadata": {},
   "outputs": [
    {
     "name": "stdout",
     "output_type": "stream",
     "text": [
      "[[1]]\n",
      "[1] \"rdelito_g_1\" \"rdelito_g_3\" \"rdelito_g_2\" \"rdelito_g_4\" \"rdelito_g_5\"\n",
      "\n"
     ]
    },
    {
     "data": {},
     "metadata": {},
     "output_type": "display_data"
    }
   ],
   "source": [
    "getdummies(dat, 'rdelito_g')"
   ]
  },
  {
   "cell_type": "code",
   "execution_count": 586,
   "metadata": {},
   "outputs": [],
   "source": [
    "vars = paste0('rdelito_g_', 1:5)\n",
    "nvars = c('del_hurto', 'del_propiedad', 'del_drogas', 'del_personas', 'del_otro')\n",
    "setnames(dat, vars, nvars)"
   ]
  },
  {
   "cell_type": "code",
   "execution_count": 587,
   "metadata": {},
   "outputs": [],
   "source": [
    "covars = c('cpf', 'nac', 'nhijos', 'condicional', 'condena_anterior', 'casada', nvars)\n",
    "df = as.data.frame(dat[, covars, with=FALSE])\n",
    "d = as.data.frame(rbm(df, as.factor(dat$sample)))"
   ]
  },
  {
   "cell_type": "markdown",
   "metadata": {},
   "source": [
    "## Balance"
   ]
  },
  {
   "cell_type": "code",
   "execution_count": 588,
   "metadata": {},
   "outputs": [],
   "source": [
    "d$labels = c('CPF', 'Año nacimiento', 'Num hijos', 'Libertad condicional', \n",
    "             'Condena anterior', 'Casada', 'Hurto', 'Delito propiedad', 'Delito drogas', \n",
    "            'Delito personas', 'Delito otro')\n",
    "\n",
    "d$ind = as.numeric(abs(d$B) > .1)"
   ]
  },
  {
   "cell_type": "code",
   "execution_count": 589,
   "metadata": {},
   "outputs": [],
   "source": [
    "plt = ggplot(d, aes(x=B, y=R, color=factor(ind))) + geom_point() +\n",
    "    xlim(range(c(d$B[is.finite(d$B)], -1, 1))) +\n",
    "    ylim(range(c(d$R[is.finite(d$R)], 0.1, 2))) + \n",
    " geom_vline(xintercept = c(-0.1, 0.1), size=0.5, color='gray', linetype=3) + \n",
    " geom_hline(yintercept = c(4/5, 5/4), size=0.5, color='gray', linetype=3) + \n",
    " geom_text_repel(aes(B, R, label = labels), size=3) + \n",
    " scale_color_manual(values=c('black', '#f03b20')) +\n",
    " labs(x='\\nStandardized difference in means', y='Variance ratio\\n') +  \n",
    " theme_classic() + theme(legend.position='none')"
   ]
  },
  {
   "cell_type": "code",
   "execution_count": 590,
   "metadata": {},
   "outputs": [
    {
     "data": {
      "text/html": [
       "<strong>pdf:</strong> 2"
      ],
      "text/latex": [
       "\\textbf{pdf:} 2"
      ],
      "text/markdown": [
       "**pdf:** 2"
      ],
      "text/plain": [
       "pdf \n",
       "  2 "
      ]
     },
     "metadata": {},
     "output_type": "display_data"
    }
   ],
   "source": [
    "savepdf('plots/balance')\n",
    "print(plt)\n",
    "dev.off()"
   ]
  },
  {
   "cell_type": "code",
   "execution_count": 591,
   "metadata": {},
   "outputs": [
    {
     "data": {},
     "metadata": {},
     "output_type": "display_data"
    },
    {
     "data": {
      "image/png": "[encoded data removed]",
      "text/plain": [
       "plot without title"
      ]
     },
     "metadata": {},
     "output_type": "display_data",
     "source": "R display func"
    }
   ],
   "source": [
    "options(repr.plot.width = 4, repr.plot.height = 3)\n",
    "plt"
   ]
  },
  {
   "cell_type": "code",
   "execution_count": 639,
   "metadata": {},
   "outputs": [
    {
     "data": {
      "text/plain": [
       "Balance Measures:\n",
       "                         Type    M.0.Un    M.1.Un Diff.Un V.Ratio.Un\n",
       "condicional            Binary    0.2115    0.3067  0.0951           \n",
       "nac                   Contin. 1979.5000 1979.7956  0.0239     1.4909\n",
       "nhijos                Contin.    3.0769    2.5733 -0.2304     1.6258\n",
       "condena_anterior       Binary    0.7115    0.7634  0.0519           \n",
       "condena_anterior:<NA>  Binary    0.0000    0.0044  0.0044           \n",
       "casada                 Binary    0.1154    0.0800 -0.0354           \n",
       "del_propiedad          Binary    0.1154    0.2321  0.1168           \n",
       "del_propiedad:<NA>     Binary    0.0000    0.0044  0.0044           \n",
       "del_hurto              Binary    0.4423    0.3571 -0.0852           \n",
       "\n",
       "Sample sizes:\n",
       "    Control Treated\n",
       "All      52     225"
      ]
     },
     "metadata": {},
     "output_type": "display_data"
    }
   ],
   "source": [
    "bal.tab(df[, c('condicional', 'nac', 'nhijos', 'condena_anterior', 'casada', \n",
    "              'del_propiedad', 'del_hurto')], treat=dat$sample, un=TRUE, \n",
    "        M.threshold='0.1', disp.means = TRUE, binary='raw', \n",
    "        s.d.denom='pooled', \n",
    "        disp.v.ratio=TRUE\n",
    "       )"
   ]
  },
  {
   "cell_type": "markdown",
   "metadata": {},
   "source": [
    "# Standardized and relative bias"
   ]
  },
  {
   "cell_type": "code",
   "execution_count": 593,
   "metadata": {},
   "outputs": [
    {
     "data": {
      "text/plain": [
       "\n",
       "  0   1 \n",
       " 52 225 "
      ]
     },
     "metadata": {},
     "output_type": "display_data"
    }
   ],
   "source": [
    "table(dat$sample)"
   ]
  },
  {
   "cell_type": "code",
   "execution_count": 594,
   "metadata": {},
   "outputs": [],
   "source": [
    "# observed\n",
    "\n",
    "ind = dat$sample"
   ]
  },
  {
   "cell_type": "code",
   "execution_count": 595,
   "metadata": {},
   "outputs": [],
   "source": [
    "rs = dat[sample==1, covars, with=FALSE][, apply(.SD, 2, Mean)]\n",
    "rp = dat[, covars, with=FALSE][, apply(.SD, 2, Mean)]"
   ]
  },
  {
   "cell_type": "code",
   "execution_count": 596,
   "metadata": {},
   "outputs": [],
   "source": [
    "obs_r = (rs-rp)/rp"
   ]
  },
  {
   "cell_type": "code",
   "execution_count": 597,
   "metadata": {},
   "outputs": [
    {
     "name": "stdout",
     "output_type": "stream",
     "text": [
      "             cpf              nac           nhijos      condicional \n",
      "    4.327485e-03     2.802557e-05    -3.543527e-02     6.183333e-02 \n",
      "condena_anterior           casada        del_hurto    del_propiedad \n",
      "    1.296360e-02    -7.666667e-02    -4.299584e-02     1.046798e-01 \n",
      "      del_drogas     del_personas         del_otro \n",
      "   -4.329004e-03    -7.589286e-02    -7.589286e-02 \n"
     ]
    }
   ],
   "source": [
    "print(obs_r)"
   ]
  },
  {
   "cell_type": "code",
   "execution_count": 598,
   "metadata": {},
   "outputs": [],
   "source": [
    "srd = dat[, covars, with=FALSE][, lapply(.SD, scale)]\n",
    "ind = dat$sample == 1\n",
    "srs = srd[ind,apply(.SD, 2, Mean)]\n",
    "srp = srd[,apply(.SD, 2, Mean)]"
   ]
  },
  {
   "cell_type": "code",
   "execution_count": 599,
   "metadata": {},
   "outputs": [],
   "source": [
    "obs_s = (srs - srp)"
   ]
  },
  {
   "cell_type": "code",
   "execution_count": 600,
   "metadata": {},
   "outputs": [
    {
     "name": "stdout",
     "output_type": "stream",
     "text": [
      "             cpf              nac           nhijos      condicional \n",
      "     0.021241968      0.004793208     -0.046774321      0.039332287 \n",
      "condena_anterior           casada        del_hurto    del_propiedad \n",
      "     0.022631566     -0.023570381     -0.033115689      0.053896486 \n",
      "      del_drogas     del_personas         del_otro \n",
      "    -0.003231698     -0.016151073     -0.009186673 \n"
     ]
    }
   ],
   "source": [
    "print(obs_s)"
   ]
  },
  {
   "cell_type": "code",
   "execution_count": 601,
   "metadata": {},
   "outputs": [
    {
     "data": {
      "text/html": [
       "277"
      ],
      "text/latex": [
       "277"
      ],
      "text/markdown": [
       "277"
      ],
      "text/plain": [
       "[1] 277"
      ]
     },
     "metadata": {},
     "output_type": "display_data"
    }
   ],
   "source": [
    "nrow(dat)"
   ]
  },
  {
   "cell_type": "code",
   "execution_count": 602,
   "metadata": {},
   "outputs": [],
   "source": [
    "relbias = NULL\n",
    "stdbias = NULL\n",
    "for (i in 1:1000) { \n",
    "    ind = sample(nrow(dat), 225)\n",
    "    \n",
    "    rs = dat[ind, covars, with=FALSE][, apply(.SD, 2, Mean)]\n",
    "    rp = dat[, covars, with=FALSE][, apply(.SD, 2, Mean)]\n",
    "    \n",
    "    srd = dat[, covars, with=FALSE][, lapply(.SD, scale)]\n",
    "    srs = srd[ind,apply(.SD, 2, Mean)]\n",
    "    srp = srd[,apply(.SD, 2, Mean)]\n",
    "    \n",
    "    s = (srs - srp)\n",
    "    r = (rs-rp)/rp\n",
    "    \n",
    "    stdbias = rbind(stdbias, s)\n",
    "    relbias = rbind(relbias, r)\n",
    "    }\n",
    "\n",
    "stdbias = as.data.table(stdbias)\n",
    "relbias = as.data.table(relbias)"
   ]
  },
  {
   "cell_type": "markdown",
   "metadata": {},
   "source": [
    "## Relative bias"
   ]
  },
  {
   "cell_type": "code",
   "execution_count": 603,
   "metadata": {},
   "outputs": [],
   "source": [
    "covars = names(obs_r)"
   ]
  },
  {
   "cell_type": "code",
   "execution_count": 604,
   "metadata": {},
   "outputs": [
    {
     "name": "stdout",
     "output_type": "stream",
     "text": [
      "             cpf              nac           nhijos      condicional \n",
      "    4.327485e-03     2.802557e-05    -3.543527e-02     6.183333e-02 \n",
      "condena_anterior           casada        del_hurto    del_propiedad \n",
      "    1.296360e-02    -7.666667e-02    -4.299584e-02     1.046798e-01 \n",
      "      del_drogas     del_personas         del_otro \n",
      "   -4.329004e-03    -7.589286e-02    -7.589286e-02 \n"
     ]
    }
   ],
   "source": [
    "print(obs_r)"
   ]
  },
  {
   "cell_type": "code",
   "execution_count": 605,
   "metadata": {},
   "outputs": [],
   "source": [
    "labels = c('CPF', 'Año nacimiento', 'Num hijos', 'Libertad condicional', \n",
    "             'Condena anterior', 'Casada', 'Hurto', 'Delito propiedad', 'Delito drogas', \n",
    "            'Delito personas', 'Delito otro')"
   ]
  },
  {
   "cell_type": "code",
   "execution_count": 606,
   "metadata": {},
   "outputs": [],
   "source": [
    "for (i in seq_along(covars)) {     \n",
    "    assign(paste0('plot_', i), ggplot(relbias, aes_string(x=covars[i])) +\n",
    "          geom_density(color='white', alpha='0.3', fill='blue') +\n",
    "          labs(y='', x= labels[i]) +\n",
    "          geom_vline(xintercept = as.numeric(obs_r[covars[i]]), color='red', size=0.5, linetype=2) + \n",
    "          theme_classic())\n",
    "}"
   ]
  },
  {
   "cell_type": "code",
   "execution_count": 607,
   "metadata": {},
   "outputs": [
    {
     "data": {},
     "metadata": {},
     "output_type": "display_data"
    },
    {
     "data": {
      "text/html": [
       "<strong>pdf:</strong> 2"
      ],
      "text/latex": [
       "\\textbf{pdf:} 2"
      ],
      "text/markdown": [
       "**pdf:** 2"
      ],
      "text/plain": [
       "pdf \n",
       "  2 "
      ]
     },
     "metadata": {},
     "output_type": "display_data"
    }
   ],
   "source": [
    "options(repr.plot.width = 6, repr.plot.height = 8)\n",
    "savepdf('plots/relative_bias', 16, 20)\n",
    "eval(parse(text=paste0(paste0('plot_', seq_along(covars), collapse='+'), \n",
    "                       '+ plot_layout(ncol = 2)')))\n",
    "dev.off()"
   ]
  },
  {
   "cell_type": "markdown",
   "metadata": {},
   "source": [
    "# standardized bias"
   ]
  },
  {
   "cell_type": "code",
   "execution_count": 608,
   "metadata": {},
   "outputs": [],
   "source": [
    "for (i in seq_along(covars)) {     \n",
    "    assign(paste0('plot_', i), ggplot(stdbias, aes_string(x=covars[i])) +\n",
    "          geom_density(color='white', alpha='0.3', fill='blue') +\n",
    "         labs(y='', x= labels[i]) +\n",
    "          geom_vline(xintercept = as.numeric(obs_s[covars[i]]), color='red', size=0.5, linetype=2) + \n",
    "          theme_classic())\n",
    "}"
   ]
  },
  {
   "cell_type": "code",
   "execution_count": 609,
   "metadata": {},
   "outputs": [
    {
     "data": {},
     "metadata": {},
     "output_type": "display_data"
    },
    {
     "data": {
      "text/html": [
       "<strong>pdf:</strong> 2"
      ],
      "text/latex": [
       "\\textbf{pdf:} 2"
      ],
      "text/markdown": [
       "**pdf:** 2"
      ],
      "text/plain": [
       "pdf \n",
       "  2 "
      ]
     },
     "metadata": {},
     "output_type": "display_data"
    }
   ],
   "source": [
    "options(repr.plot.width = 6, repr.plot.height = 8)\n",
    "savepdf('plots/standardized_bias', 16, 20)\n",
    "eval(parse(text=paste0(paste0('plot_', seq_along(covars), collapse='+'), \n",
    "                       '+ plot_layout(ncol = 2)')))\n",
    "dev.off()"
   ]
  },
  {
   "cell_type": "markdown",
   "metadata": {},
   "source": [
    "# Computing weights"
   ]
  },
  {
   "cell_type": "code",
   "execution_count": 610,
   "metadata": {},
   "outputs": [],
   "source": [
    "library(ranger)"
   ]
  },
  {
   "cell_type": "code",
   "execution_count": 611,
   "metadata": {},
   "outputs": [
    {
     "name": "stdout",
     "output_type": "stream",
     "text": [
      " [1] \"id\"               \"cpf\"              \"nac\"              \"rdelito_g\"       \n",
      " [5] \"condicional\"      \"casada\"           \"nhijos\"           \"condena_anterior\"\n",
      " [9] \"sample\"           \"del_hurto\"        \"del_drogas\"       \"del_propiedad\"   \n",
      "[13] \"del_personas\"     \"del_otro\"        \n"
     ]
    }
   ],
   "source": [
    "print(names(dat))"
   ]
  },
  {
   "cell_type": "code",
   "execution_count": 612,
   "metadata": {},
   "outputs": [
    {
     "name": "stdout",
     "output_type": "stream",
     "text": [
      "       rdelito_g condena_anterior        del_hurto       del_drogas \n",
      "           0.004            0.004            0.004            0.004 \n",
      "   del_propiedad     del_personas         del_otro \n",
      "           0.004            0.004            0.004 \n"
     ]
    }
   ],
   "source": [
    "print(countmis(dat))"
   ]
  },
  {
   "cell_type": "code",
   "execution_count": 613,
   "metadata": {},
   "outputs": [
    {
     "data": {},
     "metadata": {},
     "output_type": "display_data"
    },
    {
     "data": {},
     "metadata": {},
     "output_type": "display_data"
    },
    {
     "data": {},
     "metadata": {},
     "output_type": "display_data"
    },
    {
     "data": {},
     "metadata": {},
     "output_type": "display_data"
    },
    {
     "data": {},
     "metadata": {},
     "output_type": "display_data"
    },
    {
     "data": {},
     "metadata": {},
     "output_type": "display_data"
    },
    {
     "data": {},
     "metadata": {},
     "output_type": "display_data"
    }
   ],
   "source": [
    "dat[is.na(cpf), cpf:=1]\n",
    "dat[is.na(condena_anterior), condena_anterior:= 1]\n",
    "dat[is.na(del_propiedad), del_propiedad:=0]\n",
    "dat[is.na(del_drogas), del_drogas:=0]\n",
    "dat[is.na(del_personas), del_personas:=0]\n",
    "dat[is.na(del_otro), del_otro:=0]\n",
    "dat[is.na(del_hurto), del_hurto:=0]"
   ]
  },
  {
   "cell_type": "code",
   "execution_count": 614,
   "metadata": {},
   "outputs": [],
   "source": [
    "m = ranger(sample ~ nac + casada + nhijos + casada + condena_anterior + del_propiedad + + del_drogas + \n",
    "           del_personas + del_otro +  cpf,\n",
    "           num.trees=1000,\n",
    "           importance='permutation',\n",
    "            data = dat)"
   ]
  },
  {
   "cell_type": "code",
   "execution_count": 615,
   "metadata": {},
   "outputs": [
    {
     "name": "stdout",
     "output_type": "stream",
     "text": [
      "condena_anterior              nac       del_drogas           nhijos \n",
      "    0.0040810505     0.0040140458     0.0032689004     0.0026831945 \n",
      "    del_personas    del_propiedad         del_otro           casada \n",
      "    0.0023766339     0.0018696934    -0.0004831252    -0.0009984201 \n",
      "             cpf \n",
      "   -0.0017918984 \n"
     ]
    }
   ],
   "source": [
    "print(sort(m$variable.importance, decreasing=TRUE))"
   ]
  },
  {
   "cell_type": "code",
   "execution_count": 616,
   "metadata": {},
   "outputs": [],
   "source": [
    "probs = m$predictions"
   ]
  },
  {
   "cell_type": "code",
   "execution_count": 617,
   "metadata": {},
   "outputs": [
    {
     "data": {
      "text/plain": [
       "   Min. 1st Qu.  Median    Mean 3rd Qu.    Max. \n",
       " 0.3980  0.7530  0.8347  0.8105  0.8892  0.9634 "
      ]
     },
     "metadata": {},
     "output_type": "display_data"
    }
   ],
   "source": [
    "summary(probs)"
   ]
  },
  {
   "cell_type": "code",
   "execution_count": 618,
   "metadata": {},
   "outputs": [],
   "source": [
    "weights = 1 / probs"
   ]
  },
  {
   "cell_type": "code",
   "execution_count": 619,
   "metadata": {},
   "outputs": [
    {
     "data": {},
     "metadata": {},
     "output_type": "display_data"
    }
   ],
   "source": [
    "dat[, w := weights]"
   ]
  },
  {
   "cell_type": "code",
   "execution_count": 620,
   "metadata": {},
   "outputs": [
    {
     "data": {},
     "metadata": {},
     "output_type": "display_data"
    }
   ],
   "source": [
    "dat[sample==0, w := NA]"
   ]
  },
  {
   "cell_type": "code",
   "execution_count": 621,
   "metadata": {},
   "outputs": [
    {
     "data": {},
     "metadata": {},
     "output_type": "display_data"
    }
   ],
   "source": [
    "dat[, w := w / (sum(w, na.rm=TRUE)/sum(sample))]"
   ]
  },
  {
   "cell_type": "code",
   "execution_count": 622,
   "metadata": {},
   "outputs": [
    {
     "data": {
      "text/html": [
       "225"
      ],
      "text/latex": [
       "225"
      ],
      "text/markdown": [
       "225"
      ],
      "text/plain": [
       "[1] 225"
      ]
     },
     "metadata": {},
     "output_type": "display_data"
    }
   ],
   "source": [
    "sum(dat$w, na.rm=TRUE)"
   ]
  },
  {
   "cell_type": "code",
   "execution_count": 623,
   "metadata": {},
   "outputs": [],
   "source": [
    "# using weights"
   ]
  },
  {
   "cell_type": "code",
   "execution_count": 624,
   "metadata": {},
   "outputs": [],
   "source": [
    "rs = dat[sample==1, c(covars, 'w'), with=FALSE][, apply(.SD, 2, weighted.mean, w=w)]\n",
    "rs = rs[-length(rs)]\n",
    "rp = dat[, covars, with=FALSE][, apply(.SD, 2, Mean)]\n",
    "obs_r = (rs-rp)/rp"
   ]
  },
  {
   "cell_type": "code",
   "execution_count": 625,
   "metadata": {},
   "outputs": [],
   "source": [
    "for (i in seq_along(covars)) {     \n",
    "    assign(paste0('plot_', i), ggplot(relbias, aes_string(x=covars[i])) +\n",
    "          geom_density(color='white', alpha='0.3', fill='blue') +\n",
    "          labs(y='', x= labels[i]) +\n",
    "          geom_vline(xintercept = as.numeric(obs_r[covars[i]]), color='red', size=0.5, linetype=2) + \n",
    "          theme_classic())\n",
    "}"
   ]
  },
  {
   "cell_type": "code",
   "execution_count": 626,
   "metadata": {},
   "outputs": [
    {
     "data": {},
     "metadata": {},
     "output_type": "display_data"
    },
    {
     "data": {
      "text/html": [
       "<strong>pdf:</strong> 2"
      ],
      "text/latex": [
       "\\textbf{pdf:} 2"
      ],
      "text/markdown": [
       "**pdf:** 2"
      ],
      "text/plain": [
       "pdf \n",
       "  2 "
      ]
     },
     "metadata": {},
     "output_type": "display_data"
    }
   ],
   "source": [
    "options(repr.plot.width = 6, repr.plot.height = 8)\n",
    "savepdf('plots/relative_bias_w', 16, 20)\n",
    "eval(parse(text=paste0(paste0('plot_', seq_along(covars), collapse='+'), \n",
    "                       '+ plot_layout(ncol = 2)')))\n",
    "dev.off()"
   ]
  },
  {
   "cell_type": "code",
   "execution_count": 627,
   "metadata": {},
   "outputs": [
    {
     "data": {},
     "metadata": {},
     "output_type": "display_data"
    }
   ],
   "source": [
    "srd = dat[, c(covars), with=FALSE][, lapply(.SD, scale)]\n",
    "ind = dat$sample == 1\n",
    "\n",
    "srd[, w := dat$w]"
   ]
  },
  {
   "cell_type": "code",
   "execution_count": 628,
   "metadata": {},
   "outputs": [],
   "source": [
    "srs = srd[ind,apply(.SD, 2, weighted.mean, w=w)]\n",
    "srs = srs[-length(srs)]"
   ]
  },
  {
   "cell_type": "code",
   "execution_count": 629,
   "metadata": {},
   "outputs": [],
   "source": [
    "srp = srd[,apply(.SD, 2, Mean)]\n",
    "\n",
    "srp = srp[-length(srp)]"
   ]
  },
  {
   "cell_type": "code",
   "execution_count": 630,
   "metadata": {},
   "outputs": [],
   "source": [
    "obs_s = (srs - srp)"
   ]
  },
  {
   "cell_type": "code",
   "execution_count": 631,
   "metadata": {},
   "outputs": [],
   "source": [
    "for (i in seq_along(covars)) {     \n",
    "    assign(paste0('plot_', i), ggplot(stdbias, aes_string(x=covars[i])) +\n",
    "          geom_density(color='white', alpha='0.3', fill='blue') +\n",
    "         labs(y='', x= labels[i]) +\n",
    "          geom_vline(xintercept = as.numeric(obs_s[covars[i]]), color='red', size=0.5, linetype=2) + \n",
    "          theme_classic())\n",
    "}"
   ]
  },
  {
   "cell_type": "code",
   "execution_count": 632,
   "metadata": {},
   "outputs": [
    {
     "data": {},
     "metadata": {},
     "output_type": "display_data"
    },
    {
     "data": {
      "text/html": [
       "<strong>pdf:</strong> 2"
      ],
      "text/latex": [
       "\\textbf{pdf:} 2"
      ],
      "text/markdown": [
       "**pdf:** 2"
      ],
      "text/plain": [
       "pdf \n",
       "  2 "
      ]
     },
     "metadata": {},
     "output_type": "display_data"
    }
   ],
   "source": [
    "options(repr.plot.width = 6, repr.plot.height = 8)\n",
    "savepdf('plots/standardized_bias_w', 16, 20)\n",
    "eval(parse(text=paste0(paste0('plot_', seq_along(covars), collapse='+'), \n",
    "                       '+ plot_layout(ncol = 2)')))\n",
    "dev.off()"
   ]
  },
  {
   "cell_type": "code",
   "execution_count": null,
   "metadata": {},
   "outputs": [],
   "source": []
  }
 ],
 "metadata": {
  "kernelspec": {
   "display_name": "R",
   "language": "R",
   "name": "ir"
  },
  "language_info": {
   "codemirror_mode": "r",
   "file_extension": ".r",
   "mimetype": "text/x-r-source",
   "name": "R",
   "pygments_lexer": "r",
   "version": "3.4.1"
  }
 },
 "nbformat": 4,
 "nbformat_minor": 2
}
