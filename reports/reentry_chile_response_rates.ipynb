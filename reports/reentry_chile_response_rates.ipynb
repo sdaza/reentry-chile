{
 "cells": [
  {
   "cell_type": "markdown",
   "metadata": {
    "hideCode": false,
    "hideOutput": false,
    "hidePrompt": false
   },
   "source": [
    "# Reentry Chile Response Rate\n",
    "\n",
    "*Sebastian Daza*\n",
    "\n",
    "In this report I describe response rates by wave. I follow these general criteria:\n",
    "\n",
    "- The estimation by wave only uses cases far beyond the wave-specific observation window. For instance, for the wave 2-months, we only consider those women who have been in the study for 4 months.\n",
    "- This estimation is based on the administrative records of the study.\n",
    "\n",
    "Some important definitions:\n",
    "\n",
    "- Names of waves: baseline, week, two_months six_months\n",
    "- Variables names: `d` means date, `c` means clean, and `cd` clean date\n",
    "- Deadline corresponds to th time threshold to compute a given response rate\n",
    "\n",
    "I review the key date variables to compute the rates and highlight inconsistencies or problems. "
   ]
  },
  {
   "cell_type": "markdown",
   "metadata": {
    "hideCode": false,
    "hidePrompt": false
   },
   "source": [
    "## Release\n",
    "\n",
    "There are two date of release variables\n",
    "in the register data. *Definitive* has a bunch of missing records. **We should define a validaded and unique date of release variable*. "
   ]
  },
  {
   "cell_type": "code",
   "execution_count": 344,
   "metadata": {
    "collapsed": true,
    "hideCode": true,
    "hideOutput": true,
    "hidePrompt": true
   },
   "outputs": [],
   "source": [
    "import pandas as pd\n",
    "path = '/Users/sdaza/Google Drive/github/reentry-chile/reports/data/20170628 Logros.xlsx'\n",
    "file = pd.ExcelFile(path)\n",
    "\n",
    "df = file.parse(-1)\n",
    "df.columns = map(str.lower, df.columns)"
   ]
  },
  {
   "cell_type": "code",
   "execution_count": 345,
   "metadata": {
    "collapsed": true,
    "hideCode": false,
    "hideOutput": true,
    "hidePrompt": false
   },
   "outputs": [],
   "source": [
    "# rename some variables\n",
    "old_names = ['id folio', 'encuestadora final', 'fecha egreso', 'fecha egreso definitiva']\n",
    "new_names = ['id', 'interviewer', 'release_o', 'release']\n",
    "df.rename(columns=dict(zip(old_names, new_names)), inplace=True)\n",
    "cnames = list(df.columns)"
   ]
  },
  {
   "cell_type": "code",
   "execution_count": 346,
   "metadata": {
    "hideCode": false,
    "hideOutput": true,
    "hidePrompt": false
   },
   "outputs": [],
   "source": [
    "s = df.release.isnull()\n",
    "df.loc[s, 'release'] = df.loc[s, 'release_o']"
   ]
  },
  {
   "cell_type": "code",
   "execution_count": 347,
   "metadata": {
    "hideCode": false,
    "hideOutput": true,
    "hidePrompt": false
   },
   "outputs": [],
   "source": [
    "start = pd.to_datetime(\"09/01/2016\")\n",
    "\n",
    "s = (df.release < start) & (df.release_o >= start)\n",
    "df.loc[s, ['release']] = df.loc[s, ['release_o']]\n",
    "\n",
    "df['release_year'] = pd.DatetimeIndex(df['release']).year\n",
    "df['release_month'] = pd.DatetimeIndex(df['release']).month\n",
    "#print(df.release_year.value_counts())\n",
    "#print(df.release_month.value_counts())"
   ]
  },
  {
   "cell_type": "code",
   "execution_count": 348,
   "metadata": {
    "hideCode": false,
    "hideOutput": false,
    "hidePrompt": false
   },
   "outputs": [
    {
     "data": {
      "image/png": "[encoded data removed]",
      "text/plain": [
       "<matplotlib.figure.Figure at 0x1082eca58>"
      ]
     },
     "metadata": {},
     "output_type": "display_data"
    }
   ],
   "source": [
    "# release plot\n",
    "import matplotlib.pyplot as plt\n",
    "plt.style.use(\"seaborn\")\n",
    "\n",
    "t = df.reset_index().set_index('release')\n",
    "t = t.resample('M')\n",
    "ax = t.id.count().plot(title='Release by month')\n",
    "ax.set_ylabel(\"Women\")\n",
    "ax.set_xlabel(\"Month of release\")\n",
    "plt.show()"
   ]
  },
  {
   "cell_type": "markdown",
   "metadata": {
    "hideCode": false,
    "hidePrompt": false
   },
   "source": [
    "## Baseline\n",
    "\n",
    "Let's explore the baseline information. \n",
    "\n",
    "Below a plot with the distribution of the difference between the date of the baseline and release. All values should be negative. \n",
    "\n",
    "To check cases below where we have issues: missing data or positive value (i.e., the baseline was applied after release). "
   ]
  },
  {
   "cell_type": "code",
   "execution_count": 349,
   "metadata": {
    "hideCode": false,
    "hideOutput": false,
    "hidePrompt": false
   },
   "outputs": [],
   "source": [
    "# baseline response\n",
    "varname = [col for col in df.columns if 'sí: se realizó línea base' in col]\n",
    "#print(varname)\n",
    "\n",
    "df = df.rename(columns={varname[0]: 'r_baseline'})\n",
    "#df.r_baseline.value_counts()\n",
    "df['r_baseline'] = df['r_baseline'].str.contains(\"s|S\").astype(int)\n",
    "#df.r_baseline.value_counts()  # only ones"
   ]
  },
  {
   "cell_type": "code",
   "execution_count": 350,
   "metadata": {
    "hideCode": false,
    "hideOutput": false,
    "hidePrompt": false
   },
   "outputs": [],
   "source": [
    "# date of baseline\n",
    "varname = [col for col in df.columns if 'fecha entrevista' in col]\n",
    "#print(varname)\n",
    "df = df.rename(columns={varname[0]: 'dbaseline'})"
   ]
  },
  {
   "cell_type": "code",
   "execution_count": 351,
   "metadata": {
    "collapsed": true,
    "hideCode": false,
    "hideOutput": false,
    "hidePrompt": false
   },
   "outputs": [],
   "source": [
    "# function to clean dates\n",
    "import re\n",
    "\n",
    "def clean_dates(text):\n",
    "   if (isinstance(text, str)):\n",
    "      text = str(text)\n",
    "      pp = re.compile(\"-|\\.\")\n",
    "      r = re.sub(pp, \"/\", text)\n",
    "      pp = re.compile(\"([0-9]+/[0-9]+/[0-9]+)|([0-9]+-[0-9]+-[0-9]+)\")\n",
    "      r = re.search(pp, r)\n",
    "      if (r is not None):\n",
    "         r = r.group()\n",
    "      else:\n",
    "         r = ''\n",
    "   else:\n",
    "      r = text\n",
    "   return pd.to_datetime(r, dayfirst=True, errors = 'coerce')"
   ]
  },
  {
   "cell_type": "code",
   "execution_count": 352,
   "metadata": {
    "collapsed": true,
    "hideCode": false,
    "hidePrompt": false
   },
   "outputs": [],
   "source": [
    "df['cdbaseline'] = [clean_dates(i) for i in df['dbaseline']]"
   ]
  },
  {
   "cell_type": "markdown",
   "metadata": {
    "hideCode": false,
    "hidePrompt": false
   },
   "source": [
    "Some format issues! Look dataframe below."
   ]
  },
  {
   "cell_type": "code",
   "execution_count": 353,
   "metadata": {
    "hideCode": false,
    "hidePrompt": false
   },
   "outputs": [
    {
     "data": {
      "text/html": [
       "<div>\n",
       "<style>\n",
       "    .dataframe thead tr:only-child th {\n",
       "        text-align: right;\n",
       "    }\n",
       "\n",
       "    .dataframe thead th {\n",
       "        text-align: left;\n",
       "    }\n",
       "\n",
       "    .dataframe tbody tr th {\n",
       "        vertical-align: top;\n",
       "    }\n",
       "</style>\n",
       "<table border=\"1\" class=\"dataframe\">\n",
       "  <thead>\n",
       "    <tr style=\"text-align: right;\">\n",
       "      <th></th>\n",
       "      <th>id</th>\n",
       "      <th>cdbaseline</th>\n",
       "      <th>dbaseline</th>\n",
       "    </tr>\n",
       "  </thead>\n",
       "  <tbody>\n",
       "    <tr>\n",
       "      <th>43</th>\n",
       "      <td>40122</td>\n",
       "      <td>NaT</td>\n",
       "      <td>V14 y M18/10</td>\n",
       "    </tr>\n",
       "    <tr>\n",
       "      <th>224</th>\n",
       "      <td>40199</td>\n",
       "      <td>NaT</td>\n",
       "      <td>V16/12716</td>\n",
       "    </tr>\n",
       "  </tbody>\n",
       "</table>\n",
       "</div>"
      ],
      "text/plain": [
       "        id cdbaseline     dbaseline\n",
       "43   40122        NaT  V14 y M18/10\n",
       "224  40199        NaT     V16/12716"
      ]
     },
     "execution_count": 353,
     "metadata": {},
     "output_type": "execute_result"
    }
   ],
   "source": [
    "m = df['cdbaseline'].isnull() & df['dbaseline'].notnull()\n",
    "df.loc[m, ['id', 'cdbaseline', 'dbaseline']]"
   ]
  },
  {
   "cell_type": "code",
   "execution_count": 354,
   "metadata": {
    "collapsed": true,
    "hideCode": false,
    "hidePrompt": false
   },
   "outputs": [],
   "source": [
    "# replace errors in data entry\n",
    "errors = ['V16/12716', 'V14 y M18/10']\n",
    "new_values = ['12/16/16', '10/18/16']\n",
    "\n",
    "for i in range(0,len(errors)):\n",
    "   df.loc[df['dbaseline'] == errors[i], 'cdbaseline'] = pd.to_datetime(new_values[i])"
   ]
  },
  {
   "cell_type": "code",
   "execution_count": 355,
   "metadata": {
    "hideCode": false,
    "hidePrompt": false
   },
   "outputs": [
    {
     "data": {
      "image/png": "[encoded data removed]",
      "text/plain": [
       "<matplotlib.figure.Figure at 0x10cd879e8>"
      ]
     },
     "metadata": {},
     "output_type": "display_data"
    }
   ],
   "source": [
    "# identify inconsistent cases\n",
    "df = df.assign(release_baseline = (df.cdbaseline - df.release).dt.days)\n",
    "# df.release_baseline.describe()\n",
    "ax = df.release_baseline.hist(bins = 40)\n",
    "ax.set_xlabel('Baseline date - Release')\n",
    "plt.show()"
   ]
  },
  {
   "cell_type": "code",
   "execution_count": 356,
   "metadata": {
    "collapsed": true,
    "hideCode": false,
    "hidePrompt": false
   },
   "outputs": [],
   "source": [
    "s = ((df.release_baseline > 0) | (df.cdbaseline.isnull()))"
   ]
  },
  {
   "cell_type": "code",
   "execution_count": 357,
   "metadata": {
    "hideCode": false,
    "hidePrompt": false
   },
   "outputs": [
    {
     "data": {
      "text/html": [
       "<div>\n",
       "<style>\n",
       "    .dataframe thead tr:only-child th {\n",
       "        text-align: right;\n",
       "    }\n",
       "\n",
       "    .dataframe thead th {\n",
       "        text-align: left;\n",
       "    }\n",
       "\n",
       "    .dataframe tbody tr th {\n",
       "        vertical-align: top;\n",
       "    }\n",
       "</style>\n",
       "<table border=\"1\" class=\"dataframe\">\n",
       "  <thead>\n",
       "    <tr style=\"text-align: right;\">\n",
       "      <th></th>\n",
       "      <th>id</th>\n",
       "      <th>r_baseline</th>\n",
       "      <th>release</th>\n",
       "      <th>cdbaseline</th>\n",
       "      <th>dbaseline</th>\n",
       "      <th>release_baseline</th>\n",
       "    </tr>\n",
       "  </thead>\n",
       "  <tbody>\n",
       "    <tr>\n",
       "      <th>138</th>\n",
       "      <td>10272</td>\n",
       "      <td>1</td>\n",
       "      <td>2017-03-06</td>\n",
       "      <td>NaT</td>\n",
       "      <td>NaN</td>\n",
       "      <td>NaN</td>\n",
       "    </tr>\n",
       "    <tr>\n",
       "      <th>146</th>\n",
       "      <td>10282</td>\n",
       "      <td>1</td>\n",
       "      <td>2017-03-13</td>\n",
       "      <td>NaT</td>\n",
       "      <td>NaN</td>\n",
       "      <td>NaN</td>\n",
       "    </tr>\n",
       "    <tr>\n",
       "      <th>150</th>\n",
       "      <td>10285</td>\n",
       "      <td>1</td>\n",
       "      <td>2017-03-17</td>\n",
       "      <td>NaT</td>\n",
       "      <td>NaN</td>\n",
       "      <td>NaN</td>\n",
       "    </tr>\n",
       "    <tr>\n",
       "      <th>153</th>\n",
       "      <td>10288</td>\n",
       "      <td>1</td>\n",
       "      <td>2017-03-18</td>\n",
       "      <td>NaT</td>\n",
       "      <td>NaN</td>\n",
       "      <td>NaN</td>\n",
       "    </tr>\n",
       "    <tr>\n",
       "      <th>155</th>\n",
       "      <td>10291</td>\n",
       "      <td>1</td>\n",
       "      <td>2017-03-22</td>\n",
       "      <td>NaT</td>\n",
       "      <td>NaN</td>\n",
       "      <td>NaN</td>\n",
       "    </tr>\n",
       "    <tr>\n",
       "      <th>156</th>\n",
       "      <td>10293</td>\n",
       "      <td>1</td>\n",
       "      <td>2017-03-25</td>\n",
       "      <td>NaT</td>\n",
       "      <td>NaN</td>\n",
       "      <td>NaN</td>\n",
       "    </tr>\n",
       "    <tr>\n",
       "      <th>203</th>\n",
       "      <td>20120</td>\n",
       "      <td>1</td>\n",
       "      <td>2016-10-29</td>\n",
       "      <td>NaT</td>\n",
       "      <td>NaN</td>\n",
       "      <td>NaN</td>\n",
       "    </tr>\n",
       "    <tr>\n",
       "      <th>88</th>\n",
       "      <td>20200</td>\n",
       "      <td>1</td>\n",
       "      <td>2016-12-21</td>\n",
       "      <td>2016-12-26</td>\n",
       "      <td>2016-12-26 00:00:00</td>\n",
       "      <td>5.0</td>\n",
       "    </tr>\n",
       "    <tr>\n",
       "      <th>187</th>\n",
       "      <td>40059</td>\n",
       "      <td>1</td>\n",
       "      <td>2016-10-17</td>\n",
       "      <td>2016-10-19</td>\n",
       "      <td>W19/10/16</td>\n",
       "      <td>2.0</td>\n",
       "    </tr>\n",
       "    <tr>\n",
       "      <th>19</th>\n",
       "      <td>50037</td>\n",
       "      <td>1</td>\n",
       "      <td>2016-10-19</td>\n",
       "      <td>2016-10-30</td>\n",
       "      <td>2016-10-30 00:00:00</td>\n",
       "      <td>11.0</td>\n",
       "    </tr>\n",
       "  </tbody>\n",
       "</table>\n",
       "</div>"
      ],
      "text/plain": [
       "        id  r_baseline    release cdbaseline            dbaseline  \\\n",
       "138  10272           1 2017-03-06        NaT                  NaN   \n",
       "146  10282           1 2017-03-13        NaT                  NaN   \n",
       "150  10285           1 2017-03-17        NaT                  NaN   \n",
       "153  10288           1 2017-03-18        NaT                  NaN   \n",
       "155  10291           1 2017-03-22        NaT                  NaN   \n",
       "156  10293           1 2017-03-25        NaT                  NaN   \n",
       "203  20120           1 2016-10-29        NaT                  NaN   \n",
       "88   20200           1 2016-12-21 2016-12-26  2016-12-26 00:00:00   \n",
       "187  40059           1 2016-10-17 2016-10-19            W19/10/16   \n",
       "19   50037           1 2016-10-19 2016-10-30  2016-10-30 00:00:00   \n",
       "\n",
       "     release_baseline  \n",
       "138               NaN  \n",
       "146               NaN  \n",
       "150               NaN  \n",
       "153               NaN  \n",
       "155               NaN  \n",
       "156               NaN  \n",
       "203               NaN  \n",
       "88                5.0  \n",
       "187               2.0  \n",
       "19               11.0  "
      ]
     },
     "execution_count": 357,
     "metadata": {},
     "output_type": "execute_result"
    }
   ],
   "source": [
    "df.loc[s, ['id', 'r_baseline', 'release',  'cdbaseline', 'dbaseline', 'release_baseline']].sort_values('id')"
   ]
  },
  {
   "cell_type": "markdown",
   "metadata": {
    "hideCode": false,
    "hidePrompt": false
   },
   "source": [
    "## First week\n",
    "\n",
    "\n",
    "Below a plot with the distribution of the difference between the date of the first week interview and release. All values should be **positive**. \n"
   ]
  },
  {
   "cell_type": "code",
   "execution_count": 358,
   "metadata": {
    "hideCode": false,
    "hidePrompt": false
   },
   "outputs": [],
   "source": [
    "# function to clean dates\n",
    "varname = [col for col in df.columns if 'participa' in col]\n",
    "# print(varname)"
   ]
  },
  {
   "cell_type": "code",
   "execution_count": 359,
   "metadata": {
    "hideCode": false,
    "hidePrompt": false
   },
   "outputs": [],
   "source": [
    "df = df.rename(columns={varname[1]: 'r_week'})\n",
    "#df.r_week.value_counts()\n",
    "df['r_week'] = df['r_week'].str.contains(\"s|S\").astype(float)\n",
    "df['r_week'] = df.r_week.fillna(0)\n",
    "#df.r_week.isnull().value_counts()\n",
    "#df.r_week.value_counts()"
   ]
  },
  {
   "cell_type": "code",
   "execution_count": 360,
   "metadata": {
    "hideCode": false,
    "hidePrompt": false
   },
   "outputs": [],
   "source": [
    "varname = [col for col in df.columns if 'fecha' in col]\n",
    "#print(varname)"
   ]
  },
  {
   "cell_type": "code",
   "execution_count": 361,
   "metadata": {
    "hideCode": false,
    "hidePrompt": false
   },
   "outputs": [],
   "source": [
    "varname = [col for col in df.columns if 'fecha entrevista' in col]\n",
    "#print(varname)"
   ]
  },
  {
   "cell_type": "code",
   "execution_count": 362,
   "metadata": {
    "collapsed": true,
    "hideCode": false,
    "hidePrompt": false
   },
   "outputs": [],
   "source": [
    "df = df.rename(columns={varname[0]: 'dweek'})"
   ]
  },
  {
   "cell_type": "code",
   "execution_count": 363,
   "metadata": {
    "hideCode": false,
    "hidePrompt": false
   },
   "outputs": [],
   "source": [
    "df['cdweek'] = [clean_dates(i) for i in df['dweek']]\n",
    "#df.cdweek.describe()"
   ]
  },
  {
   "cell_type": "code",
   "execution_count": 364,
   "metadata": {
    "hideCode": false,
    "hidePrompt": false
   },
   "outputs": [
    {
     "data": {
      "text/html": [
       "<div>\n",
       "<style>\n",
       "    .dataframe thead tr:only-child th {\n",
       "        text-align: right;\n",
       "    }\n",
       "\n",
       "    .dataframe thead th {\n",
       "        text-align: left;\n",
       "    }\n",
       "\n",
       "    .dataframe tbody tr th {\n",
       "        vertical-align: top;\n",
       "    }\n",
       "</style>\n",
       "<table border=\"1\" class=\"dataframe\">\n",
       "  <thead>\n",
       "    <tr style=\"text-align: right;\">\n",
       "      <th></th>\n",
       "      <th>id</th>\n",
       "      <th>cdweek</th>\n",
       "      <th>dweek</th>\n",
       "    </tr>\n",
       "  </thead>\n",
       "  <tbody>\n",
       "    <tr>\n",
       "      <th>200</th>\n",
       "      <td>40106</td>\n",
       "      <td>NaT</td>\n",
       "      <td>S29/10 y W02/11</td>\n",
       "    </tr>\n",
       "  </tbody>\n",
       "</table>\n",
       "</div>"
      ],
      "text/plain": [
       "        id cdweek            dweek\n",
       "200  40106    NaT  S29/10 y W02/11"
      ]
     },
     "execution_count": 364,
     "metadata": {},
     "output_type": "execute_result"
    }
   ],
   "source": [
    "m = df.cdweek.isnull() & df.dweek.notnull()\n",
    "df.loc[m, ['id', 'cdweek', 'dweek']]"
   ]
  },
  {
   "cell_type": "code",
   "execution_count": 365,
   "metadata": {
    "hideCode": false,
    "hidePrompt": false
   },
   "outputs": [],
   "source": [
    "# replace errors in data entry\n",
    "errors = ['S29/10 y W02/11']\n",
    "new_values = ['11/02/2016']\n",
    "\n",
    "for i in range(0,len(errors)):\n",
    "   df.loc[df['dweek'] == errors[i], 'cdweek'] = pd.to_datetime(new_values[i])\n",
    "\n",
    "s = (df.r_week == 1)\n",
    "#df.loc[s, 'cdweek'].isnull().value_counts()"
   ]
  },
  {
   "cell_type": "code",
   "execution_count": 366,
   "metadata": {
    "hideCode": false,
    "hidePrompt": false
   },
   "outputs": [
    {
     "data": {
      "image/png": "[encoded data removed]",
      "text/plain": [
       "<matplotlib.figure.Figure at 0x108e943c8>"
      ]
     },
     "metadata": {},
     "output_type": "display_data"
    }
   ],
   "source": [
    "df = df.assign(release_week = (df.cdweek - df.release).dt.days)\n",
    "ax = df.release_week.hist(bins = 50)\n",
    "ax.set_xlabel('Date week - release')\n",
    "plt.show()"
   ]
  },
  {
   "cell_type": "code",
   "execution_count": 367,
   "metadata": {
    "collapsed": true,
    "hideCode": false,
    "hidePrompt": false
   },
   "outputs": [],
   "source": [
    "df['week_deadline'] = pd.DatetimeIndex( df['release'] ) + pd.DateOffset(weeks = 5)"
   ]
  },
  {
   "cell_type": "code",
   "execution_count": 368,
   "metadata": {
    "hideCode": false,
    "hidePrompt": false
   },
   "outputs": [
    {
     "data": {
      "text/html": [
       "<div>\n",
       "<style>\n",
       "    .dataframe thead tr:only-child th {\n",
       "        text-align: right;\n",
       "    }\n",
       "\n",
       "    .dataframe thead th {\n",
       "        text-align: left;\n",
       "    }\n",
       "\n",
       "    .dataframe tbody tr th {\n",
       "        vertical-align: top;\n",
       "    }\n",
       "</style>\n",
       "<table border=\"1\" class=\"dataframe\">\n",
       "  <thead>\n",
       "    <tr style=\"text-align: right;\">\n",
       "      <th></th>\n",
       "      <th>id</th>\n",
       "      <th>r_week</th>\n",
       "      <th>release</th>\n",
       "      <th>cdweek</th>\n",
       "      <th>release_week</th>\n",
       "      <th>week_deadline</th>\n",
       "      <th>release_week</th>\n",
       "    </tr>\n",
       "  </thead>\n",
       "  <tbody>\n",
       "    <tr>\n",
       "      <th>138</th>\n",
       "      <td>10272</td>\n",
       "      <td>1.0</td>\n",
       "      <td>2017-03-06</td>\n",
       "      <td>NaT</td>\n",
       "      <td>NaN</td>\n",
       "      <td>2017-04-10</td>\n",
       "      <td>NaN</td>\n",
       "    </tr>\n",
       "    <tr>\n",
       "      <th>150</th>\n",
       "      <td>10285</td>\n",
       "      <td>1.0</td>\n",
       "      <td>2017-03-17</td>\n",
       "      <td>NaT</td>\n",
       "      <td>NaN</td>\n",
       "      <td>2017-04-21</td>\n",
       "      <td>NaN</td>\n",
       "    </tr>\n",
       "    <tr>\n",
       "      <th>153</th>\n",
       "      <td>10288</td>\n",
       "      <td>1.0</td>\n",
       "      <td>2017-03-18</td>\n",
       "      <td>NaT</td>\n",
       "      <td>NaN</td>\n",
       "      <td>2017-04-22</td>\n",
       "      <td>NaN</td>\n",
       "    </tr>\n",
       "    <tr>\n",
       "      <th>180</th>\n",
       "      <td>20032</td>\n",
       "      <td>1.0</td>\n",
       "      <td>2016-10-16</td>\n",
       "      <td>2016-10-12</td>\n",
       "      <td>-4.0</td>\n",
       "      <td>2016-11-20</td>\n",
       "      <td>-4.0</td>\n",
       "    </tr>\n",
       "    <tr>\n",
       "      <th>193</th>\n",
       "      <td>20071</td>\n",
       "      <td>1.0</td>\n",
       "      <td>2016-10-18</td>\n",
       "      <td>2016-10-13</td>\n",
       "      <td>-5.0</td>\n",
       "      <td>2016-11-22</td>\n",
       "      <td>-5.0</td>\n",
       "    </tr>\n",
       "    <tr>\n",
       "      <th>194</th>\n",
       "      <td>20081</td>\n",
       "      <td>1.0</td>\n",
       "      <td>2016-10-19</td>\n",
       "      <td>NaT</td>\n",
       "      <td>NaN</td>\n",
       "      <td>2016-11-23</td>\n",
       "      <td>NaN</td>\n",
       "    </tr>\n",
       "    <tr>\n",
       "      <th>204</th>\n",
       "      <td>20142</td>\n",
       "      <td>1.0</td>\n",
       "      <td>2016-11-15</td>\n",
       "      <td>NaT</td>\n",
       "      <td>NaN</td>\n",
       "      <td>2016-12-20</td>\n",
       "      <td>NaN</td>\n",
       "    </tr>\n",
       "    <tr>\n",
       "      <th>222</th>\n",
       "      <td>20198</td>\n",
       "      <td>1.0</td>\n",
       "      <td>2016-12-28</td>\n",
       "      <td>2016-01-06</td>\n",
       "      <td>-357.0</td>\n",
       "      <td>2017-02-01</td>\n",
       "      <td>-357.0</td>\n",
       "    </tr>\n",
       "    <tr>\n",
       "      <th>209</th>\n",
       "      <td>20219</td>\n",
       "      <td>1.0</td>\n",
       "      <td>2017-01-13</td>\n",
       "      <td>2016-01-20</td>\n",
       "      <td>-359.0</td>\n",
       "      <td>2017-02-17</td>\n",
       "      <td>-359.0</td>\n",
       "    </tr>\n",
       "    <tr>\n",
       "      <th>105</th>\n",
       "      <td>20229</td>\n",
       "      <td>1.0</td>\n",
       "      <td>2017-01-18</td>\n",
       "      <td>2017-01-07</td>\n",
       "      <td>-11.0</td>\n",
       "      <td>2017-02-22</td>\n",
       "      <td>-11.0</td>\n",
       "    </tr>\n",
       "    <tr>\n",
       "      <th>126</th>\n",
       "      <td>20261</td>\n",
       "      <td>1.0</td>\n",
       "      <td>2017-02-19</td>\n",
       "      <td>NaT</td>\n",
       "      <td>NaN</td>\n",
       "      <td>2017-03-26</td>\n",
       "      <td>NaN</td>\n",
       "    </tr>\n",
       "    <tr>\n",
       "      <th>114</th>\n",
       "      <td>50242</td>\n",
       "      <td>1.0</td>\n",
       "      <td>2017-02-02</td>\n",
       "      <td>2017-01-21</td>\n",
       "      <td>-12.0</td>\n",
       "      <td>2017-03-09</td>\n",
       "      <td>-12.0</td>\n",
       "    </tr>\n",
       "    <tr>\n",
       "      <th>118</th>\n",
       "      <td>50249</td>\n",
       "      <td>1.0</td>\n",
       "      <td>2017-02-09</td>\n",
       "      <td>2017-01-22</td>\n",
       "      <td>-18.0</td>\n",
       "      <td>2017-03-16</td>\n",
       "      <td>-18.0</td>\n",
       "    </tr>\n",
       "    <tr>\n",
       "      <th>137</th>\n",
       "      <td>50271</td>\n",
       "      <td>1.0</td>\n",
       "      <td>2017-03-06</td>\n",
       "      <td>NaT</td>\n",
       "      <td>NaN</td>\n",
       "      <td>2017-04-10</td>\n",
       "      <td>NaN</td>\n",
       "    </tr>\n",
       "    <tr>\n",
       "      <th>142</th>\n",
       "      <td>50276</td>\n",
       "      <td>1.0</td>\n",
       "      <td>2017-03-08</td>\n",
       "      <td>NaT</td>\n",
       "      <td>NaN</td>\n",
       "      <td>2017-04-12</td>\n",
       "      <td>NaN</td>\n",
       "    </tr>\n",
       "  </tbody>\n",
       "</table>\n",
       "</div>"
      ],
      "text/plain": [
       "        id  r_week    release     cdweek  release_week week_deadline  \\\n",
       "138  10272     1.0 2017-03-06        NaT           NaN    2017-04-10   \n",
       "150  10285     1.0 2017-03-17        NaT           NaN    2017-04-21   \n",
       "153  10288     1.0 2017-03-18        NaT           NaN    2017-04-22   \n",
       "180  20032     1.0 2016-10-16 2016-10-12          -4.0    2016-11-20   \n",
       "193  20071     1.0 2016-10-18 2016-10-13          -5.0    2016-11-22   \n",
       "194  20081     1.0 2016-10-19        NaT           NaN    2016-11-23   \n",
       "204  20142     1.0 2016-11-15        NaT           NaN    2016-12-20   \n",
       "222  20198     1.0 2016-12-28 2016-01-06        -357.0    2017-02-01   \n",
       "209  20219     1.0 2017-01-13 2016-01-20        -359.0    2017-02-17   \n",
       "105  20229     1.0 2017-01-18 2017-01-07         -11.0    2017-02-22   \n",
       "126  20261     1.0 2017-02-19        NaT           NaN    2017-03-26   \n",
       "114  50242     1.0 2017-02-02 2017-01-21         -12.0    2017-03-09   \n",
       "118  50249     1.0 2017-02-09 2017-01-22         -18.0    2017-03-16   \n",
       "137  50271     1.0 2017-03-06        NaT           NaN    2017-04-10   \n",
       "142  50276     1.0 2017-03-08        NaT           NaN    2017-04-12   \n",
       "\n",
       "     release_week  \n",
       "138           NaN  \n",
       "150           NaN  \n",
       "153           NaN  \n",
       "180          -4.0  \n",
       "193          -5.0  \n",
       "194           NaN  \n",
       "204           NaN  \n",
       "222        -357.0  \n",
       "209        -359.0  \n",
       "105         -11.0  \n",
       "126           NaN  \n",
       "114         -12.0  \n",
       "118         -18.0  \n",
       "137           NaN  \n",
       "142           NaN  "
      ]
     },
     "execution_count": 368,
     "metadata": {},
     "output_type": "execute_result"
    }
   ],
   "source": [
    "import datetime\n",
    "today = datetime.datetime.now()\n",
    "s = ((df.r_week == 1) & (today > df.week_deadline)) & ( (df.release_week <= 0) | (df.cdweek.isnull()) )\n",
    "\n",
    "df.loc[s,['id', 'r_week', 'release', 'cdweek', 'release_week', 'week_deadline', 'release_week']].sort_values('id')"
   ]
  },
  {
   "cell_type": "code",
   "execution_count": 369,
   "metadata": {
    "hideCode": false,
    "hidePrompt": false
   },
   "outputs": [
    {
     "name": "stdout",
     "output_type": "stream",
     "text": [
      "0.808035714286\n"
     ]
    }
   ],
   "source": [
    "tab  = df.loc[ (today > df.week_deadline) | (df.r_week == 1), 'r_week'].value_counts()\n",
    "rr_week = [i / sum(list(tab)) for i in tab][0]\n",
    "print(rr_week)"
   ]
  },
  {
   "cell_type": "markdown",
   "metadata": {
    "collapsed": true,
    "hideCode": false,
    "hidePrompt": false
   },
   "source": [
    "\n",
    "# Two Months\n",
    " "
   ]
  },
  {
   "cell_type": "code",
   "execution_count": 370,
   "metadata": {
    "hideCode": false,
    "hidePrompt": false
   },
   "outputs": [
    {
     "name": "stdout",
     "output_type": "stream",
     "text": [
      "['participa ', 'participa .1', 'participa .2']\n"
     ]
    }
   ],
   "source": [
    "varname = [col for col in df.columns if 'participa ' in col]\n",
    "print(varname)"
   ]
  },
  {
   "cell_type": "code",
   "execution_count": 371,
   "metadata": {
    "hideCode": false,
    "hidePrompt": false
   },
   "outputs": [
    {
     "data": {
      "text/plain": [
       "1.0    175\n",
       "0.0     50\n",
       "Name: r_2months, dtype: int64"
      ]
     },
     "execution_count": 371,
     "metadata": {},
     "output_type": "execute_result"
    }
   ],
   "source": [
    "df = df.rename(columns={varname[0]: 'r_2months'})\n",
    "df.r_2months.value_counts()\n",
    "df['r_2months'] = df['r_2months'].str.contains(\"s|S\").astype(float)\n",
    "df['r_2months'] = df.r_2months.fillna(0)\n",
    "df.r_2months.isnull().value_counts()\n",
    "df.r_2months.value_counts()"
   ]
  },
  {
   "cell_type": "code",
   "execution_count": 372,
   "metadata": {
    "hideCode": false,
    "hidePrompt": false
   },
   "outputs": [
    {
     "name": "stdout",
     "output_type": "stream",
     "text": [
      "['fecha entrevista.1', 'fecha entrevista.2', 'fecha entrevista.3']\n"
     ]
    }
   ],
   "source": [
    "# date 2months\n",
    "varname = [col for col in df.columns if 'fecha entrevista' in col]\n",
    "print(varname)"
   ]
  },
  {
   "cell_type": "code",
   "execution_count": 373,
   "metadata": {
    "collapsed": true,
    "hideCode": false,
    "hidePrompt": false
   },
   "outputs": [],
   "source": [
    "df = df.rename(columns={varname[0]: 'd2months'})"
   ]
  },
  {
   "cell_type": "code",
   "execution_count": 374,
   "metadata": {
    "collapsed": true,
    "hideCode": false,
    "hidePrompt": false
   },
   "outputs": [],
   "source": [
    "df['cd2months'] = [clean_dates(i) for i in df['d2months']]"
   ]
  },
  {
   "cell_type": "code",
   "execution_count": 375,
   "metadata": {
    "hideCode": false,
    "hidePrompt": false
   },
   "outputs": [
    {
     "data": {
      "text/html": [
       "<div>\n",
       "<style>\n",
       "    .dataframe thead tr:only-child th {\n",
       "        text-align: right;\n",
       "    }\n",
       "\n",
       "    .dataframe thead th {\n",
       "        text-align: left;\n",
       "    }\n",
       "\n",
       "    .dataframe tbody tr th {\n",
       "        vertical-align: top;\n",
       "    }\n",
       "</style>\n",
       "<table border=\"1\" class=\"dataframe\">\n",
       "  <thead>\n",
       "    <tr style=\"text-align: right;\">\n",
       "      <th></th>\n",
       "      <th>id</th>\n",
       "      <th>release</th>\n",
       "      <th>cd2months</th>\n",
       "      <th>d2months</th>\n",
       "    </tr>\n",
       "  </thead>\n",
       "  <tbody>\n",
       "    <tr>\n",
       "      <th>83</th>\n",
       "      <td>50190</td>\n",
       "      <td>2016-12-18</td>\n",
       "      <td>NaT</td>\n",
       "      <td>27/2</td>\n",
       "    </tr>\n",
       "    <tr>\n",
       "      <th>111</th>\n",
       "      <td>30241</td>\n",
       "      <td>2017-01-26</td>\n",
       "      <td>NaT</td>\n",
       "      <td>13-0-2017</td>\n",
       "    </tr>\n",
       "  </tbody>\n",
       "</table>\n",
       "</div>"
      ],
      "text/plain": [
       "        id    release cd2months   d2months\n",
       "83   50190 2016-12-18       NaT       27/2\n",
       "111  30241 2017-01-26       NaT  13-0-2017"
      ]
     },
     "execution_count": 375,
     "metadata": {},
     "output_type": "execute_result"
    }
   ],
   "source": [
    "m = df.cd2months.isnull() & df.d2months.notnull()\n",
    "df.loc[m, ['id', 'release', 'cd2months', 'd2months']]"
   ]
  },
  {
   "cell_type": "code",
   "execution_count": 376,
   "metadata": {
    "collapsed": true,
    "hideCode": false,
    "hidePrompt": false
   },
   "outputs": [],
   "source": [
    "# replace errors in data entry\n",
    "errors = ['27/2']\n",
    "new_values = ['02/27/2017']\n",
    "\n",
    "for i in range(0,len(errors)):\n",
    "   df.loc[df['d2months'] == errors[i], 'cd2months'] = pd.to_datetime(new_values[i])\n"
   ]
  },
  {
   "cell_type": "code",
   "execution_count": 377,
   "metadata": {
    "hideCode": false,
    "hidePrompt": false
   },
   "outputs": [
    {
     "data": {
      "text/plain": [
       "False    166\n",
       "True       9\n",
       "Name: cd2months, dtype: int64"
      ]
     },
     "execution_count": 377,
     "metadata": {},
     "output_type": "execute_result"
    }
   ],
   "source": [
    "s = (df.r_2months == 1)\n",
    "df.loc[s, 'cd2months'].isnull().value_counts()"
   ]
  },
  {
   "cell_type": "code",
   "execution_count": 378,
   "metadata": {
    "hideCode": false,
    "hidePrompt": false
   },
   "outputs": [],
   "source": [
    "df = df.assign(release_2months = (df.cd2months - df.release).dt.days)\n",
    "#df.release_2months.describe()"
   ]
  },
  {
   "cell_type": "code",
   "execution_count": 379,
   "metadata": {
    "hideCode": false,
    "hidePrompt": false
   },
   "outputs": [
    {
     "data": {
      "image/png": "[encoded data removed]",
      "text/plain": [
       "<matplotlib.figure.Figure at 0x10bfcf588>"
      ]
     },
     "metadata": {},
     "output_type": "display_data"
    }
   ],
   "source": [
    "ax = df.release_2months.hist(bins = 50)\n",
    "ax.set_xlabel('Date two months - release')\n",
    "plt.show()"
   ]
  },
  {
   "cell_type": "code",
   "execution_count": 380,
   "metadata": {
    "hideCode": false,
    "hidePrompt": false
   },
   "outputs": [
    {
     "data": {
      "text/html": [
       "<div>\n",
       "<style>\n",
       "    .dataframe thead tr:only-child th {\n",
       "        text-align: right;\n",
       "    }\n",
       "\n",
       "    .dataframe thead th {\n",
       "        text-align: left;\n",
       "    }\n",
       "\n",
       "    .dataframe tbody tr th {\n",
       "        vertical-align: top;\n",
       "    }\n",
       "</style>\n",
       "<table border=\"1\" class=\"dataframe\">\n",
       "  <thead>\n",
       "    <tr style=\"text-align: right;\">\n",
       "      <th></th>\n",
       "      <th>id</th>\n",
       "      <th>r_2months</th>\n",
       "      <th>release</th>\n",
       "      <th>cd2months</th>\n",
       "      <th>two_months_deadline</th>\n",
       "      <th>release_2months</th>\n",
       "    </tr>\n",
       "  </thead>\n",
       "  <tbody>\n",
       "    <tr>\n",
       "      <th>84</th>\n",
       "      <td>10099</td>\n",
       "      <td>1.0</td>\n",
       "      <td>2016-12-20</td>\n",
       "      <td>NaT</td>\n",
       "      <td>2017-05-20</td>\n",
       "      <td>NaN</td>\n",
       "    </tr>\n",
       "    <tr>\n",
       "      <th>81</th>\n",
       "      <td>10187</td>\n",
       "      <td>1.0</td>\n",
       "      <td>2016-12-16</td>\n",
       "      <td>NaT</td>\n",
       "      <td>2017-05-16</td>\n",
       "      <td>NaN</td>\n",
       "    </tr>\n",
       "    <tr>\n",
       "      <th>97</th>\n",
       "      <td>10213</td>\n",
       "      <td>1.0</td>\n",
       "      <td>2017-01-08</td>\n",
       "      <td>NaT</td>\n",
       "      <td>2017-06-08</td>\n",
       "      <td>NaN</td>\n",
       "    </tr>\n",
       "    <tr>\n",
       "      <th>106</th>\n",
       "      <td>10228</td>\n",
       "      <td>1.0</td>\n",
       "      <td>2017-01-18</td>\n",
       "      <td>NaT</td>\n",
       "      <td>2017-06-18</td>\n",
       "      <td>NaN</td>\n",
       "    </tr>\n",
       "    <tr>\n",
       "      <th>115</th>\n",
       "      <td>10244</td>\n",
       "      <td>1.0</td>\n",
       "      <td>2017-02-04</td>\n",
       "      <td>NaT</td>\n",
       "      <td>2017-07-04</td>\n",
       "      <td>NaN</td>\n",
       "    </tr>\n",
       "    <tr>\n",
       "      <th>194</th>\n",
       "      <td>20081</td>\n",
       "      <td>1.0</td>\n",
       "      <td>2016-10-19</td>\n",
       "      <td>NaT</td>\n",
       "      <td>2017-03-19</td>\n",
       "      <td>NaN</td>\n",
       "    </tr>\n",
       "    <tr>\n",
       "      <th>76</th>\n",
       "      <td>20095</td>\n",
       "      <td>1.0</td>\n",
       "      <td>2016-12-07</td>\n",
       "      <td>NaT</td>\n",
       "      <td>2017-05-07</td>\n",
       "      <td>NaN</td>\n",
       "    </tr>\n",
       "    <tr>\n",
       "      <th>222</th>\n",
       "      <td>20198</td>\n",
       "      <td>1.0</td>\n",
       "      <td>2016-12-28</td>\n",
       "      <td>2016-02-21</td>\n",
       "      <td>2017-05-28</td>\n",
       "      <td>-311.0</td>\n",
       "    </tr>\n",
       "    <tr>\n",
       "      <th>30</th>\n",
       "      <td>30092</td>\n",
       "      <td>1.0</td>\n",
       "      <td>2016-10-19</td>\n",
       "      <td>2016-01-13</td>\n",
       "      <td>2017-03-19</td>\n",
       "      <td>-280.0</td>\n",
       "    </tr>\n",
       "    <tr>\n",
       "      <th>73</th>\n",
       "      <td>30178</td>\n",
       "      <td>1.0</td>\n",
       "      <td>2016-12-06</td>\n",
       "      <td>NaT</td>\n",
       "      <td>2017-05-06</td>\n",
       "      <td>NaN</td>\n",
       "    </tr>\n",
       "    <tr>\n",
       "      <th>111</th>\n",
       "      <td>30241</td>\n",
       "      <td>1.0</td>\n",
       "      <td>2017-01-26</td>\n",
       "      <td>NaT</td>\n",
       "      <td>2017-06-26</td>\n",
       "      <td>NaN</td>\n",
       "    </tr>\n",
       "    <tr>\n",
       "      <th>41</th>\n",
       "      <td>50104</td>\n",
       "      <td>1.0</td>\n",
       "      <td>2016-10-25</td>\n",
       "      <td>2016-10-24</td>\n",
       "      <td>2017-03-25</td>\n",
       "      <td>-1.0</td>\n",
       "    </tr>\n",
       "  </tbody>\n",
       "</table>\n",
       "</div>"
      ],
      "text/plain": [
       "        id  r_2months    release  cd2months two_months_deadline  \\\n",
       "84   10099        1.0 2016-12-20        NaT          2017-05-20   \n",
       "81   10187        1.0 2016-12-16        NaT          2017-05-16   \n",
       "97   10213        1.0 2017-01-08        NaT          2017-06-08   \n",
       "106  10228        1.0 2017-01-18        NaT          2017-06-18   \n",
       "115  10244        1.0 2017-02-04        NaT          2017-07-04   \n",
       "194  20081        1.0 2016-10-19        NaT          2017-03-19   \n",
       "76   20095        1.0 2016-12-07        NaT          2017-05-07   \n",
       "222  20198        1.0 2016-12-28 2016-02-21          2017-05-28   \n",
       "30   30092        1.0 2016-10-19 2016-01-13          2017-03-19   \n",
       "73   30178        1.0 2016-12-06        NaT          2017-05-06   \n",
       "111  30241        1.0 2017-01-26        NaT          2017-06-26   \n",
       "41   50104        1.0 2016-10-25 2016-10-24          2017-03-25   \n",
       "\n",
       "     release_2months  \n",
       "84               NaN  \n",
       "81               NaN  \n",
       "97               NaN  \n",
       "106              NaN  \n",
       "115              NaN  \n",
       "194              NaN  \n",
       "76               NaN  \n",
       "222           -311.0  \n",
       "30            -280.0  \n",
       "73               NaN  \n",
       "111              NaN  \n",
       "41              -1.0  "
      ]
     },
     "execution_count": 380,
     "metadata": {},
     "output_type": "execute_result"
    }
   ],
   "source": [
    "df['two_months_deadline'] = pd.DatetimeIndex( df['release'] ) + pd.DateOffset(months = 5)\n",
    "s = ((df.r_2months == 1) & (today > df.two_months_deadline)) & ( (df.release_2months <= 0) | (df.cd2months.isnull()))\n",
    "df.loc[s,['id', 'r_2months', 'release', 'cd2months', 'two_months_deadline', 'release_2months']].sort_values('id')"
   ]
  },
  {
   "cell_type": "code",
   "execution_count": 381,
   "metadata": {
    "hideCode": false,
    "hidePrompt": false
   },
   "outputs": [
    {
     "name": "stdout",
     "output_type": "stream",
     "text": [
      "1.0    175\n",
      "0.0     46\n",
      "Name: r_2months, dtype: int64\n"
     ]
    }
   ],
   "source": [
    "tab  = df.loc[ (today > df.two_months_deadline) | (df.r_2months == 1), 'r_2months'].value_counts()\n",
    "print(tab)\n",
    "rr_2months = [i / sum(list(tab)) for i in tab][0]\n",
    "#print(rr_2months)"
   ]
  },
  {
   "cell_type": "markdown",
   "metadata": {
    "hideCode": false,
    "hidePrompt": false
   },
   "source": [
    "## Six Months"
   ]
  },
  {
   "cell_type": "code",
   "execution_count": 382,
   "metadata": {
    "hideCode": false,
    "hidePrompt": false
   },
   "outputs": [],
   "source": [
    "varname = [col for col in df.columns if 'participa ' in col]\n",
    "#print(varname)"
   ]
  },
  {
   "cell_type": "code",
   "execution_count": 383,
   "metadata": {
    "hideCode": false,
    "hidePrompt": false
   },
   "outputs": [],
   "source": [
    "df = df.rename(columns={varname[0]: 'r_6months'})\n",
    "df.r_6months.value_counts()\n",
    "df['r_6months'] = df['r_6months'].str.contains(\"s|S\").astype(float)\n",
    "df['r_6months'] = df.r_6months.fillna(0)\n",
    "#df.r_6months.isnull().value_counts()\n",
    "#df.r_6months.value_counts()"
   ]
  },
  {
   "cell_type": "code",
   "execution_count": null,
   "metadata": {
    "collapsed": true,
    "hideCode": false,
    "hidePrompt": false
   },
   "outputs": [],
   "source": []
  },
  {
   "cell_type": "code",
   "execution_count": 384,
   "metadata": {
    "hideCode": false,
    "hidePrompt": false
   },
   "outputs": [],
   "source": [
    "# date 6months\n",
    "varname = [col for col in df.columns if 'fecha entrevista' in col]\n",
    "#print(varname)"
   ]
  },
  {
   "cell_type": "code",
   "execution_count": 385,
   "metadata": {
    "hideCode": false,
    "hidePrompt": false
   },
   "outputs": [
    {
     "data": {
      "text/html": [
       "<div>\n",
       "<style>\n",
       "    .dataframe thead tr:only-child th {\n",
       "        text-align: right;\n",
       "    }\n",
       "\n",
       "    .dataframe thead th {\n",
       "        text-align: left;\n",
       "    }\n",
       "\n",
       "    .dataframe tbody tr th {\n",
       "        vertical-align: top;\n",
       "    }\n",
       "</style>\n",
       "<table border=\"1\" class=\"dataframe\">\n",
       "  <thead>\n",
       "    <tr style=\"text-align: right;\">\n",
       "      <th></th>\n",
       "      <th>id</th>\n",
       "      <th>release</th>\n",
       "      <th>cd6months</th>\n",
       "      <th>d6months</th>\n",
       "    </tr>\n",
       "  </thead>\n",
       "  <tbody>\n",
       "    <tr>\n",
       "      <th>93</th>\n",
       "      <td>10182</td>\n",
       "      <td>2016-12-30</td>\n",
       "      <td>NaT</td>\n",
       "      <td>15-05-207</td>\n",
       "    </tr>\n",
       "    <tr>\n",
       "      <th>132</th>\n",
       "      <td>40267</td>\n",
       "      <td>2017-02-25</td>\n",
       "      <td>NaT</td>\n",
       "      <td>-</td>\n",
       "    </tr>\n",
       "    <tr>\n",
       "      <th>162</th>\n",
       "      <td>30001</td>\n",
       "      <td>2016-09-14</td>\n",
       "      <td>NaT</td>\n",
       "      <td>3017-04-24 00:00:00</td>\n",
       "    </tr>\n",
       "  </tbody>\n",
       "</table>\n",
       "</div>"
      ],
      "text/plain": [
       "        id    release cd6months             d6months\n",
       "93   10182 2016-12-30       NaT            15-05-207\n",
       "132  40267 2017-02-25       NaT                    -\n",
       "162  30001 2016-09-14       NaT  3017-04-24 00:00:00"
      ]
     },
     "execution_count": 385,
     "metadata": {},
     "output_type": "execute_result"
    }
   ],
   "source": [
    "df = df.rename(columns={varname[0]: 'd6months'})\n",
    "df['cd6months'] = [clean_dates(i) for i in df['d6months']]\n",
    "\n",
    "m = df.cd6months.isnull() & df.d6months.notnull()\n",
    "df.loc[m, ['id', 'release', 'cd6months', 'd6months']]"
   ]
  },
  {
   "cell_type": "code",
   "execution_count": 386,
   "metadata": {
    "hideCode": false,
    "hidePrompt": false
   },
   "outputs": [],
   "source": [
    "s = (df.r_6months == 1)\n",
    "#df.loc[s, 'cd6months'].isnull().value_counts()"
   ]
  },
  {
   "cell_type": "code",
   "execution_count": 387,
   "metadata": {
    "hideCode": false,
    "hidePrompt": false
   },
   "outputs": [
    {
     "data": {
      "image/png": "[encoded data removed]",
      "text/plain": [
       "<matplotlib.figure.Figure at 0x10c79db70>"
      ]
     },
     "metadata": {},
     "output_type": "display_data"
    }
   ],
   "source": [
    "df = df.assign(release_6months = (df.cd6months - df.release).dt.days)\n",
    "\n",
    "ax = df.release_6months.hist(bins = 20)\n",
    "ax.set_xlabel('Date six months - release')\n",
    "plt.show()"
   ]
  },
  {
   "cell_type": "code",
   "execution_count": 388,
   "metadata": {
    "hideCode": false,
    "hidePrompt": false
   },
   "outputs": [
    {
     "data": {
      "text/html": [
       "<div>\n",
       "<style>\n",
       "    .dataframe thead tr:only-child th {\n",
       "        text-align: right;\n",
       "    }\n",
       "\n",
       "    .dataframe thead th {\n",
       "        text-align: left;\n",
       "    }\n",
       "\n",
       "    .dataframe tbody tr th {\n",
       "        vertical-align: top;\n",
       "    }\n",
       "</style>\n",
       "<table border=\"1\" class=\"dataframe\">\n",
       "  <thead>\n",
       "    <tr style=\"text-align: right;\">\n",
       "      <th></th>\n",
       "      <th>id</th>\n",
       "      <th>r_6months</th>\n",
       "      <th>release</th>\n",
       "      <th>d6months</th>\n",
       "      <th>cd6months</th>\n",
       "      <th>six_months_deadline</th>\n",
       "      <th>release_6months</th>\n",
       "    </tr>\n",
       "  </thead>\n",
       "  <tbody>\n",
       "    <tr>\n",
       "      <th>166</th>\n",
       "      <td>10007</td>\n",
       "      <td>1.0</td>\n",
       "      <td>2016-09-20</td>\n",
       "      <td>NaN</td>\n",
       "      <td>NaT</td>\n",
       "      <td>2017-06-20</td>\n",
       "      <td>NaN</td>\n",
       "    </tr>\n",
       "    <tr>\n",
       "      <th>162</th>\n",
       "      <td>30001</td>\n",
       "      <td>1.0</td>\n",
       "      <td>2016-09-14</td>\n",
       "      <td>3017-04-24 00:00:00</td>\n",
       "      <td>NaT</td>\n",
       "      <td>2017-06-14</td>\n",
       "      <td>NaN</td>\n",
       "    </tr>\n",
       "  </tbody>\n",
       "</table>\n",
       "</div>"
      ],
      "text/plain": [
       "        id  r_6months    release             d6months cd6months  \\\n",
       "166  10007        1.0 2016-09-20                  NaN       NaT   \n",
       "162  30001        1.0 2016-09-14  3017-04-24 00:00:00       NaT   \n",
       "\n",
       "    six_months_deadline  release_6months  \n",
       "166          2017-06-20              NaN  \n",
       "162          2017-06-14              NaN  "
      ]
     },
     "execution_count": 388,
     "metadata": {},
     "output_type": "execute_result"
    }
   ],
   "source": [
    "df['six_months_deadline'] = pd.DatetimeIndex( df['release'] ) + pd.DateOffset(months = 9)\n",
    "s = ((df.r_6months == 1) & (today > df.six_months_deadline)) & ( (df.release_6months <= 0) | (df.cd6months.isnull()))\n",
    "df.loc[s,['id', 'r_6months', 'release', 'd6months', 'cd6months', 'six_months_deadline', 'release_6months']].sort_values('id')"
   ]
  },
  {
   "cell_type": "code",
   "execution_count": null,
   "metadata": {
    "collapsed": true,
    "hideCode": false,
    "hidePrompt": false
   },
   "outputs": [],
   "source": []
  },
  {
   "cell_type": "code",
   "execution_count": 389,
   "metadata": {
    "hideCode": false,
    "hidePrompt": false
   },
   "outputs": [
    {
     "name": "stdout",
     "output_type": "stream",
     "text": [
      "1.0    124\n",
      "0.0     25\n",
      "Name: r_6months, dtype: int64\n"
     ]
    }
   ],
   "source": [
    "tab  = df.loc[(today > df.six_months_deadline)  | (df.r_6months == 1), 'r_6months'].value_counts()\n",
    "print(tab)\n",
    "rr_6months = [i / sum(list(tab)) for i in tab][0]\n",
    "#print(rr_6months)"
   ]
  },
  {
   "cell_type": "markdown",
   "metadata": {
    "hideCode": false,
    "hidePrompt": false
   },
   "source": [
    "# Plots of interview days by wave"
   ]
  },
  {
   "cell_type": "code",
   "execution_count": 390,
   "metadata": {
    "hideCode": false,
    "hidePrompt": false
   },
   "outputs": [
    {
     "data": {
      "image/png": "[encoded data removed]",
      "text/plain": [
       "<matplotlib.figure.Figure at 0x10ba22f98>"
      ]
     },
     "metadata": {},
     "output_type": "display_data"
    }
   ],
   "source": [
    "ax = df.loc[:, ['release_baseline', 'release_week', 'release_2months', 'release_6months']].plot.hist(alpha=0.6, bins = 200)\n",
    "ax.set_xlim(-35,365)\n",
    "ax.legend(['Baseline', 'First week', 'Two months', 'Six months'])\n",
    "ax.axvline(7, color = 'gray', linestyle ='--', linewidth=1)\n",
    "ax.axvline(30.5*2, color = 'gray', linestyle ='--', linewidth=1)\n",
    "ax.axvline(30.5*6, color = 'gray', linestyle ='--', linewidth=1)\n",
    "ax.set_xlabel('Days from release')\n",
    "plt.show()"
   ]
  },
  {
   "cell_type": "markdown",
   "metadata": {
    "hideCode": false,
    "hidePrompt": false
   },
   "source": [
    "## Summary rates"
   ]
  },
  {
   "cell_type": "code",
   "execution_count": 391,
   "metadata": {
    "hideCode": false,
    "hidePrompt": false
   },
   "outputs": [
    {
     "data": {
      "text/html": [
       "<div>\n",
       "<style>\n",
       "    .dataframe thead tr:only-child th {\n",
       "        text-align: right;\n",
       "    }\n",
       "\n",
       "    .dataframe thead th {\n",
       "        text-align: left;\n",
       "    }\n",
       "\n",
       "    .dataframe tbody tr th {\n",
       "        vertical-align: top;\n",
       "    }\n",
       "</style>\n",
       "<table border=\"1\" class=\"dataframe\">\n",
       "  <thead>\n",
       "    <tr style=\"text-align: right;\">\n",
       "      <th></th>\n",
       "      <th>rate</th>\n",
       "    </tr>\n",
       "  </thead>\n",
       "  <tbody>\n",
       "    <tr>\n",
       "      <th>week</th>\n",
       "      <td>0.808036</td>\n",
       "    </tr>\n",
       "    <tr>\n",
       "      <th>2 months</th>\n",
       "      <td>0.791855</td>\n",
       "    </tr>\n",
       "    <tr>\n",
       "      <th>6 months</th>\n",
       "      <td>0.832215</td>\n",
       "    </tr>\n",
       "  </tbody>\n",
       "</table>\n",
       "</div>"
      ],
      "text/plain": [
       "              rate\n",
       "week      0.808036\n",
       "2 months  0.791855\n",
       "6 months  0.832215"
      ]
     },
     "execution_count": 391,
     "metadata": {},
     "output_type": "execute_result"
    }
   ],
   "source": [
    "rr = pd.DataFrame( {\"rate\" : [rr_week, rr_2months, rr_6months]}, \n",
    "                       index = ['week' ,'2 months', '6 months'])\n",
    "\n",
    "rr"
   ]
  }
 ],
 "metadata": {
  "celltoolbar": "Hide code",
  "hide_code_all_hidden": false,
  "kernelspec": {
   "display_name": "Python 3",
   "language": "python",
   "name": "python3"
  },
  "language_info": {
   "codemirror_mode": {
    "name": "ipython",
    "version": 3
   },
   "file_extension": ".py",
   "mimetype": "text/x-python",
   "name": "python",
   "nbconvert_exporter": "python",
   "pygments_lexer": "ipython3",
   "version": "3.5.0"
  }
 },
 "nbformat": 4,
 "nbformat_minor": 2
}
