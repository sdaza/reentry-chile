{
 "cells": [
  {
   "cell_type": "code",
   "execution_count": 121,
   "metadata": {},
   "outputs": [],
   "source": [
    "%matplotlib inline\n",
    "import matplotlib.pyplot as plt\n",
    "plt.style.use('seaborn')"
   ]
  },
  {
   "cell_type": "markdown",
   "metadata": {
    "hideCode": false,
    "hideOutput": false,
    "hidePrompt": false
   },
   "source": [
    "# Reentry Chile Response Rate\n",
    "\n",
    "*Sebastian Daza*\n",
    "\n",
    "In this report I describe response rates by wave. I follow these general criteria:\n",
    "\n",
    "- The estimation by wave only uses cases far beyond the wave-specific observation window. For instance, for the wave 2-months, we only consider those women who have been in the study for 4 months.\n",
    "- This estimation is based on the administrative records of the study.\n",
    "\n",
    "Some important definitions:\n",
    "\n",
    "- Names of waves: baseline, week, two_months six_months\n",
    "- Variables names: `d` means date, `c` means clean, and `cd` clean date\n",
    "- Deadline corresponds to th time threshold to compute a given response rate\n",
    "\n",
    "I review the key date variables to compute the rates and highlight inconsistencies or problems. "
   ]
  },
  {
   "cell_type": "code",
   "execution_count": 122,
   "metadata": {
    "hideCode": false,
    "hidePrompt": false
   },
   "outputs": [],
   "source": [
    "# getting paths\n",
    "import os\n",
    "file = os.getcwd() + '/data/registroEncuestadorasGeneral.xlsx'"
   ]
  },
  {
   "cell_type": "markdown",
   "metadata": {
    "hideCode": false,
    "hidePrompt": false
   },
   "source": [
    "## Release\n",
    "There are two date of release variables\n",
    "in the register data. *Definitive* has a bunch of missing records. **We should define a validated and unique date of release variable**. "
   ]
  },
  {
   "cell_type": "code",
   "execution_count": 123,
   "metadata": {
    "collapsed": true,
    "hideCode": false,
    "hideOutput": false,
    "hidePrompt": false
   },
   "outputs": [],
   "source": [
    "import pandas as pd\n",
    "import re "
   ]
  },
  {
   "cell_type": "code",
   "execution_count": 124,
   "metadata": {
    "collapsed": true,
    "hideCode": false,
    "hideOutput": false,
    "hidePrompt": false
   },
   "outputs": [],
   "source": [
    "# old code\n",
    "\n",
    "# path = '/Users/sdaza/Desktop/seguimiento/'\n",
    "# files = os.listdir(path)\n",
    "\n",
    "#  # exclude temp files and DS_Store\n",
    "# cfiles = [re.findall(r'^[a-zA-Z].+', file) for file in files]\n",
    "# cfiles = list(filter(None, cfiles))\n",
    "# cfiles\n",
    "\n",
    "# # read data\n",
    "# df = pd.DataFrame()\n",
    "# for file in cfiles:\n",
    "#     if file: \n",
    "#         t = pd.read_excel(path+file[0], skiprows=[0,1])\n",
    "#         t.rename(columns=lambda x: x.strip(), inplace=True) # remove spaces\n",
    "#         df = df.append(t, ignore_index=True)"
   ]
  },
  {
   "cell_type": "code",
   "execution_count": 125,
   "metadata": {
    "collapsed": true,
    "hideCode": false,
    "hideOutput": false,
    "hidePrompt": false
   },
   "outputs": [],
   "source": [
    "# read excel file\n",
    "df = pd.read_excel(file, skiprows=[0,1])"
   ]
  },
  {
   "cell_type": "code",
   "execution_count": 126,
   "metadata": {
    "collapsed": true,
    "hideCode": false,
    "hideOutput": false,
    "hidePrompt": false
   },
   "outputs": [],
   "source": [
    "df.columns = df.columns.str.strip()"
   ]
  },
  {
   "cell_type": "code",
   "execution_count": 127,
   "metadata": {},
   "outputs": [
    {
     "data": {
      "text/plain": [
       "(226, 13)"
      ]
     },
     "execution_count": 127,
     "metadata": {},
     "output_type": "execute_result"
    }
   ],
   "source": [
    "# extract columns\n",
    "cols = ['enc','folio','fegresoefectiva', 'lb_fechaentrevista', 'lb_participa', \n",
    "       'primsem_fechaentrevista', 'primsem_participa', 'dosmeses_fechaentrevista', \n",
    "        'dosmeses_participa', 'seismeses_fechaentrevista', 'seismeses_participa', \n",
    "       'docemeses_fechaentrevista', 'docemeses_participa']\n",
    "\n",
    "df = df.loc[:,cols]\n",
    "df.shape"
   ]
  },
  {
   "cell_type": "code",
   "execution_count": 128,
   "metadata": {
    "collapsed": true,
    "hideCode": false,
    "hideOutput": false,
    "hidePrompt": false
   },
   "outputs": [],
   "source": [
    "# rename columns\n",
    "names = [\"int\",\"id\", \"release_f\",\"dbaseline\",\"r_baseline\",\n",
    "         \"dweek\",\"r_week\",\"d2months\",\"r_2months\",\n",
    "         \"d6months\",\"r_6months\",\"d12months\",\"r_12months\"]\n",
    "\n",
    "df.rename(columns=dict(zip(cols, names)), inplace=True)"
   ]
  },
  {
   "cell_type": "code",
   "execution_count": 129,
   "metadata": {
    "collapsed": true,
    "hideCode": false,
    "hideOutput": false,
    "hidePrompt": false
   },
   "outputs": [],
   "source": [
    "null = df.int.notnull()\n",
    "df = df.loc[null, names]"
   ]
  },
  {
   "cell_type": "code",
   "execution_count": 130,
   "metadata": {
    "collapsed": true,
    "hideCode": false,
    "hideOutput": false,
    "hidePrompt": false
   },
   "outputs": [
    {
     "data": {
      "text/plain": [
       "(226, 13)"
      ]
     },
     "execution_count": 130,
     "metadata": {},
     "output_type": "execute_result"
    }
   ],
   "source": [
    "df.shape"
   ]
  },
  {
   "cell_type": "code",
   "execution_count": 131,
   "metadata": {
    "collapsed": true,
    "hideCode": false,
    "hideOutput": false,
    "hidePrompt": false
   },
   "outputs": [
    {
     "data": {
      "text/plain": [
       "(224, 13)"
      ]
     },
     "execution_count": 131,
     "metadata": {},
     "output_type": "execute_result"
    }
   ],
   "source": [
    "# remove cases?\n",
    "remove_cases = [10011,10015] # I guess this should be the same!\n",
    "\n",
    "# df.id in remove_cases\n",
    "df = df.loc[~df.id.isin(remove_cases),:]\n",
    "df.shape"
   ]
  },
  {
   "cell_type": "code",
   "execution_count": 132,
   "metadata": {
    "collapsed": true,
    "hideCode": false,
    "hideOutput": false,
    "hidePrompt": false
   },
   "outputs": [],
   "source": [
    "# save data\n",
    "import dill\n",
    "\n",
    "dill.dump(df, open('registro.pkl', 'wb'))\n",
    "\n",
    "# load the data\n",
    "df = dill.load(open('registro.pkl', 'rb'))"
   ]
  },
  {
   "cell_type": "code",
   "execution_count": 133,
   "metadata": {},
   "outputs": [
    {
     "data": {
      "text/plain": [
       "False    224\n",
       "Name: release_f, dtype: int64"
      ]
     },
     "execution_count": 133,
     "metadata": {},
     "output_type": "execute_result"
    }
   ],
   "source": [
    "# no valid records for release_f?\n",
    "s = df.release_f.isnull()\n",
    "s.value_counts()"
   ]
  },
  {
   "cell_type": "code",
   "execution_count": 134,
   "metadata": {
    "collapsed": true,
    "hideCode": false,
    "hideOutput": true,
    "hidePrompt": false
   },
   "outputs": [],
   "source": [
    "#df.loc[s, 'release'] = df.loc[s, 'release_o']"
   ]
  },
  {
   "cell_type": "code",
   "execution_count": 135,
   "metadata": {
    "collapsed": true,
    "hideCode": false,
    "hideOutput": true,
    "hidePrompt": false
   },
   "outputs": [
    {
     "name": "stdout",
     "output_type": "stream",
     "text": [
      "2016    146\n",
      "2017     78\n",
      "Name: release_year, dtype: int64\n",
      "10    72\n",
      "12    34\n",
      "3     30\n",
      "11    28\n",
      "1     28\n",
      "2     20\n",
      "9     12\n",
      "Name: release_month, dtype: int64\n"
     ]
    }
   ],
   "source": [
    "# start = pd.to_datetime(\"09/01/2016\")\n",
    "# s = (df.release < start) & (df.release_o >= start)\n",
    "# df.loc[s, ['release']] = df.loc[s, ['release_o']]\n",
    "df['release_year'] = pd.DatetimeIndex(df['release_f']).year\n",
    "df['release_month'] = pd.DatetimeIndex(df['release_f']).month\n",
    "\n",
    "# year and months\n",
    "print(df.release_year.value_counts())\n",
    "print(df.release_month.value_counts())"
   ]
  },
  {
   "cell_type": "code",
   "execution_count": 136,
   "metadata": {
    "hideCode": false,
    "hideOutput": false,
    "hidePrompt": false
   },
   "outputs": [
    {
     "data": {
      "image/png": "[encoded data removed]",
      "text/plain": [
       "<matplotlib.figure.Figure at 0x115ad9438>"
      ]
     },
     "metadata": {},
     "output_type": "display_data"
    }
   ],
   "source": [
    "# release plot\n",
    "t = df.reset_index().set_index('release_f')\n",
    "t = t.resample('M')\n",
    "ax = t.id.count().plot(title='Release by month', style='.-', ms=13);\n",
    "ax.set_ylabel(\"Women\");\n",
    "ax.set_xlabel(\"Month of release\");"
   ]
  },
  {
   "cell_type": "markdown",
   "metadata": {
    "hideCode": false,
    "hidePrompt": false
   },
   "source": [
    "## Baseline\n",
    "\n",
    "Let's explore the baseline information. \n",
    "\n",
    "Below a plot with the distribution of the difference between the date of the baseline and release. All values should be negative. \n",
    "\n",
    "To check cases below where we have issues: missing data or positive value (i.e., the baseline was applied after release). "
   ]
  },
  {
   "cell_type": "code",
   "execution_count": 137,
   "metadata": {
    "collapsed": true,
    "hideCode": false,
    "hideOutput": false,
    "hidePrompt": false
   },
   "outputs": [],
   "source": [
    "# baseline response\n",
    "# varname = [col for col in df.columns if 'sí: se realizó línea base' in col]\n",
    "#print(varname)\n",
    "# df = df.rename(columns={'lb_response': 'r_baseline'})\n",
    "# df\n",
    "# df.r_baseline.value_counts()\n",
    "# df['r_baseline'] = df['r_baseline'].str.contains(\"s|S\")"
   ]
  },
  {
   "cell_type": "code",
   "execution_count": 138,
   "metadata": {
    "collapsed": true,
    "hideCode": false,
    "hideOutput": false,
    "hidePrompt": false
   },
   "outputs": [
    {
     "data": {
      "text/html": [
       "<div>\n",
       "<style>\n",
       "    .dataframe thead tr:only-child th {\n",
       "        text-align: right;\n",
       "    }\n",
       "\n",
       "    .dataframe thead th {\n",
       "        text-align: left;\n",
       "    }\n",
       "\n",
       "    .dataframe tbody tr th {\n",
       "        vertical-align: top;\n",
       "    }\n",
       "</style>\n",
       "<table border=\"1\" class=\"dataframe\">\n",
       "  <thead>\n",
       "    <tr style=\"text-align: right;\">\n",
       "      <th></th>\n",
       "      <th>int</th>\n",
       "      <th>id</th>\n",
       "      <th>dbaseline</th>\n",
       "      <th>r_baseline</th>\n",
       "    </tr>\n",
       "  </thead>\n",
       "  <tbody>\n",
       "    <tr>\n",
       "      <th>63</th>\n",
       "      <td>Marisol</td>\n",
       "      <td>10291</td>\n",
       "      <td>NaN</td>\n",
       "      <td>Sí</td>\n",
       "    </tr>\n",
       "    <tr>\n",
       "      <th>104</th>\n",
       "      <td>Marcela</td>\n",
       "      <td>50060</td>\n",
       "      <td>NaN</td>\n",
       "      <td>0.708333</td>\n",
       "    </tr>\n",
       "  </tbody>\n",
       "</table>\n",
       "</div>"
      ],
      "text/plain": [
       "         int     id dbaseline r_baseline\n",
       "63   Marisol  10291       NaN         Sí\n",
       "104  Marcela  50060       NaN   0.708333"
      ]
     },
     "execution_count": 138,
     "metadata": {},
     "output_type": "execute_result"
    }
   ],
   "source": [
    "# correct some dates\n",
    "df.loc[df.dbaseline.isnull(),['int','id', 'dbaseline', 'r_baseline']]"
   ]
  },
  {
   "cell_type": "code",
   "execution_count": 139,
   "metadata": {
    "collapsed": true,
    "hideCode": false,
    "hideOutput": false,
    "hidePrompt": false
   },
   "outputs": [],
   "source": [
    "# error with id 20112\n",
    "df.loc[df.id == 20112]\n",
    "df.loc[df.id == 20112, 'dbaseline'] = '2016-10-19'"
   ]
  },
  {
   "cell_type": "code",
   "execution_count": 140,
   "metadata": {
    "collapsed": true,
    "hideCode": false,
    "hideOutput": false,
    "hidePrompt": false
   },
   "outputs": [],
   "source": [
    "# function to clean dates\n",
    "def clean_dates(text):\n",
    "   if (isinstance(text, str)):\n",
    "      text = str(text)\n",
    "      pp = re.compile(\"-|\\.\")\n",
    "      r = re.sub(pp, \"/\", text)\n",
    "      pp = re.compile(\"([0-9]+/[0-9]+/[0-9]+)|([0-9]+-[0-9]+-[0-9]+)\")\n",
    "      r = re.search(pp, r)\n",
    "      if (r is not None):\n",
    "         r = r.group()\n",
    "      else:\n",
    "         r = ''\n",
    "   else:\n",
    "      r = text\n",
    "   return pd.to_datetime(r, dayfirst=True, errors = 'coerce')"
   ]
  },
  {
   "cell_type": "code",
   "execution_count": 141,
   "metadata": {
    "collapsed": true,
    "hideCode": false,
    "hidePrompt": false
   },
   "outputs": [],
   "source": [
    "df['cdbaseline'] = [clean_dates(i) for i in df['dbaseline']]"
   ]
  },
  {
   "cell_type": "code",
   "execution_count": 142,
   "metadata": {
    "hideCode": false,
    "hidePrompt": false
   },
   "outputs": [],
   "source": [
    "# m = df['cdbaseline'].isnull() & df['dbaseline'].notnull()\n",
    "# df.loc[m, ['int', 'id', 'cdbaseline', 'dbaseline']]"
   ]
  },
  {
   "cell_type": "code",
   "execution_count": 143,
   "metadata": {
    "collapsed": true,
    "hideCode": false,
    "hidePrompt": false
   },
   "outputs": [],
   "source": [
    "# replace errors in data entry\n",
    "# errors = ['V16/12716', 'V14 y M18/10']\n",
    "# new_values = ['12/16/16', '10/18/16']\n",
    "# \n",
    "# for i in range(0,len(errors)):\n",
    "#    df.loc[df['dbaseline'] == errors[i], 'cdbaseline'] = pd.to_datetime(new_values[i])"
   ]
  },
  {
   "cell_type": "code",
   "execution_count": 144,
   "metadata": {
    "hideCode": false,
    "hidePrompt": false
   },
   "outputs": [],
   "source": [
    "# identify inconsistent cases\n",
    "# df.release_baseline.describe()\n",
    "# ax = df.release_baseline.hist(bins = 40);\n",
    "# ax.set_xlabel('Baseline date - Release');"
   ]
  },
  {
   "cell_type": "code",
   "execution_count": 145,
   "metadata": {
    "collapsed": true,
    "hideCode": false,
    "hidePrompt": false
   },
   "outputs": [
    {
     "data": {
      "text/html": [
       "<div>\n",
       "<style>\n",
       "    .dataframe thead tr:only-child th {\n",
       "        text-align: right;\n",
       "    }\n",
       "\n",
       "    .dataframe thead th {\n",
       "        text-align: left;\n",
       "    }\n",
       "\n",
       "    .dataframe tbody tr th {\n",
       "        vertical-align: top;\n",
       "    }\n",
       "</style>\n",
       "<table border=\"1\" class=\"dataframe\">\n",
       "  <thead>\n",
       "    <tr style=\"text-align: right;\">\n",
       "      <th></th>\n",
       "      <th>int</th>\n",
       "      <th>id</th>\n",
       "      <th>r_baseline</th>\n",
       "      <th>release_f</th>\n",
       "      <th>cdbaseline</th>\n",
       "      <th>dbaseline</th>\n",
       "      <th>release_baseline</th>\n",
       "    </tr>\n",
       "  </thead>\n",
       "  <tbody>\n",
       "    <tr>\n",
       "      <th>63</th>\n",
       "      <td>Marisol</td>\n",
       "      <td>10291</td>\n",
       "      <td>Sí</td>\n",
       "      <td>2017-03-22</td>\n",
       "      <td>NaT</td>\n",
       "      <td>NaN</td>\n",
       "      <td>NaN</td>\n",
       "    </tr>\n",
       "    <tr>\n",
       "      <th>84</th>\n",
       "      <td>Marcela</td>\n",
       "      <td>50037</td>\n",
       "      <td>SI</td>\n",
       "      <td>2016-10-19</td>\n",
       "      <td>2017-09-30</td>\n",
       "      <td>2017-09-30 00:00:00</td>\n",
       "      <td>346.0</td>\n",
       "    </tr>\n",
       "    <tr>\n",
       "      <th>104</th>\n",
       "      <td>Marcela</td>\n",
       "      <td>50060</td>\n",
       "      <td>0.708333</td>\n",
       "      <td>2016-10-19</td>\n",
       "      <td>NaT</td>\n",
       "      <td>NaN</td>\n",
       "      <td>NaN</td>\n",
       "    </tr>\n",
       "  </tbody>\n",
       "</table>\n",
       "</div>"
      ],
      "text/plain": [
       "         int     id r_baseline  release_f cdbaseline            dbaseline  \\\n",
       "63   Marisol  10291         Sí 2017-03-22        NaT                  NaN   \n",
       "84   Marcela  50037         SI 2016-10-19 2017-09-30  2017-09-30 00:00:00   \n",
       "104  Marcela  50060   0.708333 2016-10-19        NaT                  NaN   \n",
       "\n",
       "     release_baseline  \n",
       "63                NaN  \n",
       "84              346.0  \n",
       "104               NaN  "
      ]
     },
     "execution_count": 145,
     "metadata": {},
     "output_type": "execute_result"
    }
   ],
   "source": [
    "df = df.assign(release_baseline = (df.cdbaseline - df.release_f).dt.days) # it has to be negative\n",
    "s = ((df.release_baseline > 0) | (df.cdbaseline.isnull()))\n",
    "df.loc[s, ['int', 'id', 'r_baseline', 'release_f',  'cdbaseline', 'dbaseline', 'release_baseline']].sort_values('id')"
   ]
  },
  {
   "cell_type": "markdown",
   "metadata": {},
   "source": [
    "Descriptives of the difference between release date and baseline: "
   ]
  },
  {
   "cell_type": "code",
   "execution_count": 146,
   "metadata": {
    "hideCode": false,
    "hidePrompt": false
   },
   "outputs": [
    {
     "data": {
      "text/plain": [
       "count    222.000000\n",
       "mean     -11.540541\n",
       "std       36.837366\n",
       "min     -367.000000\n",
       "25%      -14.000000\n",
       "50%       -7.500000\n",
       "75%       -4.000000\n",
       "max      346.000000\n",
       "Name: release_baseline, dtype: float64"
      ]
     },
     "execution_count": 146,
     "metadata": {},
     "output_type": "execute_result"
    }
   ],
   "source": [
    "df.release_baseline.describe()"
   ]
  },
  {
   "cell_type": "markdown",
   "metadata": {
    "hideCode": false,
    "hidePrompt": false
   },
   "source": [
    "## First week\n",
    "\n",
    "\n",
    "Below a plot with the distribution of the difference between the date of the first week interview and release. All values should be **positive**. \n"
   ]
  },
  {
   "cell_type": "code",
   "execution_count": 147,
   "metadata": {
    "collapsed": true,
    "hideCode": false,
    "hidePrompt": false
   },
   "outputs": [],
   "source": [
    "# varname = [col for col in df.columns if 'participa' in col]\n",
    "# print(varname)"
   ]
  },
  {
   "cell_type": "code",
   "execution_count": 148,
   "metadata": {
    "collapsed": true,
    "hideCode": false,
    "hidePrompt": false
   },
   "outputs": [
    {
     "data": {
      "text/plain": [
       "1.0    181\n",
       "0.0     43\n",
       "Name: r_week, dtype: int64"
      ]
     },
     "execution_count": 148,
     "metadata": {},
     "output_type": "execute_result"
    }
   ],
   "source": [
    "# df = df.rename(columns={varname[1]: 'r_week'})\n",
    "#df.r_week.value_counts()\n",
    "df['r_week'] = df['r_week'].str.contains(\"s|S\").astype(float)\n",
    "df['r_week'] = df.r_week.fillna(0)\n",
    "#df.r_week.isnull().value_counts()\n",
    "df.r_week.value_counts()"
   ]
  },
  {
   "cell_type": "code",
   "execution_count": 149,
   "metadata": {
    "collapsed": true,
    "hideCode": false,
    "hidePrompt": false
   },
   "outputs": [],
   "source": [
    "# varname = [col for col in df.columns if 'fecha' in col]\n",
    "#print(varname)"
   ]
  },
  {
   "cell_type": "code",
   "execution_count": 150,
   "metadata": {
    "collapsed": true,
    "hideCode": false,
    "hidePrompt": false
   },
   "outputs": [],
   "source": [
    "# varname = [col for col in df.columns if 'fecha entrevista' in col]\n",
    "#print(varname)"
   ]
  },
  {
   "cell_type": "code",
   "execution_count": 151,
   "metadata": {
    "collapsed": true,
    "hideCode": false,
    "hidePrompt": false
   },
   "outputs": [],
   "source": [
    "# df = df.rename(columns={varname[0]: 'dweek'})"
   ]
  },
  {
   "cell_type": "code",
   "execution_count": 152,
   "metadata": {
    "collapsed": true,
    "hideCode": false,
    "hidePrompt": false
   },
   "outputs": [],
   "source": [
    "df['cdweek'] = [clean_dates(i) for i in df['dweek']]\n",
    "#df.cdweek.describe()"
   ]
  },
  {
   "cell_type": "code",
   "execution_count": 153,
   "metadata": {
    "hideCode": false,
    "hidePrompt": false
   },
   "outputs": [],
   "source": [
    "m = df.cdweek.isnull() & df.dweek.notnull()\n",
    "# df.loc[m, ['id', 'cdweek', 'dweek']]"
   ]
  },
  {
   "cell_type": "code",
   "execution_count": 154,
   "metadata": {
    "collapsed": true,
    "hideCode": false,
    "hidePrompt": false
   },
   "outputs": [],
   "source": [
    "# # replace errors in data entry\n",
    "# errors = ['S29/10 y W02/11']\n",
    "# new_values = ['11/02/2016']\n",
    "\n",
    "# for i in range(0,len(errors)):\n",
    "#    df.loc[df['dweek'] == errors[i], 'cdweek'] = pd.to_datetime(new_values[i])\n",
    "\n",
    "# s = (df.r_week == 1)\n",
    "# #df.loc[s, 'cdweek'].isnull().value_counts()"
   ]
  },
  {
   "cell_type": "code",
   "execution_count": 155,
   "metadata": {
    "hideCode": false,
    "hidePrompt": false
   },
   "outputs": [
    {
     "data": {
      "text/plain": [
       "True     145\n",
       "False     79\n",
       "Name: release_week, dtype: int64"
      ]
     },
     "execution_count": 155,
     "metadata": {},
     "output_type": "execute_result"
    }
   ],
   "source": [
    "df = df.assign(release_week = (df.cdweek - df.release_f).dt.days)\n",
    "(df.release_week > 7).value_counts()"
   ]
  },
  {
   "cell_type": "markdown",
   "metadata": {},
   "source": [
    "Plot of the difference between date of release and first week interview."
   ]
  },
  {
   "cell_type": "code",
   "execution_count": 156,
   "metadata": {
    "hideCode": false,
    "hidePrompt": false
   },
   "outputs": [
    {
     "data": {
      "image/png": "[encoded data removed]",
      "text/plain": [
       "<matplotlib.figure.Figure at 0x115802cc0>"
      ]
     },
     "metadata": {},
     "output_type": "display_data"
    }
   ],
   "source": [
    "ax = df.release_week.hist(bins = 20, alpha = 0.8);\n",
    "ax.set_xlim(-25,25)\n",
    "ax.set_xlabel('Día de Entrevista desde Salida');"
   ]
  },
  {
   "cell_type": "code",
   "execution_count": 157,
   "metadata": {
    "collapsed": true,
    "hideCode": false,
    "hidePrompt": false
   },
   "outputs": [],
   "source": [
    "df['week_deadline'] = pd.DatetimeIndex( df['release_f'] ) + pd.DateOffset(weeks = 5) # five weeks!"
   ]
  },
  {
   "cell_type": "markdown",
   "metadata": {},
   "source": [
    "Cases with issues: "
   ]
  },
  {
   "cell_type": "code",
   "execution_count": 158,
   "metadata": {
    "hideCode": false,
    "hidePrompt": false
   },
   "outputs": [],
   "source": [
    "import datetime\n",
    "today = datetime.datetime.now()\n",
    "s = ((df.r_week == 1) & (today > df.week_deadline)) & ( (df.release_week <= 0) | (df.cdweek.isnull()) )\n",
    "\n",
    "# df.loc[s,['int', 'id', 'r_week', 'release_f', 'cdweek', 'release_week']].sort_values('id')"
   ]
  },
  {
   "cell_type": "code",
   "execution_count": 159,
   "metadata": {},
   "outputs": [
    {
     "data": {
      "text/html": [
       "<div>\n",
       "<style>\n",
       "    .dataframe thead tr:only-child th {\n",
       "        text-align: right;\n",
       "    }\n",
       "\n",
       "    .dataframe thead th {\n",
       "        text-align: left;\n",
       "    }\n",
       "\n",
       "    .dataframe tbody tr th {\n",
       "        vertical-align: top;\n",
       "    }\n",
       "</style>\n",
       "<table border=\"1\" class=\"dataframe\">\n",
       "  <thead>\n",
       "    <tr style=\"text-align: right;\">\n",
       "      <th></th>\n",
       "      <th>int</th>\n",
       "      <th>id</th>\n",
       "      <th>r_week</th>\n",
       "      <th>release_f</th>\n",
       "      <th>cdweek</th>\n",
       "      <th>release_week</th>\n",
       "    </tr>\n",
       "  </thead>\n",
       "  <tbody>\n",
       "    <tr>\n",
       "      <th>194</th>\n",
       "      <td>Susana</td>\n",
       "      <td>10053</td>\n",
       "      <td>1.0</td>\n",
       "      <td>2016-10-19</td>\n",
       "      <td>2016-11-25</td>\n",
       "      <td>37.0</td>\n",
       "    </tr>\n",
       "  </tbody>\n",
       "</table>\n",
       "</div>"
      ],
      "text/plain": [
       "        int     id  r_week  release_f     cdweek  release_week\n",
       "194  Susana  10053     1.0 2016-10-19 2016-11-25          37.0"
      ]
     },
     "execution_count": 159,
     "metadata": {},
     "output_type": "execute_result"
    }
   ],
   "source": [
    "df.loc[np.abs(df.release_week) > 30,['int', 'id', 'r_week', 'release_f', 'cdweek', 'release_week']]"
   ]
  },
  {
   "cell_type": "markdown",
   "metadata": {},
   "source": [
    "Interviews before the first 7 days:"
   ]
  },
  {
   "cell_type": "code",
   "execution_count": 160,
   "metadata": {},
   "outputs": [
    {
     "data": {
      "text/html": [
       "<div>\n",
       "<style>\n",
       "    .dataframe thead tr:only-child th {\n",
       "        text-align: right;\n",
       "    }\n",
       "\n",
       "    .dataframe thead th {\n",
       "        text-align: left;\n",
       "    }\n",
       "\n",
       "    .dataframe tbody tr th {\n",
       "        vertical-align: top;\n",
       "    }\n",
       "</style>\n",
       "<table border=\"1\" class=\"dataframe\">\n",
       "  <thead>\n",
       "    <tr style=\"text-align: right;\">\n",
       "      <th></th>\n",
       "      <th>int</th>\n",
       "      <th>id</th>\n",
       "      <th>r_week</th>\n",
       "      <th>release_f</th>\n",
       "      <th>cdweek</th>\n",
       "      <th>release_week</th>\n",
       "    </tr>\n",
       "  </thead>\n",
       "  <tbody>\n",
       "    <tr>\n",
       "      <th>100</th>\n",
       "      <td>Marcela</td>\n",
       "      <td>50216</td>\n",
       "      <td>1.0</td>\n",
       "      <td>2017-01-12</td>\n",
       "      <td>2017-01-13</td>\n",
       "      <td>1.0</td>\n",
       "    </tr>\n",
       "    <tr>\n",
       "      <th>108</th>\n",
       "      <td>Pati</td>\n",
       "      <td>20239</td>\n",
       "      <td>1.0</td>\n",
       "      <td>2017-02-01</td>\n",
       "      <td>2017-02-06</td>\n",
       "      <td>5.0</td>\n",
       "    </tr>\n",
       "    <tr>\n",
       "      <th>117</th>\n",
       "      <td>Pati</td>\n",
       "      <td>20181</td>\n",
       "      <td>1.0</td>\n",
       "      <td>2016-12-09</td>\n",
       "      <td>2016-12-15</td>\n",
       "      <td>6.0</td>\n",
       "    </tr>\n",
       "    <tr>\n",
       "      <th>169</th>\n",
       "      <td>Susana</td>\n",
       "      <td>40169</td>\n",
       "      <td>1.0</td>\n",
       "      <td>2016-12-02</td>\n",
       "      <td>2016-12-07</td>\n",
       "      <td>5.0</td>\n",
       "    </tr>\n",
       "    <tr>\n",
       "      <th>170</th>\n",
       "      <td>Susana</td>\n",
       "      <td>40156</td>\n",
       "      <td>1.0</td>\n",
       "      <td>2016-11-20</td>\n",
       "      <td>2016-11-25</td>\n",
       "      <td>5.0</td>\n",
       "    </tr>\n",
       "    <tr>\n",
       "      <th>176</th>\n",
       "      <td>Susana</td>\n",
       "      <td>40066</td>\n",
       "      <td>1.0</td>\n",
       "      <td>2016-10-19</td>\n",
       "      <td>2016-10-25</td>\n",
       "      <td>6.0</td>\n",
       "    </tr>\n",
       "    <tr>\n",
       "      <th>178</th>\n",
       "      <td>Susana</td>\n",
       "      <td>40152</td>\n",
       "      <td>1.0</td>\n",
       "      <td>2016-11-16</td>\n",
       "      <td>2016-11-22</td>\n",
       "      <td>6.0</td>\n",
       "    </tr>\n",
       "    <tr>\n",
       "      <th>179</th>\n",
       "      <td>Susana</td>\n",
       "      <td>40284</td>\n",
       "      <td>1.0</td>\n",
       "      <td>2017-03-15</td>\n",
       "      <td>2017-03-21</td>\n",
       "      <td>6.0</td>\n",
       "    </tr>\n",
       "    <tr>\n",
       "      <th>185</th>\n",
       "      <td>Susana</td>\n",
       "      <td>40122</td>\n",
       "      <td>1.0</td>\n",
       "      <td>2016-11-01</td>\n",
       "      <td>2016-11-07</td>\n",
       "      <td>6.0</td>\n",
       "    </tr>\n",
       "    <tr>\n",
       "      <th>189</th>\n",
       "      <td>Susana</td>\n",
       "      <td>40019</td>\n",
       "      <td>1.0</td>\n",
       "      <td>2016-10-01</td>\n",
       "      <td>2016-10-07</td>\n",
       "      <td>6.0</td>\n",
       "    </tr>\n",
       "    <tr>\n",
       "      <th>204</th>\n",
       "      <td>Susana</td>\n",
       "      <td>40107</td>\n",
       "      <td>1.0</td>\n",
       "      <td>2016-12-01</td>\n",
       "      <td>2016-12-06</td>\n",
       "      <td>5.0</td>\n",
       "    </tr>\n",
       "    <tr>\n",
       "      <th>207</th>\n",
       "      <td>Susana</td>\n",
       "      <td>40166</td>\n",
       "      <td>1.0</td>\n",
       "      <td>2016-11-30</td>\n",
       "      <td>2016-12-05</td>\n",
       "      <td>5.0</td>\n",
       "    </tr>\n",
       "    <tr>\n",
       "      <th>216</th>\n",
       "      <td>Susana</td>\n",
       "      <td>40046</td>\n",
       "      <td>1.0</td>\n",
       "      <td>2016-10-19</td>\n",
       "      <td>2016-10-25</td>\n",
       "      <td>6.0</td>\n",
       "    </tr>\n",
       "    <tr>\n",
       "      <th>222</th>\n",
       "      <td>Susana</td>\n",
       "      <td>40268</td>\n",
       "      <td>1.0</td>\n",
       "      <td>2017-03-01</td>\n",
       "      <td>2017-03-07</td>\n",
       "      <td>6.0</td>\n",
       "    </tr>\n",
       "    <tr>\n",
       "      <th>223</th>\n",
       "      <td>Susana</td>\n",
       "      <td>40215</td>\n",
       "      <td>1.0</td>\n",
       "      <td>2017-01-11</td>\n",
       "      <td>2017-01-16</td>\n",
       "      <td>5.0</td>\n",
       "    </tr>\n",
       "    <tr>\n",
       "      <th>225</th>\n",
       "      <td>Susana</td>\n",
       "      <td>40194</td>\n",
       "      <td>1.0</td>\n",
       "      <td>2016-12-24</td>\n",
       "      <td>2016-12-30</td>\n",
       "      <td>6.0</td>\n",
       "    </tr>\n",
       "  </tbody>\n",
       "</table>\n",
       "</div>"
      ],
      "text/plain": [
       "         int     id  r_week  release_f     cdweek  release_week\n",
       "100  Marcela  50216     1.0 2017-01-12 2017-01-13           1.0\n",
       "108     Pati  20239     1.0 2017-02-01 2017-02-06           5.0\n",
       "117     Pati  20181     1.0 2016-12-09 2016-12-15           6.0\n",
       "169   Susana  40169     1.0 2016-12-02 2016-12-07           5.0\n",
       "170   Susana  40156     1.0 2016-11-20 2016-11-25           5.0\n",
       "176   Susana  40066     1.0 2016-10-19 2016-10-25           6.0\n",
       "178   Susana  40152     1.0 2016-11-16 2016-11-22           6.0\n",
       "179   Susana  40284     1.0 2017-03-15 2017-03-21           6.0\n",
       "185   Susana  40122     1.0 2016-11-01 2016-11-07           6.0\n",
       "189   Susana  40019     1.0 2016-10-01 2016-10-07           6.0\n",
       "204   Susana  40107     1.0 2016-12-01 2016-12-06           5.0\n",
       "207   Susana  40166     1.0 2016-11-30 2016-12-05           5.0\n",
       "216   Susana  40046     1.0 2016-10-19 2016-10-25           6.0\n",
       "222   Susana  40268     1.0 2017-03-01 2017-03-07           6.0\n",
       "223   Susana  40215     1.0 2017-01-11 2017-01-16           5.0\n",
       "225   Susana  40194     1.0 2016-12-24 2016-12-30           6.0"
      ]
     },
     "execution_count": 160,
     "metadata": {},
     "output_type": "execute_result"
    }
   ],
   "source": [
    "df.loc[df.release_week < 7,['int', 'id', 'r_week', 'release_f', 'cdweek', 'release_week']]"
   ]
  },
  {
   "cell_type": "markdown",
   "metadata": {},
   "source": [
    "Response rate:"
   ]
  },
  {
   "cell_type": "code",
   "execution_count": 161,
   "metadata": {
    "collapsed": true,
    "hideCode": false,
    "hidePrompt": false
   },
   "outputs": [
    {
     "name": "stdout",
     "output_type": "stream",
     "text": [
      "0.808035714286\n"
     ]
    }
   ],
   "source": [
    "tab  = df.loc[ (today > df.week_deadline) | (df.r_week == 1), 'r_week'].value_counts()\n",
    "rr_week = [i / sum(list(tab)) for i in tab][0]\n",
    "print(rr_week)"
   ]
  },
  {
   "cell_type": "markdown",
   "metadata": {},
   "source": [
    "Descriptives of the difference between date of release and interview first week. "
   ]
  },
  {
   "cell_type": "code",
   "execution_count": 162,
   "metadata": {
    "collapsed": true,
    "hideCode": false,
    "hidePrompt": false
   },
   "outputs": [
    {
     "data": {
      "text/plain": [
       "count    181.000000\n",
       "mean      11.287293\n",
       "std        4.932354\n",
       "min        1.000000\n",
       "25%        8.000000\n",
       "50%       10.000000\n",
       "75%       14.000000\n",
       "max       37.000000\n",
       "Name: release_week, dtype: float64"
      ]
     },
     "execution_count": 162,
     "metadata": {},
     "output_type": "execute_result"
    }
   ],
   "source": [
    "df.loc[df.r_week == 1, 'release_week'].describe()"
   ]
  },
  {
   "cell_type": "markdown",
   "metadata": {
    "hideCode": false,
    "hidePrompt": false
   },
   "source": [
    "\n",
    "# Two Months\n",
    " "
   ]
  },
  {
   "cell_type": "code",
   "execution_count": 163,
   "metadata": {
    "collapsed": true,
    "hideCode": false,
    "hidePrompt": false
   },
   "outputs": [],
   "source": [
    "# varname = [col for col in df.columns if 'participa ' in col]\n",
    "#print(varname)"
   ]
  },
  {
   "cell_type": "code",
   "execution_count": 164,
   "metadata": {
    "collapsed": true,
    "hideCode": false,
    "hidePrompt": false
   },
   "outputs": [],
   "source": [
    "# df = df.rename(columns={varname[0]: 'r_2months'})\n",
    "#df.r_2months.value_counts()\n",
    "df['r_2months'] = df['r_2months'].str.contains(\"s|S\").astype(float)\n",
    "df['r_2months'] = df.r_2months.fillna(0)\n",
    "#df.r_2months.isnull().value_counts()\n",
    "#df.r_2months.value_counts()"
   ]
  },
  {
   "cell_type": "code",
   "execution_count": 165,
   "metadata": {
    "collapsed": true,
    "hideCode": false,
    "hidePrompt": false
   },
   "outputs": [],
   "source": [
    "# date 2months\n",
    "# varname = [col for col in df.columns if 'fecha entrevista' in col]\n",
    "#print(varname)"
   ]
  },
  {
   "cell_type": "code",
   "execution_count": 166,
   "metadata": {
    "collapsed": true,
    "hideCode": false,
    "hidePrompt": false
   },
   "outputs": [],
   "source": [
    "# df = df.rename(columns={varname[0]: 'd2months'})"
   ]
  },
  {
   "cell_type": "code",
   "execution_count": 167,
   "metadata": {
    "collapsed": true,
    "hideCode": false,
    "hidePrompt": false
   },
   "outputs": [],
   "source": [
    "df['cd2months'] = [clean_dates(i) for i in df['d2months']]"
   ]
  },
  {
   "cell_type": "markdown",
   "metadata": {},
   "source": [
    "Some cases with issues:"
   ]
  },
  {
   "cell_type": "code",
   "execution_count": 168,
   "metadata": {
    "hideCode": false,
    "hidePrompt": false
   },
   "outputs": [
    {
     "data": {
      "text/html": [
       "<div>\n",
       "<style>\n",
       "    .dataframe thead tr:only-child th {\n",
       "        text-align: right;\n",
       "    }\n",
       "\n",
       "    .dataframe thead th {\n",
       "        text-align: left;\n",
       "    }\n",
       "\n",
       "    .dataframe tbody tr th {\n",
       "        vertical-align: top;\n",
       "    }\n",
       "</style>\n",
       "<table border=\"1\" class=\"dataframe\">\n",
       "  <thead>\n",
       "    <tr style=\"text-align: right;\">\n",
       "      <th></th>\n",
       "      <th>id</th>\n",
       "      <th>release</th>\n",
       "      <th>cd2months</th>\n",
       "      <th>d2months</th>\n",
       "    </tr>\n",
       "  </thead>\n",
       "  <tbody>\n",
       "    <tr>\n",
       "      <th>71</th>\n",
       "      <td>50175</td>\n",
       "      <td>NaN</td>\n",
       "      <td>NaT</td>\n",
       "      <td>no hubo encuesta; Marisol</td>\n",
       "    </tr>\n",
       "  </tbody>\n",
       "</table>\n",
       "</div>"
      ],
      "text/plain": [
       "       id  release cd2months                    d2months\n",
       "71  50175      NaN       NaT   no hubo encuesta; Marisol"
      ]
     },
     "execution_count": 168,
     "metadata": {},
     "output_type": "execute_result"
    }
   ],
   "source": [
    "m = df.cd2months.isnull() & df.d2months.notnull()\n",
    "df.loc[m, ['id', 'release', 'cd2months', 'd2months']]"
   ]
  },
  {
   "cell_type": "code",
   "execution_count": 169,
   "metadata": {
    "collapsed": true,
    "hideCode": false,
    "hidePrompt": false
   },
   "outputs": [],
   "source": [
    "# replace errors in data entry\n",
    "errors = ['27/2']\n",
    "new_values = ['02/27/2017']\n",
    "\n",
    "for i in range(0,len(errors)):\n",
    "   df.loc[df['d2months'] == errors[i], 'cd2months'] = pd.to_datetime(new_values[i])"
   ]
  },
  {
   "cell_type": "code",
   "execution_count": 170,
   "metadata": {
    "collapsed": true,
    "hideCode": false,
    "hidePrompt": false
   },
   "outputs": [],
   "source": [
    "s = (df.r_2months == 1)\n",
    "#df.loc[s, 'cd2months'].isnull().value_counts()"
   ]
  },
  {
   "cell_type": "code",
   "execution_count": 171,
   "metadata": {
    "collapsed": true,
    "hideCode": false,
    "hidePrompt": false
   },
   "outputs": [],
   "source": [
    "df = df.assign(release_2months = (df.cd2months - df.release_f).dt.days)\n",
    "#df.release_2months.describe()"
   ]
  },
  {
   "cell_type": "markdown",
   "metadata": {},
   "source": [
    "Plot of the difference between release and date of two-months interview."
   ]
  },
  {
   "cell_type": "code",
   "execution_count": 172,
   "metadata": {
    "hideCode": false,
    "hidePrompt": false
   },
   "outputs": [
    {
     "data": {
      "image/png": "[encoded data removed]",
      "text/plain": [
       "<matplotlib.figure.Figure at 0x115ad6518>"
      ]
     },
     "metadata": {},
     "output_type": "display_data"
    }
   ],
   "source": [
    "ax = df.release_2months.hist(bins = 50);\n",
    "ax.set_xlabel('Date two months - release');"
   ]
  },
  {
   "cell_type": "markdown",
   "metadata": {},
   "source": [
    "Some issues:"
   ]
  },
  {
   "cell_type": "code",
   "execution_count": 173,
   "metadata": {
    "hideCode": false,
    "hidePrompt": false
   },
   "outputs": [
    {
     "data": {
      "text/html": [
       "<div>\n",
       "<style>\n",
       "    .dataframe thead tr:only-child th {\n",
       "        text-align: right;\n",
       "    }\n",
       "\n",
       "    .dataframe thead th {\n",
       "        text-align: left;\n",
       "    }\n",
       "\n",
       "    .dataframe tbody tr th {\n",
       "        vertical-align: top;\n",
       "    }\n",
       "</style>\n",
       "<table border=\"1\" class=\"dataframe\">\n",
       "  <thead>\n",
       "    <tr style=\"text-align: right;\">\n",
       "      <th></th>\n",
       "      <th>int</th>\n",
       "      <th>id</th>\n",
       "      <th>r_2months</th>\n",
       "      <th>release_f</th>\n",
       "      <th>cd2months</th>\n",
       "      <th>two_months_deadline</th>\n",
       "      <th>release_2months</th>\n",
       "    </tr>\n",
       "  </thead>\n",
       "  <tbody>\n",
       "  </tbody>\n",
       "</table>\n",
       "</div>"
      ],
      "text/plain": [
       "Empty DataFrame\n",
       "Columns: [int, id, r_2months, release_f, cd2months, two_months_deadline, release_2months]\n",
       "Index: []"
      ]
     },
     "execution_count": 173,
     "metadata": {},
     "output_type": "execute_result"
    }
   ],
   "source": [
    "df['two_months_deadline'] = pd.DatetimeIndex( df['release_f'] ) + pd.DateOffset(months = 5)\n",
    "s = ((df.r_2months == 1) & (today > df.two_months_deadline)) & ( (df.release_2months <= 0) | (df.cd2months.isnull()))\n",
    "df.loc[s,['int', 'id', 'r_2months', 'release_f', 'cd2months', 'two_months_deadline', 'release_2months']].sort_values('id')"
   ]
  },
  {
   "cell_type": "code",
   "execution_count": 174,
   "metadata": {
    "collapsed": true,
    "hideCode": false,
    "hidePrompt": false
   },
   "outputs": [],
   "source": [
    "tab  = df.loc[ (today > df.two_months_deadline) | (df.r_2months == 1), 'r_2months'].value_counts()\n",
    "# print(tab)\n",
    "rr_2months = [i / sum(list(tab)) for i in tab][0]\n",
    "# print(rr_2months)"
   ]
  },
  {
   "cell_type": "code",
   "execution_count": 175,
   "metadata": {
    "collapsed": true,
    "hideCode": false,
    "hidePrompt": false
   },
   "outputs": [
    {
     "data": {
      "text/html": [
       "<div>\n",
       "<style>\n",
       "    .dataframe thead tr:only-child th {\n",
       "        text-align: right;\n",
       "    }\n",
       "\n",
       "    .dataframe thead th {\n",
       "        text-align: left;\n",
       "    }\n",
       "\n",
       "    .dataframe tbody tr th {\n",
       "        vertical-align: top;\n",
       "    }\n",
       "</style>\n",
       "<table border=\"1\" class=\"dataframe\">\n",
       "  <thead>\n",
       "    <tr style=\"text-align: right;\">\n",
       "      <th></th>\n",
       "      <th>int</th>\n",
       "      <th>id</th>\n",
       "      <th>r_2months</th>\n",
       "      <th>release_f</th>\n",
       "      <th>cd2months</th>\n",
       "      <th>two_months_deadline</th>\n",
       "      <th>release_2months</th>\n",
       "    </tr>\n",
       "  </thead>\n",
       "  <tbody>\n",
       "    <tr>\n",
       "      <th>63</th>\n",
       "      <td>Marisol</td>\n",
       "      <td>10291</td>\n",
       "      <td>1.0</td>\n",
       "      <td>2017-03-22</td>\n",
       "      <td>2017-07-04</td>\n",
       "      <td>2017-08-22</td>\n",
       "      <td>104.0</td>\n",
       "    </tr>\n",
       "    <tr>\n",
       "      <th>105</th>\n",
       "      <td>Marcela</td>\n",
       "      <td>50249</td>\n",
       "      <td>1.0</td>\n",
       "      <td>2017-02-09</td>\n",
       "      <td>2017-05-30</td>\n",
       "      <td>2017-07-09</td>\n",
       "      <td>110.0</td>\n",
       "    </tr>\n",
       "    <tr>\n",
       "      <th>44</th>\n",
       "      <td>Javi</td>\n",
       "      <td>10233</td>\n",
       "      <td>1.0</td>\n",
       "      <td>2017-01-25</td>\n",
       "      <td>2017-05-17</td>\n",
       "      <td>2017-06-25</td>\n",
       "      <td>112.0</td>\n",
       "    </tr>\n",
       "    <tr>\n",
       "      <th>27</th>\n",
       "      <td>Javi</td>\n",
       "      <td>10087</td>\n",
       "      <td>1.0</td>\n",
       "      <td>2016-10-19</td>\n",
       "      <td>2017-02-09</td>\n",
       "      <td>2017-03-19</td>\n",
       "      <td>113.0</td>\n",
       "    </tr>\n",
       "    <tr>\n",
       "      <th>178</th>\n",
       "      <td>Susana</td>\n",
       "      <td>40152</td>\n",
       "      <td>1.0</td>\n",
       "      <td>2016-11-16</td>\n",
       "      <td>2017-03-11</td>\n",
       "      <td>2017-04-16</td>\n",
       "      <td>115.0</td>\n",
       "    </tr>\n",
       "    <tr>\n",
       "      <th>107</th>\n",
       "      <td>Marcela</td>\n",
       "      <td>50180</td>\n",
       "      <td>1.0</td>\n",
       "      <td>2016-12-07</td>\n",
       "      <td>2017-04-05</td>\n",
       "      <td>2017-05-07</td>\n",
       "      <td>119.0</td>\n",
       "    </tr>\n",
       "    <tr>\n",
       "      <th>115</th>\n",
       "      <td>Pati</td>\n",
       "      <td>20224</td>\n",
       "      <td>1.0</td>\n",
       "      <td>2017-01-16</td>\n",
       "      <td>2017-05-16</td>\n",
       "      <td>2017-06-16</td>\n",
       "      <td>120.0</td>\n",
       "    </tr>\n",
       "    <tr>\n",
       "      <th>74</th>\n",
       "      <td>Marisol</td>\n",
       "      <td>50271</td>\n",
       "      <td>1.0</td>\n",
       "      <td>2017-03-06</td>\n",
       "      <td>2017-07-06</td>\n",
       "      <td>2017-08-06</td>\n",
       "      <td>122.0</td>\n",
       "    </tr>\n",
       "    <tr>\n",
       "      <th>93</th>\n",
       "      <td>Marcela</td>\n",
       "      <td>50281</td>\n",
       "      <td>1.0</td>\n",
       "      <td>2017-03-12</td>\n",
       "      <td>2017-07-13</td>\n",
       "      <td>2017-08-12</td>\n",
       "      <td>123.0</td>\n",
       "    </tr>\n",
       "    <tr>\n",
       "      <th>98</th>\n",
       "      <td>Marcela</td>\n",
       "      <td>50205</td>\n",
       "      <td>1.0</td>\n",
       "      <td>2016-12-28</td>\n",
       "      <td>2017-05-03</td>\n",
       "      <td>2017-05-28</td>\n",
       "      <td>126.0</td>\n",
       "    </tr>\n",
       "    <tr>\n",
       "      <th>95</th>\n",
       "      <td>Marcela</td>\n",
       "      <td>50231</td>\n",
       "      <td>1.0</td>\n",
       "      <td>2017-01-22</td>\n",
       "      <td>2017-06-01</td>\n",
       "      <td>2017-06-22</td>\n",
       "      <td>130.0</td>\n",
       "    </tr>\n",
       "    <tr>\n",
       "      <th>221</th>\n",
       "      <td>Susana</td>\n",
       "      <td>10197</td>\n",
       "      <td>1.0</td>\n",
       "      <td>2016-12-26</td>\n",
       "      <td>2017-05-10</td>\n",
       "      <td>2017-05-26</td>\n",
       "      <td>135.0</td>\n",
       "    </tr>\n",
       "    <tr>\n",
       "      <th>167</th>\n",
       "      <td>Susana</td>\n",
       "      <td>10158</td>\n",
       "      <td>1.0</td>\n",
       "      <td>2016-11-21</td>\n",
       "      <td>2017-04-07</td>\n",
       "      <td>2017-04-21</td>\n",
       "      <td>137.0</td>\n",
       "    </tr>\n",
       "    <tr>\n",
       "      <th>73</th>\n",
       "      <td>Marisol</td>\n",
       "      <td>50251</td>\n",
       "      <td>1.0</td>\n",
       "      <td>2017-02-14</td>\n",
       "      <td>2017-07-27</td>\n",
       "      <td>2017-07-14</td>\n",
       "      <td>163.0</td>\n",
       "    </tr>\n",
       "  </tbody>\n",
       "</table>\n",
       "</div>"
      ],
      "text/plain": [
       "         int     id  r_2months  release_f  cd2months two_months_deadline  \\\n",
       "63   Marisol  10291        1.0 2017-03-22 2017-07-04          2017-08-22   \n",
       "105  Marcela  50249        1.0 2017-02-09 2017-05-30          2017-07-09   \n",
       "44      Javi  10233        1.0 2017-01-25 2017-05-17          2017-06-25   \n",
       "27      Javi  10087        1.0 2016-10-19 2017-02-09          2017-03-19   \n",
       "178   Susana  40152        1.0 2016-11-16 2017-03-11          2017-04-16   \n",
       "107  Marcela  50180        1.0 2016-12-07 2017-04-05          2017-05-07   \n",
       "115     Pati  20224        1.0 2017-01-16 2017-05-16          2017-06-16   \n",
       "74   Marisol  50271        1.0 2017-03-06 2017-07-06          2017-08-06   \n",
       "93   Marcela  50281        1.0 2017-03-12 2017-07-13          2017-08-12   \n",
       "98   Marcela  50205        1.0 2016-12-28 2017-05-03          2017-05-28   \n",
       "95   Marcela  50231        1.0 2017-01-22 2017-06-01          2017-06-22   \n",
       "221   Susana  10197        1.0 2016-12-26 2017-05-10          2017-05-26   \n",
       "167   Susana  10158        1.0 2016-11-21 2017-04-07          2017-04-21   \n",
       "73   Marisol  50251        1.0 2017-02-14 2017-07-27          2017-07-14   \n",
       "\n",
       "     release_2months  \n",
       "63             104.0  \n",
       "105            110.0  \n",
       "44             112.0  \n",
       "27             113.0  \n",
       "178            115.0  \n",
       "107            119.0  \n",
       "115            120.0  \n",
       "74             122.0  \n",
       "93             123.0  \n",
       "98             126.0  \n",
       "95             130.0  \n",
       "221            135.0  \n",
       "167            137.0  \n",
       "73             163.0  "
      ]
     },
     "execution_count": 175,
     "metadata": {},
     "output_type": "execute_result"
    }
   ],
   "source": [
    "df.loc[np.abs(df.release_2months) > 100,['int', 'id', 'r_2months', 'release_f', \n",
    "                                         'cd2months', 'two_months_deadline', \n",
    "                                         'release_2months']].sort_values('release_2months')"
   ]
  },
  {
   "cell_type": "code",
   "execution_count": 176,
   "metadata": {},
   "outputs": [
    {
     "data": {
      "text/html": [
       "<div>\n",
       "<style>\n",
       "    .dataframe thead tr:only-child th {\n",
       "        text-align: right;\n",
       "    }\n",
       "\n",
       "    .dataframe thead th {\n",
       "        text-align: left;\n",
       "    }\n",
       "\n",
       "    .dataframe tbody tr th {\n",
       "        vertical-align: top;\n",
       "    }\n",
       "</style>\n",
       "<table border=\"1\" class=\"dataframe\">\n",
       "  <thead>\n",
       "    <tr style=\"text-align: right;\">\n",
       "      <th></th>\n",
       "      <th>int</th>\n",
       "      <th>id</th>\n",
       "      <th>r_2months</th>\n",
       "      <th>release_f</th>\n",
       "      <th>cd2months</th>\n",
       "      <th>two_months_deadline</th>\n",
       "      <th>release_2months</th>\n",
       "    </tr>\n",
       "  </thead>\n",
       "  <tbody>\n",
       "    <tr>\n",
       "      <th>67</th>\n",
       "      <td>Marisol</td>\n",
       "      <td>50104</td>\n",
       "      <td>0.0</td>\n",
       "      <td>2016-10-24</td>\n",
       "      <td>2016-10-24</td>\n",
       "      <td>2017-03-24</td>\n",
       "      <td>0.0</td>\n",
       "    </tr>\n",
       "  </tbody>\n",
       "</table>\n",
       "</div>"
      ],
      "text/plain": [
       "        int     id  r_2months  release_f  cd2months two_months_deadline  \\\n",
       "67  Marisol  50104        0.0 2016-10-24 2016-10-24          2017-03-24   \n",
       "\n",
       "    release_2months  \n",
       "67              0.0  "
      ]
     },
     "execution_count": 176,
     "metadata": {},
     "output_type": "execute_result"
    }
   ],
   "source": [
    "df.loc[np.abs(df.release_2months) < 10 ,['int', 'id', \n",
    "                                         'r_2months', 'release_f', 'cd2months', \n",
    "                                         'two_months_deadline', \n",
    "                                         'release_2months']].sort_values('release_2months')"
   ]
  },
  {
   "cell_type": "markdown",
   "metadata": {},
   "source": [
    "Descriptives:"
   ]
  },
  {
   "cell_type": "code",
   "execution_count": 177,
   "metadata": {
    "collapsed": true,
    "hideCode": false,
    "hidePrompt": false
   },
   "outputs": [
    {
     "data": {
      "text/plain": [
       "count    176.000000\n",
       "mean      70.647727\n",
       "std       19.335557\n",
       "min       46.000000\n",
       "25%       58.750000\n",
       "50%       64.000000\n",
       "75%       78.000000\n",
       "max      163.000000\n",
       "Name: release_2months, dtype: float64"
      ]
     },
     "execution_count": 177,
     "metadata": {},
     "output_type": "execute_result"
    }
   ],
   "source": [
    "df.loc[df.r_2months == 1, 'release_2months'].describe()"
   ]
  },
  {
   "cell_type": "markdown",
   "metadata": {
    "hideCode": false,
    "hidePrompt": false
   },
   "source": [
    "## Six Months"
   ]
  },
  {
   "cell_type": "code",
   "execution_count": 178,
   "metadata": {
    "collapsed": true,
    "hideCode": false,
    "hidePrompt": false
   },
   "outputs": [],
   "source": [
    "#varname = [col for col in df.columns if 'participa ' in col]\n",
    "#print(varname)"
   ]
  },
  {
   "cell_type": "code",
   "execution_count": 179,
   "metadata": {
    "collapsed": true,
    "hideCode": false,
    "hidePrompt": false
   },
   "outputs": [],
   "source": [
    "#df = df.rename(columns={varname[0]: 'r_6months'})\n",
    "df.r_6months.value_counts()\n",
    "df['r_6months'] = df['r_6months'].str.contains(\"s|S\").astype(float)\n",
    "df['r_6months'] = df.r_6months.fillna(0)\n",
    "#df.r_6months.isnull().value_counts()\n",
    "#df.r_6months.value_counts()"
   ]
  },
  {
   "cell_type": "code",
   "execution_count": 180,
   "metadata": {
    "collapsed": true,
    "hideCode": false,
    "hidePrompt": false
   },
   "outputs": [],
   "source": [
    "# date 6months\n",
    "#varname = [col for col in df.columns if 'fecha entrevista' in col]\n",
    "#print(varname)"
   ]
  },
  {
   "cell_type": "code",
   "execution_count": 181,
   "metadata": {
    "hideCode": false,
    "hidePrompt": false
   },
   "outputs": [
    {
     "data": {
      "text/plain": [
       "False    224\n",
       "dtype: int64"
      ]
     },
     "execution_count": 181,
     "metadata": {},
     "output_type": "execute_result"
    }
   ],
   "source": [
    "#df = df.rename(columns={varname[0]: 'd6months'})\n",
    "df['cd6months'] = [clean_dates(i) for i in df['d6months']]\n",
    "\n",
    "m = df.cd6months.isnull() & df.d6months.notnull()\n",
    "m.value_counts()"
   ]
  },
  {
   "cell_type": "code",
   "execution_count": 182,
   "metadata": {
    "hideCode": false,
    "hidePrompt": false
   },
   "outputs": [],
   "source": [
    "# df.loc[m, ['id', 'release_f', 'cd6months', 'd6months']]"
   ]
  },
  {
   "cell_type": "code",
   "execution_count": 183,
   "metadata": {
    "collapsed": true,
    "hideCode": false,
    "hidePrompt": false
   },
   "outputs": [],
   "source": [
    "s = (df.r_6months == 1)\n",
    "#df.loc[s, 'cd6months'].isnull().value_counts()"
   ]
  },
  {
   "cell_type": "markdown",
   "metadata": {},
   "source": [
    "There is some issues here:"
   ]
  },
  {
   "cell_type": "code",
   "execution_count": 184,
   "metadata": {
    "hideCode": false,
    "hidePrompt": false
   },
   "outputs": [
    {
     "data": {
      "image/png": "[encoded data removed]",
      "text/plain": [
       "<matplotlib.figure.Figure at 0x112fa8a90>"
      ]
     },
     "metadata": {},
     "output_type": "display_data"
    }
   ],
   "source": [
    "df.loc[df.id == 50209, 'cd6months'] = pd.to_datetime('2017-07-30') # is this right?\n",
    "df = df.assign(release_6months = (df.cd6months - df.release_f).dt.days)\n",
    "\n",
    "ax = df.release_6months.hist(bins = 20);\n",
    "ax.set_xlabel('Date six months - release');"
   ]
  },
  {
   "cell_type": "code",
   "execution_count": 185,
   "metadata": {
    "hideCode": false,
    "hidePrompt": false
   },
   "outputs": [
    {
     "data": {
      "text/html": [
       "<div>\n",
       "<style>\n",
       "    .dataframe thead tr:only-child th {\n",
       "        text-align: right;\n",
       "    }\n",
       "\n",
       "    .dataframe thead th {\n",
       "        text-align: left;\n",
       "    }\n",
       "\n",
       "    .dataframe tbody tr th {\n",
       "        vertical-align: top;\n",
       "    }\n",
       "</style>\n",
       "<table border=\"1\" class=\"dataframe\">\n",
       "  <thead>\n",
       "    <tr style=\"text-align: right;\">\n",
       "      <th></th>\n",
       "      <th>int</th>\n",
       "      <th>id</th>\n",
       "      <th>r_6months</th>\n",
       "      <th>release_f</th>\n",
       "      <th>d6months</th>\n",
       "      <th>cd6months</th>\n",
       "      <th>six_months_deadline</th>\n",
       "      <th>release_6months</th>\n",
       "    </tr>\n",
       "  </thead>\n",
       "  <tbody>\n",
       "    <tr>\n",
       "      <th>71</th>\n",
       "      <td>Marisol</td>\n",
       "      <td>50175</td>\n",
       "      <td>1.0</td>\n",
       "      <td>2017-01-14</td>\n",
       "      <td>2017-01-08</td>\n",
       "      <td>2017-01-08</td>\n",
       "      <td>2017-10-14</td>\n",
       "      <td>-6.0</td>\n",
       "    </tr>\n",
       "  </tbody>\n",
       "</table>\n",
       "</div>"
      ],
      "text/plain": [
       "        int     id  r_6months  release_f   d6months  cd6months  \\\n",
       "71  Marisol  50175        1.0 2017-01-14 2017-01-08 2017-01-08   \n",
       "\n",
       "   six_months_deadline  release_6months  \n",
       "71          2017-10-14             -6.0  "
      ]
     },
     "execution_count": 185,
     "metadata": {},
     "output_type": "execute_result"
    }
   ],
   "source": [
    "df['six_months_deadline'] = pd.DatetimeIndex( df['release_f'] ) + pd.DateOffset(months = 9)\n",
    "\n",
    "s = ((df.r_6months == 1) & (today > df.six_months_deadline)) & (\n",
    "    (df.release_6months <= 0) | (df.cd6months.isnull()))\n",
    "\n",
    "df.loc[s,['int', 'id', 'r_6months', 'release_f', 'd6months', \n",
    "          'cd6months', 'six_months_deadline', 'release_6months']].sort_values('id')"
   ]
  },
  {
   "cell_type": "code",
   "execution_count": 186,
   "metadata": {
    "collapsed": true,
    "hideCode": false,
    "hidePrompt": false
   },
   "outputs": [],
   "source": [
    "# df.loc[df.release_6months < -0,['int', 'id', 'r_6months', 'release_f', 'd6months', 'cd6months', 'six_months_deadline', 'release_6months']].sort_values('id')"
   ]
  },
  {
   "cell_type": "code",
   "execution_count": 187,
   "metadata": {
    "collapsed": true,
    "hideCode": false,
    "hidePrompt": false
   },
   "outputs": [
    {
     "data": {
      "text/html": [
       "<div>\n",
       "<style>\n",
       "    .dataframe thead tr:only-child th {\n",
       "        text-align: right;\n",
       "    }\n",
       "\n",
       "    .dataframe thead th {\n",
       "        text-align: left;\n",
       "    }\n",
       "\n",
       "    .dataframe tbody tr th {\n",
       "        vertical-align: top;\n",
       "    }\n",
       "</style>\n",
       "<table border=\"1\" class=\"dataframe\">\n",
       "  <thead>\n",
       "    <tr style=\"text-align: right;\">\n",
       "      <th></th>\n",
       "      <th>int</th>\n",
       "      <th>id</th>\n",
       "      <th>r_6months</th>\n",
       "      <th>release_f</th>\n",
       "      <th>cd6months</th>\n",
       "      <th>six_months_deadline</th>\n",
       "      <th>release_6months</th>\n",
       "    </tr>\n",
       "  </thead>\n",
       "  <tbody>\n",
       "    <tr>\n",
       "      <th>67</th>\n",
       "      <td>Marisol</td>\n",
       "      <td>50104</td>\n",
       "      <td>1.0</td>\n",
       "      <td>2016-10-24</td>\n",
       "      <td>2017-06-27</td>\n",
       "      <td>2017-07-24</td>\n",
       "      <td>246.0</td>\n",
       "    </tr>\n",
       "    <tr>\n",
       "      <th>33</th>\n",
       "      <td>Javiera</td>\n",
       "      <td>30139</td>\n",
       "      <td>1.0</td>\n",
       "      <td>2016-11-04</td>\n",
       "      <td>2017-07-12</td>\n",
       "      <td>2017-08-04</td>\n",
       "      <td>250.0</td>\n",
       "    </tr>\n",
       "    <tr>\n",
       "      <th>104</th>\n",
       "      <td>Marcela</td>\n",
       "      <td>50060</td>\n",
       "      <td>1.0</td>\n",
       "      <td>2016-10-19</td>\n",
       "      <td>2017-06-26</td>\n",
       "      <td>2017-07-19</td>\n",
       "      <td>250.0</td>\n",
       "    </tr>\n",
       "    <tr>\n",
       "      <th>65</th>\n",
       "      <td>Marisol</td>\n",
       "      <td>50070</td>\n",
       "      <td>1.0</td>\n",
       "      <td>2016-10-22</td>\n",
       "      <td>2017-06-29</td>\n",
       "      <td>2017-07-22</td>\n",
       "      <td>250.0</td>\n",
       "    </tr>\n",
       "    <tr>\n",
       "      <th>177</th>\n",
       "      <td>Susana</td>\n",
       "      <td>10149</td>\n",
       "      <td>1.0</td>\n",
       "      <td>2016-11-14</td>\n",
       "      <td>2017-07-27</td>\n",
       "      <td>2017-08-14</td>\n",
       "      <td>255.0</td>\n",
       "    </tr>\n",
       "    <tr>\n",
       "      <th>39</th>\n",
       "      <td>Javiera</td>\n",
       "      <td>30021</td>\n",
       "      <td>1.0</td>\n",
       "      <td>2016-10-02</td>\n",
       "      <td>2017-06-21</td>\n",
       "      <td>2017-07-02</td>\n",
       "      <td>262.0</td>\n",
       "    </tr>\n",
       "    <tr>\n",
       "      <th>70</th>\n",
       "      <td>Marcela</td>\n",
       "      <td>50154</td>\n",
       "      <td>1.0</td>\n",
       "      <td>2016-11-18</td>\n",
       "      <td>2017-08-08</td>\n",
       "      <td>2017-08-18</td>\n",
       "      <td>263.0</td>\n",
       "    </tr>\n",
       "    <tr>\n",
       "      <th>86</th>\n",
       "      <td>Marcela</td>\n",
       "      <td>50150</td>\n",
       "      <td>1.0</td>\n",
       "      <td>2016-11-14</td>\n",
       "      <td>2017-08-08</td>\n",
       "      <td>2017-08-14</td>\n",
       "      <td>267.0</td>\n",
       "    </tr>\n",
       "    <tr>\n",
       "      <th>54</th>\n",
       "      <td>Javiera</td>\n",
       "      <td>30116</td>\n",
       "      <td>1.0</td>\n",
       "      <td>2016-10-19</td>\n",
       "      <td>2017-07-14</td>\n",
       "      <td>2017-07-19</td>\n",
       "      <td>268.0</td>\n",
       "    </tr>\n",
       "    <tr>\n",
       "      <th>69</th>\n",
       "      <td>Marisol</td>\n",
       "      <td>50133</td>\n",
       "      <td>1.0</td>\n",
       "      <td>2016-10-19</td>\n",
       "      <td>2017-07-18</td>\n",
       "      <td>2017-07-19</td>\n",
       "      <td>272.0</td>\n",
       "    </tr>\n",
       "    <tr>\n",
       "      <th>111</th>\n",
       "      <td>Pati</td>\n",
       "      <td>20081</td>\n",
       "      <td>1.0</td>\n",
       "      <td>2016-10-19</td>\n",
       "      <td>2017-07-18</td>\n",
       "      <td>2017-07-19</td>\n",
       "      <td>272.0</td>\n",
       "    </tr>\n",
       "    <tr>\n",
       "      <th>64</th>\n",
       "      <td>Marisol</td>\n",
       "      <td>20142</td>\n",
       "      <td>1.0</td>\n",
       "      <td>2016-11-16</td>\n",
       "      <td>2017-08-16</td>\n",
       "      <td>2017-08-16</td>\n",
       "      <td>273.0</td>\n",
       "    </tr>\n",
       "    <tr>\n",
       "      <th>78</th>\n",
       "      <td>Marcela</td>\n",
       "      <td>50124</td>\n",
       "      <td>1.0</td>\n",
       "      <td>2016-10-19</td>\n",
       "      <td>2017-07-20</td>\n",
       "      <td>2017-07-19</td>\n",
       "      <td>274.0</td>\n",
       "    </tr>\n",
       "    <tr>\n",
       "      <th>126</th>\n",
       "      <td>Pati</td>\n",
       "      <td>20013</td>\n",
       "      <td>1.0</td>\n",
       "      <td>2016-09-24</td>\n",
       "      <td>2017-06-26</td>\n",
       "      <td>2017-06-24</td>\n",
       "      <td>275.0</td>\n",
       "    </tr>\n",
       "    <tr>\n",
       "      <th>151</th>\n",
       "      <td>Pati</td>\n",
       "      <td>10075</td>\n",
       "      <td>1.0</td>\n",
       "      <td>2016-10-19</td>\n",
       "      <td>2017-07-28</td>\n",
       "      <td>2017-07-19</td>\n",
       "      <td>282.0</td>\n",
       "    </tr>\n",
       "    <tr>\n",
       "      <th>162</th>\n",
       "      <td>Pati</td>\n",
       "      <td>10119</td>\n",
       "      <td>1.0</td>\n",
       "      <td>2016-10-17</td>\n",
       "      <td>2017-08-31</td>\n",
       "      <td>2017-07-17</td>\n",
       "      <td>318.0</td>\n",
       "    </tr>\n",
       "    <tr>\n",
       "      <th>46</th>\n",
       "      <td>Javiera</td>\n",
       "      <td>30247</td>\n",
       "      <td>1.0</td>\n",
       "      <td>2017-02-07</td>\n",
       "      <td>2018-08-18</td>\n",
       "      <td>2017-11-07</td>\n",
       "      <td>557.0</td>\n",
       "    </tr>\n",
       "  </tbody>\n",
       "</table>\n",
       "</div>"
      ],
      "text/plain": [
       "         int     id  r_6months  release_f  cd6months six_months_deadline  \\\n",
       "67   Marisol  50104        1.0 2016-10-24 2017-06-27          2017-07-24   \n",
       "33   Javiera  30139        1.0 2016-11-04 2017-07-12          2017-08-04   \n",
       "104  Marcela  50060        1.0 2016-10-19 2017-06-26          2017-07-19   \n",
       "65   Marisol  50070        1.0 2016-10-22 2017-06-29          2017-07-22   \n",
       "177   Susana  10149        1.0 2016-11-14 2017-07-27          2017-08-14   \n",
       "39   Javiera  30021        1.0 2016-10-02 2017-06-21          2017-07-02   \n",
       "70   Marcela  50154        1.0 2016-11-18 2017-08-08          2017-08-18   \n",
       "86   Marcela  50150        1.0 2016-11-14 2017-08-08          2017-08-14   \n",
       "54   Javiera  30116        1.0 2016-10-19 2017-07-14          2017-07-19   \n",
       "69   Marisol  50133        1.0 2016-10-19 2017-07-18          2017-07-19   \n",
       "111     Pati  20081        1.0 2016-10-19 2017-07-18          2017-07-19   \n",
       "64   Marisol  20142        1.0 2016-11-16 2017-08-16          2017-08-16   \n",
       "78   Marcela  50124        1.0 2016-10-19 2017-07-20          2017-07-19   \n",
       "126     Pati  20013        1.0 2016-09-24 2017-06-26          2017-06-24   \n",
       "151     Pati  10075        1.0 2016-10-19 2017-07-28          2017-07-19   \n",
       "162     Pati  10119        1.0 2016-10-17 2017-08-31          2017-07-17   \n",
       "46   Javiera  30247        1.0 2017-02-07 2018-08-18          2017-11-07   \n",
       "\n",
       "     release_6months  \n",
       "67             246.0  \n",
       "33             250.0  \n",
       "104            250.0  \n",
       "65             250.0  \n",
       "177            255.0  \n",
       "39             262.0  \n",
       "70             263.0  \n",
       "86             267.0  \n",
       "54             268.0  \n",
       "69             272.0  \n",
       "111            272.0  \n",
       "64             273.0  \n",
       "78             274.0  \n",
       "126            275.0  \n",
       "151            282.0  \n",
       "162            318.0  \n",
       "46             557.0  "
      ]
     },
     "execution_count": 187,
     "metadata": {},
     "output_type": "execute_result"
    }
   ],
   "source": [
    "df.loc[np.abs(df.release_6months) > 240, ['int', 'id', 'r_6months', 'release_f', 'cd6months', \n",
    "                                          'six_months_deadline', \n",
    "                                          'release_6months']].sort_values('release_6months')"
   ]
  },
  {
   "cell_type": "code",
   "execution_count": 188,
   "metadata": {
    "collapsed": true,
    "hideCode": false,
    "hidePrompt": false
   },
   "outputs": [
    {
     "name": "stdout",
     "output_type": "stream",
     "text": [
      "0.883408071749\n"
     ]
    }
   ],
   "source": [
    "tab  = df.loc[(today > df.six_months_deadline)  | (df.r_6months == 1), 'r_6months'].value_counts()\n",
    "# print(tab)\n",
    "rr_6months = [i / sum(list(tab)) for i in tab][0]\n",
    "print(rr_6months)"
   ]
  },
  {
   "cell_type": "markdown",
   "metadata": {},
   "source": [
    "Some descriptives:"
   ]
  },
  {
   "cell_type": "code",
   "execution_count": 189,
   "metadata": {
    "collapsed": true,
    "hideCode": false,
    "hidePrompt": false
   },
   "outputs": [
    {
     "data": {
      "text/plain": [
       "count    197.000000\n",
       "mean     194.045685\n",
       "std       42.895613\n",
       "min       -6.000000\n",
       "25%      170.000000\n",
       "50%      186.000000\n",
       "75%      208.000000\n",
       "max      557.000000\n",
       "Name: release_6months, dtype: float64"
      ]
     },
     "execution_count": 189,
     "metadata": {},
     "output_type": "execute_result"
    }
   ],
   "source": [
    "df.loc[df.r_6months == 1, 'release_6months'].describe()"
   ]
  },
  {
   "cell_type": "markdown",
   "metadata": {
    "hideCode": false,
    "hidePrompt": false
   },
   "source": [
    "# Plot of interview days by wave"
   ]
  },
  {
   "cell_type": "code",
   "execution_count": 190,
   "metadata": {
    "hideCode": false,
    "hidePrompt": false
   },
   "outputs": [
    {
     "data": {
      "image/png": "[encoded data removed]",
      "text/plain": [
       "<matplotlib.figure.Figure at 0x1156402b0>"
      ]
     },
     "metadata": {},
     "output_type": "display_data"
    }
   ],
   "source": [
    "ax = df.loc[:, ['release_baseline', 'release_week', 'release_2months', \n",
    "                'release_6months']].plot.hist(title='Distribución Día de Entrevista según Ola', alpha=0.6, bins = 200);\n",
    "ax.set_xlim(-35,365);\n",
    "ax.legend(['Línea base', 'Primera semana', 'Dos meses', 'Seis meses']);\n",
    "ax.axvline(7, color = 'gray', linestyle ='--', linewidth=1);\n",
    "ax.axvline(30.5*2, color = 'gray', linestyle ='--', linewidth=1);\n",
    "ax.axvline(30.5*6, color = 'gray', linestyle ='--', linewidth=1);\n",
    "ax.set_xlabel('Días desde la salida');\n",
    "plt.savefig('plots/dia_entrevista_ola.pdf', dpi = 600)"
   ]
  },
  {
   "cell_type": "markdown",
   "metadata": {
    "hideCode": false,
    "hidePrompt": false
   },
   "source": [
    "## Summary rates"
   ]
  },
  {
   "cell_type": "code",
   "execution_count": 191,
   "metadata": {
    "hideCode": false,
    "hidePrompt": false
   },
   "outputs": [
    {
     "data": {
      "text/html": [
       "<div>\n",
       "<style>\n",
       "    .dataframe thead tr:only-child th {\n",
       "        text-align: right;\n",
       "    }\n",
       "\n",
       "    .dataframe thead th {\n",
       "        text-align: left;\n",
       "    }\n",
       "\n",
       "    .dataframe tbody tr th {\n",
       "        vertical-align: top;\n",
       "    }\n",
       "</style>\n",
       "<table border=\"1\" class=\"dataframe\">\n",
       "  <thead>\n",
       "    <tr style=\"text-align: right;\">\n",
       "      <th></th>\n",
       "      <th>rate</th>\n",
       "    </tr>\n",
       "  </thead>\n",
       "  <tbody>\n",
       "    <tr>\n",
       "      <th>week</th>\n",
       "      <td>0.808036</td>\n",
       "    </tr>\n",
       "    <tr>\n",
       "      <th>2 months</th>\n",
       "      <td>0.785714</td>\n",
       "    </tr>\n",
       "    <tr>\n",
       "      <th>6 months</th>\n",
       "      <td>0.883408</td>\n",
       "    </tr>\n",
       "  </tbody>\n",
       "</table>\n",
       "</div>"
      ],
      "text/plain": [
       "              rate\n",
       "week      0.808036\n",
       "2 months  0.785714\n",
       "6 months  0.883408"
      ]
     },
     "execution_count": 191,
     "metadata": {},
     "output_type": "execute_result"
    }
   ],
   "source": [
    "rr = pd.DataFrame( {\"rate\" : [rr_week, rr_2months, rr_6months]}, \n",
    "                       index = ['week' ,'2 months', '6 months'])\n",
    "\n",
    "rr"
   ]
  },
  {
   "cell_type": "code",
   "execution_count": 192,
   "metadata": {
    "collapsed": true
   },
   "outputs": [],
   "source": [
    "# s = ['id', 'r_week', 'r_2months', 'r_6months', 'interviewer']\n",
    "# df.loc[:,s].to_csv('/Users/sdaza/Dropbox/Projects/re-entry/10 investigadores/sdaza/reports-github/reports/data/clean_register.csv')"
   ]
  }
 ],
 "metadata": {
  "celltoolbar": "Hide code",
  "hide_code_all_hidden": false,
  "kernelspec": {
   "display_name": "Python [conda root]",
   "language": "python",
   "name": "conda-root-py"
  },
  "language_info": {
   "codemirror_mode": {
    "name": "ipython",
    "version": 3
   },
   "file_extension": ".py",
   "mimetype": "text/x-python",
   "name": "python",
   "nbconvert_exporter": "python",
   "pygments_lexer": "ipython3",
   "version": "3.6.1"
  }
 },
 "nbformat": 4,
 "nbformat_minor": 2
}
