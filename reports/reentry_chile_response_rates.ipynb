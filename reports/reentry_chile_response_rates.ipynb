{
 "cells": [
  {
   "cell_type": "code",
   "execution_count": 1,
   "metadata": {},
   "outputs": [],
   "source": [
    "%matplotlib inline\n",
    "import matplotlib.pyplot as plt\n",
    "import seaborn as sns\n",
    "plt.style.use('ggplot')\n",
    "import pysdaza as sd"
   ]
  },
  {
   "cell_type": "markdown",
   "metadata": {
    "hideCode": false,
    "hideOutput": false,
    "hidePrompt": false
   },
   "source": [
    "# Reentry Chile Response Rate\n",
    "\n",
    "*Sebastian Daza*\n",
    "\n",
    "In this report we describe response rates by wave. We follow these general criteria:\n",
    "\n",
    "- The estimation by wave only uses cases far beyond the wave-specific observation window. For instance, for the wave 2-months, we only consider those women who have been in the study for 4 months.\n",
    "- This estimation is based on the administrative records of the study.\n",
    "\n",
    "Some important definitions:\n",
    "\n",
    "- Names of waves: baseline, week, two_months, six_months, twelve_months\n",
    "- Variables names: `d` means date, `c` means clean, and `cd` clean date\n",
    "- Deadline corresponds to th time threshold to compute a given response rate\n",
    "\n",
    "We display key date variables to compute the rates and highlight inconsistencies or problems. "
   ]
  },
  {
   "cell_type": "code",
   "execution_count": 2,
   "metadata": {
    "hideCode": false,
    "hidePrompt": false
   },
   "outputs": [],
   "source": [
    "# getting paths\n",
    "import os\n",
    "myfile =  os.getcwd() + '/data/Registro general de terreno_todas las olas.xlsx'"
   ]
  },
  {
   "cell_type": "markdown",
   "metadata": {
    "hideCode": false,
    "hidePrompt": false
   },
   "source": [
    "## Release\n",
    "There are two date of release variables\n",
    "in the register data. *Definitive* has a bunch of missing records. **We should define a validated and unique date for release**. "
   ]
  },
  {
   "cell_type": "code",
   "execution_count": 5,
   "metadata": {
    "collapsed": true,
    "hideCode": false,
    "hideOutput": false,
    "hidePrompt": false
   },
   "outputs": [],
   "source": [
    "import pandas as pd\n",
    "import numpy as np\n",
    "import re "
   ]
  },
  {
   "cell_type": "code",
   "execution_count": 6,
   "metadata": {
    "collapsed": true,
    "hideCode": false,
    "hideOutput": false,
    "hidePrompt": false
   },
   "outputs": [],
   "source": [
    "# read excel file\n",
    "df = pd.read_excel(myfile, skiprows=[0,1])"
   ]
  },
  {
   "cell_type": "code",
   "execution_count": 7,
   "metadata": {
    "collapsed": true,
    "hideCode": false,
    "hideOutput": false,
    "hidePrompt": false
   },
   "outputs": [],
   "source": [
    "df.columns = df.columns.str.strip()"
   ]
  },
  {
   "cell_type": "code",
   "execution_count": 8,
   "metadata": {},
   "outputs": [],
   "source": [
    "variables = set(df.columns.tolist())"
   ]
  },
  {
   "cell_type": "code",
   "execution_count": 9,
   "metadata": {},
   "outputs": [
    {
     "data": {
      "text/plain": [
       "13"
      ]
     },
     "execution_count": 9,
     "metadata": {},
     "output_type": "execute_result"
    }
   ],
   "source": [
    "# extract columns\n",
    "cols = ['enc','folio','fegresoefectiva', 'lb_fechaentrevista', 'lb_participa', \n",
    "       'primsem_fechaentrevista', 'primsem_participa', 'dosmeses_fechaentrevista', \n",
    "        'dosmeses_participa', 'seismeses_fechaentrevista', 'seismeses_participa', \n",
    "       'docemeses_fechaentrevista', 'docemeses_participa']\n",
    "\n",
    "len(cols)"
   ]
  },
  {
   "cell_type": "code",
   "execution_count": 10,
   "metadata": {},
   "outputs": [],
   "source": [
    "df = df.loc[:,cols]"
   ]
  },
  {
   "cell_type": "code",
   "execution_count": 11,
   "metadata": {
    "collapsed": true,
    "hideCode": false,
    "hideOutput": false,
    "hidePrompt": false
   },
   "outputs": [],
   "source": [
    "cols = ['enc','folio','fegresoefectiva', 'lb_fechaentrevista', 'lb_participa', \n",
    "       'primsem_fechaentrevista', 'primsem_participa', 'dosmeses_fechaentrevista', \n",
    "        'dosmeses_participa', 'seismeses_fechaentrevista', 'seismeses_participa', \n",
    "       'docemeses_fechaentrevista', 'docemeses_participa']"
   ]
  },
  {
   "cell_type": "code",
   "execution_count": 12,
   "metadata": {
    "collapsed": true,
    "hideCode": false,
    "hideOutput": false,
    "hidePrompt": false
   },
   "outputs": [],
   "source": [
    "# rename columns\n",
    "names = [\"int\",\"id\", \"release_f\",\"dbaseline\",\"r_baseline\",\n",
    "         \"dweek\",\"r_week\",\"d2months\",\"r_2months\",\n",
    "         \"d6months\",\"r_6months\",\"d12months\",\"r_12months\"]\n",
    "\n",
    "df.rename(columns=dict(zip(df.columns, names)), inplace=True)"
   ]
  },
  {
   "cell_type": "code",
   "execution_count": 13,
   "metadata": {
    "collapsed": true,
    "hideCode": false,
    "hideOutput": false,
    "hidePrompt": false
   },
   "outputs": [],
   "source": [
    "null = df.int.notnull()\n",
    "df = df.loc[null, names]"
   ]
  },
  {
   "cell_type": "code",
   "execution_count": 14,
   "metadata": {
    "collapsed": true,
    "hideCode": false,
    "hideOutput": false,
    "hidePrompt": false
   },
   "outputs": [
    {
     "data": {
      "text/plain": [
       "(226, 13)"
      ]
     },
     "execution_count": 14,
     "metadata": {},
     "output_type": "execute_result"
    }
   ],
   "source": [
    "df.shape"
   ]
  },
  {
   "cell_type": "code",
   "execution_count": 15,
   "metadata": {
    "collapsed": true,
    "hideCode": false,
    "hideOutput": false,
    "hidePrompt": false
   },
   "outputs": [
    {
     "data": {
      "text/plain": [
       "(225, 13)"
      ]
     },
     "execution_count": 15,
     "metadata": {},
     "output_type": "execute_result"
    }
   ],
   "source": [
    "# remove cases?\n",
    "remove_cases = [10011] # only case that's not valid\n",
    "\n",
    "# df.id in remove_cases\n",
    "df = df.loc[~df.id.isin(remove_cases),:]\n",
    "df.shape"
   ]
  },
  {
   "cell_type": "code",
   "execution_count": 16,
   "metadata": {
    "collapsed": true,
    "hideCode": false,
    "hideOutput": false,
    "hidePrompt": false
   },
   "outputs": [],
   "source": [
    "# # save data\n",
    "# import dill\n",
    "\n",
    "# dill.dump(df, open('data/registro.pkl', 'wb'))\n",
    "\n",
    "# # load the data\n",
    "# df = dill.load(open('data/registro.pkl', 'rb'))"
   ]
  },
  {
   "cell_type": "code",
   "execution_count": 17,
   "metadata": {},
   "outputs": [
    {
     "data": {
      "text/plain": [
       "count       225\n",
       "unique        1\n",
       "top       False\n",
       "freq        225\n",
       "Name: release_f, dtype: object"
      ]
     },
     "execution_count": 17,
     "metadata": {},
     "output_type": "execute_result"
    }
   ],
   "source": [
    "# no valid records for release_f?\n",
    "s = df.release_f.isnull()\n",
    "s.describe()"
   ]
  },
  {
   "cell_type": "code",
   "execution_count": 18,
   "metadata": {
    "collapsed": true,
    "hideCode": false,
    "hideOutput": true,
    "hidePrompt": false
   },
   "outputs": [],
   "source": [
    "df['release_year'] = pd.DatetimeIndex(df['release_f']).year\n",
    "df['release_month'] = pd.DatetimeIndex(df['release_f']).month"
   ]
  },
  {
   "cell_type": "code",
   "execution_count": 19,
   "metadata": {
    "hideCode": false,
    "hideOutput": false,
    "hidePrompt": false
   },
   "outputs": [],
   "source": [
    "# release plot\n",
    "t = df.reset_index().set_index('release_f')\n",
    "t = t.resample('M')"
   ]
  },
  {
   "cell_type": "code",
   "execution_count": 20,
   "metadata": {
    "hideCode": false,
    "hideOutput": false,
    "hidePrompt": false
   },
   "outputs": [
    {
     "data": {
      "image/png": "[encoded data removed]",
      "text/plain": [
       "<Figure size 432x288 with 1 Axes>"
      ]
     },
     "metadata": {},
     "output_type": "display_data"
    }
   ],
   "source": [
    "ax = t.id.count().plot(title='Egresos por Mes', style='.-', ms=13);\n",
    "ax.set_ylabel(\"Número de mujeres\");\n",
    "ax.set_xlabel(\"Mes de egreso\");"
   ]
  },
  {
   "cell_type": "markdown",
   "metadata": {
    "hideCode": false,
    "hidePrompt": false
   },
   "source": [
    "## Baseline\n",
    "\n",
    "Let's explore the baseline information. Below a plot with the distribution of the difference between the date of the baseline and release. All values should be **negative**. \n",
    "\n",
    "To check cases below where we have issues: missing data or positive value (i.e., the baseline was applied after release). "
   ]
  },
  {
   "cell_type": "code",
   "execution_count": 21,
   "metadata": {
    "collapsed": true,
    "hideCode": false,
    "hideOutput": false,
    "hidePrompt": false
   },
   "outputs": [
    {
     "data": {
      "text/html": [
       "<div>\n",
       "<style scoped>\n",
       "    .dataframe tbody tr th:only-of-type {\n",
       "        vertical-align: middle;\n",
       "    }\n",
       "\n",
       "    .dataframe tbody tr th {\n",
       "        vertical-align: top;\n",
       "    }\n",
       "\n",
       "    .dataframe thead th {\n",
       "        text-align: right;\n",
       "    }\n",
       "</style>\n",
       "<table border=\"1\" class=\"dataframe\">\n",
       "  <thead>\n",
       "    <tr style=\"text-align: right;\">\n",
       "      <th></th>\n",
       "      <th>int</th>\n",
       "      <th>id</th>\n",
       "      <th>dbaseline</th>\n",
       "      <th>r_baseline</th>\n",
       "    </tr>\n",
       "  </thead>\n",
       "  <tbody>\n",
       "  </tbody>\n",
       "</table>\n",
       "</div>"
      ],
      "text/plain": [
       "Empty DataFrame\n",
       "Columns: [int, id, dbaseline, r_baseline]\n",
       "Index: []"
      ]
     },
     "execution_count": 21,
     "metadata": {},
     "output_type": "execute_result"
    }
   ],
   "source": [
    "# correct some dates\n",
    "df.loc[df.dbaseline.isnull(),['int','id', 'dbaseline', 'r_baseline']]"
   ]
  },
  {
   "cell_type": "code",
   "execution_count": 22,
   "metadata": {
    "collapsed": true,
    "hideCode": false,
    "hideOutput": false,
    "hidePrompt": false
   },
   "outputs": [],
   "source": [
    "# function to clean dates\n",
    "def clean_dates(text):\n",
    "   if (isinstance(text, str)):\n",
    "      text = str(text)\n",
    "      pp = re.compile(\"-|\\.\")\n",
    "      r = re.sub(pp, \"/\", text)\n",
    "      pp = re.compile(\"([0-9]+/[0-9]+/[0-9]+)|([0-9]+-[0-9]+-[0-9]+)\")\n",
    "      r = re.search(pp, r)\n",
    "      if (r is not None):\n",
    "         r = r.group()\n",
    "      else:\n",
    "         r = ''\n",
    "   else:\n",
    "      r = text\n",
    "   return pd.to_datetime(r, dayfirst=True, errors = 'coerce')"
   ]
  },
  {
   "cell_type": "code",
   "execution_count": 23,
   "metadata": {
    "collapsed": true,
    "hideCode": false,
    "hidePrompt": false
   },
   "outputs": [],
   "source": [
    "df['cdbaseline'] = [clean_dates(i) for i in df['dbaseline']]"
   ]
  },
  {
   "cell_type": "code",
   "execution_count": 24,
   "metadata": {
    "collapsed": true,
    "hideCode": false,
    "hidePrompt": false
   },
   "outputs": [
    {
     "data": {
      "text/html": [
       "<div>\n",
       "<style scoped>\n",
       "    .dataframe tbody tr th:only-of-type {\n",
       "        vertical-align: middle;\n",
       "    }\n",
       "\n",
       "    .dataframe tbody tr th {\n",
       "        vertical-align: top;\n",
       "    }\n",
       "\n",
       "    .dataframe thead th {\n",
       "        text-align: right;\n",
       "    }\n",
       "</style>\n",
       "<table border=\"1\" class=\"dataframe\">\n",
       "  <thead>\n",
       "    <tr style=\"text-align: right;\">\n",
       "      <th></th>\n",
       "      <th>int</th>\n",
       "      <th>id</th>\n",
       "      <th>r_baseline</th>\n",
       "      <th>release_f</th>\n",
       "      <th>cdbaseline</th>\n",
       "      <th>dbaseline</th>\n",
       "      <th>release_baseline</th>\n",
       "    </tr>\n",
       "  </thead>\n",
       "  <tbody>\n",
       "    <tr>\n",
       "      <th>219</th>\n",
       "      <td>Javiera</td>\n",
       "      <td>10083</td>\n",
       "      <td>Sí</td>\n",
       "      <td>2016-10-19</td>\n",
       "      <td>2016-10-22</td>\n",
       "      <td>2016-10-22 00:00:00</td>\n",
       "      <td>3.0</td>\n",
       "    </tr>\n",
       "    <tr>\n",
       "      <th>163</th>\n",
       "      <td>Pati</td>\n",
       "      <td>20112</td>\n",
       "      <td>SI</td>\n",
       "      <td>2016-10-19</td>\n",
       "      <td>NaT</td>\n",
       "      <td>19-10-016</td>\n",
       "      <td>NaN</td>\n",
       "    </tr>\n",
       "    <tr>\n",
       "      <th>157</th>\n",
       "      <td>Marcela</td>\n",
       "      <td>50037</td>\n",
       "      <td>SI</td>\n",
       "      <td>2016-10-19</td>\n",
       "      <td>2017-09-30</td>\n",
       "      <td>2017-09-30 00:00:00</td>\n",
       "      <td>346.0</td>\n",
       "    </tr>\n",
       "  </tbody>\n",
       "</table>\n",
       "</div>"
      ],
      "text/plain": [
       "         int     id r_baseline  release_f cdbaseline            dbaseline  \\\n",
       "219  Javiera  10083         Sí 2016-10-19 2016-10-22  2016-10-22 00:00:00   \n",
       "163     Pati  20112         SI 2016-10-19        NaT            19-10-016   \n",
       "157  Marcela  50037         SI 2016-10-19 2017-09-30  2017-09-30 00:00:00   \n",
       "\n",
       "     release_baseline  \n",
       "219               3.0  \n",
       "163               NaN  \n",
       "157             346.0  "
      ]
     },
     "execution_count": 24,
     "metadata": {},
     "output_type": "execute_result"
    }
   ],
   "source": [
    "df = df.assign(release_baseline = (df.cdbaseline - df.release_f).dt.days) # it has to be negative\n",
    "s = ((df.release_baseline > 0) | (df.cdbaseline.isnull()))\n",
    "df.loc[s, ['int', 'id', 'r_baseline', 'release_f',  'cdbaseline', 'dbaseline', 'release_baseline']].sort_values('id')"
   ]
  },
  {
   "cell_type": "markdown",
   "metadata": {},
   "source": [
    "Descriptives of the difference between release date and baseline: "
   ]
  },
  {
   "cell_type": "code",
   "execution_count": 25,
   "metadata": {
    "hideCode": false,
    "hidePrompt": false
   },
   "outputs": [
    {
     "data": {
      "text/plain": [
       "count    224.000000\n",
       "mean     -11.660714\n",
       "std       36.748217\n",
       "min     -367.000000\n",
       "25%      -14.000000\n",
       "50%       -7.000000\n",
       "75%       -4.000000\n",
       "max      346.000000\n",
       "Name: release_baseline, dtype: float64"
      ]
     },
     "execution_count": 25,
     "metadata": {},
     "output_type": "execute_result"
    }
   ],
   "source": [
    "df.release_baseline.describe()"
   ]
  },
  {
   "cell_type": "markdown",
   "metadata": {
    "hideCode": false,
    "hidePrompt": false
   },
   "source": [
    "## First week\n",
    "\n",
    "\n",
    "Below a plot with the distribution of the difference between the date of the first week interview and release. All values should be **positive**. \n"
   ]
  },
  {
   "cell_type": "code",
   "execution_count": 26,
   "metadata": {
    "collapsed": true,
    "hideCode": false,
    "hidePrompt": false
   },
   "outputs": [
    {
     "data": {
      "text/plain": [
       "1.0    181\n",
       "0.0     44\n",
       "Name: r_week, dtype: int64"
      ]
     },
     "execution_count": 26,
     "metadata": {},
     "output_type": "execute_result"
    }
   ],
   "source": [
    "df['r_week'] = df['r_week'].str.contains(\"s|S\").astype(float)\n",
    "df['r_week'] = df.r_week.fillna(0)\n",
    "df.r_week.value_counts()"
   ]
  },
  {
   "cell_type": "code",
   "execution_count": 27,
   "metadata": {
    "collapsed": true,
    "hideCode": false,
    "hidePrompt": false
   },
   "outputs": [],
   "source": [
    "df['cdweek'] = [clean_dates(i) for i in df['dweek']]"
   ]
  },
  {
   "cell_type": "code",
   "execution_count": 28,
   "metadata": {
    "hideCode": false,
    "hidePrompt": false
   },
   "outputs": [],
   "source": [
    "m = df.cdweek.isnull() & df.dweek.notnull()"
   ]
  },
  {
   "cell_type": "code",
   "execution_count": 29,
   "metadata": {
    "hideCode": false,
    "hidePrompt": false
   },
   "outputs": [
    {
     "data": {
      "text/plain": [
       "True     145\n",
       "False     80\n",
       "Name: release_week, dtype: int64"
      ]
     },
     "execution_count": 29,
     "metadata": {},
     "output_type": "execute_result"
    }
   ],
   "source": [
    "df = df.assign(release_week = (df.cdweek - df.release_f).dt.days)\n",
    "(df.release_week > 7).value_counts()"
   ]
  },
  {
   "cell_type": "markdown",
   "metadata": {},
   "source": [
    "Plot of the difference between date of release and first week interview."
   ]
  },
  {
   "cell_type": "code",
   "execution_count": 30,
   "metadata": {
    "hideCode": false,
    "hidePrompt": false
   },
   "outputs": [
    {
     "data": {
      "image/png": "[encoded data removed]",
      "text/plain": [
       "<Figure size 432x288 with 1 Axes>"
      ]
     },
     "metadata": {},
     "output_type": "display_data"
    }
   ],
   "source": [
    "ax = df.release_week.hist(bins = 20, alpha = 0.8);\n",
    "ax.set_xlim(-25,25)\n",
    "ax.set_xlabel('Día de entrevista desde egreso');"
   ]
  },
  {
   "cell_type": "code",
   "execution_count": 31,
   "metadata": {
    "collapsed": true,
    "hideCode": false,
    "hidePrompt": false
   },
   "outputs": [],
   "source": [
    "df['week_deadline'] = pd.DatetimeIndex( df['release_f'] ) + pd.DateOffset(weeks = 5) # five weeks!"
   ]
  },
  {
   "cell_type": "markdown",
   "metadata": {},
   "source": [
    "Cases with issues: "
   ]
  },
  {
   "cell_type": "code",
   "execution_count": 32,
   "metadata": {
    "hideCode": false,
    "hidePrompt": false
   },
   "outputs": [],
   "source": [
    "import datetime\n",
    "today = datetime.datetime.now()"
   ]
  },
  {
   "cell_type": "code",
   "execution_count": 33,
   "metadata": {
    "hideCode": false,
    "hidePrompt": false
   },
   "outputs": [],
   "source": [
    "s = ((df.r_week == 1) & (today > df.week_deadline)) & ( (df.release_week <= 0) | (df.cdweek.isnull()) )"
   ]
  },
  {
   "cell_type": "code",
   "execution_count": 34,
   "metadata": {},
   "outputs": [
    {
     "data": {
      "text/html": [
       "<div>\n",
       "<style scoped>\n",
       "    .dataframe tbody tr th:only-of-type {\n",
       "        vertical-align: middle;\n",
       "    }\n",
       "\n",
       "    .dataframe tbody tr th {\n",
       "        vertical-align: top;\n",
       "    }\n",
       "\n",
       "    .dataframe thead th {\n",
       "        text-align: right;\n",
       "    }\n",
       "</style>\n",
       "<table border=\"1\" class=\"dataframe\">\n",
       "  <thead>\n",
       "    <tr style=\"text-align: right;\">\n",
       "      <th></th>\n",
       "      <th>int</th>\n",
       "      <th>id</th>\n",
       "      <th>r_week</th>\n",
       "      <th>release_f</th>\n",
       "      <th>cdweek</th>\n",
       "      <th>release_week</th>\n",
       "    </tr>\n",
       "  </thead>\n",
       "  <tbody>\n",
       "  </tbody>\n",
       "</table>\n",
       "</div>"
      ],
      "text/plain": [
       "Empty DataFrame\n",
       "Columns: [int, id, r_week, release_f, cdweek, release_week]\n",
       "Index: []"
      ]
     },
     "execution_count": 34,
     "metadata": {},
     "output_type": "execute_result"
    }
   ],
   "source": [
    "df.loc[np.abs(df.release_week) > 30,['int', 'id', 'r_week', 'release_f', 'cdweek', 'release_week']]"
   ]
  },
  {
   "cell_type": "markdown",
   "metadata": {},
   "source": [
    "Interviews before the first 7 days. The only weird case is 10053!"
   ]
  },
  {
   "cell_type": "code",
   "execution_count": 35,
   "metadata": {},
   "outputs": [
    {
     "data": {
      "text/html": [
       "<div>\n",
       "<style scoped>\n",
       "    .dataframe tbody tr th:only-of-type {\n",
       "        vertical-align: middle;\n",
       "    }\n",
       "\n",
       "    .dataframe tbody tr th {\n",
       "        vertical-align: top;\n",
       "    }\n",
       "\n",
       "    .dataframe thead th {\n",
       "        text-align: right;\n",
       "    }\n",
       "</style>\n",
       "<table border=\"1\" class=\"dataframe\">\n",
       "  <thead>\n",
       "    <tr style=\"text-align: right;\">\n",
       "      <th></th>\n",
       "      <th>int</th>\n",
       "      <th>id</th>\n",
       "      <th>r_week</th>\n",
       "      <th>release_f</th>\n",
       "      <th>cdweek</th>\n",
       "      <th>release_week</th>\n",
       "    </tr>\n",
       "  </thead>\n",
       "  <tbody>\n",
       "    <tr>\n",
       "      <th>32</th>\n",
       "      <td>Susana</td>\n",
       "      <td>40284</td>\n",
       "      <td>1.0</td>\n",
       "      <td>2017-03-15</td>\n",
       "      <td>2017-03-21</td>\n",
       "      <td>6.0</td>\n",
       "    </tr>\n",
       "    <tr>\n",
       "      <th>42</th>\n",
       "      <td>Susana</td>\n",
       "      <td>40268</td>\n",
       "      <td>1.0</td>\n",
       "      <td>2017-03-01</td>\n",
       "      <td>2017-03-07</td>\n",
       "      <td>6.0</td>\n",
       "    </tr>\n",
       "    <tr>\n",
       "      <th>62</th>\n",
       "      <td>Pati</td>\n",
       "      <td>20239</td>\n",
       "      <td>1.0</td>\n",
       "      <td>2017-02-01</td>\n",
       "      <td>2017-02-06</td>\n",
       "      <td>5.0</td>\n",
       "    </tr>\n",
       "    <tr>\n",
       "      <th>66</th>\n",
       "      <td>Susana</td>\n",
       "      <td>40194</td>\n",
       "      <td>1.0</td>\n",
       "      <td>2016-12-24</td>\n",
       "      <td>2016-12-30</td>\n",
       "      <td>6.0</td>\n",
       "    </tr>\n",
       "    <tr>\n",
       "      <th>72</th>\n",
       "      <td>Susana</td>\n",
       "      <td>40225</td>\n",
       "      <td>1.0</td>\n",
       "      <td>2017-01-16</td>\n",
       "      <td>2017-01-21</td>\n",
       "      <td>5.0</td>\n",
       "    </tr>\n",
       "    <tr>\n",
       "      <th>76</th>\n",
       "      <td>Susana</td>\n",
       "      <td>40215</td>\n",
       "      <td>1.0</td>\n",
       "      <td>2017-01-11</td>\n",
       "      <td>2017-01-16</td>\n",
       "      <td>5.0</td>\n",
       "    </tr>\n",
       "    <tr>\n",
       "      <th>84</th>\n",
       "      <td>Susana</td>\n",
       "      <td>40199</td>\n",
       "      <td>1.0</td>\n",
       "      <td>2016-12-30</td>\n",
       "      <td>2017-01-04</td>\n",
       "      <td>5.0</td>\n",
       "    </tr>\n",
       "    <tr>\n",
       "      <th>100</th>\n",
       "      <td>Pati</td>\n",
       "      <td>20181</td>\n",
       "      <td>1.0</td>\n",
       "      <td>2016-12-09</td>\n",
       "      <td>2016-12-15</td>\n",
       "      <td>6.0</td>\n",
       "    </tr>\n",
       "    <tr>\n",
       "      <th>105</th>\n",
       "      <td>Susana</td>\n",
       "      <td>40107</td>\n",
       "      <td>1.0</td>\n",
       "      <td>2016-12-01</td>\n",
       "      <td>2016-12-06</td>\n",
       "      <td>5.0</td>\n",
       "    </tr>\n",
       "    <tr>\n",
       "      <th>118</th>\n",
       "      <td>Susana</td>\n",
       "      <td>40169</td>\n",
       "      <td>1.0</td>\n",
       "      <td>2016-12-02</td>\n",
       "      <td>2016-12-07</td>\n",
       "      <td>5.0</td>\n",
       "    </tr>\n",
       "    <tr>\n",
       "      <th>125</th>\n",
       "      <td>Susana</td>\n",
       "      <td>40166</td>\n",
       "      <td>1.0</td>\n",
       "      <td>2016-11-30</td>\n",
       "      <td>2016-12-05</td>\n",
       "      <td>5.0</td>\n",
       "    </tr>\n",
       "    <tr>\n",
       "      <th>133</th>\n",
       "      <td>Susana</td>\n",
       "      <td>40066</td>\n",
       "      <td>1.0</td>\n",
       "      <td>2016-10-19</td>\n",
       "      <td>2016-10-25</td>\n",
       "      <td>6.0</td>\n",
       "    </tr>\n",
       "    <tr>\n",
       "      <th>134</th>\n",
       "      <td>Susana</td>\n",
       "      <td>40019</td>\n",
       "      <td>1.0</td>\n",
       "      <td>2016-10-01</td>\n",
       "      <td>2016-10-07</td>\n",
       "      <td>6.0</td>\n",
       "    </tr>\n",
       "    <tr>\n",
       "      <th>142</th>\n",
       "      <td>Susana</td>\n",
       "      <td>40156</td>\n",
       "      <td>1.0</td>\n",
       "      <td>2016-11-20</td>\n",
       "      <td>2016-11-25</td>\n",
       "      <td>5.0</td>\n",
       "    </tr>\n",
       "    <tr>\n",
       "      <th>143</th>\n",
       "      <td>Susana</td>\n",
       "      <td>40152</td>\n",
       "      <td>1.0</td>\n",
       "      <td>2016-11-16</td>\n",
       "      <td>2016-11-22</td>\n",
       "      <td>6.0</td>\n",
       "    </tr>\n",
       "    <tr>\n",
       "      <th>167</th>\n",
       "      <td>Susana</td>\n",
       "      <td>40122</td>\n",
       "      <td>1.0</td>\n",
       "      <td>2016-11-01</td>\n",
       "      <td>2016-11-07</td>\n",
       "      <td>6.0</td>\n",
       "    </tr>\n",
       "    <tr>\n",
       "      <th>170</th>\n",
       "      <td>Susana</td>\n",
       "      <td>10053</td>\n",
       "      <td>1.0</td>\n",
       "      <td>2016-10-19</td>\n",
       "      <td>2016-10-04</td>\n",
       "      <td>-15.0</td>\n",
       "    </tr>\n",
       "  </tbody>\n",
       "</table>\n",
       "</div>"
      ],
      "text/plain": [
       "        int     id  r_week  release_f     cdweek  release_week\n",
       "32   Susana  40284     1.0 2017-03-15 2017-03-21           6.0\n",
       "42   Susana  40268     1.0 2017-03-01 2017-03-07           6.0\n",
       "62     Pati  20239     1.0 2017-02-01 2017-02-06           5.0\n",
       "66   Susana  40194     1.0 2016-12-24 2016-12-30           6.0\n",
       "72   Susana  40225     1.0 2017-01-16 2017-01-21           5.0\n",
       "76   Susana  40215     1.0 2017-01-11 2017-01-16           5.0\n",
       "84   Susana  40199     1.0 2016-12-30 2017-01-04           5.0\n",
       "100    Pati  20181     1.0 2016-12-09 2016-12-15           6.0\n",
       "105  Susana  40107     1.0 2016-12-01 2016-12-06           5.0\n",
       "118  Susana  40169     1.0 2016-12-02 2016-12-07           5.0\n",
       "125  Susana  40166     1.0 2016-11-30 2016-12-05           5.0\n",
       "133  Susana  40066     1.0 2016-10-19 2016-10-25           6.0\n",
       "134  Susana  40019     1.0 2016-10-01 2016-10-07           6.0\n",
       "142  Susana  40156     1.0 2016-11-20 2016-11-25           5.0\n",
       "143  Susana  40152     1.0 2016-11-16 2016-11-22           6.0\n",
       "167  Susana  40122     1.0 2016-11-01 2016-11-07           6.0\n",
       "170  Susana  10053     1.0 2016-10-19 2016-10-04         -15.0"
      ]
     },
     "execution_count": 35,
     "metadata": {},
     "output_type": "execute_result"
    }
   ],
   "source": [
    "df.loc[df.release_week < 7,['int', 'id', 'r_week', 'release_f', 'cdweek', 'release_week']]"
   ]
  },
  {
   "cell_type": "markdown",
   "metadata": {},
   "source": [
    "Response rate:"
   ]
  },
  {
   "cell_type": "code",
   "execution_count": 36,
   "metadata": {
    "collapsed": true,
    "hideCode": false,
    "hidePrompt": false
   },
   "outputs": [
    {
     "name": "stdout",
     "output_type": "stream",
     "text": [
      "0.8044444444444444\n"
     ]
    }
   ],
   "source": [
    "tab  = df.loc[ (today > df.week_deadline) | (df.r_week == 1), 'r_week'].value_counts()\n",
    "rr_week = [i / sum(list(tab)) for i in tab][0]\n",
    "print(rr_week)"
   ]
  },
  {
   "cell_type": "markdown",
   "metadata": {},
   "source": [
    "Descriptives of the difference between date of release and interview first week. "
   ]
  },
  {
   "cell_type": "code",
   "execution_count": 37,
   "metadata": {
    "collapsed": true,
    "hideCode": false,
    "hidePrompt": false
   },
   "outputs": [
    {
     "data": {
      "text/plain": [
       "count    181.000000\n",
       "mean      11.209945\n",
       "std        4.930642\n",
       "min      -15.000000\n",
       "25%        8.000000\n",
       "50%       10.000000\n",
       "75%       14.000000\n",
       "max       26.000000\n",
       "Name: release_week, dtype: float64"
      ]
     },
     "execution_count": 37,
     "metadata": {},
     "output_type": "execute_result"
    }
   ],
   "source": [
    "df.loc[df.r_week == 1, 'release_week'].describe()"
   ]
  },
  {
   "cell_type": "markdown",
   "metadata": {
    "hideCode": false,
    "hidePrompt": false
   },
   "source": [
    "\n",
    "# Two Months\n",
    " "
   ]
  },
  {
   "cell_type": "code",
   "execution_count": 38,
   "metadata": {
    "collapsed": true,
    "hideCode": false,
    "hidePrompt": false
   },
   "outputs": [],
   "source": [
    "df['r_2months'] = df['r_2months'].str.contains(\"s|S\").astype(float)\n",
    "df['r_2months'] = df.r_2months.fillna(0)"
   ]
  },
  {
   "cell_type": "code",
   "execution_count": 39,
   "metadata": {
    "collapsed": true,
    "hideCode": false,
    "hidePrompt": false
   },
   "outputs": [],
   "source": [
    "df['cd2months'] = [clean_dates(i) for i in df['d2months']]"
   ]
  },
  {
   "cell_type": "markdown",
   "metadata": {},
   "source": [
    "Some cases with issues:"
   ]
  },
  {
   "cell_type": "code",
   "execution_count": 40,
   "metadata": {
    "collapsed": true,
    "hideCode": false,
    "hidePrompt": false
   },
   "outputs": [],
   "source": [
    "# replace errors in data entry\n",
    "# errors = ['27/2']\n",
    "# new_values = ['02/27/2017']\n",
    "\n",
    "# for i in range(0,len(errors)):\n",
    "#    df.loc[df['d2months'] == errors[i], 'cd2months'] = pd.to_datetime(new_values[i])"
   ]
  },
  {
   "cell_type": "code",
   "execution_count": 41,
   "metadata": {
    "collapsed": true,
    "hideCode": false,
    "hidePrompt": false
   },
   "outputs": [],
   "source": [
    "s = (df.r_2months == 1)\n",
    "#df.loc[s, 'cd2months'].isnull().value_counts()"
   ]
  },
  {
   "cell_type": "code",
   "execution_count": 42,
   "metadata": {
    "collapsed": true,
    "hideCode": false,
    "hidePrompt": false
   },
   "outputs": [],
   "source": [
    "df = df.assign(release_2months = (df.cd2months - df.release_f).dt.days)\n",
    "#df.release_2months.describe()"
   ]
  },
  {
   "cell_type": "markdown",
   "metadata": {},
   "source": [
    "Plot of the difference between release and date of two-months interview."
   ]
  },
  {
   "cell_type": "code",
   "execution_count": 43,
   "metadata": {
    "hideCode": false,
    "hidePrompt": false
   },
   "outputs": [
    {
     "data": {
      "image/png": "[encoded data removed]",
      "text/plain": [
       "<Figure size 432x288 with 1 Axes>"
      ]
     },
     "metadata": {},
     "output_type": "display_data"
    }
   ],
   "source": [
    "ax = df.release_2months.hist(bins = 60);\n",
    "ax.set_xlabel('Días desde la salida en que la encuesta de 2 meses fue aplicada');"
   ]
  },
  {
   "cell_type": "markdown",
   "metadata": {},
   "source": [
    "Some issues:"
   ]
  },
  {
   "cell_type": "code",
   "execution_count": 44,
   "metadata": {
    "hideCode": false,
    "hidePrompt": false
   },
   "outputs": [
    {
     "data": {
      "text/html": [
       "<div>\n",
       "<style scoped>\n",
       "    .dataframe tbody tr th:only-of-type {\n",
       "        vertical-align: middle;\n",
       "    }\n",
       "\n",
       "    .dataframe tbody tr th {\n",
       "        vertical-align: top;\n",
       "    }\n",
       "\n",
       "    .dataframe thead th {\n",
       "        text-align: right;\n",
       "    }\n",
       "</style>\n",
       "<table border=\"1\" class=\"dataframe\">\n",
       "  <thead>\n",
       "    <tr style=\"text-align: right;\">\n",
       "      <th></th>\n",
       "      <th>int</th>\n",
       "      <th>id</th>\n",
       "      <th>r_2months</th>\n",
       "      <th>release_f</th>\n",
       "      <th>cd2months</th>\n",
       "      <th>two_months_deadline</th>\n",
       "      <th>release_2months</th>\n",
       "    </tr>\n",
       "  </thead>\n",
       "  <tbody>\n",
       "  </tbody>\n",
       "</table>\n",
       "</div>"
      ],
      "text/plain": [
       "Empty DataFrame\n",
       "Columns: [int, id, r_2months, release_f, cd2months, two_months_deadline, release_2months]\n",
       "Index: []"
      ]
     },
     "execution_count": 44,
     "metadata": {},
     "output_type": "execute_result"
    }
   ],
   "source": [
    "df['two_months_deadline'] = pd.DatetimeIndex( df['release_f'] ) + pd.DateOffset(months = 5)\n",
    "s = ((df.r_2months == 1) & (today > df.two_months_deadline)) & ( (df.release_2months <= 0) | (df.cd2months.isnull()))\n",
    "df.loc[s,['int', 'id', 'r_2months', 'release_f', 'cd2months', 'two_months_deadline', 'release_2months']].sort_values('id')"
   ]
  },
  {
   "cell_type": "code",
   "execution_count": 45,
   "metadata": {
    "collapsed": true,
    "hideCode": false,
    "hidePrompt": false
   },
   "outputs": [],
   "source": [
    "tab  = df.loc[ (today > df.two_months_deadline) | (df.r_2months == 1), 'r_2months'].value_counts()\n",
    "# print(tab)\n",
    "rr_2months = [i / sum(list(tab)) for i in tab][0]\n",
    "# print(rr_2months)"
   ]
  },
  {
   "cell_type": "code",
   "execution_count": 46,
   "metadata": {
    "collapsed": true,
    "hideCode": false,
    "hidePrompt": false
   },
   "outputs": [
    {
     "data": {
      "text/html": [
       "<div>\n",
       "<style scoped>\n",
       "    .dataframe tbody tr th:only-of-type {\n",
       "        vertical-align: middle;\n",
       "    }\n",
       "\n",
       "    .dataframe tbody tr th {\n",
       "        vertical-align: top;\n",
       "    }\n",
       "\n",
       "    .dataframe thead th {\n",
       "        text-align: right;\n",
       "    }\n",
       "</style>\n",
       "<table border=\"1\" class=\"dataframe\">\n",
       "  <thead>\n",
       "    <tr style=\"text-align: right;\">\n",
       "      <th></th>\n",
       "      <th>int</th>\n",
       "      <th>id</th>\n",
       "      <th>r_2months</th>\n",
       "      <th>release_f</th>\n",
       "      <th>cd2months</th>\n",
       "      <th>two_months_deadline</th>\n",
       "      <th>release_2months</th>\n",
       "    </tr>\n",
       "  </thead>\n",
       "  <tbody>\n",
       "    <tr>\n",
       "      <th>75</th>\n",
       "      <td>Marisol</td>\n",
       "      <td>10291</td>\n",
       "      <td>1.0</td>\n",
       "      <td>2017-03-22</td>\n",
       "      <td>2017-07-04</td>\n",
       "      <td>2017-08-22</td>\n",
       "      <td>104.0</td>\n",
       "    </tr>\n",
       "    <tr>\n",
       "      <th>23</th>\n",
       "      <td>Marcela</td>\n",
       "      <td>50249</td>\n",
       "      <td>1.0</td>\n",
       "      <td>2017-02-09</td>\n",
       "      <td>2017-05-30</td>\n",
       "      <td>2017-07-09</td>\n",
       "      <td>110.0</td>\n",
       "    </tr>\n",
       "    <tr>\n",
       "      <th>27</th>\n",
       "      <td>Javiera</td>\n",
       "      <td>10233</td>\n",
       "      <td>1.0</td>\n",
       "      <td>2017-01-25</td>\n",
       "      <td>2017-05-17</td>\n",
       "      <td>2017-06-25</td>\n",
       "      <td>112.0</td>\n",
       "    </tr>\n",
       "    <tr>\n",
       "      <th>158</th>\n",
       "      <td>Javiera</td>\n",
       "      <td>10087</td>\n",
       "      <td>1.0</td>\n",
       "      <td>2016-10-19</td>\n",
       "      <td>2017-02-09</td>\n",
       "      <td>2017-03-19</td>\n",
       "      <td>113.0</td>\n",
       "    </tr>\n",
       "    <tr>\n",
       "      <th>143</th>\n",
       "      <td>Susana</td>\n",
       "      <td>40152</td>\n",
       "      <td>1.0</td>\n",
       "      <td>2016-11-16</td>\n",
       "      <td>2017-03-11</td>\n",
       "      <td>2017-04-16</td>\n",
       "      <td>115.0</td>\n",
       "    </tr>\n",
       "    <tr>\n",
       "      <th>54</th>\n",
       "      <td>Marcela</td>\n",
       "      <td>50180</td>\n",
       "      <td>1.0</td>\n",
       "      <td>2016-12-07</td>\n",
       "      <td>2017-04-05</td>\n",
       "      <td>2017-05-07</td>\n",
       "      <td>119.0</td>\n",
       "    </tr>\n",
       "    <tr>\n",
       "      <th>86</th>\n",
       "      <td>Pati</td>\n",
       "      <td>20224</td>\n",
       "      <td>1.0</td>\n",
       "      <td>2017-01-16</td>\n",
       "      <td>2017-05-16</td>\n",
       "      <td>2017-06-16</td>\n",
       "      <td>120.0</td>\n",
       "    </tr>\n",
       "    <tr>\n",
       "      <th>30</th>\n",
       "      <td>Marisol</td>\n",
       "      <td>50271</td>\n",
       "      <td>1.0</td>\n",
       "      <td>2017-03-06</td>\n",
       "      <td>2017-07-06</td>\n",
       "      <td>2017-08-06</td>\n",
       "      <td>122.0</td>\n",
       "    </tr>\n",
       "    <tr>\n",
       "      <th>22</th>\n",
       "      <td>Marcela</td>\n",
       "      <td>50281</td>\n",
       "      <td>1.0</td>\n",
       "      <td>2017-03-12</td>\n",
       "      <td>2017-07-13</td>\n",
       "      <td>2017-08-12</td>\n",
       "      <td>123.0</td>\n",
       "    </tr>\n",
       "    <tr>\n",
       "      <th>199</th>\n",
       "      <td>Marcela</td>\n",
       "      <td>50205</td>\n",
       "      <td>1.0</td>\n",
       "      <td>2016-12-28</td>\n",
       "      <td>2017-05-03</td>\n",
       "      <td>2017-05-28</td>\n",
       "      <td>126.0</td>\n",
       "    </tr>\n",
       "    <tr>\n",
       "      <th>58</th>\n",
       "      <td>Marcela</td>\n",
       "      <td>50231</td>\n",
       "      <td>1.0</td>\n",
       "      <td>2017-01-22</td>\n",
       "      <td>2017-06-01</td>\n",
       "      <td>2017-06-22</td>\n",
       "      <td>130.0</td>\n",
       "    </tr>\n",
       "    <tr>\n",
       "      <th>70</th>\n",
       "      <td>Susana</td>\n",
       "      <td>10197</td>\n",
       "      <td>1.0</td>\n",
       "      <td>2016-12-26</td>\n",
       "      <td>2017-05-10</td>\n",
       "      <td>2017-05-26</td>\n",
       "      <td>135.0</td>\n",
       "    </tr>\n",
       "    <tr>\n",
       "      <th>145</th>\n",
       "      <td>Susana</td>\n",
       "      <td>10158</td>\n",
       "      <td>1.0</td>\n",
       "      <td>2016-11-21</td>\n",
       "      <td>2017-04-07</td>\n",
       "      <td>2017-04-21</td>\n",
       "      <td>137.0</td>\n",
       "    </tr>\n",
       "    <tr>\n",
       "      <th>37</th>\n",
       "      <td>Marisol</td>\n",
       "      <td>50251</td>\n",
       "      <td>1.0</td>\n",
       "      <td>2017-02-14</td>\n",
       "      <td>2017-07-27</td>\n",
       "      <td>2017-07-14</td>\n",
       "      <td>163.0</td>\n",
       "    </tr>\n",
       "  </tbody>\n",
       "</table>\n",
       "</div>"
      ],
      "text/plain": [
       "         int     id  r_2months  release_f  cd2months two_months_deadline  \\\n",
       "75   Marisol  10291        1.0 2017-03-22 2017-07-04          2017-08-22   \n",
       "23   Marcela  50249        1.0 2017-02-09 2017-05-30          2017-07-09   \n",
       "27   Javiera  10233        1.0 2017-01-25 2017-05-17          2017-06-25   \n",
       "158  Javiera  10087        1.0 2016-10-19 2017-02-09          2017-03-19   \n",
       "143   Susana  40152        1.0 2016-11-16 2017-03-11          2017-04-16   \n",
       "54   Marcela  50180        1.0 2016-12-07 2017-04-05          2017-05-07   \n",
       "86      Pati  20224        1.0 2017-01-16 2017-05-16          2017-06-16   \n",
       "30   Marisol  50271        1.0 2017-03-06 2017-07-06          2017-08-06   \n",
       "22   Marcela  50281        1.0 2017-03-12 2017-07-13          2017-08-12   \n",
       "199  Marcela  50205        1.0 2016-12-28 2017-05-03          2017-05-28   \n",
       "58   Marcela  50231        1.0 2017-01-22 2017-06-01          2017-06-22   \n",
       "70    Susana  10197        1.0 2016-12-26 2017-05-10          2017-05-26   \n",
       "145   Susana  10158        1.0 2016-11-21 2017-04-07          2017-04-21   \n",
       "37   Marisol  50251        1.0 2017-02-14 2017-07-27          2017-07-14   \n",
       "\n",
       "     release_2months  \n",
       "75             104.0  \n",
       "23             110.0  \n",
       "27             112.0  \n",
       "158            113.0  \n",
       "143            115.0  \n",
       "54             119.0  \n",
       "86             120.0  \n",
       "30             122.0  \n",
       "22             123.0  \n",
       "199            126.0  \n",
       "58             130.0  \n",
       "70             135.0  \n",
       "145            137.0  \n",
       "37             163.0  "
      ]
     },
     "execution_count": 46,
     "metadata": {},
     "output_type": "execute_result"
    }
   ],
   "source": [
    "df.loc[np.abs(df.release_2months) > 100,['int', 'id', 'r_2months', 'release_f', \n",
    "                                         'cd2months', 'two_months_deadline', \n",
    "                                         'release_2months']].sort_values('release_2months')"
   ]
  },
  {
   "cell_type": "code",
   "execution_count": 47,
   "metadata": {},
   "outputs": [
    {
     "data": {
      "text/html": [
       "<div>\n",
       "<style scoped>\n",
       "    .dataframe tbody tr th:only-of-type {\n",
       "        vertical-align: middle;\n",
       "    }\n",
       "\n",
       "    .dataframe tbody tr th {\n",
       "        vertical-align: top;\n",
       "    }\n",
       "\n",
       "    .dataframe thead th {\n",
       "        text-align: right;\n",
       "    }\n",
       "</style>\n",
       "<table border=\"1\" class=\"dataframe\">\n",
       "  <thead>\n",
       "    <tr style=\"text-align: right;\">\n",
       "      <th></th>\n",
       "      <th>int</th>\n",
       "      <th>id</th>\n",
       "      <th>r_2months</th>\n",
       "      <th>release_f</th>\n",
       "      <th>cd2months</th>\n",
       "      <th>two_months_deadline</th>\n",
       "      <th>release_2months</th>\n",
       "    </tr>\n",
       "  </thead>\n",
       "  <tbody>\n",
       "  </tbody>\n",
       "</table>\n",
       "</div>"
      ],
      "text/plain": [
       "Empty DataFrame\n",
       "Columns: [int, id, r_2months, release_f, cd2months, two_months_deadline, release_2months]\n",
       "Index: []"
      ]
     },
     "execution_count": 47,
     "metadata": {},
     "output_type": "execute_result"
    }
   ],
   "source": [
    "df.loc[np.abs(df.release_2months) < 10 ,['int', 'id', \n",
    "                                         'r_2months', 'release_f', 'cd2months', \n",
    "                                         'two_months_deadline', \n",
    "                                         'release_2months']].sort_values('release_2months')"
   ]
  },
  {
   "cell_type": "markdown",
   "metadata": {},
   "source": [
    "Descriptives:"
   ]
  },
  {
   "cell_type": "code",
   "execution_count": 48,
   "metadata": {
    "collapsed": true,
    "hideCode": false,
    "hidePrompt": false
   },
   "outputs": [
    {
     "data": {
      "text/plain": [
       "count    177.000000\n",
       "mean      70.632768\n",
       "std       19.317198\n",
       "min       46.000000\n",
       "25%       59.000000\n",
       "50%       64.000000\n",
       "75%       78.000000\n",
       "max      163.000000\n",
       "Name: release_2months, dtype: float64"
      ]
     },
     "execution_count": 48,
     "metadata": {},
     "output_type": "execute_result"
    }
   ],
   "source": [
    "df.loc[df.r_2months == 1, 'release_2months'].describe()"
   ]
  },
  {
   "cell_type": "markdown",
   "metadata": {
    "hideCode": false,
    "hidePrompt": false
   },
   "source": [
    "## Six Months"
   ]
  },
  {
   "cell_type": "code",
   "execution_count": 49,
   "metadata": {
    "collapsed": true,
    "hideCode": false,
    "hidePrompt": false
   },
   "outputs": [],
   "source": [
    "\n",
    "df.r_6months.value_counts()\n",
    "df['r_6months'] = df['r_6months'].str.contains(\"s|S\").astype(float)\n",
    "df['r_6months'] = df.r_6months.fillna(0)\n"
   ]
  },
  {
   "cell_type": "code",
   "execution_count": 50,
   "metadata": {
    "hideCode": false,
    "hidePrompt": false
   },
   "outputs": [
    {
     "data": {
      "text/plain": [
       "False    225\n",
       "dtype: int64"
      ]
     },
     "execution_count": 50,
     "metadata": {},
     "output_type": "execute_result"
    }
   ],
   "source": [
    "df['cd6months'] = [clean_dates(i) for i in df['d6months']]\n",
    "\n",
    "m = df.cd6months.isnull() & df.d6months.notnull()\n",
    "m.value_counts()"
   ]
  },
  {
   "cell_type": "code",
   "execution_count": 51,
   "metadata": {
    "collapsed": true,
    "hideCode": false,
    "hidePrompt": false
   },
   "outputs": [],
   "source": [
    "s = (df.r_6months == 1)"
   ]
  },
  {
   "cell_type": "markdown",
   "metadata": {},
   "source": [
    "There is some issues here:"
   ]
  },
  {
   "cell_type": "code",
   "execution_count": 52,
   "metadata": {
    "hideCode": false,
    "hidePrompt": false
   },
   "outputs": [
    {
     "data": {
      "text/plain": [
       "95   2017-07-30\n",
       "Name: cd6months, dtype: datetime64[ns]"
      ]
     },
     "execution_count": 52,
     "metadata": {},
     "output_type": "execute_result"
    }
   ],
   "source": [
    "df.loc[df.id == 50209, 'cd6months']"
   ]
  },
  {
   "cell_type": "code",
   "execution_count": 53,
   "metadata": {
    "hideCode": false,
    "hidePrompt": false
   },
   "outputs": [
    {
     "data": {
      "image/png": "[encoded data removed]",
      "text/plain": [
       "<Figure size 432x288 with 1 Axes>"
      ]
     },
     "metadata": {},
     "output_type": "display_data"
    }
   ],
   "source": [
    "df = df.assign(release_6months = (df.cd6months - df.release_f).dt.days)\n",
    "\n",
    "sns.distplot(df.loc[df.r_6months==1, 'release_6months'], bins=25, kde=False);\n",
    "plt.axvline(x=(30.5*6), color='r', ls='dotted', alpha=0.6, lw=1)\n",
    "plt.text(187, 31, '6 meses', alpha=0.8)\n",
    "plt.xlabel('Días desde la salida en que la encuesta de 6 meses fue aplicada');\n",
    "plt.savefig('plots/dias_6meses.pdf', dpi = 600)"
   ]
  },
  {
   "cell_type": "code",
   "execution_count": 54,
   "metadata": {
    "hideCode": false,
    "hidePrompt": false
   },
   "outputs": [
    {
     "data": {
      "text/html": [
       "<div>\n",
       "<style scoped>\n",
       "    .dataframe tbody tr th:only-of-type {\n",
       "        vertical-align: middle;\n",
       "    }\n",
       "\n",
       "    .dataframe tbody tr th {\n",
       "        vertical-align: top;\n",
       "    }\n",
       "\n",
       "    .dataframe thead th {\n",
       "        text-align: right;\n",
       "    }\n",
       "</style>\n",
       "<table border=\"1\" class=\"dataframe\">\n",
       "  <thead>\n",
       "    <tr style=\"text-align: right;\">\n",
       "      <th></th>\n",
       "      <th>int</th>\n",
       "      <th>id</th>\n",
       "      <th>r_6months</th>\n",
       "      <th>release_f</th>\n",
       "      <th>d6months</th>\n",
       "      <th>cd6months</th>\n",
       "      <th>six_months_deadline</th>\n",
       "      <th>release_6months</th>\n",
       "    </tr>\n",
       "  </thead>\n",
       "  <tbody>\n",
       "  </tbody>\n",
       "</table>\n",
       "</div>"
      ],
      "text/plain": [
       "Empty DataFrame\n",
       "Columns: [int, id, r_6months, release_f, d6months, cd6months, six_months_deadline, release_6months]\n",
       "Index: []"
      ]
     },
     "execution_count": 54,
     "metadata": {},
     "output_type": "execute_result"
    }
   ],
   "source": [
    "df['six_months_deadline'] = pd.DatetimeIndex( df['release_f'] ) + pd.DateOffset(months = 7)\n",
    "                                                                \n",
    "s = ((df.r_6months == 1) & (today > df.six_months_deadline)) & (\n",
    "    (df.release_6months <= 0) | (df.cd6months.isnull()))\n",
    "\n",
    "df.loc[s,['int', 'id', 'r_6months', 'release_f', 'd6months', \n",
    "          'cd6months', 'six_months_deadline', 'release_6months']].sort_values('id')"
   ]
  },
  {
   "cell_type": "markdown",
   "metadata": {
    "hideCode": false,
    "hidePrompt": false
   },
   "source": [
    "### Cases higher than 240 days since release\n",
    "\n",
    "r6_months (if respondent took part of wave 6 months) is not always consistent!"
   ]
  },
  {
   "cell_type": "code",
   "execution_count": 55,
   "metadata": {
    "collapsed": true,
    "hideCode": false,
    "hidePrompt": false
   },
   "outputs": [
    {
     "data": {
      "text/html": [
       "<div>\n",
       "<style scoped>\n",
       "    .dataframe tbody tr th:only-of-type {\n",
       "        vertical-align: middle;\n",
       "    }\n",
       "\n",
       "    .dataframe tbody tr th {\n",
       "        vertical-align: top;\n",
       "    }\n",
       "\n",
       "    .dataframe thead th {\n",
       "        text-align: right;\n",
       "    }\n",
       "</style>\n",
       "<table border=\"1\" class=\"dataframe\">\n",
       "  <thead>\n",
       "    <tr style=\"text-align: right;\">\n",
       "      <th></th>\n",
       "      <th>int</th>\n",
       "      <th>id</th>\n",
       "      <th>r_6months</th>\n",
       "      <th>release_f</th>\n",
       "      <th>cd6months</th>\n",
       "      <th>six_months_deadline</th>\n",
       "      <th>release_6months</th>\n",
       "    </tr>\n",
       "  </thead>\n",
       "  <tbody>\n",
       "    <tr>\n",
       "      <th>139</th>\n",
       "      <td>Marisol</td>\n",
       "      <td>50104</td>\n",
       "      <td>1.0</td>\n",
       "      <td>2016-10-24</td>\n",
       "      <td>2017-06-27</td>\n",
       "      <td>2017-05-24</td>\n",
       "      <td>246.0</td>\n",
       "    </tr>\n",
       "    <tr>\n",
       "      <th>187</th>\n",
       "      <td>Marcela</td>\n",
       "      <td>50060</td>\n",
       "      <td>1.0</td>\n",
       "      <td>2016-10-19</td>\n",
       "      <td>2017-06-26</td>\n",
       "      <td>2017-05-19</td>\n",
       "      <td>250.0</td>\n",
       "    </tr>\n",
       "    <tr>\n",
       "      <th>127</th>\n",
       "      <td>Javiera</td>\n",
       "      <td>30139</td>\n",
       "      <td>1.0</td>\n",
       "      <td>2016-11-04</td>\n",
       "      <td>2017-07-12</td>\n",
       "      <td>2017-06-04</td>\n",
       "      <td>250.0</td>\n",
       "    </tr>\n",
       "    <tr>\n",
       "      <th>131</th>\n",
       "      <td>Marisol</td>\n",
       "      <td>50070</td>\n",
       "      <td>1.0</td>\n",
       "      <td>2016-10-22</td>\n",
       "      <td>2017-06-29</td>\n",
       "      <td>2017-05-22</td>\n",
       "      <td>250.0</td>\n",
       "    </tr>\n",
       "    <tr>\n",
       "      <th>162</th>\n",
       "      <td>Susana</td>\n",
       "      <td>10149</td>\n",
       "      <td>1.0</td>\n",
       "      <td>2016-11-14</td>\n",
       "      <td>2017-07-27</td>\n",
       "      <td>2017-06-14</td>\n",
       "      <td>255.0</td>\n",
       "    </tr>\n",
       "    <tr>\n",
       "      <th>176</th>\n",
       "      <td>Javiera</td>\n",
       "      <td>30021</td>\n",
       "      <td>1.0</td>\n",
       "      <td>2016-10-02</td>\n",
       "      <td>2017-06-21</td>\n",
       "      <td>2017-05-02</td>\n",
       "      <td>262.0</td>\n",
       "    </tr>\n",
       "    <tr>\n",
       "      <th>81</th>\n",
       "      <td>Marcela</td>\n",
       "      <td>50154</td>\n",
       "      <td>1.0</td>\n",
       "      <td>2016-11-18</td>\n",
       "      <td>2017-08-08</td>\n",
       "      <td>2017-06-18</td>\n",
       "      <td>263.0</td>\n",
       "    </tr>\n",
       "    <tr>\n",
       "      <th>121</th>\n",
       "      <td>Marcela</td>\n",
       "      <td>50150</td>\n",
       "      <td>1.0</td>\n",
       "      <td>2016-11-14</td>\n",
       "      <td>2017-08-08</td>\n",
       "      <td>2017-06-14</td>\n",
       "      <td>267.0</td>\n",
       "    </tr>\n",
       "    <tr>\n",
       "      <th>150</th>\n",
       "      <td>Javiera</td>\n",
       "      <td>30116</td>\n",
       "      <td>1.0</td>\n",
       "      <td>2016-10-19</td>\n",
       "      <td>2017-07-14</td>\n",
       "      <td>2017-05-19</td>\n",
       "      <td>268.0</td>\n",
       "    </tr>\n",
       "    <tr>\n",
       "      <th>120</th>\n",
       "      <td>Pati</td>\n",
       "      <td>20081</td>\n",
       "      <td>1.0</td>\n",
       "      <td>2016-10-19</td>\n",
       "      <td>2017-07-18</td>\n",
       "      <td>2017-05-19</td>\n",
       "      <td>272.0</td>\n",
       "    </tr>\n",
       "    <tr>\n",
       "      <th>140</th>\n",
       "      <td>Marisol</td>\n",
       "      <td>50133</td>\n",
       "      <td>1.0</td>\n",
       "      <td>2016-10-19</td>\n",
       "      <td>2017-07-18</td>\n",
       "      <td>2017-05-19</td>\n",
       "      <td>272.0</td>\n",
       "    </tr>\n",
       "    <tr>\n",
       "      <th>107</th>\n",
       "      <td>Marisol</td>\n",
       "      <td>20142</td>\n",
       "      <td>1.0</td>\n",
       "      <td>2016-11-16</td>\n",
       "      <td>2017-08-16</td>\n",
       "      <td>2017-06-16</td>\n",
       "      <td>273.0</td>\n",
       "    </tr>\n",
       "    <tr>\n",
       "      <th>168</th>\n",
       "      <td>Marcela</td>\n",
       "      <td>50124</td>\n",
       "      <td>1.0</td>\n",
       "      <td>2016-10-19</td>\n",
       "      <td>2017-07-20</td>\n",
       "      <td>2017-05-19</td>\n",
       "      <td>274.0</td>\n",
       "    </tr>\n",
       "    <tr>\n",
       "      <th>7</th>\n",
       "      <td>Pati</td>\n",
       "      <td>20013</td>\n",
       "      <td>1.0</td>\n",
       "      <td>2016-09-24</td>\n",
       "      <td>2017-06-26</td>\n",
       "      <td>2017-04-24</td>\n",
       "      <td>275.0</td>\n",
       "    </tr>\n",
       "    <tr>\n",
       "      <th>128</th>\n",
       "      <td>Pati</td>\n",
       "      <td>10075</td>\n",
       "      <td>1.0</td>\n",
       "      <td>2016-10-19</td>\n",
       "      <td>2017-07-28</td>\n",
       "      <td>2017-05-19</td>\n",
       "      <td>282.0</td>\n",
       "    </tr>\n",
       "    <tr>\n",
       "      <th>123</th>\n",
       "      <td>Pati</td>\n",
       "      <td>10119</td>\n",
       "      <td>1.0</td>\n",
       "      <td>2016-10-17</td>\n",
       "      <td>2017-08-31</td>\n",
       "      <td>2017-05-17</td>\n",
       "      <td>318.0</td>\n",
       "    </tr>\n",
       "    <tr>\n",
       "      <th>57</th>\n",
       "      <td>Javiera</td>\n",
       "      <td>30247</td>\n",
       "      <td>1.0</td>\n",
       "      <td>2017-02-07</td>\n",
       "      <td>2018-08-18</td>\n",
       "      <td>2017-09-07</td>\n",
       "      <td>557.0</td>\n",
       "    </tr>\n",
       "  </tbody>\n",
       "</table>\n",
       "</div>"
      ],
      "text/plain": [
       "         int     id  r_6months  release_f  cd6months six_months_deadline  \\\n",
       "139  Marisol  50104        1.0 2016-10-24 2017-06-27          2017-05-24   \n",
       "187  Marcela  50060        1.0 2016-10-19 2017-06-26          2017-05-19   \n",
       "127  Javiera  30139        1.0 2016-11-04 2017-07-12          2017-06-04   \n",
       "131  Marisol  50070        1.0 2016-10-22 2017-06-29          2017-05-22   \n",
       "162   Susana  10149        1.0 2016-11-14 2017-07-27          2017-06-14   \n",
       "176  Javiera  30021        1.0 2016-10-02 2017-06-21          2017-05-02   \n",
       "81   Marcela  50154        1.0 2016-11-18 2017-08-08          2017-06-18   \n",
       "121  Marcela  50150        1.0 2016-11-14 2017-08-08          2017-06-14   \n",
       "150  Javiera  30116        1.0 2016-10-19 2017-07-14          2017-05-19   \n",
       "120     Pati  20081        1.0 2016-10-19 2017-07-18          2017-05-19   \n",
       "140  Marisol  50133        1.0 2016-10-19 2017-07-18          2017-05-19   \n",
       "107  Marisol  20142        1.0 2016-11-16 2017-08-16          2017-06-16   \n",
       "168  Marcela  50124        1.0 2016-10-19 2017-07-20          2017-05-19   \n",
       "7       Pati  20013        1.0 2016-09-24 2017-06-26          2017-04-24   \n",
       "128     Pati  10075        1.0 2016-10-19 2017-07-28          2017-05-19   \n",
       "123     Pati  10119        1.0 2016-10-17 2017-08-31          2017-05-17   \n",
       "57   Javiera  30247        1.0 2017-02-07 2018-08-18          2017-09-07   \n",
       "\n",
       "     release_6months  \n",
       "139            246.0  \n",
       "187            250.0  \n",
       "127            250.0  \n",
       "131            250.0  \n",
       "162            255.0  \n",
       "176            262.0  \n",
       "81             263.0  \n",
       "121            267.0  \n",
       "150            268.0  \n",
       "120            272.0  \n",
       "140            272.0  \n",
       "107            273.0  \n",
       "168            274.0  \n",
       "7              275.0  \n",
       "128            282.0  \n",
       "123            318.0  \n",
       "57             557.0  "
      ]
     },
     "execution_count": 55,
     "metadata": {},
     "output_type": "execute_result"
    }
   ],
   "source": [
    "df.loc[np.abs(df.release_6months) > 240, ['int', 'id', 'r_6months', 'release_f', 'cd6months', \n",
    "                                          'six_months_deadline', \n",
    "                                          'release_6months']].sort_values('release_6months')"
   ]
  },
  {
   "cell_type": "markdown",
   "metadata": {
    "hideCode": false,
    "hidePrompt": false
   },
   "source": [
    "### Cases lower than 150 days since release\n",
    "\n",
    "Same issue with r_6months"
   ]
  },
  {
   "cell_type": "code",
   "execution_count": 56,
   "metadata": {
    "collapsed": true,
    "hideCode": false,
    "hidePrompt": false
   },
   "outputs": [
    {
     "data": {
      "text/html": [
       "<div>\n",
       "<style scoped>\n",
       "    .dataframe tbody tr th:only-of-type {\n",
       "        vertical-align: middle;\n",
       "    }\n",
       "\n",
       "    .dataframe tbody tr th {\n",
       "        vertical-align: top;\n",
       "    }\n",
       "\n",
       "    .dataframe thead th {\n",
       "        text-align: right;\n",
       "    }\n",
       "</style>\n",
       "<table border=\"1\" class=\"dataframe\">\n",
       "  <thead>\n",
       "    <tr style=\"text-align: right;\">\n",
       "      <th></th>\n",
       "      <th>int</th>\n",
       "      <th>id</th>\n",
       "      <th>r_6months</th>\n",
       "      <th>release_f</th>\n",
       "      <th>cd6months</th>\n",
       "      <th>six_months_deadline</th>\n",
       "      <th>release_6months</th>\n",
       "    </tr>\n",
       "  </thead>\n",
       "  <tbody>\n",
       "    <tr>\n",
       "      <th>85</th>\n",
       "      <td>Pati</td>\n",
       "      <td>10182</td>\n",
       "      <td>1.0</td>\n",
       "      <td>2016-12-30</td>\n",
       "      <td>2017-05-16</td>\n",
       "      <td>2017-07-30</td>\n",
       "      <td>137.0</td>\n",
       "    </tr>\n",
       "    <tr>\n",
       "      <th>69</th>\n",
       "      <td>Susana</td>\n",
       "      <td>10098</td>\n",
       "      <td>1.0</td>\n",
       "      <td>2017-01-26</td>\n",
       "      <td>2017-06-20</td>\n",
       "      <td>2017-08-26</td>\n",
       "      <td>145.0</td>\n",
       "    </tr>\n",
       "    <tr>\n",
       "      <th>143</th>\n",
       "      <td>Susana</td>\n",
       "      <td>40152</td>\n",
       "      <td>1.0</td>\n",
       "      <td>2016-11-16</td>\n",
       "      <td>2017-04-11</td>\n",
       "      <td>2017-06-16</td>\n",
       "      <td>146.0</td>\n",
       "    </tr>\n",
       "    <tr>\n",
       "      <th>25</th>\n",
       "      <td>Susana</td>\n",
       "      <td>40235</td>\n",
       "      <td>1.0</td>\n",
       "      <td>2017-03-17</td>\n",
       "      <td>2017-08-11</td>\n",
       "      <td>2017-10-17</td>\n",
       "      <td>147.0</td>\n",
       "    </tr>\n",
       "  </tbody>\n",
       "</table>\n",
       "</div>"
      ],
      "text/plain": [
       "        int     id  r_6months  release_f  cd6months six_months_deadline  \\\n",
       "85     Pati  10182        1.0 2016-12-30 2017-05-16          2017-07-30   \n",
       "69   Susana  10098        1.0 2017-01-26 2017-06-20          2017-08-26   \n",
       "143  Susana  40152        1.0 2016-11-16 2017-04-11          2017-06-16   \n",
       "25   Susana  40235        1.0 2017-03-17 2017-08-11          2017-10-17   \n",
       "\n",
       "     release_6months  \n",
       "85             137.0  \n",
       "69             145.0  \n",
       "143            146.0  \n",
       "25             147.0  "
      ]
     },
     "execution_count": 56,
     "metadata": {},
     "output_type": "execute_result"
    }
   ],
   "source": [
    "df.loc[np.abs(df.release_6months) < 150, ['int', 'id', 'r_6months', 'release_f', 'cd6months', \n",
    "                                          'six_months_deadline', \n",
    "                                          'release_6months']].sort_values('release_6months')"
   ]
  },
  {
   "cell_type": "code",
   "execution_count": 57,
   "metadata": {
    "collapsed": true,
    "hideCode": false,
    "hidePrompt": false
   },
   "outputs": [
    {
     "name": "stdout",
     "output_type": "stream",
     "text": [
      "0.8755555555555555\n"
     ]
    }
   ],
   "source": [
    "tab  = df.loc[(today > df.six_months_deadline)  | (df.r_6months == 1), 'r_6months'].value_counts()\n",
    "# print(tab)\n",
    "rr_6months = [i / sum(list(tab)) for i in tab][0]\n",
    "print(rr_6months)"
   ]
  },
  {
   "cell_type": "markdown",
   "metadata": {},
   "source": [
    "Some descriptives:"
   ]
  },
  {
   "cell_type": "code",
   "execution_count": 58,
   "metadata": {
    "collapsed": true,
    "hideCode": false,
    "hidePrompt": false
   },
   "outputs": [
    {
     "data": {
      "text/plain": [
       "count    197.000000\n",
       "mean     194.923858\n",
       "std       40.503707\n",
       "min      137.000000\n",
       "25%      170.000000\n",
       "50%      186.000000\n",
       "75%      208.000000\n",
       "max      557.000000\n",
       "Name: release_6months, dtype: float64"
      ]
     },
     "execution_count": 58,
     "metadata": {},
     "output_type": "execute_result"
    }
   ],
   "source": [
    "df.loc[df.r_6months == 1, 'release_6months'].describe()"
   ]
  },
  {
   "cell_type": "markdown",
   "metadata": {
    "hideCode": false,
    "hidePrompt": false
   },
   "source": [
    "# Year"
   ]
  },
  {
   "cell_type": "code",
   "execution_count": 59,
   "metadata": {
    "hideCode": false,
    "hidePrompt": false
   },
   "outputs": [],
   "source": [
    "df.r_12months.value_counts()\n",
    "df['r_12months'] = df['r_12months'].str.contains(\"s|S\").astype(float)\n",
    "df['r_12months'] = df.r_12months.fillna(0)"
   ]
  },
  {
   "cell_type": "code",
   "execution_count": 60,
   "metadata": {
    "hideCode": false,
    "hidePrompt": false
   },
   "outputs": [
    {
     "data": {
      "text/plain": [
       "1.0    200\n",
       "0.0     25\n",
       "Name: r_12months, dtype: int64"
      ]
     },
     "execution_count": 60,
     "metadata": {},
     "output_type": "execute_result"
    }
   ],
   "source": [
    "df.r_12months.value_counts()"
   ]
  },
  {
   "cell_type": "code",
   "execution_count": 61,
   "metadata": {
    "hideCode": false,
    "hidePrompt": false
   },
   "outputs": [
    {
     "data": {
      "text/plain": [
       "False    224\n",
       "True       1\n",
       "dtype: int64"
      ]
     },
     "execution_count": 61,
     "metadata": {},
     "output_type": "execute_result"
    }
   ],
   "source": [
    "df['cd12months'] = [clean_dates(i) for i in df['d12months']]\n",
    "\n",
    "m = df.cd12months.isnull() & df.d12months.notnull()\n",
    "m.value_counts()"
   ]
  },
  {
   "cell_type": "code",
   "execution_count": 62,
   "metadata": {
    "hideCode": false,
    "hidePrompt": false
   },
   "outputs": [
    {
     "data": {
      "text/plain": [
       "True     200\n",
       "False     25\n",
       "Name: r_12months, dtype: int64"
      ]
     },
     "execution_count": 62,
     "metadata": {},
     "output_type": "execute_result"
    }
   ],
   "source": [
    "s = (df.r_12months == 1)\n",
    "s.value_counts()"
   ]
  },
  {
   "cell_type": "code",
   "execution_count": 63,
   "metadata": {
    "hideCode": false,
    "hidePrompt": false
   },
   "outputs": [
    {
     "data": {
      "image/png": "[encoded data removed]",
      "text/plain": [
       "<Figure size 432x288 with 1 Axes>"
      ]
     },
     "metadata": {},
     "output_type": "display_data"
    }
   ],
   "source": [
    "df = df.assign(release_12months = (df.cd12months - df.release_f).dt.days)\n",
    "\n",
    "ax = df.release_12months.hist(bins = 20);\n",
    "ax.set_xlabel('Días desde la salida en que la encuesta de 12 meses fue aplicada')\n",
    "plt.savefig('plots/dias_12meses.pdf', dpi = 600);"
   ]
  },
  {
   "cell_type": "code",
   "execution_count": 64,
   "metadata": {
    "hideCode": false,
    "hidePrompt": false
   },
   "outputs": [
    {
     "data": {
      "text/html": [
       "<div>\n",
       "<style scoped>\n",
       "    .dataframe tbody tr th:only-of-type {\n",
       "        vertical-align: middle;\n",
       "    }\n",
       "\n",
       "    .dataframe tbody tr th {\n",
       "        vertical-align: top;\n",
       "    }\n",
       "\n",
       "    .dataframe thead th {\n",
       "        text-align: right;\n",
       "    }\n",
       "</style>\n",
       "<table border=\"1\" class=\"dataframe\">\n",
       "  <thead>\n",
       "    <tr style=\"text-align: right;\">\n",
       "      <th></th>\n",
       "      <th>int</th>\n",
       "      <th>id</th>\n",
       "      <th>r_12months</th>\n",
       "      <th>release_f</th>\n",
       "      <th>d12months</th>\n",
       "      <th>cd12months</th>\n",
       "      <th>twelve_months_deadline</th>\n",
       "      <th>release_12months</th>\n",
       "    </tr>\n",
       "  </thead>\n",
       "  <tbody>\n",
       "  </tbody>\n",
       "</table>\n",
       "</div>"
      ],
      "text/plain": [
       "Empty DataFrame\n",
       "Columns: [int, id, r_12months, release_f, d12months, cd12months, twelve_months_deadline, release_12months]\n",
       "Index: []"
      ]
     },
     "execution_count": 64,
     "metadata": {},
     "output_type": "execute_result"
    }
   ],
   "source": [
    "df['twelve_months_deadline'] = pd.DatetimeIndex( df['release_f'] ) + pd.DateOffset(months = 12)\n",
    "\n",
    "s = ((df.r_12months == 1) & (today > df.twelve_months_deadline)) & (\n",
    "    (df.release_12months <= 0) | (df.cd12months.isnull()))\n",
    "\n",
    "df.loc[s,['int', 'id', 'r_12months', 'release_f', 'd12months', \n",
    "          'cd12months', 'twelve_months_deadline', 'release_12months']].sort_values('id')"
   ]
  },
  {
   "cell_type": "code",
   "execution_count": 65,
   "metadata": {
    "hideCode": false,
    "hidePrompt": false
   },
   "outputs": [
    {
     "name": "stdout",
     "output_type": "stream",
     "text": [
      "0.8888888888888888\n"
     ]
    }
   ],
   "source": [
    "tab  = df.loc[(today > df.twelve_months_deadline)  | (df.r_12months == 1), 'r_12months'].value_counts()\n",
    "# print(tab)\n",
    "rr_12months = [i / sum(list(tab)) for i in tab][0]\n",
    "print(rr_12months)"
   ]
  },
  {
   "cell_type": "code",
   "execution_count": 66,
   "metadata": {
    "hideCode": false,
    "hidePrompt": false
   },
   "outputs": [
    {
     "data": {
      "text/html": [
       "<div>\n",
       "<style scoped>\n",
       "    .dataframe tbody tr th:only-of-type {\n",
       "        vertical-align: middle;\n",
       "    }\n",
       "\n",
       "    .dataframe tbody tr th {\n",
       "        vertical-align: top;\n",
       "    }\n",
       "\n",
       "    .dataframe thead th {\n",
       "        text-align: right;\n",
       "    }\n",
       "</style>\n",
       "<table border=\"1\" class=\"dataframe\">\n",
       "  <thead>\n",
       "    <tr style=\"text-align: right;\">\n",
       "      <th></th>\n",
       "      <th>int</th>\n",
       "      <th>id</th>\n",
       "      <th>r_12months</th>\n",
       "      <th>release_f</th>\n",
       "      <th>cd12months</th>\n",
       "      <th>twelve_months_deadline</th>\n",
       "      <th>release_12months</th>\n",
       "    </tr>\n",
       "  </thead>\n",
       "  <tbody>\n",
       "    <tr>\n",
       "      <th>47</th>\n",
       "      <td>Javiera</td>\n",
       "      <td>30227</td>\n",
       "      <td>1.0</td>\n",
       "      <td>2017-01-17</td>\n",
       "      <td>2018-02-02</td>\n",
       "      <td>2018-01-17</td>\n",
       "      <td>381.0</td>\n",
       "    </tr>\n",
       "    <tr>\n",
       "      <th>73</th>\n",
       "      <td>Javiera</td>\n",
       "      <td>30183</td>\n",
       "      <td>1.0</td>\n",
       "      <td>2016-12-10</td>\n",
       "      <td>2017-12-27</td>\n",
       "      <td>2017-12-10</td>\n",
       "      <td>382.0</td>\n",
       "    </tr>\n",
       "    <tr>\n",
       "      <th>66</th>\n",
       "      <td>Susana</td>\n",
       "      <td>40194</td>\n",
       "      <td>1.0</td>\n",
       "      <td>2016-12-24</td>\n",
       "      <td>2018-01-10</td>\n",
       "      <td>2017-12-24</td>\n",
       "      <td>382.0</td>\n",
       "    </tr>\n",
       "    <tr>\n",
       "      <th>53</th>\n",
       "      <td>Marcela</td>\n",
       "      <td>50214</td>\n",
       "      <td>1.0</td>\n",
       "      <td>2017-01-08</td>\n",
       "      <td>2018-01-25</td>\n",
       "      <td>2018-01-08</td>\n",
       "      <td>382.0</td>\n",
       "    </tr>\n",
       "    <tr>\n",
       "      <th>178</th>\n",
       "      <td>Susana</td>\n",
       "      <td>10003</td>\n",
       "      <td>1.0</td>\n",
       "      <td>2016-09-16</td>\n",
       "      <td>2017-10-03</td>\n",
       "      <td>2017-09-16</td>\n",
       "      <td>382.0</td>\n",
       "    </tr>\n",
       "    <tr>\n",
       "      <th>199</th>\n",
       "      <td>Marcela</td>\n",
       "      <td>50205</td>\n",
       "      <td>1.0</td>\n",
       "      <td>2016-12-28</td>\n",
       "      <td>2018-01-15</td>\n",
       "      <td>2017-12-28</td>\n",
       "      <td>383.0</td>\n",
       "    </tr>\n",
       "    <tr>\n",
       "      <th>124</th>\n",
       "      <td>Susana</td>\n",
       "      <td>40050</td>\n",
       "      <td>1.0</td>\n",
       "      <td>2016-10-19</td>\n",
       "      <td>2017-11-06</td>\n",
       "      <td>2017-10-19</td>\n",
       "      <td>383.0</td>\n",
       "    </tr>\n",
       "    <tr>\n",
       "      <th>13</th>\n",
       "      <td>Pati</td>\n",
       "      <td>20201</td>\n",
       "      <td>1.0</td>\n",
       "      <td>2017-03-02</td>\n",
       "      <td>2018-03-20</td>\n",
       "      <td>2018-03-02</td>\n",
       "      <td>383.0</td>\n",
       "    </tr>\n",
       "    <tr>\n",
       "      <th>4</th>\n",
       "      <td>Javiera</td>\n",
       "      <td>30303</td>\n",
       "      <td>1.0</td>\n",
       "      <td>2017-03-15</td>\n",
       "      <td>2018-04-03</td>\n",
       "      <td>2018-03-15</td>\n",
       "      <td>384.0</td>\n",
       "    </tr>\n",
       "    <tr>\n",
       "      <th>8</th>\n",
       "      <td>Pati</td>\n",
       "      <td>20279</td>\n",
       "      <td>1.0</td>\n",
       "      <td>2017-03-10</td>\n",
       "      <td>2018-03-29</td>\n",
       "      <td>2018-03-10</td>\n",
       "      <td>384.0</td>\n",
       "    </tr>\n",
       "    <tr>\n",
       "      <th>123</th>\n",
       "      <td>Pati</td>\n",
       "      <td>10119</td>\n",
       "      <td>1.0</td>\n",
       "      <td>2016-10-17</td>\n",
       "      <td>2017-11-06</td>\n",
       "      <td>2017-10-17</td>\n",
       "      <td>385.0</td>\n",
       "    </tr>\n",
       "    <tr>\n",
       "      <th>119</th>\n",
       "      <td>Marisol</td>\n",
       "      <td>10074</td>\n",
       "      <td>1.0</td>\n",
       "      <td>2016-10-19</td>\n",
       "      <td>2017-11-09</td>\n",
       "      <td>2017-10-19</td>\n",
       "      <td>386.0</td>\n",
       "    </tr>\n",
       "    <tr>\n",
       "      <th>120</th>\n",
       "      <td>Pati</td>\n",
       "      <td>20081</td>\n",
       "      <td>1.0</td>\n",
       "      <td>2016-10-19</td>\n",
       "      <td>2017-11-09</td>\n",
       "      <td>2017-10-19</td>\n",
       "      <td>386.0</td>\n",
       "    </tr>\n",
       "    <tr>\n",
       "      <th>36</th>\n",
       "      <td>Javiera</td>\n",
       "      <td>30237</td>\n",
       "      <td>1.0</td>\n",
       "      <td>2017-01-28</td>\n",
       "      <td>2018-02-19</td>\n",
       "      <td>2018-01-28</td>\n",
       "      <td>387.0</td>\n",
       "    </tr>\n",
       "    <tr>\n",
       "      <th>18</th>\n",
       "      <td>Pati</td>\n",
       "      <td>20257</td>\n",
       "      <td>1.0</td>\n",
       "      <td>2017-02-19</td>\n",
       "      <td>2018-03-14</td>\n",
       "      <td>2018-02-19</td>\n",
       "      <td>388.0</td>\n",
       "    </tr>\n",
       "    <tr>\n",
       "      <th>117</th>\n",
       "      <td>Pati</td>\n",
       "      <td>20071</td>\n",
       "      <td>1.0</td>\n",
       "      <td>2016-10-20</td>\n",
       "      <td>2017-11-12</td>\n",
       "      <td>2017-10-20</td>\n",
       "      <td>388.0</td>\n",
       "    </tr>\n",
       "    <tr>\n",
       "      <th>43</th>\n",
       "      <td>Marcela</td>\n",
       "      <td>50226</td>\n",
       "      <td>1.0</td>\n",
       "      <td>2017-01-17</td>\n",
       "      <td>2018-02-10</td>\n",
       "      <td>2018-01-17</td>\n",
       "      <td>389.0</td>\n",
       "    </tr>\n",
       "    <tr>\n",
       "      <th>14</th>\n",
       "      <td>Pati</td>\n",
       "      <td>20263</td>\n",
       "      <td>1.0</td>\n",
       "      <td>2017-02-20</td>\n",
       "      <td>2018-03-17</td>\n",
       "      <td>2018-02-20</td>\n",
       "      <td>390.0</td>\n",
       "    </tr>\n",
       "    <tr>\n",
       "      <th>3</th>\n",
       "      <td>Pati</td>\n",
       "      <td>20283</td>\n",
       "      <td>1.0</td>\n",
       "      <td>2017-03-14</td>\n",
       "      <td>2018-04-08</td>\n",
       "      <td>2018-03-14</td>\n",
       "      <td>390.0</td>\n",
       "    </tr>\n",
       "    <tr>\n",
       "      <th>134</th>\n",
       "      <td>Susana</td>\n",
       "      <td>40019</td>\n",
       "      <td>1.0</td>\n",
       "      <td>2016-10-01</td>\n",
       "      <td>2017-10-26</td>\n",
       "      <td>2017-10-01</td>\n",
       "      <td>390.0</td>\n",
       "    </tr>\n",
       "    <tr>\n",
       "      <th>21</th>\n",
       "      <td>Pati</td>\n",
       "      <td>10250</td>\n",
       "      <td>1.0</td>\n",
       "      <td>2017-02-14</td>\n",
       "      <td>2018-03-12</td>\n",
       "      <td>2018-02-14</td>\n",
       "      <td>391.0</td>\n",
       "    </tr>\n",
       "    <tr>\n",
       "      <th>115</th>\n",
       "      <td>Marisol</td>\n",
       "      <td>10052</td>\n",
       "      <td>1.0</td>\n",
       "      <td>2016-10-19</td>\n",
       "      <td>2017-11-14</td>\n",
       "      <td>2017-10-19</td>\n",
       "      <td>391.0</td>\n",
       "    </tr>\n",
       "    <tr>\n",
       "      <th>113</th>\n",
       "      <td>Javiera</td>\n",
       "      <td>30110</td>\n",
       "      <td>1.0</td>\n",
       "      <td>2016-10-19</td>\n",
       "      <td>2017-11-15</td>\n",
       "      <td>2017-10-19</td>\n",
       "      <td>392.0</td>\n",
       "    </tr>\n",
       "    <tr>\n",
       "      <th>112</th>\n",
       "      <td>Susana</td>\n",
       "      <td>40059</td>\n",
       "      <td>1.0</td>\n",
       "      <td>2016-10-19</td>\n",
       "      <td>2017-11-16</td>\n",
       "      <td>2017-10-19</td>\n",
       "      <td>393.0</td>\n",
       "    </tr>\n",
       "    <tr>\n",
       "      <th>23</th>\n",
       "      <td>Marcela</td>\n",
       "      <td>50249</td>\n",
       "      <td>1.0</td>\n",
       "      <td>2017-02-09</td>\n",
       "      <td>2018-03-10</td>\n",
       "      <td>2018-02-09</td>\n",
       "      <td>394.0</td>\n",
       "    </tr>\n",
       "    <tr>\n",
       "      <th>147</th>\n",
       "      <td>Susana</td>\n",
       "      <td>40006</td>\n",
       "      <td>1.0</td>\n",
       "      <td>2016-09-19</td>\n",
       "      <td>2017-10-18</td>\n",
       "      <td>2017-09-19</td>\n",
       "      <td>394.0</td>\n",
       "    </tr>\n",
       "    <tr>\n",
       "      <th>44</th>\n",
       "      <td>Marcela</td>\n",
       "      <td>50216</td>\n",
       "      <td>1.0</td>\n",
       "      <td>2017-01-12</td>\n",
       "      <td>2018-02-10</td>\n",
       "      <td>2018-01-12</td>\n",
       "      <td>394.0</td>\n",
       "    </tr>\n",
       "    <tr>\n",
       "      <th>40</th>\n",
       "      <td>Pati</td>\n",
       "      <td>10223</td>\n",
       "      <td>1.0</td>\n",
       "      <td>2017-01-15</td>\n",
       "      <td>2018-02-15</td>\n",
       "      <td>2018-01-15</td>\n",
       "      <td>396.0</td>\n",
       "    </tr>\n",
       "    <tr>\n",
       "      <th>111</th>\n",
       "      <td>Pati</td>\n",
       "      <td>30029</td>\n",
       "      <td>1.0</td>\n",
       "      <td>2016-10-19</td>\n",
       "      <td>2017-11-20</td>\n",
       "      <td>2017-10-19</td>\n",
       "      <td>397.0</td>\n",
       "    </tr>\n",
       "    <tr>\n",
       "      <th>11</th>\n",
       "      <td>Pati</td>\n",
       "      <td>20259</td>\n",
       "      <td>1.0</td>\n",
       "      <td>2017-02-19</td>\n",
       "      <td>2018-03-23</td>\n",
       "      <td>2018-02-19</td>\n",
       "      <td>397.0</td>\n",
       "    </tr>\n",
       "    <tr>\n",
       "      <th>34</th>\n",
       "      <td>Pati</td>\n",
       "      <td>20229</td>\n",
       "      <td>1.0</td>\n",
       "      <td>2017-01-18</td>\n",
       "      <td>2018-02-20</td>\n",
       "      <td>2018-01-18</td>\n",
       "      <td>398.0</td>\n",
       "    </tr>\n",
       "    <tr>\n",
       "      <th>81</th>\n",
       "      <td>Marcela</td>\n",
       "      <td>50154</td>\n",
       "      <td>1.0</td>\n",
       "      <td>2016-11-18</td>\n",
       "      <td>2017-12-21</td>\n",
       "      <td>2017-11-18</td>\n",
       "      <td>398.0</td>\n",
       "    </tr>\n",
       "    <tr>\n",
       "      <th>67</th>\n",
       "      <td>Javiera</td>\n",
       "      <td>30173</td>\n",
       "      <td>1.0</td>\n",
       "      <td>2016-12-03</td>\n",
       "      <td>2018-01-06</td>\n",
       "      <td>2017-12-03</td>\n",
       "      <td>399.0</td>\n",
       "    </tr>\n",
       "    <tr>\n",
       "      <th>9</th>\n",
       "      <td>Pati</td>\n",
       "      <td>20255</td>\n",
       "      <td>1.0</td>\n",
       "      <td>2017-02-17</td>\n",
       "      <td>2018-03-29</td>\n",
       "      <td>2018-02-17</td>\n",
       "      <td>405.0</td>\n",
       "    </tr>\n",
       "    <tr>\n",
       "      <th>1</th>\n",
       "      <td>Pati</td>\n",
       "      <td>20274</td>\n",
       "      <td>1.0</td>\n",
       "      <td>2017-03-07</td>\n",
       "      <td>2018-04-17</td>\n",
       "      <td>2018-03-07</td>\n",
       "      <td>406.0</td>\n",
       "    </tr>\n",
       "    <tr>\n",
       "      <th>27</th>\n",
       "      <td>Javiera</td>\n",
       "      <td>10233</td>\n",
       "      <td>1.0</td>\n",
       "      <td>2017-01-25</td>\n",
       "      <td>2018-03-07</td>\n",
       "      <td>2018-01-25</td>\n",
       "      <td>406.0</td>\n",
       "    </tr>\n",
       "    <tr>\n",
       "      <th>2</th>\n",
       "      <td>Javiera</td>\n",
       "      <td>30269</td>\n",
       "      <td>1.0</td>\n",
       "      <td>2017-03-02</td>\n",
       "      <td>2018-04-16</td>\n",
       "      <td>2018-03-02</td>\n",
       "      <td>410.0</td>\n",
       "    </tr>\n",
       "    <tr>\n",
       "      <th>106</th>\n",
       "      <td>Pati</td>\n",
       "      <td>20028</td>\n",
       "      <td>1.0</td>\n",
       "      <td>2016-10-07</td>\n",
       "      <td>2017-11-24</td>\n",
       "      <td>2017-10-07</td>\n",
       "      <td>413.0</td>\n",
       "    </tr>\n",
       "    <tr>\n",
       "      <th>98</th>\n",
       "      <td>Javiera</td>\n",
       "      <td>30051</td>\n",
       "      <td>1.0</td>\n",
       "      <td>2016-10-19</td>\n",
       "      <td>2017-12-07</td>\n",
       "      <td>2017-10-19</td>\n",
       "      <td>414.0</td>\n",
       "    </tr>\n",
       "    <tr>\n",
       "      <th>97</th>\n",
       "      <td>Javiera</td>\n",
       "      <td>10044</td>\n",
       "      <td>1.0</td>\n",
       "      <td>2016-10-19</td>\n",
       "      <td>2017-12-07</td>\n",
       "      <td>2017-10-19</td>\n",
       "      <td>414.0</td>\n",
       "    </tr>\n",
       "    <tr>\n",
       "      <th>54</th>\n",
       "      <td>Marcela</td>\n",
       "      <td>50180</td>\n",
       "      <td>1.0</td>\n",
       "      <td>2016-12-07</td>\n",
       "      <td>2018-01-25</td>\n",
       "      <td>2017-12-07</td>\n",
       "      <td>414.0</td>\n",
       "    </tr>\n",
       "    <tr>\n",
       "      <th>55</th>\n",
       "      <td>Javiera</td>\n",
       "      <td>10172</td>\n",
       "      <td>1.0</td>\n",
       "      <td>2016-12-03</td>\n",
       "      <td>2018-01-24</td>\n",
       "      <td>2017-12-03</td>\n",
       "      <td>417.0</td>\n",
       "    </tr>\n",
       "    <tr>\n",
       "      <th>61</th>\n",
       "      <td>Marcela</td>\n",
       "      <td>50160</td>\n",
       "      <td>1.0</td>\n",
       "      <td>2016-11-22</td>\n",
       "      <td>2018-01-17</td>\n",
       "      <td>2017-11-22</td>\n",
       "      <td>421.0</td>\n",
       "    </tr>\n",
       "    <tr>\n",
       "      <th>51</th>\n",
       "      <td>Pati</td>\n",
       "      <td>20176</td>\n",
       "      <td>1.0</td>\n",
       "      <td>2016-12-05</td>\n",
       "      <td>2018-01-31</td>\n",
       "      <td>2017-12-05</td>\n",
       "      <td>422.0</td>\n",
       "    </tr>\n",
       "    <tr>\n",
       "      <th>35</th>\n",
       "      <td>Pati</td>\n",
       "      <td>20161</td>\n",
       "      <td>1.0</td>\n",
       "      <td>2016-11-18</td>\n",
       "      <td>2018-02-20</td>\n",
       "      <td>2017-11-18</td>\n",
       "      <td>459.0</td>\n",
       "    </tr>\n",
       "    <tr>\n",
       "      <th>52</th>\n",
       "      <td>Javiera</td>\n",
       "      <td>30092</td>\n",
       "      <td>1.0</td>\n",
       "      <td>2016-10-19</td>\n",
       "      <td>2018-01-31</td>\n",
       "      <td>2017-10-19</td>\n",
       "      <td>469.0</td>\n",
       "    </tr>\n",
       "    <tr>\n",
       "      <th>6</th>\n",
       "      <td>Pati</td>\n",
       "      <td>20048</td>\n",
       "      <td>1.0</td>\n",
       "      <td>2016-10-19</td>\n",
       "      <td>2018-04-01</td>\n",
       "      <td>2017-10-19</td>\n",
       "      <td>529.0</td>\n",
       "    </tr>\n",
       "    <tr>\n",
       "      <th>7</th>\n",
       "      <td>Pati</td>\n",
       "      <td>20013</td>\n",
       "      <td>1.0</td>\n",
       "      <td>2016-09-24</td>\n",
       "      <td>2018-03-31</td>\n",
       "      <td>2017-09-24</td>\n",
       "      <td>553.0</td>\n",
       "    </tr>\n",
       "  </tbody>\n",
       "</table>\n",
       "</div>"
      ],
      "text/plain": [
       "         int     id  r_12months  release_f cd12months twelve_months_deadline  \\\n",
       "47   Javiera  30227         1.0 2017-01-17 2018-02-02             2018-01-17   \n",
       "73   Javiera  30183         1.0 2016-12-10 2017-12-27             2017-12-10   \n",
       "66    Susana  40194         1.0 2016-12-24 2018-01-10             2017-12-24   \n",
       "53   Marcela  50214         1.0 2017-01-08 2018-01-25             2018-01-08   \n",
       "178   Susana  10003         1.0 2016-09-16 2017-10-03             2017-09-16   \n",
       "199  Marcela  50205         1.0 2016-12-28 2018-01-15             2017-12-28   \n",
       "124   Susana  40050         1.0 2016-10-19 2017-11-06             2017-10-19   \n",
       "13      Pati  20201         1.0 2017-03-02 2018-03-20             2018-03-02   \n",
       "4    Javiera  30303         1.0 2017-03-15 2018-04-03             2018-03-15   \n",
       "8       Pati  20279         1.0 2017-03-10 2018-03-29             2018-03-10   \n",
       "123     Pati  10119         1.0 2016-10-17 2017-11-06             2017-10-17   \n",
       "119  Marisol  10074         1.0 2016-10-19 2017-11-09             2017-10-19   \n",
       "120     Pati  20081         1.0 2016-10-19 2017-11-09             2017-10-19   \n",
       "36   Javiera  30237         1.0 2017-01-28 2018-02-19             2018-01-28   \n",
       "18      Pati  20257         1.0 2017-02-19 2018-03-14             2018-02-19   \n",
       "117     Pati  20071         1.0 2016-10-20 2017-11-12             2017-10-20   \n",
       "43   Marcela  50226         1.0 2017-01-17 2018-02-10             2018-01-17   \n",
       "14      Pati  20263         1.0 2017-02-20 2018-03-17             2018-02-20   \n",
       "3       Pati  20283         1.0 2017-03-14 2018-04-08             2018-03-14   \n",
       "134   Susana  40019         1.0 2016-10-01 2017-10-26             2017-10-01   \n",
       "21      Pati  10250         1.0 2017-02-14 2018-03-12             2018-02-14   \n",
       "115  Marisol  10052         1.0 2016-10-19 2017-11-14             2017-10-19   \n",
       "113  Javiera  30110         1.0 2016-10-19 2017-11-15             2017-10-19   \n",
       "112   Susana  40059         1.0 2016-10-19 2017-11-16             2017-10-19   \n",
       "23   Marcela  50249         1.0 2017-02-09 2018-03-10             2018-02-09   \n",
       "147   Susana  40006         1.0 2016-09-19 2017-10-18             2017-09-19   \n",
       "44   Marcela  50216         1.0 2017-01-12 2018-02-10             2018-01-12   \n",
       "40      Pati  10223         1.0 2017-01-15 2018-02-15             2018-01-15   \n",
       "111     Pati  30029         1.0 2016-10-19 2017-11-20             2017-10-19   \n",
       "11      Pati  20259         1.0 2017-02-19 2018-03-23             2018-02-19   \n",
       "34      Pati  20229         1.0 2017-01-18 2018-02-20             2018-01-18   \n",
       "81   Marcela  50154         1.0 2016-11-18 2017-12-21             2017-11-18   \n",
       "67   Javiera  30173         1.0 2016-12-03 2018-01-06             2017-12-03   \n",
       "9       Pati  20255         1.0 2017-02-17 2018-03-29             2018-02-17   \n",
       "1       Pati  20274         1.0 2017-03-07 2018-04-17             2018-03-07   \n",
       "27   Javiera  10233         1.0 2017-01-25 2018-03-07             2018-01-25   \n",
       "2    Javiera  30269         1.0 2017-03-02 2018-04-16             2018-03-02   \n",
       "106     Pati  20028         1.0 2016-10-07 2017-11-24             2017-10-07   \n",
       "98   Javiera  30051         1.0 2016-10-19 2017-12-07             2017-10-19   \n",
       "97   Javiera  10044         1.0 2016-10-19 2017-12-07             2017-10-19   \n",
       "54   Marcela  50180         1.0 2016-12-07 2018-01-25             2017-12-07   \n",
       "55   Javiera  10172         1.0 2016-12-03 2018-01-24             2017-12-03   \n",
       "61   Marcela  50160         1.0 2016-11-22 2018-01-17             2017-11-22   \n",
       "51      Pati  20176         1.0 2016-12-05 2018-01-31             2017-12-05   \n",
       "35      Pati  20161         1.0 2016-11-18 2018-02-20             2017-11-18   \n",
       "52   Javiera  30092         1.0 2016-10-19 2018-01-31             2017-10-19   \n",
       "6       Pati  20048         1.0 2016-10-19 2018-04-01             2017-10-19   \n",
       "7       Pati  20013         1.0 2016-09-24 2018-03-31             2017-09-24   \n",
       "\n",
       "     release_12months  \n",
       "47              381.0  \n",
       "73              382.0  \n",
       "66              382.0  \n",
       "53              382.0  \n",
       "178             382.0  \n",
       "199             383.0  \n",
       "124             383.0  \n",
       "13              383.0  \n",
       "4               384.0  \n",
       "8               384.0  \n",
       "123             385.0  \n",
       "119             386.0  \n",
       "120             386.0  \n",
       "36              387.0  \n",
       "18              388.0  \n",
       "117             388.0  \n",
       "43              389.0  \n",
       "14              390.0  \n",
       "3               390.0  \n",
       "134             390.0  \n",
       "21              391.0  \n",
       "115             391.0  \n",
       "113             392.0  \n",
       "112             393.0  \n",
       "23              394.0  \n",
       "147             394.0  \n",
       "44              394.0  \n",
       "40              396.0  \n",
       "111             397.0  \n",
       "11              397.0  \n",
       "34              398.0  \n",
       "81              398.0  \n",
       "67              399.0  \n",
       "9               405.0  \n",
       "1               406.0  \n",
       "27              406.0  \n",
       "2               410.0  \n",
       "106             413.0  \n",
       "98              414.0  \n",
       "97              414.0  \n",
       "54              414.0  \n",
       "55              417.0  \n",
       "61              421.0  \n",
       "51              422.0  \n",
       "35              459.0  \n",
       "52              469.0  \n",
       "6               529.0  \n",
       "7               553.0  "
      ]
     },
     "execution_count": 66,
     "metadata": {},
     "output_type": "execute_result"
    }
   ],
   "source": [
    "df.loc[np.abs(df.release_12months) > 380, ['int', 'id', 'r_12months', 'release_f', 'cd12months', \n",
    "                                          'twelve_months_deadline', \n",
    "                                          'release_12months']].sort_values('release_12months')"
   ]
  },
  {
   "cell_type": "code",
   "execution_count": 67,
   "metadata": {
    "hideCode": false,
    "hidePrompt": false
   },
   "outputs": [
    {
     "data": {
      "text/plain": [
       "count    200.000000\n",
       "mean     367.050000\n",
       "std       29.594029\n",
       "min      275.000000\n",
       "25%      349.000000\n",
       "50%      362.000000\n",
       "75%      380.000000\n",
       "max      553.000000\n",
       "Name: release_12months, dtype: float64"
      ]
     },
     "execution_count": 67,
     "metadata": {},
     "output_type": "execute_result"
    }
   ],
   "source": [
    "df.loc[df.r_12months == 1, 'release_12months'].describe()"
   ]
  },
  {
   "cell_type": "markdown",
   "metadata": {
    "hideCode": false,
    "hidePrompt": false
   },
   "source": [
    "# Plot of interview days by wave"
   ]
  },
  {
   "cell_type": "code",
   "execution_count": 68,
   "metadata": {
    "hideCode": false,
    "hidePrompt": false
   },
   "outputs": [
    {
     "data": {
      "image/png": "[encoded data removed]",
      "text/plain": [
       "<Figure size 432x288 with 1 Axes>"
      ]
     },
     "metadata": {},
     "output_type": "display_data"
    }
   ],
   "source": [
    "ax = df.loc[:, ['release_baseline', 'release_week', 'release_2months', \n",
    "                'release_6months', 'release_12months']].plot.hist(\n",
    "    title='Distribución Día de Entrevista según Ola', alpha=0.6, bins = 300)\n",
    "ax.set_xlim(-40,500)\n",
    "ax.legend(['Línea base', 'Primera semana', 'Dos meses', 'Seis meses', 'Doce meses'])\n",
    "ax.axvline(7, color = 'gray', linestyle ='--', linewidth=1)\n",
    "ax.axvline(30.5*2, color = 'gray', linestyle ='--', linewidth=1)\n",
    "ax.axvline(30.5*6, color = 'gray', linestyle ='--', linewidth=1)\n",
    "ax.axvline(365.0, color = 'gray', linestyle ='--', linewidth=1)\n",
    "ax.set_xlabel('Días desde la salida');\n",
    "plt.savefig('plots/dia_entrevista_ola.pdf', dpi = 600)"
   ]
  },
  {
   "cell_type": "markdown",
   "metadata": {
    "hideCode": false,
    "hidePrompt": false
   },
   "source": [
    "## Summary rates"
   ]
  },
  {
   "cell_type": "code",
   "execution_count": 69,
   "metadata": {
    "hideCode": false,
    "hidePrompt": false
   },
   "outputs": [
    {
     "data": {
      "text/html": [
       "<div>\n",
       "<style scoped>\n",
       "    .dataframe tbody tr th:only-of-type {\n",
       "        vertical-align: middle;\n",
       "    }\n",
       "\n",
       "    .dataframe tbody tr th {\n",
       "        vertical-align: top;\n",
       "    }\n",
       "\n",
       "    .dataframe thead th {\n",
       "        text-align: right;\n",
       "    }\n",
       "</style>\n",
       "<table border=\"1\" class=\"dataframe\">\n",
       "  <thead>\n",
       "    <tr style=\"text-align: right;\">\n",
       "      <th></th>\n",
       "      <th>rate</th>\n",
       "    </tr>\n",
       "  </thead>\n",
       "  <tbody>\n",
       "    <tr>\n",
       "      <th>week</th>\n",
       "      <td>0.804444</td>\n",
       "    </tr>\n",
       "    <tr>\n",
       "      <th>2 months</th>\n",
       "      <td>0.786667</td>\n",
       "    </tr>\n",
       "    <tr>\n",
       "      <th>6 months</th>\n",
       "      <td>0.875556</td>\n",
       "    </tr>\n",
       "    <tr>\n",
       "      <th>12 months</th>\n",
       "      <td>0.888889</td>\n",
       "    </tr>\n",
       "  </tbody>\n",
       "</table>\n",
       "</div>"
      ],
      "text/plain": [
       "               rate\n",
       "week       0.804444\n",
       "2 months   0.786667\n",
       "6 months   0.875556\n",
       "12 months  0.888889"
      ]
     },
     "execution_count": 69,
     "metadata": {},
     "output_type": "execute_result"
    }
   ],
   "source": [
    "rr = pd.DataFrame( {\"rate\" : [rr_week, rr_2months, rr_6months, rr_12months]}, \n",
    "                       index = ['week' ,'2 months', '6 months', '12 months'])\n",
    "\n",
    "rr"
   ]
  },
  {
   "cell_type": "code",
   "execution_count": null,
   "metadata": {},
   "outputs": [],
   "source": []
  }
 ],
 "metadata": {
  "celltoolbar": "Hide code",
  "hide_code_all_hidden": false,
  "kernelspec": {
   "display_name": "Python 3",
   "language": "python",
   "name": "python3"
  },
  "language_info": {
   "codemirror_mode": {
    "name": "ipython",
    "version": 3
   },
   "file_extension": ".py",
   "mimetype": "text/x-python",
   "name": "python",
   "nbconvert_exporter": "python",
   "pygments_lexer": "ipython3",
   "version": "3.6.5"
  }
 },
 "nbformat": 4,
 "nbformat_minor": 2
}
