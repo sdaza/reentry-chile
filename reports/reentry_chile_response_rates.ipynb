{
 "cells": [
  {
   "cell_type": "code",
   "execution_count": 483,
   "metadata": {},
   "outputs": [
    {
     "data": {
      "text/html": [
       "<script>\n",
       "code_show=true; \n",
       "function code_toggle() {\n",
       " if (code_show){\n",
       " $('div.input').hide();\n",
       " } else {\n",
       " $('div.input').show();\n",
       " }\n",
       " code_show = !code_show\n",
       "} \n",
       "$( document ).ready(code_toggle);\n",
       "</script>\n",
       "<form action=\"javascript:code_toggle()\"><input type=\"submit\" value=\"Code\"></form>"
      ],
      "text/plain": [
       "<IPython.core.display.HTML object>"
      ]
     },
     "execution_count": 483,
     "metadata": {},
     "output_type": "execute_result"
    }
   ],
   "source": [
    "%matplotlib inline\n",
    "import matplotlib.pyplot as plt\n",
    "plt.style.use(\"ggplot\")\n",
    "\n",
    "import numpy as np\n",
    "import re\n",
    "from IPython.display import HTML\n",
    "\n",
    "HTML('''<script>\n",
    "code_show=true; \n",
    "function code_toggle() {\n",
    " if (code_show){\n",
    " $('div.input').hide();\n",
    " } else {\n",
    " $('div.input').show();\n",
    " }\n",
    " code_show = !code_show\n",
    "} \n",
    "$( document ).ready(code_toggle);\n",
    "</script>\n",
    "<form action=\"javascript:code_toggle()\"><input type=\"submit\" value=\"Code\"></form>''')"
   ]
  },
  {
   "cell_type": "markdown",
   "metadata": {
    "hideCode": false,
    "hideOutput": false,
    "hidePrompt": false
   },
   "source": [
    "# Reentry Chile Response Rate\n",
    "\n",
    "*Sebastian Daza*\n",
    "\n",
    "In this report I describe response rates by wave. I follow these general criteria:\n",
    "\n",
    "- The estimation by wave only uses cases far beyond the wave-specific observation window. For instance, for the wave 2-months, we only consider those women who have been in the study for 4 months.\n",
    "- This estimation is based on the administrative records of the study.\n",
    "\n",
    "Some important definitions:\n",
    "\n",
    "- Names of waves: baseline, week, two_months six_months\n",
    "- Variables names: `d` means date, `c` means clean, and `cd` clean date\n",
    "- Deadline corresponds to th time threshold to compute a given response rate\n",
    "\n",
    "I review the key date variables to compute the rates and highlight inconsistencies or problems. "
   ]
  },
  {
   "cell_type": "markdown",
   "metadata": {
    "hideCode": false,
    "hidePrompt": false
   },
   "source": [
    "## Release\n",
    "\n",
    "There are two date of release variables\n",
    "in the register data. *Definitive* has a bunch of missing records. **We should define a validated and unique date of release variable**. "
   ]
  },
  {
   "cell_type": "code",
   "execution_count": 484,
   "metadata": {
    "collapsed": true,
    "hideCode": false,
    "hideOutput": false,
    "hidePrompt": false
   },
   "outputs": [
    {
     "data": {
      "text/plain": [
       "['.DS_Store',\n",
       " 'formulario de seguimiento - javiera 30.xlsx',\n",
       " 'Formulario de Seguimiento - Marisol.xlsx',\n",
       " 'Formulario de Seguimiento - Pati.xlsx',\n",
       " 'Formulario de Seguimiento - Susana 40.xlsx',\n",
       " 'formulario de seguimiento marce.xlsx',\n",
       " '~$formulario de seguimiento - javiera 30.xlsx',\n",
       " '~$formulario de seguimiento marce (1).xlsx']"
      ]
     },
     "execution_count": 484,
     "metadata": {},
     "output_type": "execute_result"
    }
   ],
   "source": [
    "import os\n",
    "import pandas as pd\n",
    "import re \n",
    "\n",
    "path = '/Users/sdaza/Desktop/seguimiento/'\n",
    "files = os.listdir(path)\n",
    "files"
   ]
  },
  {
   "cell_type": "code",
   "execution_count": 485,
   "metadata": {
    "collapsed": true,
    "hideCode": false,
    "hideOutput": false,
    "hidePrompt": false
   },
   "outputs": [
    {
     "data": {
      "text/plain": [
       "[['formulario de seguimiento - javiera 30.xlsx'],\n",
       " ['Formulario de Seguimiento - Marisol.xlsx'],\n",
       " ['Formulario de Seguimiento - Pati.xlsx'],\n",
       " ['Formulario de Seguimiento - Susana 40.xlsx'],\n",
       " ['formulario de seguimiento marce.xlsx']]"
      ]
     },
     "execution_count": 485,
     "metadata": {},
     "output_type": "execute_result"
    }
   ],
   "source": [
    "# exclude temp files and DS_Store\n",
    "cfiles = [re.findall(r'^[a-zA-Z].+', file) for file in files]\n",
    "cfiles = list(filter(None, cfiles))\n",
    "cfiles"
   ]
  },
  {
   "cell_type": "code",
   "execution_count": 486,
   "metadata": {
    "collapsed": true,
    "hideCode": false,
    "hideOutput": false,
    "hidePrompt": false
   },
   "outputs": [],
   "source": [
    "# read data\n",
    "df = pd.DataFrame()\n",
    "for file in cfiles:\n",
    "    if file: \n",
    "        t = pd.read_excel(path+file[0], skiprows=[0,1])\n",
    "        t.rename(columns=lambda x: x.strip(), inplace=True) # remove spaces\n",
    "        df = df.append(t, ignore_index=True)"
   ]
  },
  {
   "cell_type": "code",
   "execution_count": 487,
   "metadata": {},
   "outputs": [
    {
     "data": {
      "text/plain": [
       "(229, 13)"
      ]
     },
     "execution_count": 487,
     "metadata": {},
     "output_type": "execute_result"
    }
   ],
   "source": [
    "# extract columns\n",
    "cols = ['enc','folio','fegresoefectiva', 'lb_fechaentrevista', 'lb_participa', \n",
    "       'primsem_fechaentrevista', 'primsem_participa', 'dosmeses_fechaentrevista', \n",
    "        'dosmeses_participa', 'seismeses_fechaentrevista', 'seismeses_participa', \n",
    "       'docemeses_fechaentrevista', 'docemeses_participa']\n",
    "\n",
    "df = df.loc[:,cols]\n",
    "df.shape"
   ]
  },
  {
   "cell_type": "code",
   "execution_count": 488,
   "metadata": {
    "collapsed": true,
    "hideCode": false,
    "hideOutput": false,
    "hidePrompt": false
   },
   "outputs": [
    {
     "data": {
      "text/plain": [
       "(225, 13)"
      ]
     },
     "execution_count": 488,
     "metadata": {},
     "output_type": "execute_result"
    }
   ],
   "source": [
    "# rename columns\n",
    "names = [\"int\",\"id\", \"release_f\",\"dbaseline\",\"r_baseline\",\n",
    "         \"dweek\",\"r_week\",\"d2months\",\"r_2months\",\n",
    "         \"d6months\",\"r_6months\",\"d12months\",\"r_12months\"]\n",
    "\n",
    "df.rename(columns=dict(zip(cols, names)), inplace=True)\n",
    "\n",
    "null = df.int.notnull()\n",
    "df = df.loc[null, names]\n",
    "\n",
    "# remove case\n",
    "df = df.loc[df.id != 10011,:]\n",
    "df.shape"
   ]
  },
  {
   "cell_type": "code",
   "execution_count": 489,
   "metadata": {
    "collapsed": true,
    "hideCode": false,
    "hideOutput": false,
    "hidePrompt": false
   },
   "outputs": [],
   "source": [
    "# save data\n",
    "\n",
    "import dill\n",
    "\n",
    "dill.dump(df, open('registro.pkl', 'wb'))\n",
    "\n",
    "# load the data\n",
    "df = dill.load(open('registro.pkl', 'rb'))"
   ]
  },
  {
   "cell_type": "code",
   "execution_count": 490,
   "metadata": {},
   "outputs": [
    {
     "data": {
      "text/plain": [
       "False    225\n",
       "Name: release_f, dtype: int64"
      ]
     },
     "execution_count": 490,
     "metadata": {},
     "output_type": "execute_result"
    }
   ],
   "source": [
    "# no valid records for release_f?\n",
    "s = df.release_f.isnull()\n",
    "s.value_counts()"
   ]
  },
  {
   "cell_type": "code",
   "execution_count": 491,
   "metadata": {
    "collapsed": true,
    "hideCode": false,
    "hideOutput": true,
    "hidePrompt": false
   },
   "outputs": [],
   "source": [
    "#df.loc[s, 'release'] = df.loc[s, 'release_o']"
   ]
  },
  {
   "cell_type": "code",
   "execution_count": 492,
   "metadata": {
    "collapsed": true,
    "hideCode": false,
    "hideOutput": true,
    "hidePrompt": false
   },
   "outputs": [
    {
     "name": "stdout",
     "output_type": "stream",
     "text": [
      "2016    147\n",
      "2017     78\n",
      "Name: release_year, dtype: int64\n",
      "10    72\n",
      "12    34\n",
      "3     30\n",
      "11    28\n",
      "1     28\n",
      "2     20\n",
      "9     13\n",
      "Name: release_month, dtype: int64\n"
     ]
    }
   ],
   "source": [
    "# start = pd.to_datetime(\"09/01/2016\")\n",
    "# s = (df.release < start) & (df.release_o >= start)\n",
    "# df.loc[s, ['release']] = df.loc[s, ['release_o']]\n",
    "df['release_year'] = pd.DatetimeIndex(df['release_f']).year\n",
    "df['release_month'] = pd.DatetimeIndex(df['release_f']).month\n",
    "\n",
    "# year and months\n",
    "print(df.release_year.value_counts())\n",
    "print(df.release_month.value_counts())"
   ]
  },
  {
   "cell_type": "code",
   "execution_count": 493,
   "metadata": {
    "hideCode": false,
    "hideOutput": false,
    "hidePrompt": false
   },
   "outputs": [
    {
     "data": {
      "image/png": "[encoded data removed]",
      "text/plain": [
       "<matplotlib.figure.Figure at 0x11a4257b8>"
      ]
     },
     "metadata": {},
     "output_type": "display_data"
    }
   ],
   "source": [
    "# release plot\n",
    "\n",
    "t = df.reset_index().set_index('release_f')\n",
    "t = t.resample('M')\n",
    "ax = t.id.count().plot(title='Release by month', style='.-', ms=13);\n",
    "ax.set_ylabel(\"Women\");\n",
    "ax.set_xlabel(\"Month of release\");"
   ]
  },
  {
   "cell_type": "markdown",
   "metadata": {
    "hideCode": false,
    "hidePrompt": false
   },
   "source": [
    "## Baseline\n",
    "\n",
    "Let's explore the baseline information. \n",
    "\n",
    "Below a plot with the distribution of the difference between the date of the baseline and release. All values should be negative. \n",
    "\n",
    "To check cases below where we have issues: missing data or positive value (i.e., the baseline was applied after release). "
   ]
  },
  {
   "cell_type": "code",
   "execution_count": 494,
   "metadata": {
    "collapsed": true,
    "hideCode": false,
    "hideOutput": false,
    "hidePrompt": false
   },
   "outputs": [],
   "source": [
    "# baseline response\n",
    "# varname = [col for col in df.columns if 'sí: se realizó línea base' in col]\n",
    "#print(varname)\n",
    "# df = df.rename(columns={'lb_response': 'r_baseline'})\n",
    "# df\n",
    "# df.r_baseline.value_counts()\n",
    "# df['r_baseline'] = df['r_baseline'].str.contains(\"s|S\")"
   ]
  },
  {
   "cell_type": "markdown",
   "metadata": {},
   "source": [
    "Case 20112 has a problem with baseline date of interview. "
   ]
  },
  {
   "cell_type": "code",
   "execution_count": 495,
   "metadata": {
    "collapsed": true,
    "hideCode": false,
    "hideOutput": false,
    "hidePrompt": false
   },
   "outputs": [],
   "source": [
    "# correct some dates\n",
    "\n",
    "df[df.dbaseline.isnull()]\n",
    "df.loc[df.id == 20112, 'dbaseline'] = '2016-10-19'"
   ]
  },
  {
   "cell_type": "code",
   "execution_count": 496,
   "metadata": {
    "collapsed": true,
    "hideCode": false,
    "hideOutput": false,
    "hidePrompt": false
   },
   "outputs": [],
   "source": [
    "# function to clean dates\n",
    "import re\n",
    "\n",
    "def clean_dates(text):\n",
    "   if (isinstance(text, str)):\n",
    "      text = str(text)\n",
    "      pp = re.compile(\"-|\\.\")\n",
    "      r = re.sub(pp, \"/\", text)\n",
    "      pp = re.compile(\"([0-9]+/[0-9]+/[0-9]+)|([0-9]+-[0-9]+-[0-9]+)\")\n",
    "      r = re.search(pp, r)\n",
    "      if (r is not None):\n",
    "         r = r.group()\n",
    "      else:\n",
    "         r = ''\n",
    "   else:\n",
    "      r = text\n",
    "   return pd.to_datetime(r, dayfirst=True, errors = 'coerce')"
   ]
  },
  {
   "cell_type": "code",
   "execution_count": 497,
   "metadata": {
    "collapsed": true,
    "hideCode": false,
    "hidePrompt": false
   },
   "outputs": [],
   "source": [
    "df['cdbaseline'] = [clean_dates(i) for i in df['dbaseline']]"
   ]
  },
  {
   "cell_type": "code",
   "execution_count": 498,
   "metadata": {
    "hideCode": false,
    "hidePrompt": false
   },
   "outputs": [],
   "source": [
    "# m = df['cdbaseline'].isnull() & df['dbaseline'].notnull()\n",
    "# df.loc[m, ['int', 'id', 'cdbaseline', 'dbaseline']]"
   ]
  },
  {
   "cell_type": "code",
   "execution_count": 499,
   "metadata": {
    "collapsed": true,
    "hideCode": false,
    "hidePrompt": false
   },
   "outputs": [],
   "source": [
    "# replace errors in data entry\n",
    "# errors = ['V16/12716', 'V14 y M18/10']\n",
    "# new_values = ['12/16/16', '10/18/16']\n",
    "# \n",
    "# for i in range(0,len(errors)):\n",
    "#    df.loc[df['dbaseline'] == errors[i], 'cdbaseline'] = pd.to_datetime(new_values[i])"
   ]
  },
  {
   "cell_type": "code",
   "execution_count": 500,
   "metadata": {
    "hideCode": false,
    "hidePrompt": false
   },
   "outputs": [],
   "source": [
    "# identify inconsistent cases\n",
    "# df.release_baseline.describe()\n",
    "# ax = df.release_baseline.hist(bins = 40);\n",
    "# ax.set_xlabel('Baseline date - Release');"
   ]
  },
  {
   "cell_type": "markdown",
   "metadata": {},
   "source": [
    "Some problems in the rows and dates below. Look at last Marcela row. "
   ]
  },
  {
   "cell_type": "code",
   "execution_count": 501,
   "metadata": {
    "collapsed": true,
    "hideCode": false,
    "hidePrompt": false
   },
   "outputs": [
    {
     "data": {
      "text/html": [
       "<div>\n",
       "<style>\n",
       "    .dataframe thead tr:only-child th {\n",
       "        text-align: right;\n",
       "    }\n",
       "\n",
       "    .dataframe thead th {\n",
       "        text-align: left;\n",
       "    }\n",
       "\n",
       "    .dataframe tbody tr th {\n",
       "        vertical-align: top;\n",
       "    }\n",
       "</style>\n",
       "<table border=\"1\" class=\"dataframe\">\n",
       "  <thead>\n",
       "    <tr style=\"text-align: right;\">\n",
       "      <th></th>\n",
       "      <th>int</th>\n",
       "      <th>id</th>\n",
       "      <th>r_baseline</th>\n",
       "      <th>release_f</th>\n",
       "      <th>cdbaseline</th>\n",
       "      <th>dbaseline</th>\n",
       "      <th>release_baseline</th>\n",
       "    </tr>\n",
       "  </thead>\n",
       "  <tbody>\n",
       "    <tr>\n",
       "      <th>0</th>\n",
       "      <td>Javi</td>\n",
       "      <td>10007.0</td>\n",
       "      <td>Sí</td>\n",
       "      <td>2016-09-20</td>\n",
       "      <td>2016-12-09</td>\n",
       "      <td>2016-12-09 00:00:00</td>\n",
       "      <td>80.0</td>\n",
       "    </tr>\n",
       "    <tr>\n",
       "      <th>74</th>\n",
       "      <td>Marisol</td>\n",
       "      <td>10291.0</td>\n",
       "      <td>Sí</td>\n",
       "      <td>2017-03-22</td>\n",
       "      <td>NaT</td>\n",
       "      <td>NaT</td>\n",
       "      <td>NaN</td>\n",
       "    </tr>\n",
       "    <tr>\n",
       "      <th>201</th>\n",
       "      <td>Marcela</td>\n",
       "      <td>50037.0</td>\n",
       "      <td>SI</td>\n",
       "      <td>2016-10-19</td>\n",
       "      <td>2017-09-30</td>\n",
       "      <td>2017-09-30 00:00:00</td>\n",
       "      <td>346.0</td>\n",
       "    </tr>\n",
       "    <tr>\n",
       "      <th>204</th>\n",
       "      <td>Marcela</td>\n",
       "      <td>50060.0</td>\n",
       "      <td>17:00:00</td>\n",
       "      <td>2016-10-19</td>\n",
       "      <td>NaT</td>\n",
       "      <td>NaT</td>\n",
       "      <td>NaN</td>\n",
       "    </tr>\n",
       "  </tbody>\n",
       "</table>\n",
       "</div>"
      ],
      "text/plain": [
       "         int       id r_baseline  release_f cdbaseline            dbaseline  \\\n",
       "0       Javi  10007.0         Sí 2016-09-20 2016-12-09  2016-12-09 00:00:00   \n",
       "74   Marisol  10291.0         Sí 2017-03-22        NaT                  NaT   \n",
       "201  Marcela  50037.0         SI 2016-10-19 2017-09-30  2017-09-30 00:00:00   \n",
       "204  Marcela  50060.0   17:00:00 2016-10-19        NaT                  NaT   \n",
       "\n",
       "     release_baseline  \n",
       "0                80.0  \n",
       "74                NaN  \n",
       "201             346.0  \n",
       "204               NaN  "
      ]
     },
     "execution_count": 501,
     "metadata": {},
     "output_type": "execute_result"
    }
   ],
   "source": [
    "df = df.assign(release_baseline = (df.cdbaseline - df.release_f).dt.days)\n",
    "s = ((df.release_baseline > 0) | (df.cdbaseline.isnull()))\n",
    "df.loc[s, ['int', 'id', 'r_baseline', 'release_f',  'cdbaseline', 'dbaseline', 'release_baseline']].sort_values('id')"
   ]
  },
  {
   "cell_type": "markdown",
   "metadata": {},
   "source": [
    "Descriptives of the difference between release date and baseline: "
   ]
  },
  {
   "cell_type": "code",
   "execution_count": 502,
   "metadata": {
    "hideCode": false,
    "hidePrompt": false
   },
   "outputs": [
    {
     "data": {
      "text/plain": [
       "count    223.000000\n",
       "mean     -12.295964\n",
       "std       39.939733\n",
       "min     -367.000000\n",
       "25%      -14.000000\n",
       "50%       -7.000000\n",
       "75%       -4.000000\n",
       "max      346.000000\n",
       "Name: release_baseline, dtype: float64"
      ]
     },
     "execution_count": 502,
     "metadata": {},
     "output_type": "execute_result"
    }
   ],
   "source": [
    "df.release_baseline.describe()"
   ]
  },
  {
   "cell_type": "markdown",
   "metadata": {
    "hideCode": false,
    "hidePrompt": false
   },
   "source": [
    "## First week\n",
    "\n",
    "\n",
    "Below a plot with the distribution of the difference between the date of the first week interview and release. All values should be **positive**. \n"
   ]
  },
  {
   "cell_type": "code",
   "execution_count": 503,
   "metadata": {
    "collapsed": true,
    "hideCode": false,
    "hidePrompt": false
   },
   "outputs": [],
   "source": [
    "# varname = [col for col in df.columns if 'participa' in col]\n",
    "# print(varname)"
   ]
  },
  {
   "cell_type": "code",
   "execution_count": 504,
   "metadata": {
    "collapsed": true,
    "hideCode": false,
    "hidePrompt": false
   },
   "outputs": [
    {
     "data": {
      "text/plain": [
       "1.0    182\n",
       "0.0     43\n",
       "Name: r_week, dtype: int64"
      ]
     },
     "execution_count": 504,
     "metadata": {},
     "output_type": "execute_result"
    }
   ],
   "source": [
    "# df = df.rename(columns={varname[1]: 'r_week'})\n",
    "#df.r_week.value_counts()\n",
    "df['r_week'] = df['r_week'].str.contains(\"s|S\").astype(float)\n",
    "df['r_week'] = df.r_week.fillna(0)\n",
    "#df.r_week.isnull().value_counts()\n",
    "df.r_week.value_counts()"
   ]
  },
  {
   "cell_type": "code",
   "execution_count": 505,
   "metadata": {
    "collapsed": true,
    "hideCode": false,
    "hidePrompt": false
   },
   "outputs": [],
   "source": [
    "# varname = [col for col in df.columns if 'fecha' in col]\n",
    "#print(varname)"
   ]
  },
  {
   "cell_type": "code",
   "execution_count": 506,
   "metadata": {
    "collapsed": true,
    "hideCode": false,
    "hidePrompt": false
   },
   "outputs": [],
   "source": [
    "# varname = [col for col in df.columns if 'fecha entrevista' in col]\n",
    "#print(varname)"
   ]
  },
  {
   "cell_type": "code",
   "execution_count": 507,
   "metadata": {
    "collapsed": true,
    "hideCode": false,
    "hidePrompt": false
   },
   "outputs": [],
   "source": [
    "# df = df.rename(columns={varname[0]: 'dweek'})"
   ]
  },
  {
   "cell_type": "code",
   "execution_count": 508,
   "metadata": {
    "collapsed": true,
    "hideCode": false,
    "hidePrompt": false
   },
   "outputs": [],
   "source": [
    "df['cdweek'] = [clean_dates(i) for i in df['dweek']]\n",
    "#df.cdweek.describe()"
   ]
  },
  {
   "cell_type": "code",
   "execution_count": 509,
   "metadata": {
    "hideCode": false,
    "hidePrompt": false
   },
   "outputs": [],
   "source": [
    "m = df.cdweek.isnull() & df.dweek.notnull()\n",
    "# df.loc[m, ['id', 'cdweek', 'dweek']]"
   ]
  },
  {
   "cell_type": "code",
   "execution_count": 510,
   "metadata": {
    "collapsed": true,
    "hideCode": false,
    "hidePrompt": false
   },
   "outputs": [],
   "source": [
    "# # replace errors in data entry\n",
    "# errors = ['S29/10 y W02/11']\n",
    "# new_values = ['11/02/2016']\n",
    "\n",
    "# for i in range(0,len(errors)):\n",
    "#    df.loc[df['dweek'] == errors[i], 'cdweek'] = pd.to_datetime(new_values[i])\n",
    "\n",
    "# s = (df.r_week == 1)\n",
    "# #df.loc[s, 'cdweek'].isnull().value_counts()"
   ]
  },
  {
   "cell_type": "code",
   "execution_count": 511,
   "metadata": {
    "hideCode": false,
    "hidePrompt": false
   },
   "outputs": [
    {
     "data": {
      "text/plain": [
       "True     157\n",
       "False     68\n",
       "Name: release_week, dtype: int64"
      ]
     },
     "execution_count": 511,
     "metadata": {},
     "output_type": "execute_result"
    }
   ],
   "source": [
    "df = df.assign(release_week = (df.cdweek - df.release_f).dt.days)\n",
    "(df.release_week > 7).value_counts()"
   ]
  },
  {
   "cell_type": "markdown",
   "metadata": {},
   "source": [
    "Plot of the difference between date of release and first week interview."
   ]
  },
  {
   "cell_type": "code",
   "execution_count": 512,
   "metadata": {
    "hideCode": false,
    "hidePrompt": false
   },
   "outputs": [
    {
     "data": {
      "image/png": "[encoded data removed]",
      "text/plain": [
       "<matplotlib.figure.Figure at 0x11a51a320>"
      ]
     },
     "metadata": {},
     "output_type": "display_data"
    }
   ],
   "source": [
    "ax = df.release_week.hist(bins = 300, alpha = 0.8);\n",
    "ax.set_xlim(-25,25)\n",
    "ax.set_xlabel('Día de Entrevista Desde Salida');"
   ]
  },
  {
   "cell_type": "code",
   "execution_count": 513,
   "metadata": {
    "collapsed": true,
    "hideCode": false,
    "hidePrompt": false
   },
   "outputs": [],
   "source": [
    "df['week_deadline'] = pd.DatetimeIndex( df['release_f'] ) + pd.DateOffset(weeks = 5) # five weeks!"
   ]
  },
  {
   "cell_type": "markdown",
   "metadata": {},
   "source": [
    "Cases with issues: "
   ]
  },
  {
   "cell_type": "code",
   "execution_count": 514,
   "metadata": {
    "hideCode": false,
    "hidePrompt": false
   },
   "outputs": [
    {
     "data": {
      "text/html": [
       "<div>\n",
       "<style>\n",
       "    .dataframe thead tr:only-child th {\n",
       "        text-align: right;\n",
       "    }\n",
       "\n",
       "    .dataframe thead th {\n",
       "        text-align: left;\n",
       "    }\n",
       "\n",
       "    .dataframe tbody tr th {\n",
       "        vertical-align: top;\n",
       "    }\n",
       "</style>\n",
       "<table border=\"1\" class=\"dataframe\">\n",
       "  <thead>\n",
       "    <tr style=\"text-align: right;\">\n",
       "      <th></th>\n",
       "      <th>int</th>\n",
       "      <th>id</th>\n",
       "      <th>r_week</th>\n",
       "      <th>release_f</th>\n",
       "      <th>cdweek</th>\n",
       "      <th>release_week</th>\n",
       "    </tr>\n",
       "  </thead>\n",
       "  <tbody>\n",
       "  </tbody>\n",
       "</table>\n",
       "</div>"
      ],
      "text/plain": [
       "Empty DataFrame\n",
       "Columns: [int, id, r_week, release_f, cdweek, release_week]\n",
       "Index: []"
      ]
     },
     "execution_count": 514,
     "metadata": {},
     "output_type": "execute_result"
    }
   ],
   "source": [
    "import datetime\n",
    "today = datetime.datetime.now()\n",
    "s = ((df.r_week == 1) & (today > df.week_deadline)) & ( (df.release_week <= 0) | (df.cdweek.isnull()) )\n",
    "\n",
    "df.loc[s,['int', 'id', 'r_week', 'release_f', 'cdweek', 'release_week']].sort_values('id')"
   ]
  },
  {
   "cell_type": "code",
   "execution_count": 515,
   "metadata": {},
   "outputs": [
    {
     "data": {
      "text/html": [
       "<div>\n",
       "<style>\n",
       "    .dataframe thead tr:only-child th {\n",
       "        text-align: right;\n",
       "    }\n",
       "\n",
       "    .dataframe thead th {\n",
       "        text-align: left;\n",
       "    }\n",
       "\n",
       "    .dataframe tbody tr th {\n",
       "        vertical-align: top;\n",
       "    }\n",
       "</style>\n",
       "<table border=\"1\" class=\"dataframe\">\n",
       "  <thead>\n",
       "    <tr style=\"text-align: right;\">\n",
       "      <th></th>\n",
       "      <th>int</th>\n",
       "      <th>id</th>\n",
       "      <th>r_week</th>\n",
       "      <th>release_f</th>\n",
       "      <th>cdweek</th>\n",
       "      <th>release_week</th>\n",
       "    </tr>\n",
       "  </thead>\n",
       "  <tbody>\n",
       "    <tr>\n",
       "      <th>68</th>\n",
       "      <td>Pati</td>\n",
       "      <td>20142.0</td>\n",
       "      <td>1.0</td>\n",
       "      <td>2016-11-16</td>\n",
       "      <td>2017-11-23</td>\n",
       "      <td>372.0</td>\n",
       "    </tr>\n",
       "    <tr>\n",
       "      <th>80</th>\n",
       "      <td>Pati</td>\n",
       "      <td>10015.0</td>\n",
       "      <td>0.0</td>\n",
       "      <td>2016-09-25</td>\n",
       "      <td>2016-02-10</td>\n",
       "      <td>-228.0</td>\n",
       "    </tr>\n",
       "    <tr>\n",
       "      <th>101</th>\n",
       "      <td>Pati</td>\n",
       "      <td>20071.0</td>\n",
       "      <td>1.0</td>\n",
       "      <td>2016-10-20</td>\n",
       "      <td>2017-10-27</td>\n",
       "      <td>372.0</td>\n",
       "    </tr>\n",
       "    <tr>\n",
       "      <th>105</th>\n",
       "      <td>Pati</td>\n",
       "      <td>20112.0</td>\n",
       "      <td>0.0</td>\n",
       "      <td>2016-10-19</td>\n",
       "      <td>2017-10-26</td>\n",
       "      <td>372.0</td>\n",
       "    </tr>\n",
       "    <tr>\n",
       "      <th>116</th>\n",
       "      <td>Pati</td>\n",
       "      <td>20200.0</td>\n",
       "      <td>1.0</td>\n",
       "      <td>2016-12-31</td>\n",
       "      <td>2017-02-27</td>\n",
       "      <td>58.0</td>\n",
       "    </tr>\n",
       "    <tr>\n",
       "      <th>163</th>\n",
       "      <td>Susana</td>\n",
       "      <td>10053.0</td>\n",
       "      <td>1.0</td>\n",
       "      <td>2016-10-19</td>\n",
       "      <td>2016-11-25</td>\n",
       "      <td>37.0</td>\n",
       "    </tr>\n",
       "    <tr>\n",
       "      <th>211</th>\n",
       "      <td>Marcela</td>\n",
       "      <td>50126.0</td>\n",
       "      <td>1.0</td>\n",
       "      <td>2016-12-07</td>\n",
       "      <td>2017-12-21</td>\n",
       "      <td>379.0</td>\n",
       "    </tr>\n",
       "    <tr>\n",
       "      <th>215</th>\n",
       "      <td>Marcela</td>\n",
       "      <td>50163.0</td>\n",
       "      <td>1.0</td>\n",
       "      <td>2016-11-26</td>\n",
       "      <td>2017-12-12</td>\n",
       "      <td>381.0</td>\n",
       "    </tr>\n",
       "    <tr>\n",
       "      <th>216</th>\n",
       "      <td>Marcela</td>\n",
       "      <td>50180.0</td>\n",
       "      <td>1.0</td>\n",
       "      <td>2016-12-07</td>\n",
       "      <td>2017-12-27</td>\n",
       "      <td>385.0</td>\n",
       "    </tr>\n",
       "  </tbody>\n",
       "</table>\n",
       "</div>"
      ],
      "text/plain": [
       "         int       id  r_week  release_f     cdweek  release_week\n",
       "68      Pati  20142.0     1.0 2016-11-16 2017-11-23         372.0\n",
       "80      Pati  10015.0     0.0 2016-09-25 2016-02-10        -228.0\n",
       "101     Pati  20071.0     1.0 2016-10-20 2017-10-27         372.0\n",
       "105     Pati  20112.0     0.0 2016-10-19 2017-10-26         372.0\n",
       "116     Pati  20200.0     1.0 2016-12-31 2017-02-27          58.0\n",
       "163   Susana  10053.0     1.0 2016-10-19 2016-11-25          37.0\n",
       "211  Marcela  50126.0     1.0 2016-12-07 2017-12-21         379.0\n",
       "215  Marcela  50163.0     1.0 2016-11-26 2017-12-12         381.0\n",
       "216  Marcela  50180.0     1.0 2016-12-07 2017-12-27         385.0"
      ]
     },
     "execution_count": 515,
     "metadata": {},
     "output_type": "execute_result"
    }
   ],
   "source": [
    "df.loc[np.abs(df.release_week) > 30,['int', 'id', 'r_week', 'release_f', 'cdweek', 'release_week']]"
   ]
  },
  {
   "cell_type": "markdown",
   "metadata": {},
   "source": [
    "Response rate:"
   ]
  },
  {
   "cell_type": "code",
   "execution_count": 516,
   "metadata": {
    "collapsed": true,
    "hideCode": false,
    "hidePrompt": false
   },
   "outputs": [
    {
     "name": "stdout",
     "output_type": "stream",
     "text": [
      "0.808888888889\n"
     ]
    }
   ],
   "source": [
    "tab  = df.loc[ (today > df.week_deadline) | (df.r_week == 1), 'r_week'].value_counts()\n",
    "rr_week = [i / sum(list(tab)) for i in tab][0]\n",
    "print(rr_week)"
   ]
  },
  {
   "cell_type": "markdown",
   "metadata": {},
   "source": [
    "Descriptives of the difference between date of release and interview first week. "
   ]
  },
  {
   "cell_type": "code",
   "execution_count": 517,
   "metadata": {
    "collapsed": true,
    "hideCode": false,
    "hidePrompt": false
   },
   "outputs": [
    {
     "data": {
      "text/plain": [
       "count    182.000000\n",
       "mean      21.489011\n",
       "std       60.355186\n",
       "min        1.000000\n",
       "25%        8.000000\n",
       "50%       10.000000\n",
       "75%       14.000000\n",
       "max      385.000000\n",
       "Name: release_week, dtype: float64"
      ]
     },
     "execution_count": 517,
     "metadata": {},
     "output_type": "execute_result"
    }
   ],
   "source": [
    "df.loc[df.r_week == 1, 'release_week'].describe()"
   ]
  },
  {
   "cell_type": "markdown",
   "metadata": {
    "hideCode": false,
    "hidePrompt": false
   },
   "source": [
    "\n",
    "# Two Months\n",
    " "
   ]
  },
  {
   "cell_type": "code",
   "execution_count": 518,
   "metadata": {
    "collapsed": true,
    "hideCode": false,
    "hidePrompt": false
   },
   "outputs": [],
   "source": [
    "# varname = [col for col in df.columns if 'participa ' in col]\n",
    "#print(varname)"
   ]
  },
  {
   "cell_type": "code",
   "execution_count": 519,
   "metadata": {
    "collapsed": true,
    "hideCode": false,
    "hidePrompt": false
   },
   "outputs": [],
   "source": [
    "# df = df.rename(columns={varname[0]: 'r_2months'})\n",
    "#df.r_2months.value_counts()\n",
    "df['r_2months'] = df['r_2months'].str.contains(\"s|S\").astype(float)\n",
    "df['r_2months'] = df.r_2months.fillna(0)\n",
    "#df.r_2months.isnull().value_counts()\n",
    "#df.r_2months.value_counts()"
   ]
  },
  {
   "cell_type": "code",
   "execution_count": 520,
   "metadata": {
    "collapsed": true,
    "hideCode": false,
    "hidePrompt": false
   },
   "outputs": [],
   "source": [
    "# date 2months\n",
    "# varname = [col for col in df.columns if 'fecha entrevista' in col]\n",
    "#print(varname)"
   ]
  },
  {
   "cell_type": "code",
   "execution_count": 521,
   "metadata": {
    "collapsed": true,
    "hideCode": false,
    "hidePrompt": false
   },
   "outputs": [],
   "source": [
    "# df = df.rename(columns={varname[0]: 'd2months'})"
   ]
  },
  {
   "cell_type": "code",
   "execution_count": 522,
   "metadata": {
    "collapsed": true,
    "hideCode": false,
    "hidePrompt": false
   },
   "outputs": [],
   "source": [
    "df['cd2months'] = [clean_dates(i) for i in df['d2months']]"
   ]
  },
  {
   "cell_type": "markdown",
   "metadata": {},
   "source": [
    "Some cases with issues:"
   ]
  },
  {
   "cell_type": "code",
   "execution_count": 523,
   "metadata": {
    "hideCode": false,
    "hidePrompt": false
   },
   "outputs": [
    {
     "data": {
      "text/html": [
       "<div>\n",
       "<style>\n",
       "    .dataframe thead tr:only-child th {\n",
       "        text-align: right;\n",
       "    }\n",
       "\n",
       "    .dataframe thead th {\n",
       "        text-align: left;\n",
       "    }\n",
       "\n",
       "    .dataframe tbody tr th {\n",
       "        vertical-align: top;\n",
       "    }\n",
       "</style>\n",
       "<table border=\"1\" class=\"dataframe\">\n",
       "  <thead>\n",
       "    <tr style=\"text-align: right;\">\n",
       "      <th></th>\n",
       "      <th>id</th>\n",
       "      <th>release</th>\n",
       "      <th>cd2months</th>\n",
       "      <th>d2months</th>\n",
       "    </tr>\n",
       "  </thead>\n",
       "  <tbody>\n",
       "    <tr>\n",
       "      <th>72</th>\n",
       "      <td>50190.0</td>\n",
       "      <td>NaN</td>\n",
       "      <td>NaT</td>\n",
       "      <td>27/2</td>\n",
       "    </tr>\n",
       "  </tbody>\n",
       "</table>\n",
       "</div>"
      ],
      "text/plain": [
       "         id  release cd2months d2months\n",
       "72  50190.0      NaN       NaT     27/2"
      ]
     },
     "execution_count": 523,
     "metadata": {},
     "output_type": "execute_result"
    }
   ],
   "source": [
    "m = df.cd2months.isnull() & df.d2months.notnull()\n",
    "df.loc[m, ['id', 'release', 'cd2months', 'd2months']]"
   ]
  },
  {
   "cell_type": "code",
   "execution_count": 524,
   "metadata": {
    "collapsed": true,
    "hideCode": false,
    "hidePrompt": false
   },
   "outputs": [],
   "source": [
    "# replace errors in data entry\n",
    "errors = ['27/2']\n",
    "new_values = ['02/27/2017']\n",
    "\n",
    "for i in range(0,len(errors)):\n",
    "   df.loc[df['d2months'] == errors[i], 'cd2months'] = pd.to_datetime(new_values[i])"
   ]
  },
  {
   "cell_type": "code",
   "execution_count": 525,
   "metadata": {
    "collapsed": true,
    "hideCode": false,
    "hidePrompt": false
   },
   "outputs": [],
   "source": [
    "s = (df.r_2months == 1)\n",
    "#df.loc[s, 'cd2months'].isnull().value_counts()"
   ]
  },
  {
   "cell_type": "code",
   "execution_count": 526,
   "metadata": {
    "collapsed": true,
    "hideCode": false,
    "hidePrompt": false
   },
   "outputs": [],
   "source": [
    "df = df.assign(release_2months = (df.cd2months - df.release_f).dt.days)\n",
    "#df.release_2months.describe()"
   ]
  },
  {
   "cell_type": "markdown",
   "metadata": {},
   "source": [
    "Plot of the difference between release and date of two-months interview."
   ]
  },
  {
   "cell_type": "code",
   "execution_count": 527,
   "metadata": {
    "hideCode": false,
    "hidePrompt": false
   },
   "outputs": [
    {
     "data": {
      "image/png": "[encoded data removed]",
      "text/plain": [
       "<matplotlib.figure.Figure at 0x11a0c7898>"
      ]
     },
     "metadata": {},
     "output_type": "display_data"
    }
   ],
   "source": [
    "ax = df.release_2months.hist(bins = 50);\n",
    "ax.set_xlabel('Date two months - release');"
   ]
  },
  {
   "cell_type": "markdown",
   "metadata": {},
   "source": [
    "Some issues:"
   ]
  },
  {
   "cell_type": "code",
   "execution_count": 528,
   "metadata": {
    "hideCode": false,
    "hidePrompt": false
   },
   "outputs": [
    {
     "data": {
      "text/html": [
       "<div>\n",
       "<style>\n",
       "    .dataframe thead tr:only-child th {\n",
       "        text-align: right;\n",
       "    }\n",
       "\n",
       "    .dataframe thead th {\n",
       "        text-align: left;\n",
       "    }\n",
       "\n",
       "    .dataframe tbody tr th {\n",
       "        vertical-align: top;\n",
       "    }\n",
       "</style>\n",
       "<table border=\"1\" class=\"dataframe\">\n",
       "  <thead>\n",
       "    <tr style=\"text-align: right;\">\n",
       "      <th></th>\n",
       "      <th>int</th>\n",
       "      <th>id</th>\n",
       "      <th>r_2months</th>\n",
       "      <th>release_f</th>\n",
       "      <th>cd2months</th>\n",
       "      <th>two_months_deadline</th>\n",
       "      <th>release_2months</th>\n",
       "    </tr>\n",
       "  </thead>\n",
       "  <tbody>\n",
       "    <tr>\n",
       "      <th>198</th>\n",
       "      <td>Marcela</td>\n",
       "      <td>10099.0</td>\n",
       "      <td>1.0</td>\n",
       "      <td>2016-12-20</td>\n",
       "      <td>NaT</td>\n",
       "      <td>2017-05-20</td>\n",
       "      <td>NaN</td>\n",
       "    </tr>\n",
       "    <tr>\n",
       "      <th>82</th>\n",
       "      <td>Pati</td>\n",
       "      <td>10119.0</td>\n",
       "      <td>1.0</td>\n",
       "      <td>2016-10-17</td>\n",
       "      <td>NaT</td>\n",
       "      <td>2017-03-17</td>\n",
       "      <td>NaN</td>\n",
       "    </tr>\n",
       "    <tr>\n",
       "      <th>199</th>\n",
       "      <td>Marcela</td>\n",
       "      <td>10187.0</td>\n",
       "      <td>1.0</td>\n",
       "      <td>2016-12-16</td>\n",
       "      <td>NaT</td>\n",
       "      <td>2017-05-16</td>\n",
       "      <td>NaN</td>\n",
       "    </tr>\n",
       "    <tr>\n",
       "      <th>115</th>\n",
       "      <td>Pati</td>\n",
       "      <td>20198.0</td>\n",
       "      <td>1.0</td>\n",
       "      <td>2016-12-28</td>\n",
       "      <td>2016-02-21</td>\n",
       "      <td>2017-05-28</td>\n",
       "      <td>-311.0</td>\n",
       "    </tr>\n",
       "    <tr>\n",
       "      <th>69</th>\n",
       "      <td>Marisol</td>\n",
       "      <td>50104.0</td>\n",
       "      <td>1.0</td>\n",
       "      <td>2016-10-24</td>\n",
       "      <td>2016-10-24</td>\n",
       "      <td>2017-03-24</td>\n",
       "      <td>0.0</td>\n",
       "    </tr>\n",
       "    <tr>\n",
       "      <th>64</th>\n",
       "      <td>Marisol</td>\n",
       "      <td>50175.0</td>\n",
       "      <td>1.0</td>\n",
       "      <td>2017-01-14</td>\n",
       "      <td>NaT</td>\n",
       "      <td>2017-06-14</td>\n",
       "      <td>NaN</td>\n",
       "    </tr>\n",
       "  </tbody>\n",
       "</table>\n",
       "</div>"
      ],
      "text/plain": [
       "         int       id  r_2months  release_f  cd2months two_months_deadline  \\\n",
       "198  Marcela  10099.0        1.0 2016-12-20        NaT          2017-05-20   \n",
       "82      Pati  10119.0        1.0 2016-10-17        NaT          2017-03-17   \n",
       "199  Marcela  10187.0        1.0 2016-12-16        NaT          2017-05-16   \n",
       "115     Pati  20198.0        1.0 2016-12-28 2016-02-21          2017-05-28   \n",
       "69   Marisol  50104.0        1.0 2016-10-24 2016-10-24          2017-03-24   \n",
       "64   Marisol  50175.0        1.0 2017-01-14        NaT          2017-06-14   \n",
       "\n",
       "     release_2months  \n",
       "198              NaN  \n",
       "82               NaN  \n",
       "199              NaN  \n",
       "115           -311.0  \n",
       "69               0.0  \n",
       "64               NaN  "
      ]
     },
     "execution_count": 528,
     "metadata": {},
     "output_type": "execute_result"
    }
   ],
   "source": [
    "df['two_months_deadline'] = pd.DatetimeIndex( df['release_f'] ) + pd.DateOffset(months = 5)\n",
    "s = ((df.r_2months == 1) & (today > df.two_months_deadline)) & ( (df.release_2months <= 0) | (df.cd2months.isnull()))\n",
    "df.loc[s,['int', 'id', 'r_2months', 'release_f', 'cd2months', 'two_months_deadline', 'release_2months']].sort_values('id')"
   ]
  },
  {
   "cell_type": "code",
   "execution_count": 529,
   "metadata": {
    "collapsed": true,
    "hideCode": false,
    "hidePrompt": false
   },
   "outputs": [],
   "source": [
    "tab  = df.loc[ (today > df.two_months_deadline) | (df.r_2months == 1), 'r_2months'].value_counts()\n",
    "# print(tab)\n",
    "rr_2months = [i / sum(list(tab)) for i in tab][0]\n",
    "# print(rr_2months)"
   ]
  },
  {
   "cell_type": "code",
   "execution_count": 530,
   "metadata": {
    "collapsed": true,
    "hideCode": false,
    "hidePrompt": false
   },
   "outputs": [
    {
     "data": {
      "text/html": [
       "<div>\n",
       "<style>\n",
       "    .dataframe thead tr:only-child th {\n",
       "        text-align: right;\n",
       "    }\n",
       "\n",
       "    .dataframe thead th {\n",
       "        text-align: left;\n",
       "    }\n",
       "\n",
       "    .dataframe tbody tr th {\n",
       "        vertical-align: top;\n",
       "    }\n",
       "</style>\n",
       "<table border=\"1\" class=\"dataframe\">\n",
       "  <thead>\n",
       "    <tr style=\"text-align: right;\">\n",
       "      <th></th>\n",
       "      <th>int</th>\n",
       "      <th>id</th>\n",
       "      <th>r_2months</th>\n",
       "      <th>release_f</th>\n",
       "      <th>cd2months</th>\n",
       "      <th>two_months_deadline</th>\n",
       "      <th>release_2months</th>\n",
       "    </tr>\n",
       "  </thead>\n",
       "  <tbody>\n",
       "    <tr>\n",
       "      <th>5</th>\n",
       "      <td>Javi</td>\n",
       "      <td>10087.0</td>\n",
       "      <td>1.0</td>\n",
       "      <td>2016-10-19</td>\n",
       "      <td>2017-02-09</td>\n",
       "      <td>2017-03-19</td>\n",
       "      <td>113.0</td>\n",
       "    </tr>\n",
       "    <tr>\n",
       "      <th>190</th>\n",
       "      <td>Susana</td>\n",
       "      <td>10158.0</td>\n",
       "      <td>1.0</td>\n",
       "      <td>2016-11-21</td>\n",
       "      <td>2017-07-07</td>\n",
       "      <td>2017-04-21</td>\n",
       "      <td>228.0</td>\n",
       "    </tr>\n",
       "    <tr>\n",
       "      <th>173</th>\n",
       "      <td>Susana</td>\n",
       "      <td>10197.0</td>\n",
       "      <td>1.0</td>\n",
       "      <td>2016-12-26</td>\n",
       "      <td>2017-05-10</td>\n",
       "      <td>2017-05-26</td>\n",
       "      <td>135.0</td>\n",
       "    </tr>\n",
       "    <tr>\n",
       "      <th>12</th>\n",
       "      <td>Javi</td>\n",
       "      <td>10233.0</td>\n",
       "      <td>1.0</td>\n",
       "      <td>2017-01-25</td>\n",
       "      <td>2017-05-17</td>\n",
       "      <td>2017-06-25</td>\n",
       "      <td>112.0</td>\n",
       "    </tr>\n",
       "    <tr>\n",
       "      <th>74</th>\n",
       "      <td>Marisol</td>\n",
       "      <td>10291.0</td>\n",
       "      <td>1.0</td>\n",
       "      <td>2017-03-22</td>\n",
       "      <td>2017-07-04</td>\n",
       "      <td>2017-08-22</td>\n",
       "      <td>104.0</td>\n",
       "    </tr>\n",
       "    <tr>\n",
       "      <th>115</th>\n",
       "      <td>Pati</td>\n",
       "      <td>20198.0</td>\n",
       "      <td>1.0</td>\n",
       "      <td>2016-12-28</td>\n",
       "      <td>2016-02-21</td>\n",
       "      <td>2017-05-28</td>\n",
       "      <td>-311.0</td>\n",
       "    </tr>\n",
       "    <tr>\n",
       "      <th>120</th>\n",
       "      <td>Pati</td>\n",
       "      <td>20224.0</td>\n",
       "      <td>1.0</td>\n",
       "      <td>2017-01-16</td>\n",
       "      <td>2017-05-19</td>\n",
       "      <td>2017-06-16</td>\n",
       "      <td>123.0</td>\n",
       "    </tr>\n",
       "    <tr>\n",
       "      <th>162</th>\n",
       "      <td>Susana</td>\n",
       "      <td>40152.0</td>\n",
       "      <td>1.0</td>\n",
       "      <td>2016-11-16</td>\n",
       "      <td>2017-03-11</td>\n",
       "      <td>2017-04-16</td>\n",
       "      <td>115.0</td>\n",
       "    </tr>\n",
       "    <tr>\n",
       "      <th>216</th>\n",
       "      <td>Marcela</td>\n",
       "      <td>50180.0</td>\n",
       "      <td>1.0</td>\n",
       "      <td>2016-12-07</td>\n",
       "      <td>2017-04-05</td>\n",
       "      <td>2017-05-07</td>\n",
       "      <td>119.0</td>\n",
       "    </tr>\n",
       "    <tr>\n",
       "      <th>217</th>\n",
       "      <td>Marcela</td>\n",
       "      <td>50205.0</td>\n",
       "      <td>1.0</td>\n",
       "      <td>2016-12-28</td>\n",
       "      <td>2017-05-04</td>\n",
       "      <td>2017-05-28</td>\n",
       "      <td>127.0</td>\n",
       "    </tr>\n",
       "    <tr>\n",
       "      <th>223</th>\n",
       "      <td>Marcela</td>\n",
       "      <td>50231.0</td>\n",
       "      <td>1.0</td>\n",
       "      <td>2017-01-22</td>\n",
       "      <td>2017-06-01</td>\n",
       "      <td>2017-06-22</td>\n",
       "      <td>130.0</td>\n",
       "    </tr>\n",
       "    <tr>\n",
       "      <th>227</th>\n",
       "      <td>Marcela</td>\n",
       "      <td>50249.0</td>\n",
       "      <td>1.0</td>\n",
       "      <td>2017-02-09</td>\n",
       "      <td>2017-05-30</td>\n",
       "      <td>2017-07-09</td>\n",
       "      <td>110.0</td>\n",
       "    </tr>\n",
       "    <tr>\n",
       "      <th>58</th>\n",
       "      <td>Marisol</td>\n",
       "      <td>50251.0</td>\n",
       "      <td>1.0</td>\n",
       "      <td>2017-02-14</td>\n",
       "      <td>2017-07-27</td>\n",
       "      <td>2017-07-14</td>\n",
       "      <td>163.0</td>\n",
       "    </tr>\n",
       "    <tr>\n",
       "      <th>60</th>\n",
       "      <td>Marisol</td>\n",
       "      <td>50271.0</td>\n",
       "      <td>1.0</td>\n",
       "      <td>2017-03-06</td>\n",
       "      <td>2017-07-06</td>\n",
       "      <td>2017-08-06</td>\n",
       "      <td>122.0</td>\n",
       "    </tr>\n",
       "    <tr>\n",
       "      <th>228</th>\n",
       "      <td>Marcela</td>\n",
       "      <td>50281.0</td>\n",
       "      <td>1.0</td>\n",
       "      <td>2017-03-12</td>\n",
       "      <td>2017-07-13</td>\n",
       "      <td>2017-08-12</td>\n",
       "      <td>123.0</td>\n",
       "    </tr>\n",
       "  </tbody>\n",
       "</table>\n",
       "</div>"
      ],
      "text/plain": [
       "         int       id  r_2months  release_f  cd2months two_months_deadline  \\\n",
       "5       Javi  10087.0        1.0 2016-10-19 2017-02-09          2017-03-19   \n",
       "190   Susana  10158.0        1.0 2016-11-21 2017-07-07          2017-04-21   \n",
       "173   Susana  10197.0        1.0 2016-12-26 2017-05-10          2017-05-26   \n",
       "12      Javi  10233.0        1.0 2017-01-25 2017-05-17          2017-06-25   \n",
       "74   Marisol  10291.0        1.0 2017-03-22 2017-07-04          2017-08-22   \n",
       "115     Pati  20198.0        1.0 2016-12-28 2016-02-21          2017-05-28   \n",
       "120     Pati  20224.0        1.0 2017-01-16 2017-05-19          2017-06-16   \n",
       "162   Susana  40152.0        1.0 2016-11-16 2017-03-11          2017-04-16   \n",
       "216  Marcela  50180.0        1.0 2016-12-07 2017-04-05          2017-05-07   \n",
       "217  Marcela  50205.0        1.0 2016-12-28 2017-05-04          2017-05-28   \n",
       "223  Marcela  50231.0        1.0 2017-01-22 2017-06-01          2017-06-22   \n",
       "227  Marcela  50249.0        1.0 2017-02-09 2017-05-30          2017-07-09   \n",
       "58   Marisol  50251.0        1.0 2017-02-14 2017-07-27          2017-07-14   \n",
       "60   Marisol  50271.0        1.0 2017-03-06 2017-07-06          2017-08-06   \n",
       "228  Marcela  50281.0        1.0 2017-03-12 2017-07-13          2017-08-12   \n",
       "\n",
       "     release_2months  \n",
       "5              113.0  \n",
       "190            228.0  \n",
       "173            135.0  \n",
       "12             112.0  \n",
       "74             104.0  \n",
       "115           -311.0  \n",
       "120            123.0  \n",
       "162            115.0  \n",
       "216            119.0  \n",
       "217            127.0  \n",
       "223            130.0  \n",
       "227            110.0  \n",
       "58             163.0  \n",
       "60             122.0  \n",
       "228            123.0  "
      ]
     },
     "execution_count": 530,
     "metadata": {},
     "output_type": "execute_result"
    }
   ],
   "source": [
    "df.loc[np.abs(df.release_2months) > 100,['int', 'id', 'r_2months', 'release_f', 'cd2months', 'two_months_deadline', 'release_2months']].sort_values('id')"
   ]
  },
  {
   "cell_type": "markdown",
   "metadata": {},
   "source": [
    "Descriptives:"
   ]
  },
  {
   "cell_type": "code",
   "execution_count": 531,
   "metadata": {
    "collapsed": true,
    "hideCode": false,
    "hidePrompt": false
   },
   "outputs": [
    {
     "data": {
      "text/plain": [
       "count    174.000000\n",
       "mean      68.752874\n",
       "std       37.103852\n",
       "min     -311.000000\n",
       "25%       58.000000\n",
       "50%       64.000000\n",
       "75%       78.000000\n",
       "max      228.000000\n",
       "Name: release_2months, dtype: float64"
      ]
     },
     "execution_count": 531,
     "metadata": {},
     "output_type": "execute_result"
    }
   ],
   "source": [
    "df.loc[df.r_2months == 1, 'release_2months'].describe()"
   ]
  },
  {
   "cell_type": "markdown",
   "metadata": {
    "hideCode": false,
    "hidePrompt": false
   },
   "source": [
    "## Six Months"
   ]
  },
  {
   "cell_type": "code",
   "execution_count": 532,
   "metadata": {
    "collapsed": true,
    "hideCode": false,
    "hidePrompt": false
   },
   "outputs": [],
   "source": [
    "#varname = [col for col in df.columns if 'participa ' in col]\n",
    "#print(varname)"
   ]
  },
  {
   "cell_type": "code",
   "execution_count": 533,
   "metadata": {
    "collapsed": true,
    "hideCode": false,
    "hidePrompt": false
   },
   "outputs": [],
   "source": [
    "#df = df.rename(columns={varname[0]: 'r_6months'})\n",
    "df.r_6months.value_counts()\n",
    "df['r_6months'] = df['r_6months'].str.contains(\"s|S\").astype(float)\n",
    "df['r_6months'] = df.r_6months.fillna(0)\n",
    "#df.r_6months.isnull().value_counts()\n",
    "#df.r_6months.value_counts()"
   ]
  },
  {
   "cell_type": "code",
   "execution_count": null,
   "metadata": {
    "collapsed": true,
    "hideCode": false,
    "hidePrompt": false
   },
   "outputs": [],
   "source": [
    "# date 6months\n",
    "#varname = [col for col in df.columns if 'fecha entrevista' in col]\n",
    "#print(varname)"
   ]
  },
  {
   "cell_type": "code",
   "execution_count": null,
   "metadata": {
    "hideCode": false,
    "hidePrompt": false
   },
   "outputs": [],
   "source": [
    "#df = df.rename(columns={varname[0]: 'd6months'})\n",
    "df['cd6months'] = [clean_dates(i) for i in df['d6months']]\n",
    "\n",
    "m = df.cd6months.isnull() & df.d6months.notnull()\n",
    "m.value_counts()"
   ]
  },
  {
   "cell_type": "code",
   "execution_count": null,
   "metadata": {
    "hideCode": false,
    "hidePrompt": false
   },
   "outputs": [],
   "source": [
    "# df.loc[m, ['id', 'release_f', 'cd6months', 'd6months']]"
   ]
  },
  {
   "cell_type": "code",
   "execution_count": null,
   "metadata": {
    "collapsed": true,
    "hideCode": false,
    "hidePrompt": false
   },
   "outputs": [],
   "source": [
    "s = (df.r_6months == 1)\n",
    "#df.loc[s, 'cd6months'].isnull().value_counts()"
   ]
  },
  {
   "cell_type": "markdown",
   "metadata": {},
   "source": [
    "There is some issues here:"
   ]
  },
  {
   "cell_type": "code",
   "execution_count": null,
   "metadata": {
    "hideCode": false,
    "hidePrompt": false
   },
   "outputs": [],
   "source": [
    "df.loc[df.id == 50209, 'cd6months'] = pd.to_datetime('2017-07-30')\n",
    "df = df.assign(release_6months = (df.cd6months - df.release_f).dt.days)\n",
    "\n",
    "ax = df.release_6months.hist(bins = 20);\n",
    "ax.set_xlabel('Date six months - release');"
   ]
  },
  {
   "cell_type": "code",
   "execution_count": null,
   "metadata": {
    "hideCode": false,
    "hidePrompt": false
   },
   "outputs": [],
   "source": [
    "df['six_months_deadline'] = pd.DatetimeIndex( df['release_f'] ) + pd.DateOffset(months = 9)\n",
    "s = ((df.r_6months == 1) & (today > df.six_months_deadline)) & ( (df.release_6months <= 0) | (df.cd6months.isnull()))\n",
    "df.loc[s,['int', 'id', 'r_6months', 'release_f', 'd6months', 'cd6months', 'six_months_deadline', 'release_6months']].sort_values('id')"
   ]
  },
  {
   "cell_type": "code",
   "execution_count": null,
   "metadata": {
    "collapsed": true,
    "hideCode": false,
    "hidePrompt": false
   },
   "outputs": [],
   "source": [
    "# df.loc[df.release_6months < -0,['int', 'id', 'r_6months', 'release_f', 'd6months', 'cd6months', 'six_months_deadline', 'release_6months']].sort_values('id')"
   ]
  },
  {
   "cell_type": "code",
   "execution_count": null,
   "metadata": {
    "collapsed": true,
    "hideCode": false,
    "hidePrompt": false
   },
   "outputs": [],
   "source": [
    "df.loc[np.abs(df.release_6months) > 100,['int', 'id', 'r_6months', 'release_f', 'cd6months', 'six_months_deadline', 'release_6months']].sort_values('id')"
   ]
  },
  {
   "cell_type": "code",
   "execution_count": null,
   "metadata": {
    "collapsed": true,
    "hideCode": false,
    "hidePrompt": false
   },
   "outputs": [],
   "source": [
    "tab  = df.loc[(today > df.six_months_deadline)  | (df.r_6months == 1), 'r_6months'].value_counts()\n",
    "# print(tab)\n",
    "rr_6months = [i / sum(list(tab)) for i in tab][0]\n",
    "print(rr_6months)"
   ]
  },
  {
   "cell_type": "markdown",
   "metadata": {},
   "source": [
    "Some descriptives:"
   ]
  },
  {
   "cell_type": "code",
   "execution_count": null,
   "metadata": {
    "collapsed": true,
    "hideCode": false,
    "hidePrompt": false
   },
   "outputs": [],
   "source": [
    "df.loc[df.r_6months == 1, 'release_6months'].describe()"
   ]
  },
  {
   "cell_type": "markdown",
   "metadata": {
    "hideCode": false,
    "hidePrompt": false
   },
   "source": [
    "# Plot of interview days by wave"
   ]
  },
  {
   "cell_type": "code",
   "execution_count": null,
   "metadata": {
    "hideCode": false,
    "hidePrompt": false
   },
   "outputs": [],
   "source": [
    "ax = df.loc[:, ['release_baseline', 'release_week', 'release_2months', \n",
    "                'release_6months']].plot.hist(title='Distribución Día de Entrevista según Ola', alpha=0.6, bins = 200);\n",
    "ax.set_xlim(-35,365);\n",
    "ax.legend(['Línea base', 'Primera semana', 'Dos meses', 'Seis meses']);\n",
    "ax.axvline(7, color = 'gray', linestyle ='--', linewidth=1);\n",
    "ax.axvline(30.5*2, color = 'gray', linestyle ='--', linewidth=1);\n",
    "ax.axvline(30.5*6, color = 'gray', linestyle ='--', linewidth=1);\n",
    "ax.set_xlabel('Días desde la salida');\n",
    "plt.savefig('plots/dia_entrevista_ola.pdf', dpi = 600)"
   ]
  },
  {
   "cell_type": "markdown",
   "metadata": {
    "hideCode": false,
    "hidePrompt": false
   },
   "source": [
    "## Summary rates"
   ]
  },
  {
   "cell_type": "code",
   "execution_count": null,
   "metadata": {
    "hideCode": false,
    "hidePrompt": false
   },
   "outputs": [],
   "source": [
    "rr = pd.DataFrame( {\"rate\" : [rr_week, rr_2months, rr_6months]}, \n",
    "                       index = ['week' ,'2 months', '6 months'])\n",
    "\n",
    "rr"
   ]
  },
  {
   "cell_type": "code",
   "execution_count": null,
   "metadata": {
    "collapsed": true
   },
   "outputs": [],
   "source": [
    "# s = ['id', 'r_week', 'r_2months', 'r_6months', 'interviewer']\n",
    "# df.loc[:,s].to_csv('/Users/sdaza/Dropbox/Projects/re-entry/10 investigadores/sdaza/reports-github/reports/data/clean_register.csv')"
   ]
  }
 ],
 "metadata": {
  "celltoolbar": "Hide code",
  "hide_code_all_hidden": false,
  "kernelspec": {
   "display_name": "Python [conda root]",
   "language": "python",
   "name": "conda-root-py"
  },
  "language_info": {
   "codemirror_mode": {
    "name": "ipython",
    "version": 3
   },
   "file_extension": ".py",
   "mimetype": "text/x-python",
   "name": "python",
   "nbconvert_exporter": "python",
   "pygments_lexer": "ipython3",
   "version": "3.6.1"
  }
 },
 "nbformat": 4,
 "nbformat_minor": 2
}
