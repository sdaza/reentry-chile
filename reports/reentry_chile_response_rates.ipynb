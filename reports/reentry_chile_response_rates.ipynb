{
 "cells": [
  {
   "cell_type": "code",
   "execution_count": 2,
   "metadata": {},
   "outputs": [],
   "source": []
  },
  {
   "cell_type": "markdown",
   "metadata": {
    "hideCode": false,
    "hideOutput": false,
    "hidePrompt": false
   },
   "source": [
    "# Reentry Chile Response Rate\n",
    "\n",
    "*Sebastian Daza*\n",
    "\n",
    "In this report I describe response rates by wave. I follow these general criteria:\n",
    "\n",
    "- The estimation by wave only uses cases far beyond the wave-specific observation window. For instance, for the wave 2-months, we only consider those women who have been in the study for 4 months.\n",
    "- This estimation is based on the administrative records of the study.\n",
    "\n",
    "Some important definitions:\n",
    "\n",
    "- Names of waves: baseline, week, two_months six_months\n",
    "- Variables names: `d` means date, `c` means clean, and `cd` clean date\n",
    "- Deadline corresponds to th time threshold to compute a given response rate\n",
    "\n",
    "I review the key date variables to compute the rates and highlight inconsistencies or problems. "
   ]
  },
  {
   "cell_type": "code",
   "execution_count": 10,
   "metadata": {
    "hideCode": false,
    "hidePrompt": false
   },
   "outputs": [],
   "source": [
    "# getting paths\n",
    "import os\n",
    "file = os.getcwd() + '/data/Reporte 6 meses_25102017.xlsx'"
   ]
  },
  {
   "cell_type": "markdown",
   "metadata": {
    "hideCode": false,
    "hidePrompt": false
   },
   "source": [
    "## Release\n",
    "There are two date of release variables\n",
    "in the register data. *Definitive* has a bunch of missing records. **We should define a validated and unique date of release variable**. "
   ]
  },
  {
   "cell_type": "code",
   "execution_count": 11,
   "metadata": {
    "collapsed": true,
    "hideCode": false,
    "hideOutput": false,
    "hidePrompt": false
   },
   "outputs": [],
   "source": [
    "import pandas as pd\n",
    "import re \n",
    "\n",
    "# path = '/Users/sdaza/Desktop/seguimiento/'\n",
    "# files = os.listdir(path)\n",
    "# files"
   ]
  },
  {
   "cell_type": "code",
   "execution_count": 46,
   "metadata": {
    "collapsed": true,
    "hideCode": false,
    "hideOutput": false,
    "hidePrompt": false
   },
   "outputs": [],
   "source": [
    "# exclude temp files and DS_Store\n",
    "# cfiles = [re.findall(r'^[a-zA-Z].+', file) for file in files]\n",
    "# cfiles = list(filter(None, cfiles))\n",
    "# cfiles"
   ]
  },
  {
   "cell_type": "code",
   "execution_count": 47,
   "metadata": {
    "collapsed": true,
    "hideCode": false,
    "hideOutput": false,
    "hidePrompt": false
   },
   "outputs": [],
   "source": [
    "# # read data\n",
    "# df = pd.DataFrame()\n",
    "# for file in cfiles:\n",
    "#     if file: \n",
    "#         t = pd.read_excel(path+file[0], skiprows=[0,1])\n",
    "#         t.rename(columns=lambda x: x.strip(), inplace=True) # remove spaces\n",
    "#         df = df.append(t, ignore_index=True)"
   ]
  },
  {
   "cell_type": "code",
   "execution_count": 19,
   "metadata": {
    "collapsed": true,
    "hideCode": false,
    "hideOutput": false,
    "hidePrompt": false
   },
   "outputs": [],
   "source": [
    "# read excel file\n",
    "df = pd.read_excel(file, skiprows=[range(0,3)])"
   ]
  },
  {
   "cell_type": "code",
   "execution_count": 20,
   "metadata": {
    "collapsed": true,
    "hideCode": false,
    "hideOutput": false,
    "hidePrompt": false
   },
   "outputs": [
    {
     "data": {
      "text/html": [
       "<div>\n",
       "<style>\n",
       "    .dataframe thead tr:only-child th {\n",
       "        text-align: right;\n",
       "    }\n",
       "\n",
       "    .dataframe thead th {\n",
       "        text-align: left;\n",
       "    }\n",
       "\n",
       "    .dataframe tbody tr th {\n",
       "        vertical-align: top;\n",
       "    }\n",
       "</style>\n",
       "<table border=\"1\" class=\"dataframe\">\n",
       "  <thead>\n",
       "    <tr style=\"text-align: right;\">\n",
       "      <th></th>\n",
       "      <th>REPORTE 6 MESES AL 25/10/2017</th>\n",
       "      <th>Unnamed: 1</th>\n",
       "      <th>Unnamed: 2</th>\n",
       "      <th>Unnamed: 3</th>\n",
       "      <th>Unnamed: 4</th>\n",
       "      <th>Unnamed: 5</th>\n",
       "      <th>Unnamed: 6</th>\n",
       "      <th>Unnamed: 7</th>\n",
       "      <th>Unnamed: 8</th>\n",
       "      <th>Unnamed: 9</th>\n",
       "      <th>Unnamed: 10</th>\n",
       "      <th>Unnamed: 11</th>\n",
       "      <th>Unnamed: 12</th>\n",
       "      <th>Unnamed: 13</th>\n",
       "    </tr>\n",
       "  </thead>\n",
       "  <tbody>\n",
       "    <tr>\n",
       "      <th>NaN</th>\n",
       "      <td>NaN</td>\n",
       "      <td>NaN</td>\n",
       "      <td>NaN</td>\n",
       "      <td>NaN</td>\n",
       "      <td>NaN</td>\n",
       "      <td>NaN</td>\n",
       "      <td>NaN</td>\n",
       "      <td>NaN</td>\n",
       "      <td>NaN</td>\n",
       "      <td>NaN</td>\n",
       "      <td>NaN</td>\n",
       "      <td>NaN</td>\n",
       "      <td>NaN</td>\n",
       "      <td>NaN</td>\n",
       "    </tr>\n",
       "    <tr>\n",
       "      <th>NaN</th>\n",
       "      <td>ENCUESTADORA</td>\n",
       "      <td>CANTIDAD DE CASOS</td>\n",
       "      <td>MUJERES CONTACTADAS\\n(6 meses)</td>\n",
       "      <td>% Promedio mujeres contactadas</td>\n",
       "      <td>ENCUESTAS REALIZADAS (6 meses)</td>\n",
       "      <td>% Logro 6 meses</td>\n",
       "      <td>ENCUESTAS REALIZADAS EN TODAS LAS OLAS (incluí...</td>\n",
       "      <td>% Logro Total en todas las olas \\n(sin contar ...</td>\n",
       "      <td>OLAS PERDIDAS\\n(6 meses)</td>\n",
       "      <td>% Pérdida 6 meses</td>\n",
       "      <td>Podemos recuperar pasadas</td>\n",
       "      <td>Encuestas realizadas recuperando las pasadas (...</td>\n",
       "      <td>% Logro recuperando las pasadas</td>\n",
       "      <td>POR QUÉ</td>\n",
       "    </tr>\n",
       "    <tr>\n",
       "      <th>NaN</th>\n",
       "      <td>Susana</td>\n",
       "      <td>59</td>\n",
       "      <td>57</td>\n",
       "      <td>96.6102</td>\n",
       "      <td>57</td>\n",
       "      <td>96.6102</td>\n",
       "      <td>47</td>\n",
       "      <td>79.661</td>\n",
       "      <td>2</td>\n",
       "      <td>3.38983</td>\n",
       "      <td>0</td>\n",
       "      <td>57</td>\n",
       "      <td>96.6102</td>\n",
       "      <td>Una vive en EEUU y la otra se murió</td>\n",
       "    </tr>\n",
       "    <tr>\n",
       "      <th>NaN</th>\n",
       "      <td>Pati</td>\n",
       "      <td>59</td>\n",
       "      <td>53</td>\n",
       "      <td>89.8305</td>\n",
       "      <td>49</td>\n",
       "      <td>83.0508</td>\n",
       "      <td>41</td>\n",
       "      <td>69.4915</td>\n",
       "      <td>10</td>\n",
       "      <td>16.9492</td>\n",
       "      <td>1</td>\n",
       "      <td>50</td>\n",
       "      <td>84.7458</td>\n",
       "      <td>Una está fuera del país y no vuelve por causas...</td>\n",
       "    </tr>\n",
       "    <tr>\n",
       "      <th>NaN</th>\n",
       "      <td>Marcela</td>\n",
       "      <td>32</td>\n",
       "      <td>27</td>\n",
       "      <td>84.375</td>\n",
       "      <td>26</td>\n",
       "      <td>81.25</td>\n",
       "      <td>16</td>\n",
       "      <td>50</td>\n",
       "      <td>6</td>\n",
       "      <td>18.75</td>\n",
       "      <td>1</td>\n",
       "      <td>27</td>\n",
       "      <td>84.375</td>\n",
       "      <td>Una esta en EEUU, otra nos ha costado un mundo...</td>\n",
       "    </tr>\n",
       "  </tbody>\n",
       "</table>\n",
       "</div>"
      ],
      "text/plain": [
       "    REPORTE 6 MESES AL 25/10/2017         Unnamed: 1  \\\n",
       "NaN                           NaN                NaN   \n",
       "NaN                  ENCUESTADORA  CANTIDAD DE CASOS   \n",
       "NaN                        Susana                 59   \n",
       "NaN                          Pati                 59   \n",
       "NaN                      Marcela                  32   \n",
       "\n",
       "                         Unnamed: 2                      Unnamed: 3  \\\n",
       "NaN                             NaN                             NaN   \n",
       "NaN  MUJERES CONTACTADAS\\n(6 meses)  % Promedio mujeres contactadas   \n",
       "NaN                              57                         96.6102   \n",
       "NaN                              53                         89.8305   \n",
       "NaN                              27                          84.375   \n",
       "\n",
       "                          Unnamed: 4        Unnamed: 5  \\\n",
       "NaN                              NaN               NaN   \n",
       "NaN  ENCUESTAS REALIZADAS (6 meses)   % Logro 6 meses    \n",
       "NaN                               57           96.6102   \n",
       "NaN                               49           83.0508   \n",
       "NaN                               26             81.25   \n",
       "\n",
       "                                            Unnamed: 6  \\\n",
       "NaN                                                NaN   \n",
       "NaN  ENCUESTAS REALIZADAS EN TODAS LAS OLAS (incluí...   \n",
       "NaN                                                 47   \n",
       "NaN                                                 41   \n",
       "NaN                                                 16   \n",
       "\n",
       "                                            Unnamed: 7  \\\n",
       "NaN                                                NaN   \n",
       "NaN  % Logro Total en todas las olas \\n(sin contar ...   \n",
       "NaN                                             79.661   \n",
       "NaN                                            69.4915   \n",
       "NaN                                                 50   \n",
       "\n",
       "                   Unnamed: 8         Unnamed: 9                Unnamed: 10  \\\n",
       "NaN                       NaN                NaN                        NaN   \n",
       "NaN  OLAS PERDIDAS\\n(6 meses)  % Pérdida 6 meses  Podemos recuperar pasadas   \n",
       "NaN                         2            3.38983                          0   \n",
       "NaN                        10            16.9492                          1   \n",
       "NaN                         6              18.75                          1   \n",
       "\n",
       "                                           Unnamed: 11  \\\n",
       "NaN                                                NaN   \n",
       "NaN  Encuestas realizadas recuperando las pasadas (...   \n",
       "NaN                                                 57   \n",
       "NaN                                                 50   \n",
       "NaN                                                 27   \n",
       "\n",
       "                         Unnamed: 12  \\\n",
       "NaN                              NaN   \n",
       "NaN  % Logro recuperando las pasadas   \n",
       "NaN                          96.6102   \n",
       "NaN                          84.7458   \n",
       "NaN                           84.375   \n",
       "\n",
       "                                           Unnamed: 13  \n",
       "NaN                                                NaN  \n",
       "NaN                                            POR QUÉ  \n",
       "NaN                Una vive en EEUU y la otra se murió  \n",
       "NaN  Una está fuera del país y no vuelve por causas...  \n",
       "NaN  Una esta en EEUU, otra nos ha costado un mundo...  "
      ]
     },
     "execution_count": 20,
     "metadata": {},
     "output_type": "execute_result"
    }
   ],
   "source": [
    "df.head()"
   ]
  },
  {
   "cell_type": "code",
   "execution_count": 49,
   "metadata": {},
   "outputs": [
    {
     "data": {
      "text/plain": [
       "(226, 13)"
      ]
     },
     "execution_count": 49,
     "metadata": {},
     "output_type": "execute_result"
    }
   ],
   "source": [
    "# extract columns\n",
    "cols = ['enc','folio','fegresoefectiva', 'lb_fechaentrevista', 'lb_participa', \n",
    "       'primsem_fechaentrevista', 'primsem_participa', 'dosmeses_fechaentrevista', \n",
    "        'dosmeses_participa', 'seismeses_fechaentrevista', 'seismeses_participa', \n",
    "       'docemeses_fechaentrevista', 'docemeses_participa']\n",
    "\n",
    "df = df.loc[:,cols]\n",
    "df.shape"
   ]
  },
  {
   "cell_type": "code",
   "execution_count": 50,
   "metadata": {
    "collapsed": true,
    "hideCode": false,
    "hideOutput": false,
    "hidePrompt": false
   },
   "outputs": [],
   "source": [
    "# rename columns\n",
    "names = [\"int\",\"id\", \"release_f\",\"dbaseline\",\"r_baseline\",\n",
    "         \"dweek\",\"r_week\",\"d2months\",\"r_2months\",\n",
    "         \"d6months\",\"r_6months\",\"d12months\",\"r_12months\"]\n",
    "\n",
    "df.rename(columns=dict(zip(cols, names)), inplace=True)"
   ]
  },
  {
   "cell_type": "code",
   "execution_count": 53,
   "metadata": {
    "collapsed": true,
    "hideCode": false,
    "hideOutput": false,
    "hidePrompt": false
   },
   "outputs": [],
   "source": [
    "null = df.int.notnull()\n",
    "df = df.loc[null, names]"
   ]
  },
  {
   "cell_type": "code",
   "execution_count": 54,
   "metadata": {
    "collapsed": true,
    "hideCode": false,
    "hideOutput": false,
    "hidePrompt": false
   },
   "outputs": [
    {
     "data": {
      "text/plain": [
       "(226, 13)"
      ]
     },
     "execution_count": 54,
     "metadata": {},
     "output_type": "execute_result"
    }
   ],
   "source": [
    "df.shape"
   ]
  },
  {
   "cell_type": "code",
   "execution_count": 55,
   "metadata": {
    "collapsed": true,
    "hideCode": false,
    "hideOutput": false,
    "hidePrompt": false
   },
   "outputs": [],
   "source": [
    "# remove cases?\n",
    "\n",
    "remove_cases = [10011,10015] # I guess this should be the same!\n",
    "\n",
    "# df.id in remove_cases\n",
    "df = df.loc[~df.id.isin(remove_cases),:]\n",
    "df.shape"
   ]
  },
  {
   "cell_type": "code",
   "execution_count": 56,
   "metadata": {
    "collapsed": true,
    "hideCode": false,
    "hideOutput": false,
    "hidePrompt": false
   },
   "outputs": [
    {
     "data": {
      "text/plain": [
       "(224, 13)"
      ]
     },
     "execution_count": 56,
     "metadata": {},
     "output_type": "execute_result"
    }
   ],
   "source": []
  },
  {
   "cell_type": "code",
   "execution_count": 10,
   "metadata": {
    "collapsed": true,
    "hideCode": false,
    "hideOutput": false,
    "hidePrompt": false
   },
   "outputs": [],
   "source": [
    "# save data\n",
    "\n",
    "# import dill\n",
    "# dill.dump(df, open('registro.pkl', 'wb'))\n",
    "# load the data\n",
    "# df = dill.load(open('registro.pkl', 'rb'))"
   ]
  },
  {
   "cell_type": "code",
   "execution_count": 57,
   "metadata": {},
   "outputs": [
    {
     "data": {
      "text/plain": [
       "False    224\n",
       "Name: release_f, dtype: int64"
      ]
     },
     "execution_count": 57,
     "metadata": {},
     "output_type": "execute_result"
    }
   ],
   "source": [
    "# no valid records for release_f?\n",
    "s = df.release_f.isnull()\n",
    "s.value_counts()"
   ]
  },
  {
   "cell_type": "code",
   "execution_count": 44,
   "metadata": {
    "collapsed": true,
    "hideCode": false,
    "hideOutput": true,
    "hidePrompt": false
   },
   "outputs": [],
   "source": [
    "#df.loc[s, 'release'] = df.loc[s, 'release_o']"
   ]
  },
  {
   "cell_type": "code",
   "execution_count": 58,
   "metadata": {
    "collapsed": true,
    "hideCode": false,
    "hideOutput": true,
    "hidePrompt": false
   },
   "outputs": [
    {
     "name": "stdout",
     "output_type": "stream",
     "text": [
      "2016    146\n",
      "2017     78\n",
      "Name: release_year, dtype: int64\n",
      "10    72\n",
      "12    34\n",
      "3     30\n",
      "11    28\n",
      "1     28\n",
      "2     20\n",
      "9     12\n",
      "Name: release_month, dtype: int64\n"
     ]
    }
   ],
   "source": [
    "# start = pd.to_datetime(\"09/01/2016\")\n",
    "# s = (df.release < start) & (df.release_o >= start)\n",
    "# df.loc[s, ['release']] = df.loc[s, ['release_o']]\n",
    "df['release_year'] = pd.DatetimeIndex(df['release_f']).year\n",
    "df['release_month'] = pd.DatetimeIndex(df['release_f']).month\n",
    "\n",
    "# year and months\n",
    "print(df.release_year.value_counts())\n",
    "print(df.release_month.value_counts())"
   ]
  },
  {
   "cell_type": "code",
   "execution_count": null,
   "metadata": {
    "hideCode": false,
    "hideOutput": false,
    "hidePrompt": false
   },
   "outputs": [],
   "source": [
    "# release plot\n",
    "\n",
    "t = df.reset_index().set_index('release_f')\n",
    "t = t.resample('M')\n",
    "ax = t.id.count().plot(title='Release by month', style='.-', ms=13);\n",
    "ax.set_ylabel(\"Women\");\n",
    "ax.set_xlabel(\"Month of release\");"
   ]
  },
  {
   "cell_type": "markdown",
   "metadata": {
    "hideCode": false,
    "hidePrompt": false
   },
   "source": [
    "## Baseline\n",
    "\n",
    "Let's explore the baseline information. \n",
    "\n",
    "Below a plot with the distribution of the difference between the date of the baseline and release. All values should be negative. \n",
    "\n",
    "To check cases below where we have issues: missing data or positive value (i.e., the baseline was applied after release). "
   ]
  },
  {
   "cell_type": "code",
   "execution_count": 47,
   "metadata": {
    "collapsed": true,
    "hideCode": false,
    "hideOutput": false,
    "hidePrompt": false
   },
   "outputs": [],
   "source": [
    "# baseline response\n",
    "# varname = [col for col in df.columns if 'sí: se realizó línea base' in col]\n",
    "#print(varname)\n",
    "# df = df.rename(columns={'lb_response': 'r_baseline'})\n",
    "# df\n",
    "# df.r_baseline.value_counts()\n",
    "# df['r_baseline'] = df['r_baseline'].str.contains(\"s|S\")"
   ]
  },
  {
   "cell_type": "markdown",
   "metadata": {},
   "source": [
    "Case 20112 has a problem with baseline date of interview. "
   ]
  },
  {
   "cell_type": "code",
   "execution_count": 41,
   "metadata": {
    "collapsed": true,
    "hideCode": false,
    "hideOutput": false,
    "hidePrompt": false
   },
   "outputs": [
    {
     "data": {
      "text/html": [
       "<div>\n",
       "<style>\n",
       "    .dataframe thead tr:only-child th {\n",
       "        text-align: right;\n",
       "    }\n",
       "\n",
       "    .dataframe thead th {\n",
       "        text-align: left;\n",
       "    }\n",
       "\n",
       "    .dataframe tbody tr th {\n",
       "        vertical-align: top;\n",
       "    }\n",
       "</style>\n",
       "<table border=\"1\" class=\"dataframe\">\n",
       "  <thead>\n",
       "    <tr style=\"text-align: right;\">\n",
       "      <th></th>\n",
       "      <th>int</th>\n",
       "      <th>id</th>\n",
       "      <th>release_f</th>\n",
       "      <th>dbaseline</th>\n",
       "      <th>r_baseline</th>\n",
       "      <th>dweek</th>\n",
       "      <th>r_week</th>\n",
       "      <th>d2months</th>\n",
       "      <th>r_2months</th>\n",
       "      <th>d6months</th>\n",
       "      <th>r_6months</th>\n",
       "      <th>d12months</th>\n",
       "      <th>r_12months</th>\n",
       "      <th>release_year</th>\n",
       "      <th>release_month</th>\n",
       "    </tr>\n",
       "  </thead>\n",
       "  <tbody>\n",
       "    <tr>\n",
       "      <th>86</th>\n",
       "      <td>Marcela</td>\n",
       "      <td>50060</td>\n",
       "      <td>2016-10-19</td>\n",
       "      <td>NaN</td>\n",
       "      <td>0.708333</td>\n",
       "      <td>2016-10-29</td>\n",
       "      <td>NaN</td>\n",
       "      <td>2016-12-28</td>\n",
       "      <td>Si</td>\n",
       "      <td>2017-06-26</td>\n",
       "      <td>SI</td>\n",
       "      <td>16:00:00</td>\n",
       "      <td>NaN</td>\n",
       "      <td>2016</td>\n",
       "      <td>10</td>\n",
       "    </tr>\n",
       "    <tr>\n",
       "      <th>95</th>\n",
       "      <td>Marisol</td>\n",
       "      <td>10291</td>\n",
       "      <td>2017-03-22</td>\n",
       "      <td>NaN</td>\n",
       "      <td>Sí</td>\n",
       "      <td>NaT</td>\n",
       "      <td>NaN</td>\n",
       "      <td>2017-06-11</td>\n",
       "      <td>SI</td>\n",
       "      <td>2017-10-18</td>\n",
       "      <td>NaN</td>\n",
       "      <td>2018-05-06 00:00:00</td>\n",
       "      <td>NaN</td>\n",
       "      <td>2017</td>\n",
       "      <td>3</td>\n",
       "    </tr>\n",
       "  </tbody>\n",
       "</table>\n",
       "</div>"
      ],
      "text/plain": [
       "        int     id  release_f dbaseline r_baseline      dweek r_week  \\\n",
       "86  Marcela  50060 2016-10-19       NaN   0.708333 2016-10-29    NaN   \n",
       "95  Marisol  10291 2017-03-22       NaN         Sí        NaT    NaN   \n",
       "\n",
       "     d2months r_2months   d6months r_6months            d12months r_12months  \\\n",
       "86 2016-12-28        Si 2017-06-26        SI             16:00:00        NaN   \n",
       "95 2017-06-11        SI 2017-10-18       NaN  2018-05-06 00:00:00        NaN   \n",
       "\n",
       "    release_year  release_month  \n",
       "86          2016             10  \n",
       "95          2017              3  "
      ]
     },
     "execution_count": 41,
     "metadata": {},
     "output_type": "execute_result"
    }
   ],
   "source": [
    "# correct some dates\n",
    "\n",
    "df[df.dbaseline.isnull()]"
   ]
  },
  {
   "cell_type": "code",
   "execution_count": 43,
   "metadata": {
    "collapsed": true,
    "hideCode": false,
    "hideOutput": false,
    "hidePrompt": false
   },
   "outputs": [
    {
     "name": "stderr",
     "output_type": "stream",
     "text": [
      "/Users/sdaza/miniconda3/lib/python3.6/site-packages/pandas/core/indexing.py:517: SettingWithCopyWarning: \n",
      "A value is trying to be set on a copy of a slice from a DataFrame.\n",
      "Try using .loc[row_indexer,col_indexer] = value instead\n",
      "\n",
      "See the caveats in the documentation: http://pandas.pydata.org/pandas-docs/stable/indexing.html#indexing-view-versus-copy\n",
      "  self.obj[item] = s\n"
     ]
    }
   ],
   "source": [
    "df.loc[df.id == 20112, 'dbaseline'] = '2016-10-19'"
   ]
  },
  {
   "cell_type": "code",
   "execution_count": 48,
   "metadata": {
    "collapsed": true,
    "hideCode": false,
    "hideOutput": false,
    "hidePrompt": false
   },
   "outputs": [],
   "source": [
    "= "
   ]
  },
  {
   "cell_type": "code",
   "execution_count": 49,
   "metadata": {
    "collapsed": true,
    "hideCode": false,
    "hideOutput": false,
    "hidePrompt": false
   },
   "outputs": [],
   "source": [
    "# function to clean dates\n",
    "import re\n",
    "\n",
    "def clean_dates(text):\n",
    "   if (isinstance(text, str)):\n",
    "      text = str(text)\n",
    "      pp = re.compile(\"-|\\.\")\n",
    "      r = re.sub(pp, \"/\", text)\n",
    "      pp = re.compile(\"([0-9]+/[0-9]+/[0-9]+)|([0-9]+-[0-9]+-[0-9]+)\")\n",
    "      r = re.search(pp, r)\n",
    "      if (r is not None):\n",
    "         r = r.group()\n",
    "      else:\n",
    "         r = ''\n",
    "   else:\n",
    "      r = text\n",
    "   return pd.to_datetime(r, dayfirst=True, errors = 'coerce')"
   ]
  },
  {
   "cell_type": "code",
   "execution_count": 50,
   "metadata": {
    "collapsed": true,
    "hideCode": false,
    "hidePrompt": false
   },
   "outputs": [],
   "source": [
    "df['cdbaseline'] = [clean_dates(i) for i in df['dbaseline']]"
   ]
  },
  {
   "cell_type": "code",
   "execution_count": 51,
   "metadata": {
    "hideCode": false,
    "hidePrompt": false
   },
   "outputs": [],
   "source": [
    "# m = df['cdbaseline'].isnull() & df['dbaseline'].notnull()\n",
    "# df.loc[m, ['int', 'id', 'cdbaseline', 'dbaseline']]"
   ]
  },
  {
   "cell_type": "code",
   "execution_count": 52,
   "metadata": {
    "collapsed": true,
    "hideCode": false,
    "hidePrompt": false
   },
   "outputs": [],
   "source": [
    "# replace errors in data entry\n",
    "# errors = ['V16/12716', 'V14 y M18/10']\n",
    "# new_values = ['12/16/16', '10/18/16']\n",
    "# \n",
    "# for i in range(0,len(errors)):\n",
    "#    df.loc[df['dbaseline'] == errors[i], 'cdbaseline'] = pd.to_datetime(new_values[i])"
   ]
  },
  {
   "cell_type": "code",
   "execution_count": 53,
   "metadata": {
    "hideCode": false,
    "hidePrompt": false
   },
   "outputs": [],
   "source": [
    "# identify inconsistent cases\n",
    "# df.release_baseline.describe()\n",
    "# ax = df.release_baseline.hist(bins = 40);\n",
    "# ax.set_xlabel('Baseline date - Release');"
   ]
  },
  {
   "cell_type": "markdown",
   "metadata": {},
   "source": [
    "Some problems in the rows and dates below. Look at last Marcela row. "
   ]
  },
  {
   "cell_type": "code",
   "execution_count": 54,
   "metadata": {
    "collapsed": true,
    "hideCode": false,
    "hidePrompt": false
   },
   "outputs": [
    {
     "data": {
      "text/html": [
       "<div>\n",
       "<style>\n",
       "    .dataframe thead tr:only-child th {\n",
       "        text-align: right;\n",
       "    }\n",
       "\n",
       "    .dataframe thead th {\n",
       "        text-align: left;\n",
       "    }\n",
       "\n",
       "    .dataframe tbody tr th {\n",
       "        vertical-align: top;\n",
       "    }\n",
       "</style>\n",
       "<table border=\"1\" class=\"dataframe\">\n",
       "  <thead>\n",
       "    <tr style=\"text-align: right;\">\n",
       "      <th></th>\n",
       "      <th>int</th>\n",
       "      <th>id</th>\n",
       "      <th>r_baseline</th>\n",
       "      <th>release_f</th>\n",
       "      <th>cdbaseline</th>\n",
       "      <th>dbaseline</th>\n",
       "      <th>release_baseline</th>\n",
       "    </tr>\n",
       "  </thead>\n",
       "  <tbody>\n",
       "    <tr>\n",
       "      <th>2</th>\n",
       "      <td>Javi</td>\n",
       "      <td>10007.0</td>\n",
       "      <td>Sí</td>\n",
       "      <td>2016-09-20</td>\n",
       "      <td>2016-12-09</td>\n",
       "      <td>2016-12-09 00:00:00</td>\n",
       "      <td>80.0</td>\n",
       "    </tr>\n",
       "    <tr>\n",
       "      <th>63</th>\n",
       "      <td>Marisol</td>\n",
       "      <td>10291.0</td>\n",
       "      <td>Sí</td>\n",
       "      <td>2017-03-22</td>\n",
       "      <td>NaT</td>\n",
       "      <td>NaT</td>\n",
       "      <td>NaN</td>\n",
       "    </tr>\n",
       "    <tr>\n",
       "      <th>202</th>\n",
       "      <td>Marcela</td>\n",
       "      <td>50037.0</td>\n",
       "      <td>SI</td>\n",
       "      <td>2016-10-19</td>\n",
       "      <td>2017-09-30</td>\n",
       "      <td>2017-09-30 00:00:00</td>\n",
       "      <td>346.0</td>\n",
       "    </tr>\n",
       "    <tr>\n",
       "      <th>201</th>\n",
       "      <td>Marcela</td>\n",
       "      <td>50060.0</td>\n",
       "      <td>17:00:00</td>\n",
       "      <td>2016-10-19</td>\n",
       "      <td>NaT</td>\n",
       "      <td>NaT</td>\n",
       "      <td>NaN</td>\n",
       "    </tr>\n",
       "  </tbody>\n",
       "</table>\n",
       "</div>"
      ],
      "text/plain": [
       "         int       id r_baseline  release_f cdbaseline            dbaseline  \\\n",
       "2       Javi  10007.0         Sí 2016-09-20 2016-12-09  2016-12-09 00:00:00   \n",
       "63   Marisol  10291.0         Sí 2017-03-22        NaT                  NaT   \n",
       "202  Marcela  50037.0         SI 2016-10-19 2017-09-30  2017-09-30 00:00:00   \n",
       "201  Marcela  50060.0   17:00:00 2016-10-19        NaT                  NaT   \n",
       "\n",
       "     release_baseline  \n",
       "2                80.0  \n",
       "63                NaN  \n",
       "202             346.0  \n",
       "201               NaN  "
      ]
     },
     "execution_count": 54,
     "metadata": {},
     "output_type": "execute_result"
    }
   ],
   "source": [
    "df = df.assign(release_baseline = (df.cdbaseline - df.release_f).dt.days)\n",
    "s = ((df.release_baseline > 0) | (df.cdbaseline.isnull()))\n",
    "df.loc[s, ['int', 'id', 'r_baseline', 'release_f',  'cdbaseline', 'dbaseline', 'release_baseline']].sort_values('id')"
   ]
  },
  {
   "cell_type": "markdown",
   "metadata": {},
   "source": [
    "Descriptives of the difference between release date and baseline: "
   ]
  },
  {
   "cell_type": "code",
   "execution_count": 55,
   "metadata": {
    "hideCode": false,
    "hidePrompt": false
   },
   "outputs": [
    {
     "data": {
      "text/plain": [
       "count    222.000000\n",
       "mean     -12.328829\n",
       "std       40.026970\n",
       "min     -367.000000\n",
       "25%      -14.000000\n",
       "50%       -7.500000\n",
       "75%       -4.000000\n",
       "max      346.000000\n",
       "Name: release_baseline, dtype: float64"
      ]
     },
     "execution_count": 55,
     "metadata": {},
     "output_type": "execute_result"
    }
   ],
   "source": [
    "df.release_baseline.describe()"
   ]
  },
  {
   "cell_type": "markdown",
   "metadata": {
    "hideCode": false,
    "hidePrompt": false
   },
   "source": [
    "## First week\n",
    "\n",
    "\n",
    "Below a plot with the distribution of the difference between the date of the first week interview and release. All values should be **positive**. \n"
   ]
  },
  {
   "cell_type": "code",
   "execution_count": 56,
   "metadata": {
    "collapsed": true,
    "hideCode": false,
    "hidePrompt": false
   },
   "outputs": [],
   "source": [
    "# varname = [col for col in df.columns if 'participa' in col]\n",
    "# print(varname)"
   ]
  },
  {
   "cell_type": "code",
   "execution_count": 57,
   "metadata": {
    "collapsed": true,
    "hideCode": false,
    "hidePrompt": false
   },
   "outputs": [
    {
     "data": {
      "text/plain": [
       "1.0    181\n",
       "0.0     43\n",
       "Name: r_week, dtype: int64"
      ]
     },
     "execution_count": 57,
     "metadata": {},
     "output_type": "execute_result"
    }
   ],
   "source": [
    "# df = df.rename(columns={varname[1]: 'r_week'})\n",
    "#df.r_week.value_counts()\n",
    "df['r_week'] = df['r_week'].str.contains(\"s|S\").astype(float)\n",
    "df['r_week'] = df.r_week.fillna(0)\n",
    "#df.r_week.isnull().value_counts()\n",
    "df.r_week.value_counts()"
   ]
  },
  {
   "cell_type": "code",
   "execution_count": 58,
   "metadata": {
    "collapsed": true,
    "hideCode": false,
    "hidePrompt": false
   },
   "outputs": [],
   "source": [
    "# varname = [col for col in df.columns if 'fecha' in col]\n",
    "#print(varname)"
   ]
  },
  {
   "cell_type": "code",
   "execution_count": 59,
   "metadata": {
    "collapsed": true,
    "hideCode": false,
    "hidePrompt": false
   },
   "outputs": [],
   "source": [
    "# varname = [col for col in df.columns if 'fecha entrevista' in col]\n",
    "#print(varname)"
   ]
  },
  {
   "cell_type": "code",
   "execution_count": 60,
   "metadata": {
    "collapsed": true,
    "hideCode": false,
    "hidePrompt": false
   },
   "outputs": [],
   "source": [
    "# df = df.rename(columns={varname[0]: 'dweek'})"
   ]
  },
  {
   "cell_type": "code",
   "execution_count": 61,
   "metadata": {
    "collapsed": true,
    "hideCode": false,
    "hidePrompt": false
   },
   "outputs": [],
   "source": [
    "df['cdweek'] = [clean_dates(i) for i in df['dweek']]\n",
    "#df.cdweek.describe()"
   ]
  },
  {
   "cell_type": "code",
   "execution_count": 62,
   "metadata": {
    "hideCode": false,
    "hidePrompt": false
   },
   "outputs": [],
   "source": [
    "m = df.cdweek.isnull() & df.dweek.notnull()\n",
    "# df.loc[m, ['id', 'cdweek', 'dweek']]"
   ]
  },
  {
   "cell_type": "code",
   "execution_count": 63,
   "metadata": {
    "collapsed": true,
    "hideCode": false,
    "hidePrompt": false
   },
   "outputs": [],
   "source": [
    "# # replace errors in data entry\n",
    "# errors = ['S29/10 y W02/11']\n",
    "# new_values = ['11/02/2016']\n",
    "\n",
    "# for i in range(0,len(errors)):\n",
    "#    df.loc[df['dweek'] == errors[i], 'cdweek'] = pd.to_datetime(new_values[i])\n",
    "\n",
    "# s = (df.r_week == 1)\n",
    "# #df.loc[s, 'cdweek'].isnull().value_counts()"
   ]
  },
  {
   "cell_type": "code",
   "execution_count": 64,
   "metadata": {
    "hideCode": false,
    "hidePrompt": false
   },
   "outputs": [
    {
     "data": {
      "text/plain": [
       "True     144\n",
       "False     80\n",
       "Name: release_week, dtype: int64"
      ]
     },
     "execution_count": 64,
     "metadata": {},
     "output_type": "execute_result"
    }
   ],
   "source": [
    "df = df.assign(release_week = (df.cdweek - df.release_f).dt.days)\n",
    "(df.release_week > 7).value_counts()"
   ]
  },
  {
   "cell_type": "markdown",
   "metadata": {},
   "source": [
    "Plot of the difference between date of release and first week interview."
   ]
  },
  {
   "cell_type": "code",
   "execution_count": 65,
   "metadata": {
    "hideCode": false,
    "hidePrompt": false
   },
   "outputs": [
    {
     "data": {
      "image/png": "[encoded data removed]",
      "text/plain": [
       "<matplotlib.figure.Figure at 0x110ca9518>"
      ]
     },
     "metadata": {},
     "output_type": "display_data"
    }
   ],
   "source": [
    "ax = df.release_week.hist(bins = 20, alpha = 0.8);\n",
    "ax.set_xlim(-25,25)\n",
    "ax.set_xlabel('Día de Entrevista Desde Salida');"
   ]
  },
  {
   "cell_type": "code",
   "execution_count": 66,
   "metadata": {
    "collapsed": true,
    "hideCode": false,
    "hidePrompt": false
   },
   "outputs": [],
   "source": [
    "df['week_deadline'] = pd.DatetimeIndex( df['release_f'] ) + pd.DateOffset(weeks = 5) # five weeks!"
   ]
  },
  {
   "cell_type": "markdown",
   "metadata": {},
   "source": [
    "Cases with issues: "
   ]
  },
  {
   "cell_type": "code",
   "execution_count": 67,
   "metadata": {
    "hideCode": false,
    "hidePrompt": false
   },
   "outputs": [],
   "source": [
    "import datetime\n",
    "today = datetime.datetime.now()\n",
    "s = ((df.r_week == 1) & (today > df.week_deadline)) & ( (df.release_week <= 0) | (df.cdweek.isnull()) )\n",
    "\n",
    "# df.loc[s,['int', 'id', 'r_week', 'release_f', 'cdweek', 'release_week']].sort_values('id')"
   ]
  },
  {
   "cell_type": "code",
   "execution_count": 68,
   "metadata": {},
   "outputs": [
    {
     "data": {
      "text/html": [
       "<div>\n",
       "<style>\n",
       "    .dataframe thead tr:only-child th {\n",
       "        text-align: right;\n",
       "    }\n",
       "\n",
       "    .dataframe thead th {\n",
       "        text-align: left;\n",
       "    }\n",
       "\n",
       "    .dataframe tbody tr th {\n",
       "        vertical-align: top;\n",
       "    }\n",
       "</style>\n",
       "<table border=\"1\" class=\"dataframe\">\n",
       "  <thead>\n",
       "    <tr style=\"text-align: right;\">\n",
       "      <th></th>\n",
       "      <th>int</th>\n",
       "      <th>id</th>\n",
       "      <th>r_week</th>\n",
       "      <th>release_f</th>\n",
       "      <th>cdweek</th>\n",
       "      <th>release_week</th>\n",
       "    </tr>\n",
       "  </thead>\n",
       "  <tbody>\n",
       "    <tr>\n",
       "      <th>165</th>\n",
       "      <td>Susana</td>\n",
       "      <td>10053.0</td>\n",
       "      <td>1.0</td>\n",
       "      <td>2016-10-19</td>\n",
       "      <td>2016-11-25</td>\n",
       "      <td>37.0</td>\n",
       "    </tr>\n",
       "  </tbody>\n",
       "</table>\n",
       "</div>"
      ],
      "text/plain": [
       "        int       id  r_week  release_f     cdweek  release_week\n",
       "165  Susana  10053.0     1.0 2016-10-19 2016-11-25          37.0"
      ]
     },
     "execution_count": 68,
     "metadata": {},
     "output_type": "execute_result"
    }
   ],
   "source": [
    "df.loc[np.abs(df.release_week) > 30,['int', 'id', 'r_week', 'release_f', 'cdweek', 'release_week']]"
   ]
  },
  {
   "cell_type": "markdown",
   "metadata": {},
   "source": [
    "Interviews before the first 7 days:"
   ]
  },
  {
   "cell_type": "code",
   "execution_count": 69,
   "metadata": {},
   "outputs": [
    {
     "data": {
      "text/html": [
       "<div>\n",
       "<style>\n",
       "    .dataframe thead tr:only-child th {\n",
       "        text-align: right;\n",
       "    }\n",
       "\n",
       "    .dataframe thead th {\n",
       "        text-align: left;\n",
       "    }\n",
       "\n",
       "    .dataframe tbody tr th {\n",
       "        vertical-align: top;\n",
       "    }\n",
       "</style>\n",
       "<table border=\"1\" class=\"dataframe\">\n",
       "  <thead>\n",
       "    <tr style=\"text-align: right;\">\n",
       "      <th></th>\n",
       "      <th>int</th>\n",
       "      <th>id</th>\n",
       "      <th>r_week</th>\n",
       "      <th>release_f</th>\n",
       "      <th>cdweek</th>\n",
       "      <th>release_week</th>\n",
       "    </tr>\n",
       "  </thead>\n",
       "  <tbody>\n",
       "    <tr>\n",
       "      <th>110</th>\n",
       "      <td>Pati</td>\n",
       "      <td>20181.0</td>\n",
       "      <td>1.0</td>\n",
       "      <td>2016-12-09</td>\n",
       "      <td>2016-12-15</td>\n",
       "      <td>6.0</td>\n",
       "    </tr>\n",
       "    <tr>\n",
       "      <th>119</th>\n",
       "      <td>Pati</td>\n",
       "      <td>20239.0</td>\n",
       "      <td>1.0</td>\n",
       "      <td>2017-02-01</td>\n",
       "      <td>2017-02-06</td>\n",
       "      <td>5.0</td>\n",
       "    </tr>\n",
       "    <tr>\n",
       "      <th>143</th>\n",
       "      <td>Susana</td>\n",
       "      <td>40019.0</td>\n",
       "      <td>1.0</td>\n",
       "      <td>2016-10-01</td>\n",
       "      <td>2016-10-07</td>\n",
       "      <td>6.0</td>\n",
       "    </tr>\n",
       "    <tr>\n",
       "      <th>147</th>\n",
       "      <td>Susana</td>\n",
       "      <td>40046.0</td>\n",
       "      <td>1.0</td>\n",
       "      <td>2016-10-19</td>\n",
       "      <td>2016-10-25</td>\n",
       "      <td>6.0</td>\n",
       "    </tr>\n",
       "    <tr>\n",
       "      <th>148</th>\n",
       "      <td>Susana</td>\n",
       "      <td>40066.0</td>\n",
       "      <td>1.0</td>\n",
       "      <td>2016-10-19</td>\n",
       "      <td>2016-10-25</td>\n",
       "      <td>6.0</td>\n",
       "    </tr>\n",
       "    <tr>\n",
       "      <th>161</th>\n",
       "      <td>Susana</td>\n",
       "      <td>40122.0</td>\n",
       "      <td>1.0</td>\n",
       "      <td>2016-11-01</td>\n",
       "      <td>2016-11-07</td>\n",
       "      <td>6.0</td>\n",
       "    </tr>\n",
       "    <tr>\n",
       "      <th>164</th>\n",
       "      <td>Susana</td>\n",
       "      <td>40152.0</td>\n",
       "      <td>1.0</td>\n",
       "      <td>2016-11-16</td>\n",
       "      <td>2016-11-22</td>\n",
       "      <td>6.0</td>\n",
       "    </tr>\n",
       "    <tr>\n",
       "      <th>166</th>\n",
       "      <td>Susana</td>\n",
       "      <td>40156.0</td>\n",
       "      <td>1.0</td>\n",
       "      <td>2016-11-20</td>\n",
       "      <td>2016-11-25</td>\n",
       "      <td>5.0</td>\n",
       "    </tr>\n",
       "    <tr>\n",
       "      <th>167</th>\n",
       "      <td>Susana</td>\n",
       "      <td>40166.0</td>\n",
       "      <td>1.0</td>\n",
       "      <td>2016-11-30</td>\n",
       "      <td>2016-12-05</td>\n",
       "      <td>5.0</td>\n",
       "    </tr>\n",
       "    <tr>\n",
       "      <th>168</th>\n",
       "      <td>Susana</td>\n",
       "      <td>40107.0</td>\n",
       "      <td>1.0</td>\n",
       "      <td>2016-12-01</td>\n",
       "      <td>2016-12-06</td>\n",
       "      <td>5.0</td>\n",
       "    </tr>\n",
       "    <tr>\n",
       "      <th>169</th>\n",
       "      <td>Susana</td>\n",
       "      <td>40169.0</td>\n",
       "      <td>1.0</td>\n",
       "      <td>2016-12-02</td>\n",
       "      <td>2016-12-07</td>\n",
       "      <td>5.0</td>\n",
       "    </tr>\n",
       "    <tr>\n",
       "      <th>174</th>\n",
       "      <td>Susana</td>\n",
       "      <td>40194.0</td>\n",
       "      <td>1.0</td>\n",
       "      <td>2016-12-24</td>\n",
       "      <td>2016-12-30</td>\n",
       "      <td>6.0</td>\n",
       "    </tr>\n",
       "    <tr>\n",
       "      <th>176</th>\n",
       "      <td>Susana</td>\n",
       "      <td>40199.0</td>\n",
       "      <td>1.0</td>\n",
       "      <td>2016-12-30</td>\n",
       "      <td>2017-01-04</td>\n",
       "      <td>5.0</td>\n",
       "    </tr>\n",
       "    <tr>\n",
       "      <th>177</th>\n",
       "      <td>Susana</td>\n",
       "      <td>40215.0</td>\n",
       "      <td>1.0</td>\n",
       "      <td>2017-01-11</td>\n",
       "      <td>2017-01-13</td>\n",
       "      <td>2.0</td>\n",
       "    </tr>\n",
       "    <tr>\n",
       "      <th>182</th>\n",
       "      <td>Susana</td>\n",
       "      <td>40268.0</td>\n",
       "      <td>1.0</td>\n",
       "      <td>2017-03-01</td>\n",
       "      <td>2017-03-07</td>\n",
       "      <td>6.0</td>\n",
       "    </tr>\n",
       "    <tr>\n",
       "      <th>186</th>\n",
       "      <td>Susana</td>\n",
       "      <td>40284.0</td>\n",
       "      <td>1.0</td>\n",
       "      <td>2017-03-15</td>\n",
       "      <td>2017-03-21</td>\n",
       "      <td>6.0</td>\n",
       "    </tr>\n",
       "    <tr>\n",
       "      <th>218</th>\n",
       "      <td>Marcela</td>\n",
       "      <td>50216.0</td>\n",
       "      <td>1.0</td>\n",
       "      <td>2017-01-12</td>\n",
       "      <td>2017-01-13</td>\n",
       "      <td>1.0</td>\n",
       "    </tr>\n",
       "  </tbody>\n",
       "</table>\n",
       "</div>"
      ],
      "text/plain": [
       "         int       id  r_week  release_f     cdweek  release_week\n",
       "110     Pati  20181.0     1.0 2016-12-09 2016-12-15           6.0\n",
       "119     Pati  20239.0     1.0 2017-02-01 2017-02-06           5.0\n",
       "143   Susana  40019.0     1.0 2016-10-01 2016-10-07           6.0\n",
       "147   Susana  40046.0     1.0 2016-10-19 2016-10-25           6.0\n",
       "148   Susana  40066.0     1.0 2016-10-19 2016-10-25           6.0\n",
       "161   Susana  40122.0     1.0 2016-11-01 2016-11-07           6.0\n",
       "164   Susana  40152.0     1.0 2016-11-16 2016-11-22           6.0\n",
       "166   Susana  40156.0     1.0 2016-11-20 2016-11-25           5.0\n",
       "167   Susana  40166.0     1.0 2016-11-30 2016-12-05           5.0\n",
       "168   Susana  40107.0     1.0 2016-12-01 2016-12-06           5.0\n",
       "169   Susana  40169.0     1.0 2016-12-02 2016-12-07           5.0\n",
       "174   Susana  40194.0     1.0 2016-12-24 2016-12-30           6.0\n",
       "176   Susana  40199.0     1.0 2016-12-30 2017-01-04           5.0\n",
       "177   Susana  40215.0     1.0 2017-01-11 2017-01-13           2.0\n",
       "182   Susana  40268.0     1.0 2017-03-01 2017-03-07           6.0\n",
       "186   Susana  40284.0     1.0 2017-03-15 2017-03-21           6.0\n",
       "218  Marcela  50216.0     1.0 2017-01-12 2017-01-13           1.0"
      ]
     },
     "execution_count": 69,
     "metadata": {},
     "output_type": "execute_result"
    }
   ],
   "source": [
    "df.loc[df.release_week < 7,['int', 'id', 'r_week', 'release_f', 'cdweek', 'release_week']]"
   ]
  },
  {
   "cell_type": "markdown",
   "metadata": {},
   "source": [
    "Response rate:"
   ]
  },
  {
   "cell_type": "code",
   "execution_count": 70,
   "metadata": {
    "collapsed": true,
    "hideCode": false,
    "hidePrompt": false
   },
   "outputs": [
    {
     "name": "stdout",
     "output_type": "stream",
     "text": [
      "0.808035714286\n"
     ]
    }
   ],
   "source": [
    "tab  = df.loc[ (today > df.week_deadline) | (df.r_week == 1), 'r_week'].value_counts()\n",
    "rr_week = [i / sum(list(tab)) for i in tab][0]\n",
    "print(rr_week)"
   ]
  },
  {
   "cell_type": "markdown",
   "metadata": {},
   "source": [
    "Descriptives of the difference between date of release and interview first week. "
   ]
  },
  {
   "cell_type": "code",
   "execution_count": 71,
   "metadata": {
    "collapsed": true,
    "hideCode": false,
    "hidePrompt": false
   },
   "outputs": [
    {
     "data": {
      "text/plain": [
       "count    181.000000\n",
       "mean      11.254144\n",
       "std        4.974552\n",
       "min        1.000000\n",
       "25%        8.000000\n",
       "50%       10.000000\n",
       "75%       14.000000\n",
       "max       37.000000\n",
       "Name: release_week, dtype: float64"
      ]
     },
     "execution_count": 71,
     "metadata": {},
     "output_type": "execute_result"
    }
   ],
   "source": [
    "df.loc[df.r_week == 1, 'release_week'].describe()"
   ]
  },
  {
   "cell_type": "markdown",
   "metadata": {
    "hideCode": false,
    "hidePrompt": false
   },
   "source": [
    "\n",
    "# Two Months\n",
    " "
   ]
  },
  {
   "cell_type": "code",
   "execution_count": 72,
   "metadata": {
    "collapsed": true,
    "hideCode": false,
    "hidePrompt": false
   },
   "outputs": [],
   "source": [
    "# varname = [col for col in df.columns if 'participa ' in col]\n",
    "#print(varname)"
   ]
  },
  {
   "cell_type": "code",
   "execution_count": 73,
   "metadata": {
    "collapsed": true,
    "hideCode": false,
    "hidePrompt": false
   },
   "outputs": [],
   "source": [
    "# df = df.rename(columns={varname[0]: 'r_2months'})\n",
    "#df.r_2months.value_counts()\n",
    "df['r_2months'] = df['r_2months'].str.contains(\"s|S\").astype(float)\n",
    "df['r_2months'] = df.r_2months.fillna(0)\n",
    "#df.r_2months.isnull().value_counts()\n",
    "#df.r_2months.value_counts()"
   ]
  },
  {
   "cell_type": "code",
   "execution_count": 74,
   "metadata": {
    "collapsed": true,
    "hideCode": false,
    "hidePrompt": false
   },
   "outputs": [],
   "source": [
    "# date 2months\n",
    "# varname = [col for col in df.columns if 'fecha entrevista' in col]\n",
    "#print(varname)"
   ]
  },
  {
   "cell_type": "code",
   "execution_count": 75,
   "metadata": {
    "collapsed": true,
    "hideCode": false,
    "hidePrompt": false
   },
   "outputs": [],
   "source": [
    "# df = df.rename(columns={varname[0]: 'd2months'})"
   ]
  },
  {
   "cell_type": "code",
   "execution_count": 76,
   "metadata": {
    "collapsed": true,
    "hideCode": false,
    "hidePrompt": false
   },
   "outputs": [],
   "source": [
    "df['cd2months'] = [clean_dates(i) for i in df['d2months']]"
   ]
  },
  {
   "cell_type": "markdown",
   "metadata": {},
   "source": [
    "Some cases with issues:"
   ]
  },
  {
   "cell_type": "code",
   "execution_count": 77,
   "metadata": {
    "hideCode": false,
    "hidePrompt": false
   },
   "outputs": [
    {
     "data": {
      "text/html": [
       "<div>\n",
       "<style>\n",
       "    .dataframe thead tr:only-child th {\n",
       "        text-align: right;\n",
       "    }\n",
       "\n",
       "    .dataframe thead th {\n",
       "        text-align: left;\n",
       "    }\n",
       "\n",
       "    .dataframe tbody tr th {\n",
       "        vertical-align: top;\n",
       "    }\n",
       "</style>\n",
       "<table border=\"1\" class=\"dataframe\">\n",
       "  <thead>\n",
       "    <tr style=\"text-align: right;\">\n",
       "      <th></th>\n",
       "      <th>id</th>\n",
       "      <th>release</th>\n",
       "      <th>cd2months</th>\n",
       "      <th>d2months</th>\n",
       "    </tr>\n",
       "  </thead>\n",
       "  <tbody>\n",
       "    <tr>\n",
       "      <th>70</th>\n",
       "      <td>50190.0</td>\n",
       "      <td>NaN</td>\n",
       "      <td>NaT</td>\n",
       "      <td>27/2</td>\n",
       "    </tr>\n",
       "  </tbody>\n",
       "</table>\n",
       "</div>"
      ],
      "text/plain": [
       "         id  release cd2months d2months\n",
       "70  50190.0      NaN       NaT     27/2"
      ]
     },
     "execution_count": 77,
     "metadata": {},
     "output_type": "execute_result"
    }
   ],
   "source": [
    "m = df.cd2months.isnull() & df.d2months.notnull()\n",
    "df.loc[m, ['id', 'release', 'cd2months', 'd2months']]"
   ]
  },
  {
   "cell_type": "code",
   "execution_count": 78,
   "metadata": {
    "collapsed": true,
    "hideCode": false,
    "hidePrompt": false
   },
   "outputs": [],
   "source": [
    "# replace errors in data entry\n",
    "errors = ['27/2']\n",
    "new_values = ['02/27/2017']\n",
    "\n",
    "for i in range(0,len(errors)):\n",
    "   df.loc[df['d2months'] == errors[i], 'cd2months'] = pd.to_datetime(new_values[i])"
   ]
  },
  {
   "cell_type": "code",
   "execution_count": 79,
   "metadata": {
    "collapsed": true,
    "hideCode": false,
    "hidePrompt": false
   },
   "outputs": [],
   "source": [
    "s = (df.r_2months == 1)\n",
    "#df.loc[s, 'cd2months'].isnull().value_counts()"
   ]
  },
  {
   "cell_type": "code",
   "execution_count": 80,
   "metadata": {
    "collapsed": true,
    "hideCode": false,
    "hidePrompt": false
   },
   "outputs": [],
   "source": [
    "df = df.assign(release_2months = (df.cd2months - df.release_f).dt.days)\n",
    "#df.release_2months.describe()"
   ]
  },
  {
   "cell_type": "markdown",
   "metadata": {},
   "source": [
    "Plot of the difference between release and date of two-months interview."
   ]
  },
  {
   "cell_type": "code",
   "execution_count": 81,
   "metadata": {
    "hideCode": false,
    "hidePrompt": false
   },
   "outputs": [
    {
     "data": {
      "image/png": "[encoded data removed]",
      "text/plain": [
       "<matplotlib.figure.Figure at 0x110ca90b8>"
      ]
     },
     "metadata": {},
     "output_type": "display_data"
    }
   ],
   "source": [
    "ax = df.release_2months.hist(bins = 50);\n",
    "ax.set_xlabel('Date two months - release');"
   ]
  },
  {
   "cell_type": "markdown",
   "metadata": {},
   "source": [
    "Some issues:"
   ]
  },
  {
   "cell_type": "code",
   "execution_count": 82,
   "metadata": {
    "hideCode": false,
    "hidePrompt": false
   },
   "outputs": [
    {
     "data": {
      "text/html": [
       "<div>\n",
       "<style>\n",
       "    .dataframe thead tr:only-child th {\n",
       "        text-align: right;\n",
       "    }\n",
       "\n",
       "    .dataframe thead th {\n",
       "        text-align: left;\n",
       "    }\n",
       "\n",
       "    .dataframe tbody tr th {\n",
       "        vertical-align: top;\n",
       "    }\n",
       "</style>\n",
       "<table border=\"1\" class=\"dataframe\">\n",
       "  <thead>\n",
       "    <tr style=\"text-align: right;\">\n",
       "      <th></th>\n",
       "      <th>int</th>\n",
       "      <th>id</th>\n",
       "      <th>r_2months</th>\n",
       "      <th>release_f</th>\n",
       "      <th>cd2months</th>\n",
       "      <th>two_months_deadline</th>\n",
       "      <th>release_2months</th>\n",
       "    </tr>\n",
       "  </thead>\n",
       "  <tbody>\n",
       "    <tr>\n",
       "      <th>215</th>\n",
       "      <td>Marcela</td>\n",
       "      <td>10099.0</td>\n",
       "      <td>1.0</td>\n",
       "      <td>2016-12-20</td>\n",
       "      <td>NaT</td>\n",
       "      <td>2017-05-20</td>\n",
       "      <td>NaN</td>\n",
       "    </tr>\n",
       "    <tr>\n",
       "      <th>95</th>\n",
       "      <td>Pati</td>\n",
       "      <td>10119.0</td>\n",
       "      <td>1.0</td>\n",
       "      <td>2016-10-17</td>\n",
       "      <td>NaT</td>\n",
       "      <td>2017-03-17</td>\n",
       "      <td>NaN</td>\n",
       "    </tr>\n",
       "    <tr>\n",
       "      <th>213</th>\n",
       "      <td>Marcela</td>\n",
       "      <td>10187.0</td>\n",
       "      <td>1.0</td>\n",
       "      <td>2016-12-16</td>\n",
       "      <td>NaT</td>\n",
       "      <td>2017-05-16</td>\n",
       "      <td>NaN</td>\n",
       "    </tr>\n",
       "    <tr>\n",
       "      <th>114</th>\n",
       "      <td>Pati</td>\n",
       "      <td>20198.0</td>\n",
       "      <td>1.0</td>\n",
       "      <td>2016-12-28</td>\n",
       "      <td>2016-02-21</td>\n",
       "      <td>2017-05-28</td>\n",
       "      <td>-311.0</td>\n",
       "    </tr>\n",
       "    <tr>\n",
       "      <th>62</th>\n",
       "      <td>Marisol</td>\n",
       "      <td>50104.0</td>\n",
       "      <td>1.0</td>\n",
       "      <td>2016-10-24</td>\n",
       "      <td>2016-10-24</td>\n",
       "      <td>2017-03-24</td>\n",
       "      <td>0.0</td>\n",
       "    </tr>\n",
       "    <tr>\n",
       "      <th>71</th>\n",
       "      <td>Marisol</td>\n",
       "      <td>50175.0</td>\n",
       "      <td>1.0</td>\n",
       "      <td>2017-01-14</td>\n",
       "      <td>NaT</td>\n",
       "      <td>2017-06-14</td>\n",
       "      <td>NaN</td>\n",
       "    </tr>\n",
       "  </tbody>\n",
       "</table>\n",
       "</div>"
      ],
      "text/plain": [
       "         int       id  r_2months  release_f  cd2months two_months_deadline  \\\n",
       "215  Marcela  10099.0        1.0 2016-12-20        NaT          2017-05-20   \n",
       "95      Pati  10119.0        1.0 2016-10-17        NaT          2017-03-17   \n",
       "213  Marcela  10187.0        1.0 2016-12-16        NaT          2017-05-16   \n",
       "114     Pati  20198.0        1.0 2016-12-28 2016-02-21          2017-05-28   \n",
       "62   Marisol  50104.0        1.0 2016-10-24 2016-10-24          2017-03-24   \n",
       "71   Marisol  50175.0        1.0 2017-01-14        NaT          2017-06-14   \n",
       "\n",
       "     release_2months  \n",
       "215              NaN  \n",
       "95               NaN  \n",
       "213              NaN  \n",
       "114           -311.0  \n",
       "62               0.0  \n",
       "71               NaN  "
      ]
     },
     "execution_count": 82,
     "metadata": {},
     "output_type": "execute_result"
    }
   ],
   "source": [
    "df['two_months_deadline'] = pd.DatetimeIndex( df['release_f'] ) + pd.DateOffset(months = 5)\n",
    "s = ((df.r_2months == 1) & (today > df.two_months_deadline)) & ( (df.release_2months <= 0) | (df.cd2months.isnull()))\n",
    "df.loc[s,['int', 'id', 'r_2months', 'release_f', 'cd2months', 'two_months_deadline', 'release_2months']].sort_values('id')"
   ]
  },
  {
   "cell_type": "code",
   "execution_count": 83,
   "metadata": {
    "collapsed": true,
    "hideCode": false,
    "hidePrompt": false
   },
   "outputs": [],
   "source": [
    "tab  = df.loc[ (today > df.two_months_deadline) | (df.r_2months == 1), 'r_2months'].value_counts()\n",
    "# print(tab)\n",
    "rr_2months = [i / sum(list(tab)) for i in tab][0]\n",
    "# print(rr_2months)"
   ]
  },
  {
   "cell_type": "code",
   "execution_count": 84,
   "metadata": {
    "collapsed": true,
    "hideCode": false,
    "hidePrompt": false
   },
   "outputs": [
    {
     "data": {
      "text/html": [
       "<div>\n",
       "<style>\n",
       "    .dataframe thead tr:only-child th {\n",
       "        text-align: right;\n",
       "    }\n",
       "\n",
       "    .dataframe thead th {\n",
       "        text-align: left;\n",
       "    }\n",
       "\n",
       "    .dataframe tbody tr th {\n",
       "        vertical-align: top;\n",
       "    }\n",
       "</style>\n",
       "<table border=\"1\" class=\"dataframe\">\n",
       "  <thead>\n",
       "    <tr style=\"text-align: right;\">\n",
       "      <th></th>\n",
       "      <th>int</th>\n",
       "      <th>id</th>\n",
       "      <th>r_2months</th>\n",
       "      <th>release_f</th>\n",
       "      <th>cd2months</th>\n",
       "      <th>two_months_deadline</th>\n",
       "      <th>release_2months</th>\n",
       "    </tr>\n",
       "  </thead>\n",
       "  <tbody>\n",
       "    <tr>\n",
       "      <th>5</th>\n",
       "      <td>Javi</td>\n",
       "      <td>10087.0</td>\n",
       "      <td>1.0</td>\n",
       "      <td>2016-10-19</td>\n",
       "      <td>2017-02-09</td>\n",
       "      <td>2017-03-19</td>\n",
       "      <td>113.0</td>\n",
       "    </tr>\n",
       "    <tr>\n",
       "      <th>190</th>\n",
       "      <td>Susana</td>\n",
       "      <td>10158.0</td>\n",
       "      <td>1.0</td>\n",
       "      <td>2016-11-21</td>\n",
       "      <td>2017-07-07</td>\n",
       "      <td>2017-04-21</td>\n",
       "      <td>228.0</td>\n",
       "    </tr>\n",
       "    <tr>\n",
       "      <th>175</th>\n",
       "      <td>Susana</td>\n",
       "      <td>10197.0</td>\n",
       "      <td>1.0</td>\n",
       "      <td>2016-12-26</td>\n",
       "      <td>2017-05-10</td>\n",
       "      <td>2017-05-26</td>\n",
       "      <td>135.0</td>\n",
       "    </tr>\n",
       "    <tr>\n",
       "      <th>42</th>\n",
       "      <td>Javi</td>\n",
       "      <td>10233.0</td>\n",
       "      <td>1.0</td>\n",
       "      <td>2017-01-25</td>\n",
       "      <td>2017-05-17</td>\n",
       "      <td>2017-06-25</td>\n",
       "      <td>112.0</td>\n",
       "    </tr>\n",
       "    <tr>\n",
       "      <th>63</th>\n",
       "      <td>Marisol</td>\n",
       "      <td>10291.0</td>\n",
       "      <td>1.0</td>\n",
       "      <td>2017-03-22</td>\n",
       "      <td>2017-07-04</td>\n",
       "      <td>2017-08-22</td>\n",
       "      <td>104.0</td>\n",
       "    </tr>\n",
       "    <tr>\n",
       "      <th>114</th>\n",
       "      <td>Pati</td>\n",
       "      <td>20198.0</td>\n",
       "      <td>1.0</td>\n",
       "      <td>2016-12-28</td>\n",
       "      <td>2016-02-21</td>\n",
       "      <td>2017-05-28</td>\n",
       "      <td>-311.0</td>\n",
       "    </tr>\n",
       "    <tr>\n",
       "      <th>118</th>\n",
       "      <td>Pati</td>\n",
       "      <td>20224.0</td>\n",
       "      <td>1.0</td>\n",
       "      <td>2017-01-16</td>\n",
       "      <td>2017-05-19</td>\n",
       "      <td>2017-06-16</td>\n",
       "      <td>123.0</td>\n",
       "    </tr>\n",
       "    <tr>\n",
       "      <th>164</th>\n",
       "      <td>Susana</td>\n",
       "      <td>40152.0</td>\n",
       "      <td>1.0</td>\n",
       "      <td>2016-11-16</td>\n",
       "      <td>2017-03-11</td>\n",
       "      <td>2017-04-16</td>\n",
       "      <td>115.0</td>\n",
       "    </tr>\n",
       "    <tr>\n",
       "      <th>214</th>\n",
       "      <td>Marcela</td>\n",
       "      <td>50180.0</td>\n",
       "      <td>1.0</td>\n",
       "      <td>2016-12-07</td>\n",
       "      <td>2017-04-05</td>\n",
       "      <td>2017-05-07</td>\n",
       "      <td>119.0</td>\n",
       "    </tr>\n",
       "    <tr>\n",
       "      <th>217</th>\n",
       "      <td>Marcela</td>\n",
       "      <td>50205.0</td>\n",
       "      <td>1.0</td>\n",
       "      <td>2016-12-28</td>\n",
       "      <td>2017-05-04</td>\n",
       "      <td>2017-05-28</td>\n",
       "      <td>127.0</td>\n",
       "    </tr>\n",
       "    <tr>\n",
       "      <th>227</th>\n",
       "      <td>Marcela</td>\n",
       "      <td>50231.0</td>\n",
       "      <td>1.0</td>\n",
       "      <td>2017-01-22</td>\n",
       "      <td>2017-06-01</td>\n",
       "      <td>2017-06-22</td>\n",
       "      <td>130.0</td>\n",
       "    </tr>\n",
       "    <tr>\n",
       "      <th>224</th>\n",
       "      <td>Marcela</td>\n",
       "      <td>50249.0</td>\n",
       "      <td>1.0</td>\n",
       "      <td>2017-02-09</td>\n",
       "      <td>2017-05-30</td>\n",
       "      <td>2017-07-09</td>\n",
       "      <td>110.0</td>\n",
       "    </tr>\n",
       "    <tr>\n",
       "      <th>73</th>\n",
       "      <td>Marisol</td>\n",
       "      <td>50251.0</td>\n",
       "      <td>1.0</td>\n",
       "      <td>2017-02-14</td>\n",
       "      <td>2017-07-27</td>\n",
       "      <td>2017-07-14</td>\n",
       "      <td>163.0</td>\n",
       "    </tr>\n",
       "    <tr>\n",
       "      <th>74</th>\n",
       "      <td>Marisol</td>\n",
       "      <td>50271.0</td>\n",
       "      <td>1.0</td>\n",
       "      <td>2017-03-06</td>\n",
       "      <td>2017-07-06</td>\n",
       "      <td>2017-08-06</td>\n",
       "      <td>122.0</td>\n",
       "    </tr>\n",
       "    <tr>\n",
       "      <th>225</th>\n",
       "      <td>Marcela</td>\n",
       "      <td>50281.0</td>\n",
       "      <td>1.0</td>\n",
       "      <td>2017-03-12</td>\n",
       "      <td>2017-07-13</td>\n",
       "      <td>2017-08-12</td>\n",
       "      <td>123.0</td>\n",
       "    </tr>\n",
       "  </tbody>\n",
       "</table>\n",
       "</div>"
      ],
      "text/plain": [
       "         int       id  r_2months  release_f  cd2months two_months_deadline  \\\n",
       "5       Javi  10087.0        1.0 2016-10-19 2017-02-09          2017-03-19   \n",
       "190   Susana  10158.0        1.0 2016-11-21 2017-07-07          2017-04-21   \n",
       "175   Susana  10197.0        1.0 2016-12-26 2017-05-10          2017-05-26   \n",
       "42      Javi  10233.0        1.0 2017-01-25 2017-05-17          2017-06-25   \n",
       "63   Marisol  10291.0        1.0 2017-03-22 2017-07-04          2017-08-22   \n",
       "114     Pati  20198.0        1.0 2016-12-28 2016-02-21          2017-05-28   \n",
       "118     Pati  20224.0        1.0 2017-01-16 2017-05-19          2017-06-16   \n",
       "164   Susana  40152.0        1.0 2016-11-16 2017-03-11          2017-04-16   \n",
       "214  Marcela  50180.0        1.0 2016-12-07 2017-04-05          2017-05-07   \n",
       "217  Marcela  50205.0        1.0 2016-12-28 2017-05-04          2017-05-28   \n",
       "227  Marcela  50231.0        1.0 2017-01-22 2017-06-01          2017-06-22   \n",
       "224  Marcela  50249.0        1.0 2017-02-09 2017-05-30          2017-07-09   \n",
       "73   Marisol  50251.0        1.0 2017-02-14 2017-07-27          2017-07-14   \n",
       "74   Marisol  50271.0        1.0 2017-03-06 2017-07-06          2017-08-06   \n",
       "225  Marcela  50281.0        1.0 2017-03-12 2017-07-13          2017-08-12   \n",
       "\n",
       "     release_2months  \n",
       "5              113.0  \n",
       "190            228.0  \n",
       "175            135.0  \n",
       "42             112.0  \n",
       "63             104.0  \n",
       "114           -311.0  \n",
       "118            123.0  \n",
       "164            115.0  \n",
       "214            119.0  \n",
       "217            127.0  \n",
       "227            130.0  \n",
       "224            110.0  \n",
       "73             163.0  \n",
       "74             122.0  \n",
       "225            123.0  "
      ]
     },
     "execution_count": 84,
     "metadata": {},
     "output_type": "execute_result"
    }
   ],
   "source": [
    "df.loc[np.abs(df.release_2months) > 100,['int', 'id', 'r_2months', 'release_f', 'cd2months', 'two_months_deadline', 'release_2months']].sort_values('id')"
   ]
  },
  {
   "cell_type": "markdown",
   "metadata": {},
   "source": [
    "Descriptives:"
   ]
  },
  {
   "cell_type": "code",
   "execution_count": 85,
   "metadata": {
    "collapsed": true,
    "hideCode": false,
    "hidePrompt": false
   },
   "outputs": [
    {
     "data": {
      "text/plain": [
       "count    173.000000\n",
       "mean      68.722543\n",
       "std       37.209392\n",
       "min     -311.000000\n",
       "25%       58.000000\n",
       "50%       64.000000\n",
       "75%       78.000000\n",
       "max      228.000000\n",
       "Name: release_2months, dtype: float64"
      ]
     },
     "execution_count": 85,
     "metadata": {},
     "output_type": "execute_result"
    }
   ],
   "source": [
    "df.loc[df.r_2months == 1, 'release_2months'].describe()"
   ]
  },
  {
   "cell_type": "markdown",
   "metadata": {
    "hideCode": false,
    "hidePrompt": false
   },
   "source": [
    "## Six Months"
   ]
  },
  {
   "cell_type": "code",
   "execution_count": 86,
   "metadata": {
    "collapsed": true,
    "hideCode": false,
    "hidePrompt": false
   },
   "outputs": [],
   "source": [
    "#varname = [col for col in df.columns if 'participa ' in col]\n",
    "#print(varname)"
   ]
  },
  {
   "cell_type": "code",
   "execution_count": 87,
   "metadata": {
    "collapsed": true,
    "hideCode": false,
    "hidePrompt": false
   },
   "outputs": [],
   "source": [
    "#df = df.rename(columns={varname[0]: 'r_6months'})\n",
    "df.r_6months.value_counts()\n",
    "df['r_6months'] = df['r_6months'].str.contains(\"s|S\").astype(float)\n",
    "df['r_6months'] = df.r_6months.fillna(0)\n",
    "#df.r_6months.isnull().value_counts()\n",
    "#df.r_6months.value_counts()"
   ]
  },
  {
   "cell_type": "code",
   "execution_count": 88,
   "metadata": {
    "collapsed": true,
    "hideCode": false,
    "hidePrompt": false
   },
   "outputs": [],
   "source": [
    "# date 6months\n",
    "#varname = [col for col in df.columns if 'fecha entrevista' in col]\n",
    "#print(varname)"
   ]
  },
  {
   "cell_type": "code",
   "execution_count": 89,
   "metadata": {
    "hideCode": false,
    "hidePrompt": false
   },
   "outputs": [
    {
     "data": {
      "text/plain": [
       "False    224\n",
       "dtype: int64"
      ]
     },
     "execution_count": 89,
     "metadata": {},
     "output_type": "execute_result"
    }
   ],
   "source": [
    "#df = df.rename(columns={varname[0]: 'd6months'})\n",
    "df['cd6months'] = [clean_dates(i) for i in df['d6months']]\n",
    "\n",
    "m = df.cd6months.isnull() & df.d6months.notnull()\n",
    "m.value_counts()"
   ]
  },
  {
   "cell_type": "code",
   "execution_count": 90,
   "metadata": {
    "hideCode": false,
    "hidePrompt": false
   },
   "outputs": [],
   "source": [
    "# df.loc[m, ['id', 'release_f', 'cd6months', 'd6months']]"
   ]
  },
  {
   "cell_type": "code",
   "execution_count": 91,
   "metadata": {
    "collapsed": true,
    "hideCode": false,
    "hidePrompt": false
   },
   "outputs": [],
   "source": [
    "s = (df.r_6months == 1)\n",
    "#df.loc[s, 'cd6months'].isnull().value_counts()"
   ]
  },
  {
   "cell_type": "markdown",
   "metadata": {},
   "source": [
    "There is some issues here:"
   ]
  },
  {
   "cell_type": "code",
   "execution_count": 92,
   "metadata": {
    "hideCode": false,
    "hidePrompt": false
   },
   "outputs": [
    {
     "data": {
      "image/png": "[encoded data removed]",
      "text/plain": [
       "<matplotlib.figure.Figure at 0x114356ef0>"
      ]
     },
     "metadata": {},
     "output_type": "display_data"
    }
   ],
   "source": [
    "df.loc[df.id == 50209, 'cd6months'] = pd.to_datetime('2017-07-30')\n",
    "df = df.assign(release_6months = (df.cd6months - df.release_f).dt.days)\n",
    "\n",
    "ax = df.release_6months.hist(bins = 20);\n",
    "ax.set_xlabel('Date six months - release');"
   ]
  },
  {
   "cell_type": "code",
   "execution_count": 93,
   "metadata": {
    "hideCode": false,
    "hidePrompt": false
   },
   "outputs": [
    {
     "data": {
      "text/html": [
       "<div>\n",
       "<style>\n",
       "    .dataframe thead tr:only-child th {\n",
       "        text-align: right;\n",
       "    }\n",
       "\n",
       "    .dataframe thead th {\n",
       "        text-align: left;\n",
       "    }\n",
       "\n",
       "    .dataframe tbody tr th {\n",
       "        vertical-align: top;\n",
       "    }\n",
       "</style>\n",
       "<table border=\"1\" class=\"dataframe\">\n",
       "  <thead>\n",
       "    <tr style=\"text-align: right;\">\n",
       "      <th></th>\n",
       "      <th>int</th>\n",
       "      <th>id</th>\n",
       "      <th>r_6months</th>\n",
       "      <th>release_f</th>\n",
       "      <th>d6months</th>\n",
       "      <th>cd6months</th>\n",
       "      <th>six_months_deadline</th>\n",
       "      <th>release_6months</th>\n",
       "    </tr>\n",
       "  </thead>\n",
       "  <tbody>\n",
       "    <tr>\n",
       "      <th>67</th>\n",
       "      <td>Marcela</td>\n",
       "      <td>50154.0</td>\n",
       "      <td>1.0</td>\n",
       "      <td>2016-11-18</td>\n",
       "      <td>NaN</td>\n",
       "      <td>NaT</td>\n",
       "      <td>2017-08-18</td>\n",
       "      <td>NaN</td>\n",
       "    </tr>\n",
       "  </tbody>\n",
       "</table>\n",
       "</div>"
      ],
      "text/plain": [
       "        int       id  r_6months  release_f d6months cd6months  \\\n",
       "67  Marcela  50154.0        1.0 2016-11-18      NaN       NaT   \n",
       "\n",
       "   six_months_deadline  release_6months  \n",
       "67          2017-08-18              NaN  "
      ]
     },
     "execution_count": 93,
     "metadata": {},
     "output_type": "execute_result"
    }
   ],
   "source": [
    "df['six_months_deadline'] = pd.DatetimeIndex( df['release_f'] ) + pd.DateOffset(months = 9)\n",
    "s = ((df.r_6months == 1) & (today > df.six_months_deadline)) & ( (df.release_6months <= 0) | (df.cd6months.isnull()))\n",
    "df.loc[s,['int', 'id', 'r_6months', 'release_f', 'd6months', 'cd6months', 'six_months_deadline', 'release_6months']].sort_values('id')"
   ]
  },
  {
   "cell_type": "code",
   "execution_count": 94,
   "metadata": {
    "collapsed": true,
    "hideCode": false,
    "hidePrompt": false
   },
   "outputs": [],
   "source": [
    "# df.loc[df.release_6months < -0,['int', 'id', 'r_6months', 'release_f', 'd6months', 'cd6months', 'six_months_deadline', 'release_6months']].sort_values('id')"
   ]
  },
  {
   "cell_type": "code",
   "execution_count": 95,
   "metadata": {
    "collapsed": true,
    "hideCode": false,
    "hidePrompt": false
   },
   "outputs": [
    {
     "data": {
      "text/html": [
       "<div>\n",
       "<style>\n",
       "    .dataframe thead tr:only-child th {\n",
       "        text-align: right;\n",
       "    }\n",
       "\n",
       "    .dataframe thead th {\n",
       "        text-align: left;\n",
       "    }\n",
       "\n",
       "    .dataframe tbody tr th {\n",
       "        vertical-align: top;\n",
       "    }\n",
       "</style>\n",
       "<table border=\"1\" class=\"dataframe\">\n",
       "  <thead>\n",
       "    <tr style=\"text-align: right;\">\n",
       "      <th></th>\n",
       "      <th>int</th>\n",
       "      <th>id</th>\n",
       "      <th>r_6months</th>\n",
       "      <th>release_f</th>\n",
       "      <th>cd6months</th>\n",
       "      <th>six_months_deadline</th>\n",
       "      <th>release_6months</th>\n",
       "    </tr>\n",
       "  </thead>\n",
       "  <tbody>\n",
       "    <tr>\n",
       "      <th>139</th>\n",
       "      <td>Susana</td>\n",
       "      <td>10003.0</td>\n",
       "      <td>1.0</td>\n",
       "      <td>2016-09-16</td>\n",
       "      <td>2017-05-10 00:00:00</td>\n",
       "      <td>2017-06-16</td>\n",
       "      <td>236.0</td>\n",
       "    </tr>\n",
       "    <tr>\n",
       "      <th>2</th>\n",
       "      <td>Javi</td>\n",
       "      <td>10007.0</td>\n",
       "      <td>1.0</td>\n",
       "      <td>2016-09-20</td>\n",
       "      <td>2017-04-07 00:00:00</td>\n",
       "      <td>2017-06-20</td>\n",
       "      <td>199.0</td>\n",
       "    </tr>\n",
       "    <tr>\n",
       "      <th>3</th>\n",
       "      <td>Javi</td>\n",
       "      <td>10023.0</td>\n",
       "      <td>1.0</td>\n",
       "      <td>2016-10-03</td>\n",
       "      <td>2017-05-17 00:00:00</td>\n",
       "      <td>2017-07-03</td>\n",
       "      <td>226.0</td>\n",
       "    </tr>\n",
       "    <tr>\n",
       "      <th>189</th>\n",
       "      <td>Susana</td>\n",
       "      <td>10027.0</td>\n",
       "      <td>1.0</td>\n",
       "      <td>2016-10-06</td>\n",
       "      <td>2017-05-30 00:00:00</td>\n",
       "      <td>2017-07-06</td>\n",
       "      <td>236.0</td>\n",
       "    </tr>\n",
       "    <tr>\n",
       "      <th>58</th>\n",
       "      <td>Marisol</td>\n",
       "      <td>10035.0</td>\n",
       "      <td>1.0</td>\n",
       "      <td>2016-10-19</td>\n",
       "      <td>2017-04-27 00:00:00</td>\n",
       "      <td>2017-07-19</td>\n",
       "      <td>190.0</td>\n",
       "    </tr>\n",
       "    <tr>\n",
       "      <th>154</th>\n",
       "      <td>Susana</td>\n",
       "      <td>10043.0</td>\n",
       "      <td>1.0</td>\n",
       "      <td>2016-10-19</td>\n",
       "      <td>2017-05-23 00:00:00</td>\n",
       "      <td>2017-07-19</td>\n",
       "      <td>216.0</td>\n",
       "    </tr>\n",
       "    <tr>\n",
       "      <th>8</th>\n",
       "      <td>Ángela</td>\n",
       "      <td>10044.0</td>\n",
       "      <td>1.0</td>\n",
       "      <td>2016-10-19</td>\n",
       "      <td>2017-04-24 00:00:00</td>\n",
       "      <td>2017-07-19</td>\n",
       "      <td>187.0</td>\n",
       "    </tr>\n",
       "    <tr>\n",
       "      <th>60</th>\n",
       "      <td>Marisol</td>\n",
       "      <td>10052.0</td>\n",
       "      <td>1.0</td>\n",
       "      <td>2016-10-19</td>\n",
       "      <td>2017-04-28 00:00:00</td>\n",
       "      <td>2017-07-19</td>\n",
       "      <td>191.0</td>\n",
       "    </tr>\n",
       "    <tr>\n",
       "      <th>165</th>\n",
       "      <td>Susana</td>\n",
       "      <td>10053.0</td>\n",
       "      <td>1.0</td>\n",
       "      <td>2016-10-19</td>\n",
       "      <td>2017-05-19 00:00:00</td>\n",
       "      <td>2017-07-19</td>\n",
       "      <td>212.0</td>\n",
       "    </tr>\n",
       "    <tr>\n",
       "      <th>210</th>\n",
       "      <td>Marcela</td>\n",
       "      <td>10055.0</td>\n",
       "      <td>1.0</td>\n",
       "      <td>2016-11-30</td>\n",
       "      <td>2017-06-27 00:00:00</td>\n",
       "      <td>2017-08-30</td>\n",
       "      <td>209.0</td>\n",
       "    </tr>\n",
       "    <tr>\n",
       "      <th>64</th>\n",
       "      <td>Marisol</td>\n",
       "      <td>10074.0</td>\n",
       "      <td>1.0</td>\n",
       "      <td>2016-10-19</td>\n",
       "      <td>2017-04-26 00:00:00</td>\n",
       "      <td>2017-07-19</td>\n",
       "      <td>189.0</td>\n",
       "    </tr>\n",
       "    <tr>\n",
       "      <th>92</th>\n",
       "      <td>Pati</td>\n",
       "      <td>10075.0</td>\n",
       "      <td>1.0</td>\n",
       "      <td>2016-10-19</td>\n",
       "      <td>2017-07-28 00:00:00</td>\n",
       "      <td>2017-07-19</td>\n",
       "      <td>282.0</td>\n",
       "    </tr>\n",
       "    <tr>\n",
       "      <th>69</th>\n",
       "      <td>Marisol</td>\n",
       "      <td>10077.0</td>\n",
       "      <td>1.0</td>\n",
       "      <td>2016-12-21</td>\n",
       "      <td>2017-07-11 00:00:00</td>\n",
       "      <td>2017-09-21</td>\n",
       "      <td>202.0</td>\n",
       "    </tr>\n",
       "    <tr>\n",
       "      <th>5</th>\n",
       "      <td>Javi</td>\n",
       "      <td>10087.0</td>\n",
       "      <td>1.0</td>\n",
       "      <td>2016-10-19</td>\n",
       "      <td>2017-05-21 00:00:00</td>\n",
       "      <td>2017-07-19</td>\n",
       "      <td>214.0</td>\n",
       "    </tr>\n",
       "    <tr>\n",
       "      <th>192</th>\n",
       "      <td>Susana</td>\n",
       "      <td>10098.0</td>\n",
       "      <td>1.0</td>\n",
       "      <td>2017-01-26</td>\n",
       "      <td>2017-06-20 00:00:00</td>\n",
       "      <td>2017-10-26</td>\n",
       "      <td>145.0</td>\n",
       "    </tr>\n",
       "    <tr>\n",
       "      <th>215</th>\n",
       "      <td>Marcela</td>\n",
       "      <td>10099.0</td>\n",
       "      <td>1.0</td>\n",
       "      <td>2016-12-20</td>\n",
       "      <td>2017-07-04 00:00:00</td>\n",
       "      <td>2017-09-20</td>\n",
       "      <td>196.0</td>\n",
       "    </tr>\n",
       "    <tr>\n",
       "      <th>95</th>\n",
       "      <td>Pati</td>\n",
       "      <td>10119.0</td>\n",
       "      <td>1.0</td>\n",
       "      <td>2016-10-17</td>\n",
       "      <td>2017-08-31 00:00:00</td>\n",
       "      <td>2017-07-17</td>\n",
       "      <td>318.0</td>\n",
       "    </tr>\n",
       "    <tr>\n",
       "      <th>163</th>\n",
       "      <td>Susana</td>\n",
       "      <td>10149.0</td>\n",
       "      <td>1.0</td>\n",
       "      <td>2016-11-14</td>\n",
       "      <td>2017-07-27 00:00:00</td>\n",
       "      <td>2017-08-14</td>\n",
       "      <td>255.0</td>\n",
       "    </tr>\n",
       "    <tr>\n",
       "      <th>103</th>\n",
       "      <td>Pati</td>\n",
       "      <td>10153.0</td>\n",
       "      <td>1.0</td>\n",
       "      <td>2016-11-18</td>\n",
       "      <td>2017-06-12 00:00:00</td>\n",
       "      <td>2017-08-18</td>\n",
       "      <td>206.0</td>\n",
       "    </tr>\n",
       "    <tr>\n",
       "      <th>190</th>\n",
       "      <td>Susana</td>\n",
       "      <td>10158.0</td>\n",
       "      <td>1.0</td>\n",
       "      <td>2016-11-21</td>\n",
       "      <td>2017-05-22 00:00:00</td>\n",
       "      <td>2017-08-21</td>\n",
       "      <td>182.0</td>\n",
       "    </tr>\n",
       "    <tr>\n",
       "      <th>30</th>\n",
       "      <td>Javi</td>\n",
       "      <td>10172.0</td>\n",
       "      <td>1.0</td>\n",
       "      <td>2016-12-03</td>\n",
       "      <td>2017-06-13 00:00:00</td>\n",
       "      <td>2017-09-03</td>\n",
       "      <td>192.0</td>\n",
       "    </tr>\n",
       "    <tr>\n",
       "      <th>170</th>\n",
       "      <td>Susana</td>\n",
       "      <td>10177.0</td>\n",
       "      <td>1.0</td>\n",
       "      <td>2016-12-06</td>\n",
       "      <td>2017-05-31 00:00:00</td>\n",
       "      <td>2017-09-06</td>\n",
       "      <td>176.0</td>\n",
       "    </tr>\n",
       "    <tr>\n",
       "      <th>84</th>\n",
       "      <td>Pati</td>\n",
       "      <td>10182.0</td>\n",
       "      <td>1.0</td>\n",
       "      <td>2016-12-30</td>\n",
       "      <td>2017-05-15 00:00:00</td>\n",
       "      <td>2017-09-30</td>\n",
       "      <td>136.0</td>\n",
       "    </tr>\n",
       "    <tr>\n",
       "      <th>213</th>\n",
       "      <td>Marcela</td>\n",
       "      <td>10187.0</td>\n",
       "      <td>1.0</td>\n",
       "      <td>2016-12-16</td>\n",
       "      <td>2017-07-24 00:00:00</td>\n",
       "      <td>2017-09-16</td>\n",
       "      <td>220.0</td>\n",
       "    </tr>\n",
       "    <tr>\n",
       "      <th>39</th>\n",
       "      <td>Javi</td>\n",
       "      <td>10192.0</td>\n",
       "      <td>1.0</td>\n",
       "      <td>2017-01-09</td>\n",
       "      <td>2017-07-19 00:00:00</td>\n",
       "      <td>2017-10-09</td>\n",
       "      <td>191.0</td>\n",
       "    </tr>\n",
       "    <tr>\n",
       "      <th>175</th>\n",
       "      <td>Susana</td>\n",
       "      <td>10197.0</td>\n",
       "      <td>1.0</td>\n",
       "      <td>2016-12-26</td>\n",
       "      <td>2017-05-30 00:00:00</td>\n",
       "      <td>2017-09-26</td>\n",
       "      <td>155.0</td>\n",
       "    </tr>\n",
       "    <tr>\n",
       "      <th>72</th>\n",
       "      <td>Marisol</td>\n",
       "      <td>10202.0</td>\n",
       "      <td>1.0</td>\n",
       "      <td>2017-01-01</td>\n",
       "      <td>2017-07-20 00:00:00</td>\n",
       "      <td>2017-10-01</td>\n",
       "      <td>200.0</td>\n",
       "    </tr>\n",
       "    <tr>\n",
       "      <th>37</th>\n",
       "      <td>Javi</td>\n",
       "      <td>10213.0</td>\n",
       "      <td>1.0</td>\n",
       "      <td>2017-01-08</td>\n",
       "      <td>2017-07-31 00:00:00</td>\n",
       "      <td>2017-10-08</td>\n",
       "      <td>204.0</td>\n",
       "    </tr>\n",
       "    <tr>\n",
       "      <th>85</th>\n",
       "      <td>Pati</td>\n",
       "      <td>10223.0</td>\n",
       "      <td>1.0</td>\n",
       "      <td>2017-01-15</td>\n",
       "      <td>2017-07-15 00:00:00</td>\n",
       "      <td>2017-10-15</td>\n",
       "      <td>181.0</td>\n",
       "    </tr>\n",
       "    <tr>\n",
       "      <th>40</th>\n",
       "      <td>Javi</td>\n",
       "      <td>10228.0</td>\n",
       "      <td>1.0</td>\n",
       "      <td>2017-01-18</td>\n",
       "      <td>2017-08-15 00:00:00</td>\n",
       "      <td>2017-10-18</td>\n",
       "      <td>209.0</td>\n",
       "    </tr>\n",
       "    <tr>\n",
       "      <th>...</th>\n",
       "      <td>...</td>\n",
       "      <td>...</td>\n",
       "      <td>...</td>\n",
       "      <td>...</td>\n",
       "      <td>...</td>\n",
       "      <td>...</td>\n",
       "      <td>...</td>\n",
       "    </tr>\n",
       "    <tr>\n",
       "      <th>195</th>\n",
       "      <td>Susana</td>\n",
       "      <td>40299.0</td>\n",
       "      <td>1.0</td>\n",
       "      <td>2017-03-30</td>\n",
       "      <td>2017-09-14 00:00:00</td>\n",
       "      <td>2017-12-30</td>\n",
       "      <td>168.0</td>\n",
       "    </tr>\n",
       "    <tr>\n",
       "      <th>202</th>\n",
       "      <td>Marcela</td>\n",
       "      <td>50037.0</td>\n",
       "      <td>1.0</td>\n",
       "      <td>2016-10-19</td>\n",
       "      <td>2017-05-12 00:00:00</td>\n",
       "      <td>2017-07-19</td>\n",
       "      <td>205.0</td>\n",
       "    </tr>\n",
       "    <tr>\n",
       "      <th>205</th>\n",
       "      <td>Marcela</td>\n",
       "      <td>50049.0</td>\n",
       "      <td>1.0</td>\n",
       "      <td>2016-10-19</td>\n",
       "      <td>2017-05-25 00:00:00</td>\n",
       "      <td>2017-07-19</td>\n",
       "      <td>218.0</td>\n",
       "    </tr>\n",
       "    <tr>\n",
       "      <th>201</th>\n",
       "      <td>Marcela</td>\n",
       "      <td>50060.0</td>\n",
       "      <td>1.0</td>\n",
       "      <td>2016-10-19</td>\n",
       "      <td>2017-06-26 00:00:00</td>\n",
       "      <td>2017-07-19</td>\n",
       "      <td>250.0</td>\n",
       "    </tr>\n",
       "    <tr>\n",
       "      <th>200</th>\n",
       "      <td>Marcela</td>\n",
       "      <td>50063.0</td>\n",
       "      <td>1.0</td>\n",
       "      <td>2016-10-19</td>\n",
       "      <td>2017-05-11 00:00:00</td>\n",
       "      <td>2017-07-19</td>\n",
       "      <td>204.0</td>\n",
       "    </tr>\n",
       "    <tr>\n",
       "      <th>61</th>\n",
       "      <td>Marisol</td>\n",
       "      <td>50070.0</td>\n",
       "      <td>1.0</td>\n",
       "      <td>2016-10-22</td>\n",
       "      <td>2017-06-29 00:00:00</td>\n",
       "      <td>2017-07-22</td>\n",
       "      <td>250.0</td>\n",
       "    </tr>\n",
       "    <tr>\n",
       "      <th>65</th>\n",
       "      <td>Marisol</td>\n",
       "      <td>50072.0</td>\n",
       "      <td>1.0</td>\n",
       "      <td>2016-10-30</td>\n",
       "      <td>2017-06-22 00:00:00</td>\n",
       "      <td>2017-07-30</td>\n",
       "      <td>235.0</td>\n",
       "    </tr>\n",
       "    <tr>\n",
       "      <th>206</th>\n",
       "      <td>Marcela</td>\n",
       "      <td>50076.0</td>\n",
       "      <td>1.0</td>\n",
       "      <td>2016-10-19</td>\n",
       "      <td>2017-05-10 00:00:00</td>\n",
       "      <td>2017-07-19</td>\n",
       "      <td>203.0</td>\n",
       "    </tr>\n",
       "    <tr>\n",
       "      <th>204</th>\n",
       "      <td>Marcela</td>\n",
       "      <td>50086.0</td>\n",
       "      <td>1.0</td>\n",
       "      <td>2016-10-19</td>\n",
       "      <td>2017-06-07 00:00:00</td>\n",
       "      <td>2017-07-19</td>\n",
       "      <td>231.0</td>\n",
       "    </tr>\n",
       "    <tr>\n",
       "      <th>62</th>\n",
       "      <td>Marisol</td>\n",
       "      <td>50104.0</td>\n",
       "      <td>1.0</td>\n",
       "      <td>2016-10-24</td>\n",
       "      <td>2017-06-27 00:00:00</td>\n",
       "      <td>2017-07-24</td>\n",
       "      <td>246.0</td>\n",
       "    </tr>\n",
       "    <tr>\n",
       "      <th>226</th>\n",
       "      <td>Marcela</td>\n",
       "      <td>50105.0</td>\n",
       "      <td>1.0</td>\n",
       "      <td>2016-11-28</td>\n",
       "      <td>2017-07-18 00:00:00</td>\n",
       "      <td>2017-08-28</td>\n",
       "      <td>232.0</td>\n",
       "    </tr>\n",
       "    <tr>\n",
       "      <th>207</th>\n",
       "      <td>Marcela</td>\n",
       "      <td>50124.0</td>\n",
       "      <td>1.0</td>\n",
       "      <td>2016-10-19</td>\n",
       "      <td>2017-07-20 00:00:00</td>\n",
       "      <td>2017-07-19</td>\n",
       "      <td>274.0</td>\n",
       "    </tr>\n",
       "    <tr>\n",
       "      <th>212</th>\n",
       "      <td>Marcela</td>\n",
       "      <td>50126.0</td>\n",
       "      <td>1.0</td>\n",
       "      <td>2016-12-07</td>\n",
       "      <td>2017-06-01 00:00:00</td>\n",
       "      <td>2017-09-07</td>\n",
       "      <td>176.0</td>\n",
       "    </tr>\n",
       "    <tr>\n",
       "      <th>198</th>\n",
       "      <td>Marcela</td>\n",
       "      <td>50129.0</td>\n",
       "      <td>1.0</td>\n",
       "      <td>2016-10-19</td>\n",
       "      <td>2017-06-15 00:00:00</td>\n",
       "      <td>2017-07-19</td>\n",
       "      <td>239.0</td>\n",
       "    </tr>\n",
       "    <tr>\n",
       "      <th>59</th>\n",
       "      <td>Marisol</td>\n",
       "      <td>50133.0</td>\n",
       "      <td>1.0</td>\n",
       "      <td>2016-10-19</td>\n",
       "      <td>2017-10-19 00:00:00</td>\n",
       "      <td>2017-07-19</td>\n",
       "      <td>365.0</td>\n",
       "    </tr>\n",
       "    <tr>\n",
       "      <th>208</th>\n",
       "      <td>Marcela</td>\n",
       "      <td>50150.0</td>\n",
       "      <td>1.0</td>\n",
       "      <td>2016-11-14</td>\n",
       "      <td>2017-07-08 00:00:00</td>\n",
       "      <td>2017-08-14</td>\n",
       "      <td>236.0</td>\n",
       "    </tr>\n",
       "    <tr>\n",
       "      <th>209</th>\n",
       "      <td>Marcela</td>\n",
       "      <td>50160.0</td>\n",
       "      <td>1.0</td>\n",
       "      <td>2016-11-22</td>\n",
       "      <td>2017-07-14 00:00:00</td>\n",
       "      <td>2017-08-22</td>\n",
       "      <td>234.0</td>\n",
       "    </tr>\n",
       "    <tr>\n",
       "      <th>214</th>\n",
       "      <td>Marcela</td>\n",
       "      <td>50180.0</td>\n",
       "      <td>1.0</td>\n",
       "      <td>2016-12-07</td>\n",
       "      <td>2017-07-05 00:00:00</td>\n",
       "      <td>2017-09-07</td>\n",
       "      <td>210.0</td>\n",
       "    </tr>\n",
       "    <tr>\n",
       "      <th>70</th>\n",
       "      <td>Marisol</td>\n",
       "      <td>50190.0</td>\n",
       "      <td>1.0</td>\n",
       "      <td>2016-12-18</td>\n",
       "      <td>2017-07-13 00:00:00</td>\n",
       "      <td>2017-09-18</td>\n",
       "      <td>207.0</td>\n",
       "    </tr>\n",
       "    <tr>\n",
       "      <th>217</th>\n",
       "      <td>Marcela</td>\n",
       "      <td>50205.0</td>\n",
       "      <td>1.0</td>\n",
       "      <td>2016-12-28</td>\n",
       "      <td>2017-07-06 00:00:00</td>\n",
       "      <td>2017-09-28</td>\n",
       "      <td>190.0</td>\n",
       "    </tr>\n",
       "    <tr>\n",
       "      <th>216</th>\n",
       "      <td>Marcela</td>\n",
       "      <td>50209.0</td>\n",
       "      <td>1.0</td>\n",
       "      <td>2017-01-03</td>\n",
       "      <td>2017-07-30 00:00:00</td>\n",
       "      <td>2017-10-03</td>\n",
       "      <td>208.0</td>\n",
       "    </tr>\n",
       "    <tr>\n",
       "      <th>220</th>\n",
       "      <td>Marcela</td>\n",
       "      <td>50214.0</td>\n",
       "      <td>1.0</td>\n",
       "      <td>2017-01-08</td>\n",
       "      <td>2017-05-25 00:00:00</td>\n",
       "      <td>2017-10-08</td>\n",
       "      <td>137.0</td>\n",
       "    </tr>\n",
       "    <tr>\n",
       "      <th>218</th>\n",
       "      <td>Marcela</td>\n",
       "      <td>50216.0</td>\n",
       "      <td>1.0</td>\n",
       "      <td>2017-01-12</td>\n",
       "      <td>2017-07-20 00:00:00</td>\n",
       "      <td>2017-10-12</td>\n",
       "      <td>189.0</td>\n",
       "    </tr>\n",
       "    <tr>\n",
       "      <th>219</th>\n",
       "      <td>Marcela</td>\n",
       "      <td>50226.0</td>\n",
       "      <td>1.0</td>\n",
       "      <td>2017-01-17</td>\n",
       "      <td>2017-07-31 00:00:00</td>\n",
       "      <td>2017-10-17</td>\n",
       "      <td>195.0</td>\n",
       "    </tr>\n",
       "    <tr>\n",
       "      <th>221</th>\n",
       "      <td>Marcela</td>\n",
       "      <td>50230.0</td>\n",
       "      <td>1.0</td>\n",
       "      <td>2017-01-19</td>\n",
       "      <td>2017-08-31 00:00:00</td>\n",
       "      <td>2017-10-19</td>\n",
       "      <td>224.0</td>\n",
       "    </tr>\n",
       "    <tr>\n",
       "      <th>227</th>\n",
       "      <td>Marcela</td>\n",
       "      <td>50231.0</td>\n",
       "      <td>1.0</td>\n",
       "      <td>2017-01-22</td>\n",
       "      <td>2017-07-31 00:00:00</td>\n",
       "      <td>2017-10-22</td>\n",
       "      <td>190.0</td>\n",
       "    </tr>\n",
       "    <tr>\n",
       "      <th>222</th>\n",
       "      <td>Marcela</td>\n",
       "      <td>50236.0</td>\n",
       "      <td>1.0</td>\n",
       "      <td>2017-01-27</td>\n",
       "      <td>2017-08-23 00:00:00</td>\n",
       "      <td>2017-10-27</td>\n",
       "      <td>208.0</td>\n",
       "    </tr>\n",
       "    <tr>\n",
       "      <th>224</th>\n",
       "      <td>Marcela</td>\n",
       "      <td>50249.0</td>\n",
       "      <td>1.0</td>\n",
       "      <td>2017-02-09</td>\n",
       "      <td>2017-09-09 16:00:00</td>\n",
       "      <td>2017-11-09</td>\n",
       "      <td>212.0</td>\n",
       "    </tr>\n",
       "    <tr>\n",
       "      <th>74</th>\n",
       "      <td>Marisol</td>\n",
       "      <td>50271.0</td>\n",
       "      <td>0.0</td>\n",
       "      <td>2017-03-06</td>\n",
       "      <td>2017-08-28 00:00:00</td>\n",
       "      <td>2017-12-06</td>\n",
       "      <td>175.0</td>\n",
       "    </tr>\n",
       "    <tr>\n",
       "      <th>225</th>\n",
       "      <td>Marcela</td>\n",
       "      <td>50281.0</td>\n",
       "      <td>1.0</td>\n",
       "      <td>2017-03-12</td>\n",
       "      <td>2017-09-25 00:00:00</td>\n",
       "      <td>2017-12-12</td>\n",
       "      <td>197.0</td>\n",
       "    </tr>\n",
       "  </tbody>\n",
       "</table>\n",
       "<p>195 rows × 7 columns</p>\n",
       "</div>"
      ],
      "text/plain": [
       "         int       id  r_6months  release_f           cd6months  \\\n",
       "139   Susana  10003.0        1.0 2016-09-16 2017-05-10 00:00:00   \n",
       "2       Javi  10007.0        1.0 2016-09-20 2017-04-07 00:00:00   \n",
       "3       Javi  10023.0        1.0 2016-10-03 2017-05-17 00:00:00   \n",
       "189   Susana  10027.0        1.0 2016-10-06 2017-05-30 00:00:00   \n",
       "58   Marisol  10035.0        1.0 2016-10-19 2017-04-27 00:00:00   \n",
       "154   Susana  10043.0        1.0 2016-10-19 2017-05-23 00:00:00   \n",
       "8     Ángela  10044.0        1.0 2016-10-19 2017-04-24 00:00:00   \n",
       "60   Marisol  10052.0        1.0 2016-10-19 2017-04-28 00:00:00   \n",
       "165   Susana  10053.0        1.0 2016-10-19 2017-05-19 00:00:00   \n",
       "210  Marcela  10055.0        1.0 2016-11-30 2017-06-27 00:00:00   \n",
       "64   Marisol  10074.0        1.0 2016-10-19 2017-04-26 00:00:00   \n",
       "92      Pati  10075.0        1.0 2016-10-19 2017-07-28 00:00:00   \n",
       "69   Marisol  10077.0        1.0 2016-12-21 2017-07-11 00:00:00   \n",
       "5       Javi  10087.0        1.0 2016-10-19 2017-05-21 00:00:00   \n",
       "192   Susana  10098.0        1.0 2017-01-26 2017-06-20 00:00:00   \n",
       "215  Marcela  10099.0        1.0 2016-12-20 2017-07-04 00:00:00   \n",
       "95      Pati  10119.0        1.0 2016-10-17 2017-08-31 00:00:00   \n",
       "163   Susana  10149.0        1.0 2016-11-14 2017-07-27 00:00:00   \n",
       "103     Pati  10153.0        1.0 2016-11-18 2017-06-12 00:00:00   \n",
       "190   Susana  10158.0        1.0 2016-11-21 2017-05-22 00:00:00   \n",
       "30      Javi  10172.0        1.0 2016-12-03 2017-06-13 00:00:00   \n",
       "170   Susana  10177.0        1.0 2016-12-06 2017-05-31 00:00:00   \n",
       "84      Pati  10182.0        1.0 2016-12-30 2017-05-15 00:00:00   \n",
       "213  Marcela  10187.0        1.0 2016-12-16 2017-07-24 00:00:00   \n",
       "39      Javi  10192.0        1.0 2017-01-09 2017-07-19 00:00:00   \n",
       "175   Susana  10197.0        1.0 2016-12-26 2017-05-30 00:00:00   \n",
       "72   Marisol  10202.0        1.0 2017-01-01 2017-07-20 00:00:00   \n",
       "37      Javi  10213.0        1.0 2017-01-08 2017-07-31 00:00:00   \n",
       "85      Pati  10223.0        1.0 2017-01-15 2017-07-15 00:00:00   \n",
       "40      Javi  10228.0        1.0 2017-01-18 2017-08-15 00:00:00   \n",
       "..       ...      ...        ...        ...                 ...   \n",
       "195   Susana  40299.0        1.0 2017-03-30 2017-09-14 00:00:00   \n",
       "202  Marcela  50037.0        1.0 2016-10-19 2017-05-12 00:00:00   \n",
       "205  Marcela  50049.0        1.0 2016-10-19 2017-05-25 00:00:00   \n",
       "201  Marcela  50060.0        1.0 2016-10-19 2017-06-26 00:00:00   \n",
       "200  Marcela  50063.0        1.0 2016-10-19 2017-05-11 00:00:00   \n",
       "61   Marisol  50070.0        1.0 2016-10-22 2017-06-29 00:00:00   \n",
       "65   Marisol  50072.0        1.0 2016-10-30 2017-06-22 00:00:00   \n",
       "206  Marcela  50076.0        1.0 2016-10-19 2017-05-10 00:00:00   \n",
       "204  Marcela  50086.0        1.0 2016-10-19 2017-06-07 00:00:00   \n",
       "62   Marisol  50104.0        1.0 2016-10-24 2017-06-27 00:00:00   \n",
       "226  Marcela  50105.0        1.0 2016-11-28 2017-07-18 00:00:00   \n",
       "207  Marcela  50124.0        1.0 2016-10-19 2017-07-20 00:00:00   \n",
       "212  Marcela  50126.0        1.0 2016-12-07 2017-06-01 00:00:00   \n",
       "198  Marcela  50129.0        1.0 2016-10-19 2017-06-15 00:00:00   \n",
       "59   Marisol  50133.0        1.0 2016-10-19 2017-10-19 00:00:00   \n",
       "208  Marcela  50150.0        1.0 2016-11-14 2017-07-08 00:00:00   \n",
       "209  Marcela  50160.0        1.0 2016-11-22 2017-07-14 00:00:00   \n",
       "214  Marcela  50180.0        1.0 2016-12-07 2017-07-05 00:00:00   \n",
       "70   Marisol  50190.0        1.0 2016-12-18 2017-07-13 00:00:00   \n",
       "217  Marcela  50205.0        1.0 2016-12-28 2017-07-06 00:00:00   \n",
       "216  Marcela  50209.0        1.0 2017-01-03 2017-07-30 00:00:00   \n",
       "220  Marcela  50214.0        1.0 2017-01-08 2017-05-25 00:00:00   \n",
       "218  Marcela  50216.0        1.0 2017-01-12 2017-07-20 00:00:00   \n",
       "219  Marcela  50226.0        1.0 2017-01-17 2017-07-31 00:00:00   \n",
       "221  Marcela  50230.0        1.0 2017-01-19 2017-08-31 00:00:00   \n",
       "227  Marcela  50231.0        1.0 2017-01-22 2017-07-31 00:00:00   \n",
       "222  Marcela  50236.0        1.0 2017-01-27 2017-08-23 00:00:00   \n",
       "224  Marcela  50249.0        1.0 2017-02-09 2017-09-09 16:00:00   \n",
       "74   Marisol  50271.0        0.0 2017-03-06 2017-08-28 00:00:00   \n",
       "225  Marcela  50281.0        1.0 2017-03-12 2017-09-25 00:00:00   \n",
       "\n",
       "    six_months_deadline  release_6months  \n",
       "139          2017-06-16            236.0  \n",
       "2            2017-06-20            199.0  \n",
       "3            2017-07-03            226.0  \n",
       "189          2017-07-06            236.0  \n",
       "58           2017-07-19            190.0  \n",
       "154          2017-07-19            216.0  \n",
       "8            2017-07-19            187.0  \n",
       "60           2017-07-19            191.0  \n",
       "165          2017-07-19            212.0  \n",
       "210          2017-08-30            209.0  \n",
       "64           2017-07-19            189.0  \n",
       "92           2017-07-19            282.0  \n",
       "69           2017-09-21            202.0  \n",
       "5            2017-07-19            214.0  \n",
       "192          2017-10-26            145.0  \n",
       "215          2017-09-20            196.0  \n",
       "95           2017-07-17            318.0  \n",
       "163          2017-08-14            255.0  \n",
       "103          2017-08-18            206.0  \n",
       "190          2017-08-21            182.0  \n",
       "30           2017-09-03            192.0  \n",
       "170          2017-09-06            176.0  \n",
       "84           2017-09-30            136.0  \n",
       "213          2017-09-16            220.0  \n",
       "39           2017-10-09            191.0  \n",
       "175          2017-09-26            155.0  \n",
       "72           2017-10-01            200.0  \n",
       "37           2017-10-08            204.0  \n",
       "85           2017-10-15            181.0  \n",
       "40           2017-10-18            209.0  \n",
       "..                  ...              ...  \n",
       "195          2017-12-30            168.0  \n",
       "202          2017-07-19            205.0  \n",
       "205          2017-07-19            218.0  \n",
       "201          2017-07-19            250.0  \n",
       "200          2017-07-19            204.0  \n",
       "61           2017-07-22            250.0  \n",
       "65           2017-07-30            235.0  \n",
       "206          2017-07-19            203.0  \n",
       "204          2017-07-19            231.0  \n",
       "62           2017-07-24            246.0  \n",
       "226          2017-08-28            232.0  \n",
       "207          2017-07-19            274.0  \n",
       "212          2017-09-07            176.0  \n",
       "198          2017-07-19            239.0  \n",
       "59           2017-07-19            365.0  \n",
       "208          2017-08-14            236.0  \n",
       "209          2017-08-22            234.0  \n",
       "214          2017-09-07            210.0  \n",
       "70           2017-09-18            207.0  \n",
       "217          2017-09-28            190.0  \n",
       "216          2017-10-03            208.0  \n",
       "220          2017-10-08            137.0  \n",
       "218          2017-10-12            189.0  \n",
       "219          2017-10-17            195.0  \n",
       "221          2017-10-19            224.0  \n",
       "227          2017-10-22            190.0  \n",
       "222          2017-10-27            208.0  \n",
       "224          2017-11-09            212.0  \n",
       "74           2017-12-06            175.0  \n",
       "225          2017-12-12            197.0  \n",
       "\n",
       "[195 rows x 7 columns]"
      ]
     },
     "execution_count": 95,
     "metadata": {},
     "output_type": "execute_result"
    }
   ],
   "source": [
    "df.loc[np.abs(df.release_6months) > 100,['int', 'id', 'r_6months', 'release_f', 'cd6months', 'six_months_deadline', 'release_6months']].sort_values('id')"
   ]
  },
  {
   "cell_type": "code",
   "execution_count": 96,
   "metadata": {
    "collapsed": true,
    "hideCode": false,
    "hidePrompt": false
   },
   "outputs": [
    {
     "name": "stdout",
     "output_type": "stream",
     "text": [
      "0.915492957746\n"
     ]
    }
   ],
   "source": [
    "tab  = df.loc[(today > df.six_months_deadline)  | (df.r_6months == 1), 'r_6months'].value_counts()\n",
    "# print(tab)\n",
    "rr_6months = [i / sum(list(tab)) for i in tab][0]\n",
    "print(rr_6months)"
   ]
  },
  {
   "cell_type": "markdown",
   "metadata": {},
   "source": [
    "Some descriptives:"
   ]
  },
  {
   "cell_type": "code",
   "execution_count": 97,
   "metadata": {
    "collapsed": true,
    "hideCode": false,
    "hidePrompt": false
   },
   "outputs": [
    {
     "data": {
      "text/plain": [
       "count    192.000000\n",
       "mean     193.750000\n",
       "std       43.599438\n",
       "min       15.000000\n",
       "25%      170.000000\n",
       "50%      186.000000\n",
       "75%      205.000000\n",
       "max      557.000000\n",
       "Name: release_6months, dtype: float64"
      ]
     },
     "execution_count": 97,
     "metadata": {},
     "output_type": "execute_result"
    }
   ],
   "source": [
    "df.loc[df.r_6months == 1, 'release_6months'].describe()"
   ]
  },
  {
   "cell_type": "markdown",
   "metadata": {
    "hideCode": false,
    "hidePrompt": false
   },
   "source": [
    "# Plot of interview days by wave"
   ]
  },
  {
   "cell_type": "code",
   "execution_count": 98,
   "metadata": {
    "hideCode": false,
    "hidePrompt": false
   },
   "outputs": [
    {
     "data": {
      "image/png": "[encoded data removed]",
      "text/plain": [
       "<matplotlib.figure.Figure at 0x1146c64e0>"
      ]
     },
     "metadata": {},
     "output_type": "display_data"
    }
   ],
   "source": [
    "ax = df.loc[:, ['release_baseline', 'release_week', 'release_2months', \n",
    "                'release_6months']].plot.hist(title='Distribución Día de Entrevista según Ola', alpha=0.6, bins = 200);\n",
    "ax.set_xlim(-35,365);\n",
    "ax.legend(['Línea base', 'Primera semana', 'Dos meses', 'Seis meses']);\n",
    "ax.axvline(7, color = 'gray', linestyle ='--', linewidth=1);\n",
    "ax.axvline(30.5*2, color = 'gray', linestyle ='--', linewidth=1);\n",
    "ax.axvline(30.5*6, color = 'gray', linestyle ='--', linewidth=1);\n",
    "ax.set_xlabel('Días desde la salida');\n",
    "plt.savefig('plots/dia_entrevista_ola.pdf', dpi = 600)"
   ]
  },
  {
   "cell_type": "markdown",
   "metadata": {
    "hideCode": false,
    "hidePrompt": false
   },
   "source": [
    "## Summary rates"
   ]
  },
  {
   "cell_type": "code",
   "execution_count": 99,
   "metadata": {
    "hideCode": false,
    "hidePrompt": false
   },
   "outputs": [
    {
     "data": {
      "text/html": [
       "<div>\n",
       "<style>\n",
       "    .dataframe thead tr:only-child th {\n",
       "        text-align: right;\n",
       "    }\n",
       "\n",
       "    .dataframe thead th {\n",
       "        text-align: left;\n",
       "    }\n",
       "\n",
       "    .dataframe tbody tr th {\n",
       "        vertical-align: top;\n",
       "    }\n",
       "</style>\n",
       "<table border=\"1\" class=\"dataframe\">\n",
       "  <thead>\n",
       "    <tr style=\"text-align: right;\">\n",
       "      <th></th>\n",
       "      <th>rate</th>\n",
       "    </tr>\n",
       "  </thead>\n",
       "  <tbody>\n",
       "    <tr>\n",
       "      <th>week</th>\n",
       "      <td>0.808036</td>\n",
       "    </tr>\n",
       "    <tr>\n",
       "      <th>2 months</th>\n",
       "      <td>0.790179</td>\n",
       "    </tr>\n",
       "    <tr>\n",
       "      <th>6 months</th>\n",
       "      <td>0.915493</td>\n",
       "    </tr>\n",
       "  </tbody>\n",
       "</table>\n",
       "</div>"
      ],
      "text/plain": [
       "              rate\n",
       "week      0.808036\n",
       "2 months  0.790179\n",
       "6 months  0.915493"
      ]
     },
     "execution_count": 99,
     "metadata": {},
     "output_type": "execute_result"
    }
   ],
   "source": [
    "rr = pd.DataFrame( {\"rate\" : [rr_week, rr_2months, rr_6months]}, \n",
    "                       index = ['week' ,'2 months', '6 months'])\n",
    "\n",
    "rr"
   ]
  },
  {
   "cell_type": "code",
   "execution_count": 100,
   "metadata": {
    "collapsed": true
   },
   "outputs": [],
   "source": [
    "# s = ['id', 'r_week', 'r_2months', 'r_6months', 'interviewer']\n",
    "# df.loc[:,s].to_csv('/Users/sdaza/Dropbox/Projects/re-entry/10 investigadores/sdaza/reports-github/reports/data/clean_register.csv')"
   ]
  }
 ],
 "metadata": {
  "celltoolbar": "Hide code",
  "hide_code_all_hidden": false,
  "kernelspec": {
   "display_name": "Python [conda root]",
   "language": "python",
   "name": "conda-root-py"
  },
  "language_info": {
   "codemirror_mode": {
    "name": "ipython",
    "version": 3
   },
   "file_extension": ".py",
   "mimetype": "text/x-python",
   "name": "python",
   "nbconvert_exporter": "python",
   "pygments_lexer": "ipython3",
   "version": "3.6.1"
  }
 },
 "nbformat": 4,
 "nbformat_minor": 2
}
