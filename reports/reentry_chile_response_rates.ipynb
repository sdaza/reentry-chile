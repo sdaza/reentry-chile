{
 "cells": [
  {
   "cell_type": "markdown",
   "metadata": {},
   "source": [
    "# Reentry Chile Response Rate\n",
    "\n",
    "In this report I describe response rates by wave. I follow these general criteria:\n",
    "\n",
    "- The estimation by wave only uses cases far beyond the wave-specific observation window. For instance, for the wave 2-months, we only consider those women who have been in the study for 4 months.\n",
    "- This estimation is based on the administrative records of the study.\n",
    "\n",
    "Some important definitions:\n",
    "\n",
    "- Names of waves: baseline, week, two_months, six_months\n",
    "- Variables names: d means date, c means clean, and cd clean date\n",
    "- Deadline corresponds to th time threshold to compute a given response rate\n",
    "\n",
    "I review the key date variables to compute the rates and highlight inconsistencies or problems. "
   ]
  },
  {
   "cell_type": "markdown",
   "metadata": {},
   "source": [
    "## Release\n",
    "\n",
    "There are two date of release variables\n",
    "in the register data. *Definitive* has a bunch of missing records. **We should define a validaded and unique date of release variable*. "
   ]
  },
  {
   "cell_type": "code",
   "execution_count": 90,
   "metadata": {
    "collapsed": true,
    "hideCode": false,
    "hideOutput": false,
    "hidePrompt": true
   },
   "outputs": [],
   "source": [
    "import pandas as pd\n",
    "path = '/Users/sdaza/Google Drive/github/reentry-chile/reports/data/20170628 Logros.xlsx'\n",
    "file = pd.ExcelFile(path)"
   ]
  },
  {
   "cell_type": "code",
   "execution_count": 91,
   "metadata": {
    "collapsed": true
   },
   "outputs": [],
   "source": [
    "df = file.parse(-1)\n",
    "type(file)\n",
    "\n",
    "df.columns = map(str.lower, df.columns)\n"
   ]
  },
  {
   "cell_type": "code",
   "execution_count": 92,
   "metadata": {
    "collapsed": true
   },
   "outputs": [],
   "source": [
    "# rename some variables\n",
    "old_names = ['id folio', 'encuestadora final', 'fecha egreso', 'fecha egreso definitiva']\n",
    "new_names = ['id', 'interviewer', 'release_o', 'release']\n",
    "df.rename(columns=dict(zip(old_names, new_names)), inplace=True)\n",
    "cnames = list(df.columns)"
   ]
  },
  {
   "cell_type": "code",
   "execution_count": 93,
   "metadata": {},
   "outputs": [
    {
     "name": "stdout",
     "output_type": "stream",
     "text": [
      "False    162\n",
      "True      63\n",
      "Name: release, dtype: int64\n"
     ]
    }
   ],
   "source": [
    "s = df.release.isnull()\n",
    "print(s.value_counts())"
   ]
  },
  {
   "cell_type": "code",
   "execution_count": 94,
   "metadata": {},
   "outputs": [
    {
     "name": "stdout",
     "output_type": "stream",
     "text": [
      "2016.0    146\n",
      "2017.0     77\n",
      "Name: release_year, dtype: int64\n",
      "10.0    71\n",
      "12.0    34\n",
      "3.0     29\n",
      "1.0     28\n",
      "11.0    28\n",
      "2.0     20\n",
      "9.0     13\n",
      "Name: release_month, dtype: int64\n",
      "Empty DataFrame\n",
      "Columns: [id, release, release_o]\n",
      "Index: []\n"
     ]
    }
   ],
   "source": [
    "df.loc[s, 'release'] = df.loc[s, 'release_o']\n",
    "\n",
    "start = pd.to_datetime(\"09/01/2016\")\n",
    "\n",
    "s = (df.release < start) & (df.release_o >= start)\n",
    "df.loc[s, ['release']] = df.loc[s, ['release_o']]\n",
    "\n",
    "df['release_year'] = pd.DatetimeIndex(df['release']).year\n",
    "df['release_month'] = pd.DatetimeIndex(df['release']).month\n",
    "print(df.release_year.value_counts())\n",
    "print(df.release_month.value_counts())\n",
    "\n",
    "print(df.loc[df.release == '2016-01-01', ['id', 'release', 'release_o']])"
   ]
  },
  {
   "cell_type": "code",
   "execution_count": 124,
   "metadata": {},
   "outputs": [
    {
     "data": {
      "image/png": "[encoded data removed]",
      "text/plain": [
       "<matplotlib.figure.Figure at 0x10970ee48>"
      ]
     },
     "metadata": {},
     "output_type": "display_data"
    }
   ],
   "source": [
    "# plot of release\n",
    "import matplotlib.pyplot as plt\n",
    "plt.style.use(\"seaborn\")\n",
    "\n",
    "t = df.reset_index().set_index('release')\n",
    "t = t.resample('M')\n",
    "ax = t.id.count().plot(title='Release by month')\n",
    "ax.set_ylabel(\"Women\")\n",
    "ax.set_xlabel(\"Month of release\")\n",
    "plt.show()"
   ]
  },
  {
   "cell_type": "markdown",
   "metadata": {},
   "source": [
    "## Baseline\n",
    "\n",
    "Let's explore the baseline information. \n",
    "\n",
    "Below a plot with the distribution of the difference between the date of the baseline and release. All values should be negative. \n",
    "\n",
    "To check cases below where we have issues: missing data or positive value (i.e., the baseline was applied after release). "
   ]
  },
  {
   "cell_type": "code",
   "execution_count": 96,
   "metadata": {},
   "outputs": [
    {
     "name": "stdout",
     "output_type": "stream",
     "text": [
      "['participa\\n\\nsí: se realizó línea base\\nno: no se realizó lb']\n"
     ]
    },
    {
     "data": {
      "text/plain": [
       "1    225\n",
       "Name: r_baseline, dtype: int64"
      ]
     },
     "execution_count": 96,
     "metadata": {},
     "output_type": "execute_result"
    }
   ],
   "source": [
    "# baseline response\n",
    "varname = [col for col in df.columns if 'sí: se realizó línea base' in col]\n",
    "print(varname)\n",
    "\n",
    "df = df.rename(columns={varname[0]: 'r_baseline'})\n",
    "df.r_baseline.value_counts()\n",
    "df['r_baseline'] = df['r_baseline'].str.contains(\"s|S\").astype(int)\n",
    "df.r_baseline.value_counts()  # only ones"
   ]
  },
  {
   "cell_type": "code",
   "execution_count": null,
   "metadata": {
    "collapsed": true
   },
   "outputs": [],
   "source": [
    "# date of baseline\n",
    "varname = [col for col in df.columns if 'fecha entrevista' in col]\n",
    "print(varname)\n",
    "\n",
    "df = df.rename(columns={varname[0]: 'dbaseline'})"
   ]
  },
  {
   "cell_type": "code",
   "execution_count": 105,
   "metadata": {},
   "outputs": [],
   "source": [
    "import re\n",
    "\n",
    "def clean_dates(text):\n",
    "   if (isinstance(text, str)):\n",
    "      text = str(text)\n",
    "      pp = re.compile(\"-|\\.\")\n",
    "      r = re.sub(pp, \"/\", text)\n",
    "      pp = re.compile(\"([0-9]+/[0-9]+/[0-9]+)|([0-9]+-[0-9]+-[0-9]+)\")\n",
    "      r = re.search(pp, r)\n",
    "      if (r is not None):\n",
    "         r = r.group()\n",
    "      else:\n",
    "         r = ''\n",
    "   else:\n",
    "      r = text\n",
    "   return pd.to_datetime(r, dayfirst=True)\n",
    "\n",
    "df['cdbaseline'] = [clean_dates(i) for i in df['dbaseline']]"
   ]
  },
  {
   "cell_type": "code",
   "execution_count": 113,
   "metadata": {},
   "outputs": [
    {
     "data": {
      "text/html": [
       "<div>\n",
       "<style>\n",
       "    .dataframe thead tr:only-child th {\n",
       "        text-align: right;\n",
       "    }\n",
       "\n",
       "    .dataframe thead th {\n",
       "        text-align: left;\n",
       "    }\n",
       "\n",
       "    .dataframe tbody tr th {\n",
       "        vertical-align: top;\n",
       "    }\n",
       "</style>\n",
       "<table border=\"1\" class=\"dataframe\">\n",
       "  <thead>\n",
       "    <tr style=\"text-align: right;\">\n",
       "      <th></th>\n",
       "      <th>cdbaseline</th>\n",
       "      <th>dbaseline</th>\n",
       "    </tr>\n",
       "  </thead>\n",
       "  <tbody>\n",
       "    <tr>\n",
       "      <th>43</th>\n",
       "      <td>NaT</td>\n",
       "      <td>V14 y M18/10</td>\n",
       "    </tr>\n",
       "    <tr>\n",
       "      <th>224</th>\n",
       "      <td>NaT</td>\n",
       "      <td>V16/12716</td>\n",
       "    </tr>\n",
       "  </tbody>\n",
       "</table>\n",
       "</div>"
      ],
      "text/plain": [
       "    cdbaseline     dbaseline\n",
       "43         NaT  V14 y M18/10\n",
       "224        NaT     V16/12716"
      ]
     },
     "execution_count": 113,
     "metadata": {},
     "output_type": "execute_result"
    }
   ],
   "source": [
    "m = df['cdbaseline'].isnull() & df['dbaseline'].notnull()\n",
    "df.loc[m, ['cdbaseline', 'dbaseline']]"
   ]
  },
  {
   "cell_type": "code",
   "execution_count": null,
   "metadata": {
    "collapsed": true
   },
   "outputs": [],
   "source": [
    "# replace errors in data entry\n",
    "errors = ['V16/12716', 'V14 y M18/10']\n",
    "new_values = ['12/16/16', '10/18/16']\n",
    "\n",
    "for i in range(0,len(errors)):\n",
    "   df.loc[df['dbaseline'] == errors[i], 'cdbaseline'] = pd.to_datetime(new_values[i])"
   ]
  },
  {
   "cell_type": "code",
   "execution_count": null,
   "metadata": {
    "collapsed": true
   },
   "outputs": [],
   "source": [
    "df.cdbaseline.describe()"
   ]
  },
  {
   "cell_type": "code",
   "execution_count": 127,
   "metadata": {},
   "outputs": [
    {
     "data": {
      "image/png": "[encoded data removed]",
      "text/plain": [
       "<matplotlib.figure.Figure at 0x1096e77f0>"
      ]
     },
     "metadata": {},
     "output_type": "display_data"
    }
   ],
   "source": [
    "# identify inconsistent cases\n",
    "df = df.assign(release_baseline = (df.cdbaseline - df.release).dt.days)\n",
    "df.release_baseline.describe()\n",
    "ax = df.release_baseline.hist(bins = 40)\n",
    "ax.set_xlabel('Baseline date - Release')\n",
    "plt.show()"
   ]
  },
  {
   "cell_type": "code",
   "execution_count": 129,
   "metadata": {},
   "outputs": [
    {
     "data": {
      "text/plain": [
       "False    215\n",
       "True      10\n",
       "dtype: int64"
      ]
     },
     "execution_count": 129,
     "metadata": {},
     "output_type": "execute_result"
    }
   ],
   "source": [
    "s = ((df.release_baseline > 0) | (df.cdbaseline.isnull()))"
   ]
  },
  {
   "cell_type": "code",
   "execution_count": 141,
   "metadata": {},
   "outputs": [
    {
     "data": {
      "text/html": [
       "<div>\n",
       "<style>\n",
       "    .dataframe thead tr:only-child th {\n",
       "        text-align: right;\n",
       "    }\n",
       "\n",
       "    .dataframe thead th {\n",
       "        text-align: left;\n",
       "    }\n",
       "\n",
       "    .dataframe tbody tr th {\n",
       "        vertical-align: top;\n",
       "    }\n",
       "</style>\n",
       "<table border=\"1\" class=\"dataframe\">\n",
       "  <thead>\n",
       "    <tr style=\"text-align: right;\">\n",
       "      <th></th>\n",
       "      <th>id</th>\n",
       "      <th>r_baseline</th>\n",
       "      <th>release_baseline</th>\n",
       "      <th>release</th>\n",
       "      <th>cdbaseline</th>\n",
       "      <th>dbaseline</th>\n",
       "    </tr>\n",
       "  </thead>\n",
       "  <tbody>\n",
       "    <tr>\n",
       "      <th>138</th>\n",
       "      <td>10272</td>\n",
       "      <td>1</td>\n",
       "      <td>NaN</td>\n",
       "      <td>2017-03-06</td>\n",
       "      <td>NaT</td>\n",
       "      <td>NaN</td>\n",
       "    </tr>\n",
       "    <tr>\n",
       "      <th>146</th>\n",
       "      <td>10282</td>\n",
       "      <td>1</td>\n",
       "      <td>NaN</td>\n",
       "      <td>2017-03-13</td>\n",
       "      <td>NaT</td>\n",
       "      <td>NaN</td>\n",
       "    </tr>\n",
       "    <tr>\n",
       "      <th>150</th>\n",
       "      <td>10285</td>\n",
       "      <td>1</td>\n",
       "      <td>NaN</td>\n",
       "      <td>2017-03-17</td>\n",
       "      <td>NaT</td>\n",
       "      <td>NaN</td>\n",
       "    </tr>\n",
       "    <tr>\n",
       "      <th>153</th>\n",
       "      <td>10288</td>\n",
       "      <td>1</td>\n",
       "      <td>NaN</td>\n",
       "      <td>2017-03-18</td>\n",
       "      <td>NaT</td>\n",
       "      <td>NaN</td>\n",
       "    </tr>\n",
       "    <tr>\n",
       "      <th>155</th>\n",
       "      <td>10291</td>\n",
       "      <td>1</td>\n",
       "      <td>NaN</td>\n",
       "      <td>2017-03-22</td>\n",
       "      <td>NaT</td>\n",
       "      <td>NaN</td>\n",
       "    </tr>\n",
       "    <tr>\n",
       "      <th>156</th>\n",
       "      <td>10293</td>\n",
       "      <td>1</td>\n",
       "      <td>NaN</td>\n",
       "      <td>2017-03-25</td>\n",
       "      <td>NaT</td>\n",
       "      <td>NaN</td>\n",
       "    </tr>\n",
       "    <tr>\n",
       "      <th>203</th>\n",
       "      <td>20120</td>\n",
       "      <td>1</td>\n",
       "      <td>NaN</td>\n",
       "      <td>2016-10-29</td>\n",
       "      <td>NaT</td>\n",
       "      <td>NaN</td>\n",
       "    </tr>\n",
       "    <tr>\n",
       "      <th>88</th>\n",
       "      <td>20200</td>\n",
       "      <td>1</td>\n",
       "      <td>5.0</td>\n",
       "      <td>2016-12-21</td>\n",
       "      <td>2016-12-26</td>\n",
       "      <td>2016-12-26 00:00:00</td>\n",
       "    </tr>\n",
       "    <tr>\n",
       "      <th>187</th>\n",
       "      <td>40059</td>\n",
       "      <td>1</td>\n",
       "      <td>2.0</td>\n",
       "      <td>2016-10-17</td>\n",
       "      <td>2016-10-19</td>\n",
       "      <td>W19/10/16</td>\n",
       "    </tr>\n",
       "    <tr>\n",
       "      <th>19</th>\n",
       "      <td>50037</td>\n",
       "      <td>1</td>\n",
       "      <td>11.0</td>\n",
       "      <td>2016-10-19</td>\n",
       "      <td>2016-10-30</td>\n",
       "      <td>2016-10-30 00:00:00</td>\n",
       "    </tr>\n",
       "  </tbody>\n",
       "</table>\n",
       "</div>"
      ],
      "text/plain": [
       "        id  r_baseline  release_baseline    release cdbaseline  \\\n",
       "138  10272           1               NaN 2017-03-06        NaT   \n",
       "146  10282           1               NaN 2017-03-13        NaT   \n",
       "150  10285           1               NaN 2017-03-17        NaT   \n",
       "153  10288           1               NaN 2017-03-18        NaT   \n",
       "155  10291           1               NaN 2017-03-22        NaT   \n",
       "156  10293           1               NaN 2017-03-25        NaT   \n",
       "203  20120           1               NaN 2016-10-29        NaT   \n",
       "88   20200           1               5.0 2016-12-21 2016-12-26   \n",
       "187  40059           1               2.0 2016-10-17 2016-10-19   \n",
       "19   50037           1              11.0 2016-10-19 2016-10-30   \n",
       "\n",
       "               dbaseline  \n",
       "138                  NaN  \n",
       "146                  NaN  \n",
       "150                  NaN  \n",
       "153                  NaN  \n",
       "155                  NaN  \n",
       "156                  NaN  \n",
       "203                  NaN  \n",
       "88   2016-12-26 00:00:00  \n",
       "187            W19/10/16  \n",
       "19   2016-10-30 00:00:00  "
      ]
     },
     "execution_count": 141,
     "metadata": {},
     "output_type": "execute_result"
    }
   ],
   "source": [
    "df.loc[s, ['id', 'r_baseline', 'release_baseline', 'release', 'cdbaseline', 'dbaseline']].sort_values('id')"
   ]
  },
  {
   "cell_type": "code",
   "execution_count": 8,
   "metadata": {},
   "outputs": [
    {
     "data": {
      "text/plain": [
       "pandas.io.excel.ExcelFile"
      ]
     },
     "execution_count": 8,
     "metadata": {},
     "output_type": "execute_result"
    }
   ],
   "source": [
    "# function to clean dates\n",
    "def clean_dates(text):\n",
    "   if (isinstance(text, str)):\n",
    "      text = str(text)\n",
    "      pp = re.compile(\"-|\\.\")\n",
    "      r = re.sub(pp, \"/\", text)\n",
    "      pp = re.compile(\"([0-9]+/[0-9]+/[0-9]+)|([0-9]+-[0-9]+-[0-9]+)\")\n",
    "      r = re.search(pp, r)\n",
    "      if (r is not None):\n",
    "         r = r.group()\n",
    "      else:\n",
    "         r = ''\n",
    "   else:\n",
    "      r = text\n",
    "   return pd.to_datetime(r, dayfirst=True)\n",
    "\n",
    "df['cdbaseline'] = [clean_dates(i) for i in df['dbaseline']]\n",
    "\n",
    "m = df['cdbaseline'].isnull() & df['dbaseline'].notnull()\n",
    "df.loc[m, ['cdbaseline', 'dbaseline']]\n",
    "\n",
    "# replace errors in data entry\n",
    "errors = ['V16/12716', 'V14 y M18/10']\n",
    "new_values = ['16/12/16', '18/10/16']\n",
    "\n",
    "for i in range(0,len(errors)):\n",
    "   df.loc[df['dbaseline'] == errors[i], 'cdbaseline'] = pd.to_datetime(new_values[i], format='%d/%m/%y')\n",
    "\n",
    "m = df['cdbaseline'].isnull()\n",
    "m.value_counts()\n",
    "df.loc[m, ['cdbaseline', 'dbaseline']]\n",
    "\n",
    "\n",
    "\n",
    "\n",
    "\n",
    "print('# First week')\n",
    "\n",
    "varname = [col for col in df.columns if 'participa' in col]\n",
    "print(varname)\n",
    "\n",
    "df = df.rename(columns={varname[1]: 'r_week'})\n",
    "df.r_week.value_counts()\n",
    "df['r_week'] = df['r_week'].str.contains(\"s|S\").astype(float)\n",
    "df['r_week'] = df.r_week.fillna(0)\n",
    "df.r_week.isnull().value_counts()\n",
    "df.r_week.value_counts()\n",
    "\n",
    "# df.loc[df.r_week==1, ['id']].sort('id')\n",
    "\n",
    "# date week\n",
    "varname = [col for col in df.columns if 'fecha entrevista' in col]\n",
    "print(varname)\n",
    "\n",
    "df = df.rename(columns={varname[0]: 'dweek'})\n",
    "df.dweek.describe()\n",
    "\n",
    "df['cdweek'] = [clean_dates(i) for i in df['dweek']]\n",
    "df.cdweek.describe()\n",
    "\n",
    "m = df.cdweek.isnull() & df.dweek.notnull()\n",
    "df.loc[m, ['id', 'cdweek', 'dweek']]\n",
    "\n",
    "\n",
    "# replace errors in data entry\n",
    "def excel_datetime(xldate, datemode = 0):\n",
    "    # datemode: 0 for 1900-based, 1 for 1904-based\n",
    "    return (\n",
    "        datetime.datetime(1899, 12, 30)\n",
    "        + datetime.timedelta(days=xldate + 1462 * datemode)\n",
    "        )\n",
    "\n",
    "\n",
    "errors = ['42671', 'S29/10 y W02/11']\n",
    "new_values = [excel_datetime(42671, 0), '11/02/2016']\n",
    "\n",
    "for i in range(0,len(errors)):\n",
    "   df.loc[df['dweek'] == errors[i], 'cdweek'] = pd.to_datetime(new_values[i], dayfirst=True)\n",
    "\n",
    "s = (df.r_week == 1)\n",
    "df.loc[s, 'cdweek'].isnull().value_counts()\n",
    "#df.loc[s,['id', 'r_week', 'release', 'week_dealine', 'cdweek']]\n",
    "\n",
    "df = df.assign(release_week = (df.cdweek - df.release).dt.days)\n",
    "df.release_week.describe()\n",
    "\n",
    "df.loc[df.release_week < -5000, ['id', 'r_week', 'release', 'week', 'release_week']]\n",
    "df.release_week.hist()\n",
    "plt.show()\n",
    "\n",
    "\n",
    "df['week_deadline'] = pd.DatetimeIndex( df['release'] ) + pd.DateOffset(weeks = 5)\n",
    "\n",
    "df.loc[df.r_week == 1, 'cdweek'].isnull().value_counts()\n",
    "\n",
    "s = ((df.r_week == 1) & (today > df.week_deadline)) & ( (df.release_week <= 0) | (df.cdweek.isnull()) )\n",
    "\n",
    "\n",
    "df.loc[s,['id', 'r_week', 'release', 'cdweek', 'week_deadline']].sort('id')\n",
    "\n",
    "\n",
    "tab  = df.loc[ (today > df.week_deadline), 'r_week'].value_counts()\n",
    "[i / sum(list(tab)) for i in l]\n",
    "\n",
    "# two months\n",
    "\n",
    "# cnames\n",
    "varname = [col for col in df.columns if 'participa ' in col]\n",
    "print(varname)\n",
    "\n",
    "df = df.rename(columns={varname[0]: 'r_2months'})\n",
    "df.r_2months.value_counts()\n",
    "df['r_2months'] = df['r_2months'].str.contains(\"s|S\").astype(float)\n",
    "df['r_2months'] = df.r_2months.fillna(0)\n",
    "df.r_2months.isnull().value_counts()\n",
    "df.r_2months.value_counts()\n",
    "\n",
    "# df.loc[df.r_2months==1, ['id']].sort('id')\n",
    "\n",
    "# date 2months\n",
    "varname = [col for col in df.columns if 'fecha entrevista' in col]\n",
    "print(varname)\n",
    "\n",
    "df = df.rename(columns={varname[0]: 'd2months'})\n",
    "df.d2months.describe()\n",
    "\n",
    "df['cd2months'] = [clean_dates(i) for i in df['d2months']]\n",
    "df.cd2months.describe()\n",
    "\n",
    "m = df.cd2months.isnull() & df.d2months.notnull()\n",
    "df.loc[m, ['id', 'release', 'cd2months', 'd2months']]\n",
    "\n",
    "\n",
    "# replace errors in data entry\n",
    "errors = ['27/2']\n",
    "new_values = ['27/02/2017']\n",
    "\n",
    "for i in range(0,len(errors)):\n",
    "   df.loc[df['d2months'] == errors[i], 'cd2months'] = pd.to_datetime(new_values[i])\n",
    "\n",
    "s = (df.r_2months == 1)\n",
    "df.loc[s, 'cd2months'].isnull().value_counts()\n",
    "#df.loc[s,['id', 'r_2months', 'release', '2months_dealine', 'cd2months']]\n",
    "\n",
    "df = df.assign(release_2months = (df.cd2months - df.release).dt.days)\n",
    "df.release_2months.describe()\n",
    "df.release_2months.hist()\n",
    "plt.show()\n",
    "\n",
    "\n",
    "df['two_months_deadline'] = pd.DatetimeIndex( df['release'] ) + pd.DateOffset(months = 5)\n",
    "\n",
    "df.loc[df.r_2months == 1, 'cd2months'].isnull().value_counts()\n",
    "\n",
    "s = ((df.r_2months == 1) & (today > df.two_months_deadline)) & ( (df.release_2months <= 0) | (df.cd2months.isnull()) )\n",
    "\n",
    "\n",
    "df.loc[s,['id', 'r_2months', 'release', 'cd2months', '2months_deadline']].sort('id')\n",
    "\n",
    "\n",
    "tab  = df.loc[ (today > df.2months_deadline), 'r_2months'].value_counts()\n",
    "[i / sum(list(tab)) for i in l]"
   ]
  },
  {
   "cell_type": "code",
   "execution_count": null,
   "metadata": {
    "collapsed": true
   },
   "outputs": [],
   "source": [
    "\n",
    "# define today\n",
    "today = datetime.datetime.now()\n",
    "start = pd.to_datetime(\"01/09/2017\", dayfirst=True)\n",
    "print(start)\n"
   ]
  }
 ],
 "metadata": {
  "celltoolbar": "Hide code",
  "kernelspec": {
   "display_name": "Python 3",
   "language": "python",
   "name": "python3"
  },
  "language_info": {
   "codemirror_mode": {
    "name": "ipython",
    "version": 3
   },
   "file_extension": ".py",
   "mimetype": "text/x-python",
   "name": "python",
   "nbconvert_exporter": "python",
   "pygments_lexer": "ipython3",
   "version": "3.5.0"
  }
 },
 "nbformat": 4,
 "nbformat_minor": 2
}
